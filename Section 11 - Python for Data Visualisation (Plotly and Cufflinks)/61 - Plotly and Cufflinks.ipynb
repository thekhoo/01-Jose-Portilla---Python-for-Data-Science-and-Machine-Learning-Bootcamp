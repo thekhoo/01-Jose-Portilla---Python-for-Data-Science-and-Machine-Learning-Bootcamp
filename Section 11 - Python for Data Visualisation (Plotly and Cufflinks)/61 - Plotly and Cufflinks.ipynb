{
 "cells": [
  {
   "cell_type": "code",
   "execution_count": 8,
   "id": "b1c883f9",
   "metadata": {},
   "outputs": [
    {
     "name": "stdout",
     "output_type": "stream",
     "text": [
      "5.4.0\n"
     ]
    },
    {
     "data": {
      "text/html": [
       "        <script type=\"text/javascript\">\n",
       "        window.PlotlyConfig = {MathJaxConfig: 'local'};\n",
       "        if (window.MathJax) {MathJax.Hub.Config({SVG: {font: \"STIX-Web\"}});}\n",
       "        if (typeof require !== 'undefined') {\n",
       "        require.undef(\"plotly\");\n",
       "        requirejs.config({\n",
       "            paths: {\n",
       "                'plotly': ['https://cdn.plot.ly/plotly-2.6.3.min']\n",
       "            }\n",
       "        });\n",
       "        require(['plotly'], function(Plotly) {\n",
       "            window._Plotly = Plotly;\n",
       "        });\n",
       "        }\n",
       "        </script>\n",
       "        "
      ]
     },
     "metadata": {},
     "output_type": "display_data"
    },
    {
     "data": {
      "text/html": [
       "        <script type=\"text/javascript\">\n",
       "        window.PlotlyConfig = {MathJaxConfig: 'local'};\n",
       "        if (window.MathJax) {MathJax.Hub.Config({SVG: {font: \"STIX-Web\"}});}\n",
       "        if (typeof require !== 'undefined') {\n",
       "        require.undef(\"plotly\");\n",
       "        requirejs.config({\n",
       "            paths: {\n",
       "                'plotly': ['https://cdn.plot.ly/plotly-2.6.3.min']\n",
       "            }\n",
       "        });\n",
       "        require(['plotly'], function(Plotly) {\n",
       "            window._Plotly = Plotly;\n",
       "        });\n",
       "        }\n",
       "        </script>\n",
       "        "
      ]
     },
     "metadata": {},
     "output_type": "display_data"
    }
   ],
   "source": [
    "import pandas as pd\n",
    "import numpy as np\n",
    "import cufflinks as cf\n",
    "from plotly import __version__\n",
    "from plotly.offline import download_plotlyjs,init_notebook_mode,plot,iplot\n",
    "\n",
    "%matplotlib inline\n",
    "\n",
    "# Checking plotly version (> 1,9)\n",
    "print(__version__)\n",
    "\n",
    "init_notebook_mode(connected=True)\n",
    "cf.go_offline()"
   ]
  },
  {
   "cell_type": "code",
   "execution_count": 5,
   "id": "a4447645",
   "metadata": {},
   "outputs": [],
   "source": [
    "# Data\n",
    "df = pd.DataFrame(np.random.randn(100,4),columns='A B C D'.split())"
   ]
  },
  {
   "cell_type": "code",
   "execution_count": 6,
   "id": "62734e51",
   "metadata": {},
   "outputs": [
    {
     "data": {
      "text/html": [
       "<div>\n",
       "<style scoped>\n",
       "    .dataframe tbody tr th:only-of-type {\n",
       "        vertical-align: middle;\n",
       "    }\n",
       "\n",
       "    .dataframe tbody tr th {\n",
       "        vertical-align: top;\n",
       "    }\n",
       "\n",
       "    .dataframe thead th {\n",
       "        text-align: right;\n",
       "    }\n",
       "</style>\n",
       "<table border=\"1\" class=\"dataframe\">\n",
       "  <thead>\n",
       "    <tr style=\"text-align: right;\">\n",
       "      <th></th>\n",
       "      <th>A</th>\n",
       "      <th>B</th>\n",
       "      <th>C</th>\n",
       "      <th>D</th>\n",
       "    </tr>\n",
       "  </thead>\n",
       "  <tbody>\n",
       "    <tr>\n",
       "      <th>0</th>\n",
       "      <td>0.428343</td>\n",
       "      <td>-1.511096</td>\n",
       "      <td>0.581896</td>\n",
       "      <td>-1.643043</td>\n",
       "    </tr>\n",
       "    <tr>\n",
       "      <th>1</th>\n",
       "      <td>-0.543113</td>\n",
       "      <td>-1.342123</td>\n",
       "      <td>0.663539</td>\n",
       "      <td>-0.041943</td>\n",
       "    </tr>\n",
       "    <tr>\n",
       "      <th>2</th>\n",
       "      <td>-1.108900</td>\n",
       "      <td>-0.821871</td>\n",
       "      <td>-0.465033</td>\n",
       "      <td>-1.416847</td>\n",
       "    </tr>\n",
       "    <tr>\n",
       "      <th>3</th>\n",
       "      <td>-0.931073</td>\n",
       "      <td>-0.562968</td>\n",
       "      <td>-0.495638</td>\n",
       "      <td>0.846324</td>\n",
       "    </tr>\n",
       "    <tr>\n",
       "      <th>4</th>\n",
       "      <td>0.700967</td>\n",
       "      <td>-0.093980</td>\n",
       "      <td>0.354433</td>\n",
       "      <td>-1.445478</td>\n",
       "    </tr>\n",
       "  </tbody>\n",
       "</table>\n",
       "</div>"
      ],
      "text/plain": [
       "          A         B         C         D\n",
       "0  0.428343 -1.511096  0.581896 -1.643043\n",
       "1 -0.543113 -1.342123  0.663539 -0.041943\n",
       "2 -1.108900 -0.821871 -0.465033 -1.416847\n",
       "3 -0.931073 -0.562968 -0.495638  0.846324\n",
       "4  0.700967 -0.093980  0.354433 -1.445478"
      ]
     },
     "execution_count": 6,
     "metadata": {},
     "output_type": "execute_result"
    }
   ],
   "source": [
    "df.head()"
   ]
  },
  {
   "cell_type": "code",
   "execution_count": 7,
   "id": "33121ac5",
   "metadata": {},
   "outputs": [
    {
     "data": {
      "text/html": [
       "<div>\n",
       "<style scoped>\n",
       "    .dataframe tbody tr th:only-of-type {\n",
       "        vertical-align: middle;\n",
       "    }\n",
       "\n",
       "    .dataframe tbody tr th {\n",
       "        vertical-align: top;\n",
       "    }\n",
       "\n",
       "    .dataframe thead th {\n",
       "        text-align: right;\n",
       "    }\n",
       "</style>\n",
       "<table border=\"1\" class=\"dataframe\">\n",
       "  <thead>\n",
       "    <tr style=\"text-align: right;\">\n",
       "      <th></th>\n",
       "      <th>Category</th>\n",
       "      <th>Values</th>\n",
       "    </tr>\n",
       "  </thead>\n",
       "  <tbody>\n",
       "    <tr>\n",
       "      <th>0</th>\n",
       "      <td>A</td>\n",
       "      <td>32</td>\n",
       "    </tr>\n",
       "    <tr>\n",
       "      <th>1</th>\n",
       "      <td>B</td>\n",
       "      <td>43</td>\n",
       "    </tr>\n",
       "    <tr>\n",
       "      <th>2</th>\n",
       "      <td>C</td>\n",
       "      <td>50</td>\n",
       "    </tr>\n",
       "  </tbody>\n",
       "</table>\n",
       "</div>"
      ],
      "text/plain": [
       "  Category  Values\n",
       "0        A      32\n",
       "1        B      43\n",
       "2        C      50"
      ]
     },
     "execution_count": 7,
     "metadata": {},
     "output_type": "execute_result"
    }
   ],
   "source": [
    "df2 = pd.DataFrame({'Category':['A','B','C'],'Values':[32,43,50]})\n",
    "df2.head()"
   ]
  },
  {
   "cell_type": "code",
   "execution_count": 9,
   "id": "aa1a73dd",
   "metadata": {},
   "outputs": [
    {
     "data": {
      "text/plain": [
       "<AxesSubplot:>"
      ]
     },
     "execution_count": 9,
     "metadata": {},
     "output_type": "execute_result"
    },
    {
     "data": {
      "image/png": "[encoded data removed]",
      "text/plain": [
       "<Figure size 432x288 with 1 Axes>"
      ]
     },
     "metadata": {
      "needs_background": "light"
     },
     "output_type": "display_data"
    }
   ],
   "source": [
    "# Default matplotlib\n",
    "df.plot()"
   ]
  },
  {
   "cell_type": "code",
   "execution_count": 10,
   "id": "7d43b6cd",
   "metadata": {},
   "outputs": [
    {
     "data": {
      "application/vnd.plotly.v1+json": {
       "config": {
        "linkText": "Export to plot.ly",
        "plotlyServerURL": "https://plot.ly",
        "showLink": true
       },
       "data": [
        {
         "line": {
          "color": "rgba(255, 153, 51, 1.0)",
          "dash": "solid",
          "shape": "linear",
          "width": 1.3
         },
         "mode": "lines",
         "name": "A",
         "text": "",
         "type": "scatter",
         "x": [
          0,
          1,
          2,
          3,
          4,
          5,
          6,
          7,
          8,
          9,
          10,
          11,
          12,
          13,
          14,
          15,
          16,
          17,
          18,
          19,
          20,
          21,
          22,
          23,
          24,
          25,
          26,
          27,
          28,
          29,
          30,
          31,
          32,
          33,
          34,
          35,
          36,
          37,
          38,
          39,
          40,
          41,
          42,
          43,
          44,
          45,
          46,
          47,
          48,
          49,
          50,
          51,
          52,
          53,
          54,
          55,
          56,
          57,
          58,
          59,
          60,
          61,
          62,
          63,
          64,
          65,
          66,
          67,
          68,
          69,
          70,
          71,
          72,
          73,
          74,
          75,
          76,
          77,
          78,
          79,
          80,
          81,
          82,
          83,
          84,
          85,
          86,
          87,
          88,
          89,
          90,
          91,
          92,
          93,
          94,
          95,
          96,
          97,
          98,
          99
         ],
         "y": [
          0.42834336660048555,
          -0.5431130343751923,
          -1.1089003168660925,
          -0.9310734812179945,
          0.7009672118351541,
          0.8814470474168713,
          -0.8407399793698521,
          -0.576893294052475,
          -0.8080703354235872,
          -0.845685394146627,
          1.0546390088298483,
          -1.2167789452198259,
          -0.5793894576537396,
          0.6531820902565525,
          1.1852687270905453,
          2.179059607997261,
          -0.916752595388181,
          0.5616215793465428,
          0.6378222152443052,
          -0.4644285971201103,
          -0.26443495004037043,
          1.2197910519981685,
          -0.09646466921168612,
          -0.13577844238819872,
          -0.3196361512921841,
          -2.3138191266271706,
          1.8776670994205429,
          0.7405974885272778,
          -3.142074285106367,
          -1.472470555300087,
          -0.16340487140345647,
          -0.14795883993457962,
          0.4002683275186483,
          1.2623093249244404,
          -0.13729696811807196,
          -0.4103419566810211,
          0.6309401297310346,
          -2.554433216510306,
          -1.8136787861246852,
          -1.5971638470617107,
          -0.04727848987271,
          -0.9859271975667138,
          -0.5200134096541108,
          -0.1496386173536915,
          -1.692708236163166,
          -0.9861515241881423,
          1.8566766289766876,
          -0.6426894805921634,
          1.3684446007506572,
          1.0303287829607057,
          0.15816602375477531,
          0.6029637904815115,
          0.7020121929344575,
          -0.6534446453808141,
          -0.8819822613338307,
          -0.3725294111302389,
          0.917844776303251,
          2.952904715090055,
          0.563570403972607,
          0.34163541591459934,
          0.24760279926901188,
          0.6853429334592762,
          -0.8871213125118289,
          -0.62447480201159,
          -1.1435009277849852,
          1.3423559897981243,
          -0.6885983903751369,
          -0.6327941965193481,
          1.1382967585537072,
          1.6535942818207383,
          -0.49473872348892395,
          -0.2213077371949228,
          -1.7441809868780074,
          0.33503514683285246,
          1.457920342236441,
          1.1942547194581565,
          1.6048350491365895,
          0.6834991629924438,
          0.5449683729052708,
          -0.09354422620876975,
          -0.7332514853887435,
          -1.2858330647452987,
          -1.6144516726215936,
          0.5491139981272396,
          0.3988004780816497,
          1.1415368511791262,
          0.9103446674267672,
          -0.4302964462779966,
          0.34100207998563,
          1.0883510241965397,
          0.9003232980148024,
          1.0445905659847246,
          0.4609394941132174,
          2.059739333522352,
          -0.8652132010214949,
          0.4132656940423574,
          0.1597976827062007,
          0.8959245972573175,
          0.19935532667623881,
          -1.2631555290890033
         ]
        },
        {
         "line": {
          "color": "rgba(55, 128, 191, 1.0)",
          "dash": "solid",
          "shape": "linear",
          "width": 1.3
         },
         "mode": "lines",
         "name": "B",
         "text": "",
         "type": "scatter",
         "x": [
          0,
          1,
          2,
          3,
          4,
          5,
          6,
          7,
          8,
          9,
          10,
          11,
          12,
          13,
          14,
          15,
          16,
          17,
          18,
          19,
          20,
          21,
          22,
          23,
          24,
          25,
          26,
          27,
          28,
          29,
          30,
          31,
          32,
          33,
          34,
          35,
          36,
          37,
          38,
          39,
          40,
          41,
          42,
          43,
          44,
          45,
          46,
          47,
          48,
          49,
          50,
          51,
          52,
          53,
          54,
          55,
          56,
          57,
          58,
          59,
          60,
          61,
          62,
          63,
          64,
          65,
          66,
          67,
          68,
          69,
          70,
          71,
          72,
          73,
          74,
          75,
          76,
          77,
          78,
          79,
          80,
          81,
          82,
          83,
          84,
          85,
          86,
          87,
          88,
          89,
          90,
          91,
          92,
          93,
          94,
          95,
          96,
          97,
          98,
          99
         ],
         "y": [
          -1.5110962441514955,
          -1.3421231187988822,
          -0.8218709717794145,
          -0.5629676527933162,
          -0.0939803421434012,
          -1.0281015513104197,
          0.3995284548028364,
          0.9763755222555714,
          0.04671111034541469,
          -1.9765101574433694,
          -1.0786291236002599,
          -1.1370525638047173,
          0.6234717853349546,
          0.22736963902127702,
          0.6312271068437805,
          1.898722835344093,
          -1.1841566347480224,
          0.6706380460640187,
          0.46705903160036005,
          0.865784386057344,
          -0.48600102296393116,
          -1.087364794658521,
          -0.46493281327929764,
          0.6645474925732094,
          -0.16064904501671742,
          0.10420018730006272,
          1.3088379168204136,
          0.1421960429541945,
          0.021540205979291894,
          -1.696360096304541,
          0.1020244225904697,
          -1.4488401608216697,
          -0.8435275097409567,
          -0.4903190344160185,
          -0.6167726979776068,
          1.516273713443217,
          -0.8504127889940435,
          -0.6817747858776013,
          1.1428523434547717,
          0.6038809943697726,
          -0.19543354794411882,
          0.05964263107473625,
          0.9886081091818062,
          -1.6851781394957248,
          -0.5385704399566267,
          0.4992709096890342,
          0.8523579261540218,
          -0.036804283670902514,
          0.6753618291437835,
          -0.5658997632303835,
          0.08053411107930569,
          0.46914129922192865,
          -0.14822017594795173,
          0.48477839501296927,
          -2.7740379594780014,
          -0.057824947331366054,
          0.007855445306867293,
          -1.037584910585149,
          -0.234403782400521,
          -0.10043071393199138,
          0.24141096042409843,
          -0.6761136267213637,
          -1.3153681866336913,
          -0.11340787951362206,
          -1.5068080162253386,
          -1.3266258407333442,
          0.008007313205507259,
          -1.4753921403733459,
          0.25353596911295373,
          -0.5618230070321575,
          -0.051296848284010335,
          -1.1064574503295967,
          0.451924472091387,
          0.41623143210306596,
          -0.4126695523135965,
          -0.9246281429196028,
          -1.4234046222503718,
          0.08949143437347688,
          -1.1257961613100143,
          -0.45495471958497263,
          -2.2203979818443966,
          -1.1725235534576335,
          0.7847230953515638,
          1.7650003621711998,
          1.2096931205010761,
          -0.46025502320418904,
          -0.04675734436156397,
          2.2850252000751903,
          0.19569106889942578,
          1.9644722028091561,
          0.3203399145813591,
          0.5512007112953003,
          -0.01795135166725152,
          1.8309718907211967,
          -1.2484429434786146,
          0.8173605905207877,
          -0.11453463647031444,
          1.055310864976655,
          -0.6305387854690183,
          -1.4593607886493545
         ]
        },
        {
         "line": {
          "color": "rgba(50, 171, 96, 1.0)",
          "dash": "solid",
          "shape": "linear",
          "width": 1.3
         },
         "mode": "lines",
         "name": "C",
         "text": "",
         "type": "scatter",
         "x": [
          0,
          1,
          2,
          3,
          4,
          5,
          6,
          7,
          8,
          9,
          10,
          11,
          12,
          13,
          14,
          15,
          16,
          17,
          18,
          19,
          20,
          21,
          22,
          23,
          24,
          25,
          26,
          27,
          28,
          29,
          30,
          31,
          32,
          33,
          34,
          35,
          36,
          37,
          38,
          39,
          40,
          41,
          42,
          43,
          44,
          45,
          46,
          47,
          48,
          49,
          50,
          51,
          52,
          53,
          54,
          55,
          56,
          57,
          58,
          59,
          60,
          61,
          62,
          63,
          64,
          65,
          66,
          67,
          68,
          69,
          70,
          71,
          72,
          73,
          74,
          75,
          76,
          77,
          78,
          79,
          80,
          81,
          82,
          83,
          84,
          85,
          86,
          87,
          88,
          89,
          90,
          91,
          92,
          93,
          94,
          95,
          96,
          97,
          98,
          99
         ],
         "y": [
          0.5818959601613439,
          0.6635389007014588,
          -0.4650326002158927,
          -0.49563769496187016,
          0.3544326149014103,
          0.032280422153337845,
          1.500194598749117,
          2.0078251618293383,
          1.250331560859558,
          -1.5210260565593223,
          -0.9083896727413385,
          0.09343621622137635,
          1.0770523647661714,
          0.4135650963652773,
          0.18243023661373478,
          1.6017575628860965,
          -0.531874639863994,
          0.7386088731874443,
          -1.299442569668759,
          0.09061907544395652,
          1.3048100282856383,
          0.38363698324233875,
          2.1600291784329193,
          -0.17890225991828895,
          -0.3928507318555888,
          0.5077203804001711,
          -0.17890260246201345,
          0.5325204521149169,
          0.5552064558546723,
          0.9466377884787205,
          -0.5537834734751812,
          -0.9225931378437296,
          -0.8501838556832638,
          -0.31102566975449314,
          0.9836054884214205,
          -0.3681798942114995,
          -0.00361292480589936,
          0.8445803413494956,
          -1.1030888295997967,
          0.741470274969195,
          0.13470395027236978,
          1.2105372702387485,
          1.4510247336250213,
          -0.06799667679769193,
          1.0439059032051308,
          1.2758152618645142,
          -0.28913163689038773,
          0.6403403697547831,
          -0.8382254017862524,
          1.267166140113422,
          -0.19196802549214645,
          1.031205035151707,
          0.26130592536366737,
          0.290049450665771,
          0.3923595253989978,
          -0.07066390600572733,
          -0.13411773124013696,
          -0.5112963030506134,
          0.1523938664586009,
          -0.256666308707275,
          1.9500314401460428,
          0.4451779747728889,
          1.20667494512559,
          1.415453883503099,
          0.4802923215144708,
          -1.5154210487797841,
          -1.1689118109720538,
          -0.855788531435531,
          0.6967714727613341,
          0.13185186209408195,
          1.2545075600604296,
          0.46671735728806,
          1.251738898788601,
          -1.6904602024294255,
          -0.15933874899631892,
          -0.6107249632052028,
          1.0151109662635478,
          -0.4640549522669946,
          -1.3094379739157134,
          -0.1696620985632722,
          0.7264314214654054,
          -0.26821860589869123,
          0.21535758945565767,
          0.2479765322304549,
          0.1635268472902467,
          -0.40118535164143926,
          0.41818817348398535,
          -0.5432858902884837,
          1.2661463403142534,
          0.9221931103564391,
          0.077976495849599,
          0.22879419075920301,
          0.8708459862581537,
          1.369969887640816,
          0.33033096281090457,
          -0.08613149023670989,
          -0.10332444940811221,
          -1.503708056123339,
          0.46157906034337454,
          -0.035597229327674916
         ]
        },
        {
         "line": {
          "color": "rgba(128, 0, 128, 1.0)",
          "dash": "solid",
          "shape": "linear",
          "width": 1.3
         },
         "mode": "lines",
         "name": "D",
         "text": "",
         "type": "scatter",
         "x": [
          0,
          1,
          2,
          3,
          4,
          5,
          6,
          7,
          8,
          9,
          10,
          11,
          12,
          13,
          14,
          15,
          16,
          17,
          18,
          19,
          20,
          21,
          22,
          23,
          24,
          25,
          26,
          27,
          28,
          29,
          30,
          31,
          32,
          33,
          34,
          35,
          36,
          37,
          38,
          39,
          40,
          41,
          42,
          43,
          44,
          45,
          46,
          47,
          48,
          49,
          50,
          51,
          52,
          53,
          54,
          55,
          56,
          57,
          58,
          59,
          60,
          61,
          62,
          63,
          64,
          65,
          66,
          67,
          68,
          69,
          70,
          71,
          72,
          73,
          74,
          75,
          76,
          77,
          78,
          79,
          80,
          81,
          82,
          83,
          84,
          85,
          86,
          87,
          88,
          89,
          90,
          91,
          92,
          93,
          94,
          95,
          96,
          97,
          98,
          99
         ],
         "y": [
          -1.643043088882501,
          -0.041942842179661495,
          -1.4168472589893575,
          0.846324115048115,
          -1.4454782178892902,
          1.1981126822062262,
          1.1880877809175365,
          -0.9437983238027401,
          0.2791052304301366,
          0.22472421792598693,
          -0.23818077146965422,
          -0.8134865720507752,
          -0.6539235206125001,
          -0.18812153427793674,
          0.10483840484201919,
          -1.1463715001592154,
          0.1525511335932151,
          -0.3333660303849316,
          0.2231423843314657,
          -0.642924646210681,
          1.3868811907592602,
          2.4775413247661118,
          -0.9824378868441533,
          -0.7478323374420225,
          0.1196298646787779,
          0.7584231001525484,
          0.3450095684343771,
          -0.1364555859070283,
          0.031593327237034556,
          0.06416794091502054,
          -1.0314204223621934,
          -0.5880114985436802,
          -0.9309105252363903,
          1.2080624637488204,
          -0.4826883216009362,
          -1.4083635352576558,
          1.9770423094719052,
          -1.1996284585164145,
          0.9825311817596672,
          -1.6455070177339404,
          0.295062994963841,
          -0.7998034733980933,
          -0.15005896232938026,
          -0.6656461269471731,
          0.9465387241306563,
          -0.3621644533838506,
          1.154497360028402,
          0.6355561375336649,
          1.0729479908496042,
          -0.946186348362365,
          0.8035070464021923,
          0.2299619066818497,
          0.2677428976486297,
          0.5441540505336642,
          2.520355422492496,
          -1.8362024335707192,
          0.0752844292503327,
          -0.8217503084813561,
          -0.24059727542653545,
          0.9384132798466748,
          0.5277873135643862,
          -1.515812553399073,
          -0.6654393564758576,
          2.399854029533553,
          -0.34779887432418227,
          0.5360350503453412,
          -0.18810820561818842,
          -0.037994786223414116,
          -0.6004312975798658,
          -1.5865829760206287,
          0.9135093073916315,
          -0.14112121519870538,
          -1.562180258411497,
          0.922870786879138,
          -0.5186716211333601,
          -1.0691183637534747,
          -1.4560288756640534,
          1.8245452402134126,
          -0.07371980105621495,
          -0.24864570933300026,
          0.5080437212536183,
          -1.323997543405784,
          1.9888833530466878,
          -0.9616846288567427,
          0.8399558727218465,
          -0.3521507877335014,
          0.18631604806527377,
          -0.7852573923852917,
          0.09450621074434322,
          -0.25880019016887773,
          1.1923201907397027,
          0.2651753312425627,
          -0.858845471114797,
          -0.6219850919551331,
          0.3507993237467051,
          -1.5098459118210705,
          1.913013961119211,
          0.09978487723239408,
          0.009576411491057068,
          -0.11720616987445373
         ]
        }
       ],
       "layout": {
        "legend": {
         "bgcolor": "#F5F6F9",
         "font": {
          "color": "#4D5663"
         }
        },
        "paper_bgcolor": "#F5F6F9",
        "plot_bgcolor": "#F5F6F9",
        "template": {
         "data": {
          "bar": [
           {
            "error_x": {
             "color": "#2a3f5f"
            },
            "error_y": {
             "color": "#2a3f5f"
            },
            "marker": {
             "line": {
              "color": "#E5ECF6",
              "width": 0.5
             },
             "pattern": {
              "fillmode": "overlay",
              "size": 10,
              "solidity": 0.2
             }
            },
            "type": "bar"
           }
          ],
          "barpolar": [
           {
            "marker": {
             "line": {
              "color": "#E5ECF6",
              "width": 0.5
             },
             "pattern": {
              "fillmode": "overlay",
              "size": 10,
              "solidity": 0.2
             }
            },
            "type": "barpolar"
           }
          ],
          "carpet": [
           {
            "aaxis": {
             "endlinecolor": "#2a3f5f",
             "gridcolor": "white",
             "linecolor": "white",
             "minorgridcolor": "white",
             "startlinecolor": "#2a3f5f"
            },
            "baxis": {
             "endlinecolor": "#2a3f5f",
             "gridcolor": "white",
             "linecolor": "white",
             "minorgridcolor": "white",
             "startlinecolor": "#2a3f5f"
            },
            "type": "carpet"
           }
          ],
          "choropleth": [
           {
            "colorbar": {
             "outlinewidth": 0,
             "ticks": ""
            },
            "type": "choropleth"
           }
          ],
          "contour": [
           {
            "colorbar": {
             "outlinewidth": 0,
             "ticks": ""
            },
            "colorscale": [
             [
              0,
              "#0d0887"
             ],
             [
              0.1111111111111111,
              "#46039f"
             ],
             [
              0.2222222222222222,
              "#7201a8"
             ],
             [
              0.3333333333333333,
              "#9c179e"
             ],
             [
              0.4444444444444444,
              "#bd3786"
             ],
             [
              0.5555555555555556,
              "#d8576b"
             ],
             [
              0.6666666666666666,
              "#ed7953"
             ],
             [
              0.7777777777777778,
              "#fb9f3a"
             ],
             [
              0.8888888888888888,
              "#fdca26"
             ],
             [
              1,
              "#f0f921"
             ]
            ],
            "type": "contour"
           }
          ],
          "contourcarpet": [
           {
            "colorbar": {
             "outlinewidth": 0,
             "ticks": ""
            },
            "type": "contourcarpet"
           }
          ],
          "heatmap": [
           {
            "colorbar": {
             "outlinewidth": 0,
             "ticks": ""
            },
            "colorscale": [
             [
              0,
              "#0d0887"
             ],
             [
              0.1111111111111111,
              "#46039f"
             ],
             [
              0.2222222222222222,
              "#7201a8"
             ],
             [
              0.3333333333333333,
              "#9c179e"
             ],
             [
              0.4444444444444444,
              "#bd3786"
             ],
             [
              0.5555555555555556,
              "#d8576b"
             ],
             [
              0.6666666666666666,
              "#ed7953"
             ],
             [
              0.7777777777777778,
              "#fb9f3a"
             ],
             [
              0.8888888888888888,
              "#fdca26"
             ],
             [
              1,
              "#f0f921"
             ]
            ],
            "type": "heatmap"
           }
          ],
          "heatmapgl": [
           {
            "colorbar": {
             "outlinewidth": 0,
             "ticks": ""
            },
            "colorscale": [
             [
              0,
              "#0d0887"
             ],
             [
              0.1111111111111111,
              "#46039f"
             ],
             [
              0.2222222222222222,
              "#7201a8"
             ],
             [
              0.3333333333333333,
              "#9c179e"
             ],
             [
              0.4444444444444444,
              "#bd3786"
             ],
             [
              0.5555555555555556,
              "#d8576b"
             ],
             [
              0.6666666666666666,
              "#ed7953"
             ],
             [
              0.7777777777777778,
              "#fb9f3a"
             ],
             [
              0.8888888888888888,
              "#fdca26"
             ],
             [
              1,
              "#f0f921"
             ]
            ],
            "type": "heatmapgl"
           }
          ],
          "histogram": [
           {
            "marker": {
             "pattern": {
              "fillmode": "overlay",
              "size": 10,
              "solidity": 0.2
             }
            },
            "type": "histogram"
           }
          ],
          "histogram2d": [
           {
            "colorbar": {
             "outlinewidth": 0,
             "ticks": ""
            },
            "colorscale": [
             [
              0,
              "#0d0887"
             ],
             [
              0.1111111111111111,
              "#46039f"
             ],
             [
              0.2222222222222222,
              "#7201a8"
             ],
             [
              0.3333333333333333,
              "#9c179e"
             ],
             [
              0.4444444444444444,
              "#bd3786"
             ],
             [
              0.5555555555555556,
              "#d8576b"
             ],
             [
              0.6666666666666666,
              "#ed7953"
             ],
             [
              0.7777777777777778,
              "#fb9f3a"
             ],
             [
              0.8888888888888888,
              "#fdca26"
             ],
             [
              1,
              "#f0f921"
             ]
            ],
            "type": "histogram2d"
           }
          ],
          "histogram2dcontour": [
           {
            "colorbar": {
             "outlinewidth": 0,
             "ticks": ""
            },
            "colorscale": [
             [
              0,
              "#0d0887"
             ],
             [
              0.1111111111111111,
              "#46039f"
             ],
             [
              0.2222222222222222,
              "#7201a8"
             ],
             [
              0.3333333333333333,
              "#9c179e"
             ],
             [
              0.4444444444444444,
              "#bd3786"
             ],
             [
              0.5555555555555556,
              "#d8576b"
             ],
             [
              0.6666666666666666,
              "#ed7953"
             ],
             [
              0.7777777777777778,
              "#fb9f3a"
             ],
             [
              0.8888888888888888,
              "#fdca26"
             ],
             [
              1,
              "#f0f921"
             ]
            ],
            "type": "histogram2dcontour"
           }
          ],
          "mesh3d": [
           {
            "colorbar": {
             "outlinewidth": 0,
             "ticks": ""
            },
            "type": "mesh3d"
           }
          ],
          "parcoords": [
           {
            "line": {
             "colorbar": {
              "outlinewidth": 0,
              "ticks": ""
             }
            },
            "type": "parcoords"
           }
          ],
          "pie": [
           {
            "automargin": true,
            "type": "pie"
           }
          ],
          "scatter": [
           {
            "marker": {
             "colorbar": {
              "outlinewidth": 0,
              "ticks": ""
             }
            },
            "type": "scatter"
           }
          ],
          "scatter3d": [
           {
            "line": {
             "colorbar": {
              "outlinewidth": 0,
              "ticks": ""
             }
            },
            "marker": {
             "colorbar": {
              "outlinewidth": 0,
              "ticks": ""
             }
            },
            "type": "scatter3d"
           }
          ],
          "scattercarpet": [
           {
            "marker": {
             "colorbar": {
              "outlinewidth": 0,
              "ticks": ""
             }
            },
            "type": "scattercarpet"
           }
          ],
          "scattergeo": [
           {
            "marker": {
             "colorbar": {
              "outlinewidth": 0,
              "ticks": ""
             }
            },
            "type": "scattergeo"
           }
          ],
          "scattergl": [
           {
            "marker": {
             "colorbar": {
              "outlinewidth": 0,
              "ticks": ""
             }
            },
            "type": "scattergl"
           }
          ],
          "scattermapbox": [
           {
            "marker": {
             "colorbar": {
              "outlinewidth": 0,
              "ticks": ""
             }
            },
            "type": "scattermapbox"
           }
          ],
          "scatterpolar": [
           {
            "marker": {
             "colorbar": {
              "outlinewidth": 0,
              "ticks": ""
             }
            },
            "type": "scatterpolar"
           }
          ],
          "scatterpolargl": [
           {
            "marker": {
             "colorbar": {
              "outlinewidth": 0,
              "ticks": ""
             }
            },
            "type": "scatterpolargl"
           }
          ],
          "scatterternary": [
           {
            "marker": {
             "colorbar": {
              "outlinewidth": 0,
              "ticks": ""
             }
            },
            "type": "scatterternary"
           }
          ],
          "surface": [
           {
            "colorbar": {
             "outlinewidth": 0,
             "ticks": ""
            },
            "colorscale": [
             [
              0,
              "#0d0887"
             ],
             [
              0.1111111111111111,
              "#46039f"
             ],
             [
              0.2222222222222222,
              "#7201a8"
             ],
             [
              0.3333333333333333,
              "#9c179e"
             ],
             [
              0.4444444444444444,
              "#bd3786"
             ],
             [
              0.5555555555555556,
              "#d8576b"
             ],
             [
              0.6666666666666666,
              "#ed7953"
             ],
             [
              0.7777777777777778,
              "#fb9f3a"
             ],
             [
              0.8888888888888888,
              "#fdca26"
             ],
             [
              1,
              "#f0f921"
             ]
            ],
            "type": "surface"
           }
          ],
          "table": [
           {
            "cells": {
             "fill": {
              "color": "#EBF0F8"
             },
             "line": {
              "color": "white"
             }
            },
            "header": {
             "fill": {
              "color": "#C8D4E3"
             },
             "line": {
              "color": "white"
             }
            },
            "type": "table"
           }
          ]
         },
         "layout": {
          "annotationdefaults": {
           "arrowcolor": "#2a3f5f",
           "arrowhead": 0,
           "arrowwidth": 1
          },
          "autotypenumbers": "strict",
          "coloraxis": {
           "colorbar": {
            "outlinewidth": 0,
            "ticks": ""
           }
          },
          "colorscale": {
           "diverging": [
            [
             0,
             "#8e0152"
            ],
            [
             0.1,
             "#c51b7d"
            ],
            [
             0.2,
             "#de77ae"
            ],
            [
             0.3,
             "#f1b6da"
            ],
            [
             0.4,
             "#fde0ef"
            ],
            [
             0.5,
             "#f7f7f7"
            ],
            [
             0.6,
             "#e6f5d0"
            ],
            [
             0.7,
             "#b8e186"
            ],
            [
             0.8,
             "#7fbc41"
            ],
            [
             0.9,
             "#4d9221"
            ],
            [
             1,
             "#276419"
            ]
           ],
           "sequential": [
            [
             0,
             "#0d0887"
            ],
            [
             0.1111111111111111,
             "#46039f"
            ],
            [
             0.2222222222222222,
             "#7201a8"
            ],
            [
             0.3333333333333333,
             "#9c179e"
            ],
            [
             0.4444444444444444,
             "#bd3786"
            ],
            [
             0.5555555555555556,
             "#d8576b"
            ],
            [
             0.6666666666666666,
             "#ed7953"
            ],
            [
             0.7777777777777778,
             "#fb9f3a"
            ],
            [
             0.8888888888888888,
             "#fdca26"
            ],
            [
             1,
             "#f0f921"
            ]
           ],
           "sequentialminus": [
            [
             0,
             "#0d0887"
            ],
            [
             0.1111111111111111,
             "#46039f"
            ],
            [
             0.2222222222222222,
             "#7201a8"
            ],
            [
             0.3333333333333333,
             "#9c179e"
            ],
            [
             0.4444444444444444,
             "#bd3786"
            ],
            [
             0.5555555555555556,
             "#d8576b"
            ],
            [
             0.6666666666666666,
             "#ed7953"
            ],
            [
             0.7777777777777778,
             "#fb9f3a"
            ],
            [
             0.8888888888888888,
             "#fdca26"
            ],
            [
             1,
             "#f0f921"
            ]
           ]
          },
          "colorway": [
           "#636efa",
           "#EF553B",
           "#00cc96",
           "#ab63fa",
           "#FFA15A",
           "#19d3f3",
           "#FF6692",
           "#B6E880",
           "#FF97FF",
           "#FECB52"
          ],
          "font": {
           "color": "#2a3f5f"
          },
          "geo": {
           "bgcolor": "white",
           "lakecolor": "white",
           "landcolor": "#E5ECF6",
           "showlakes": true,
           "showland": true,
           "subunitcolor": "white"
          },
          "hoverlabel": {
           "align": "left"
          },
          "hovermode": "closest",
          "mapbox": {
           "style": "light"
          },
          "paper_bgcolor": "white",
          "plot_bgcolor": "#E5ECF6",
          "polar": {
           "angularaxis": {
            "gridcolor": "white",
            "linecolor": "white",
            "ticks": ""
           },
           "bgcolor": "#E5ECF6",
           "radialaxis": {
            "gridcolor": "white",
            "linecolor": "white",
            "ticks": ""
           }
          },
          "scene": {
           "xaxis": {
            "backgroundcolor": "#E5ECF6",
            "gridcolor": "white",
            "gridwidth": 2,
            "linecolor": "white",
            "showbackground": true,
            "ticks": "",
            "zerolinecolor": "white"
           },
           "yaxis": {
            "backgroundcolor": "#E5ECF6",
            "gridcolor": "white",
            "gridwidth": 2,
            "linecolor": "white",
            "showbackground": true,
            "ticks": "",
            "zerolinecolor": "white"
           },
           "zaxis": {
            "backgroundcolor": "#E5ECF6",
            "gridcolor": "white",
            "gridwidth": 2,
            "linecolor": "white",
            "showbackground": true,
            "ticks": "",
            "zerolinecolor": "white"
           }
          },
          "shapedefaults": {
           "line": {
            "color": "#2a3f5f"
           }
          },
          "ternary": {
           "aaxis": {
            "gridcolor": "white",
            "linecolor": "white",
            "ticks": ""
           },
           "baxis": {
            "gridcolor": "white",
            "linecolor": "white",
            "ticks": ""
           },
           "bgcolor": "#E5ECF6",
           "caxis": {
            "gridcolor": "white",
            "linecolor": "white",
            "ticks": ""
           }
          },
          "title": {
           "x": 0.05
          },
          "xaxis": {
           "automargin": true,
           "gridcolor": "white",
           "linecolor": "white",
           "ticks": "",
           "title": {
            "standoff": 15
           },
           "zerolinecolor": "white",
           "zerolinewidth": 2
          },
          "yaxis": {
           "automargin": true,
           "gridcolor": "white",
           "linecolor": "white",
           "ticks": "",
           "title": {
            "standoff": 15
           },
           "zerolinecolor": "white",
           "zerolinewidth": 2
          }
         }
        },
        "title": {
         "font": {
          "color": "#4D5663"
         }
        },
        "xaxis": {
         "gridcolor": "#E1E5ED",
         "showgrid": true,
         "tickfont": {
          "color": "#4D5663"
         },
         "title": {
          "font": {
           "color": "#4D5663"
          },
          "text": ""
         },
         "zerolinecolor": "#E1E5ED"
        },
        "yaxis": {
         "gridcolor": "#E1E5ED",
         "showgrid": true,
         "tickfont": {
          "color": "#4D5663"
         },
         "title": {
          "font": {
           "color": "#4D5663"
          },
          "text": ""
         },
         "zerolinecolor": "#E1E5ED"
        }
       }
      },
      "text/html": [
       "<div>                            <div id=\"227e0928-c5b8-4ec6-9e2a-ac7060839202\" class=\"plotly-graph-div\" style=\"height:525px; width:100%;\"></div>            <script type=\"text/javascript\">                require([\"plotly\"], function(Plotly) {                    window.PLOTLYENV=window.PLOTLYENV || {};\n",
       "                    window.PLOTLYENV.BASE_URL='https://plot.ly';                                    if (document.getElementById(\"227e0928-c5b8-4ec6-9e2a-ac7060839202\")) {                    Plotly.newPlot(                        \"227e0928-c5b8-4ec6-9e2a-ac7060839202\",                        [{\"line\":{\"color\":\"rgba(255, 153, 51, 1.0)\",\"dash\":\"solid\",\"shape\":\"linear\",\"width\":1.3},\"mode\":\"lines\",\"name\":\"A\",\"text\":\"\",\"x\":[0,1,2,3,4,5,6,7,8,9,10,11,12,13,14,15,16,17,18,19,20,21,22,23,24,25,26,27,28,29,30,31,32,33,34,35,36,37,38,39,40,41,42,43,44,45,46,47,48,49,50,51,52,53,54,55,56,57,58,59,60,61,62,63,64,65,66,67,68,69,70,71,72,73,74,75,76,77,78,79,80,81,82,83,84,85,86,87,88,89,90,91,92,93,94,95,96,97,98,99],\"y\":[0.42834336660048555,-0.5431130343751923,-1.1089003168660925,-0.9310734812179945,0.7009672118351541,0.8814470474168713,-0.8407399793698521,-0.576893294052475,-0.8080703354235872,-0.845685394146627,1.0546390088298483,-1.2167789452198259,-0.5793894576537396,0.6531820902565525,1.1852687270905453,2.179059607997261,-0.916752595388181,0.5616215793465428,0.6378222152443052,-0.4644285971201103,-0.26443495004037043,1.2197910519981685,-0.09646466921168612,-0.13577844238819872,-0.3196361512921841,-2.3138191266271706,1.8776670994205429,0.7405974885272778,-3.142074285106367,-1.472470555300087,-0.16340487140345647,-0.14795883993457962,0.4002683275186483,1.2623093249244404,-0.13729696811807196,-0.4103419566810211,0.6309401297310346,-2.554433216510306,-1.8136787861246852,-1.5971638470617107,-0.04727848987271,-0.9859271975667138,-0.5200134096541108,-0.1496386173536915,-1.692708236163166,-0.9861515241881423,1.8566766289766876,-0.6426894805921634,1.3684446007506572,1.0303287829607057,0.15816602375477531,0.6029637904815115,0.7020121929344575,-0.6534446453808141,-0.8819822613338307,-0.3725294111302389,0.917844776303251,2.952904715090055,0.563570403972607,0.34163541591459934,0.24760279926901188,0.6853429334592762,-0.8871213125118289,-0.62447480201159,-1.1435009277849852,1.3423559897981243,-0.6885983903751369,-0.6327941965193481,1.1382967585537072,1.6535942818207383,-0.49473872348892395,-0.2213077371949228,-1.7441809868780074,0.33503514683285246,1.457920342236441,1.1942547194581565,1.6048350491365895,0.6834991629924438,0.5449683729052708,-0.09354422620876975,-0.7332514853887435,-1.2858330647452987,-1.6144516726215936,0.5491139981272396,0.3988004780816497,1.1415368511791262,0.9103446674267672,-0.4302964462779966,0.34100207998563,1.0883510241965397,0.9003232980148024,1.0445905659847246,0.4609394941132174,2.059739333522352,-0.8652132010214949,0.4132656940423574,0.1597976827062007,0.8959245972573175,0.19935532667623881,-1.2631555290890033],\"type\":\"scatter\"},{\"line\":{\"color\":\"rgba(55, 128, 191, 1.0)\",\"dash\":\"solid\",\"shape\":\"linear\",\"width\":1.3},\"mode\":\"lines\",\"name\":\"B\",\"text\":\"\",\"x\":[0,1,2,3,4,5,6,7,8,9,10,11,12,13,14,15,16,17,18,19,20,21,22,23,24,25,26,27,28,29,30,31,32,33,34,35,36,37,38,39,40,41,42,43,44,45,46,47,48,49,50,51,52,53,54,55,56,57,58,59,60,61,62,63,64,65,66,67,68,69,70,71,72,73,74,75,76,77,78,79,80,81,82,83,84,85,86,87,88,89,90,91,92,93,94,95,96,97,98,99],\"y\":[-1.5110962441514955,-1.3421231187988822,-0.8218709717794145,-0.5629676527933162,-0.0939803421434012,-1.0281015513104197,0.3995284548028364,0.9763755222555714,0.04671111034541469,-1.9765101574433694,-1.0786291236002599,-1.1370525638047173,0.6234717853349546,0.22736963902127702,0.6312271068437805,1.898722835344093,-1.1841566347480224,0.6706380460640187,0.46705903160036005,0.865784386057344,-0.48600102296393116,-1.087364794658521,-0.46493281327929764,0.6645474925732094,-0.16064904501671742,0.10420018730006272,1.3088379168204136,0.1421960429541945,0.021540205979291894,-1.696360096304541,0.1020244225904697,-1.4488401608216697,-0.8435275097409567,-0.4903190344160185,-0.6167726979776068,1.516273713443217,-0.8504127889940435,-0.6817747858776013,1.1428523434547717,0.6038809943697726,-0.19543354794411882,0.05964263107473625,0.9886081091818062,-1.6851781394957248,-0.5385704399566267,0.4992709096890342,0.8523579261540218,-0.036804283670902514,0.6753618291437835,-0.5658997632303835,0.08053411107930569,0.46914129922192865,-0.14822017594795173,0.48477839501296927,-2.7740379594780014,-0.057824947331366054,0.007855445306867293,-1.037584910585149,-0.234403782400521,-0.10043071393199138,0.24141096042409843,-0.6761136267213637,-1.3153681866336913,-0.11340787951362206,-1.5068080162253386,-1.3266258407333442,0.008007313205507259,-1.4753921403733459,0.25353596911295373,-0.5618230070321575,-0.051296848284010335,-1.1064574503295967,0.451924472091387,0.41623143210306596,-0.4126695523135965,-0.9246281429196028,-1.4234046222503718,0.08949143437347688,-1.1257961613100143,-0.45495471958497263,-2.2203979818443966,-1.1725235534576335,0.7847230953515638,1.7650003621711998,1.2096931205010761,-0.46025502320418904,-0.04675734436156397,2.2850252000751903,0.19569106889942578,1.9644722028091561,0.3203399145813591,0.5512007112953003,-0.01795135166725152,1.8309718907211967,-1.2484429434786146,0.8173605905207877,-0.11453463647031444,1.055310864976655,-0.6305387854690183,-1.4593607886493545],\"type\":\"scatter\"},{\"line\":{\"color\":\"rgba(50, 171, 96, 1.0)\",\"dash\":\"solid\",\"shape\":\"linear\",\"width\":1.3},\"mode\":\"lines\",\"name\":\"C\",\"text\":\"\",\"x\":[0,1,2,3,4,5,6,7,8,9,10,11,12,13,14,15,16,17,18,19,20,21,22,23,24,25,26,27,28,29,30,31,32,33,34,35,36,37,38,39,40,41,42,43,44,45,46,47,48,49,50,51,52,53,54,55,56,57,58,59,60,61,62,63,64,65,66,67,68,69,70,71,72,73,74,75,76,77,78,79,80,81,82,83,84,85,86,87,88,89,90,91,92,93,94,95,96,97,98,99],\"y\":[0.5818959601613439,0.6635389007014588,-0.4650326002158927,-0.49563769496187016,0.3544326149014103,0.032280422153337845,1.500194598749117,2.0078251618293383,1.250331560859558,-1.5210260565593223,-0.9083896727413385,0.09343621622137635,1.0770523647661714,0.4135650963652773,0.18243023661373478,1.6017575628860965,-0.531874639863994,0.7386088731874443,-1.299442569668759,0.09061907544395652,1.3048100282856383,0.38363698324233875,2.1600291784329193,-0.17890225991828895,-0.3928507318555888,0.5077203804001711,-0.17890260246201345,0.5325204521149169,0.5552064558546723,0.9466377884787205,-0.5537834734751812,-0.9225931378437296,-0.8501838556832638,-0.31102566975449314,0.9836054884214205,-0.3681798942114995,-0.00361292480589936,0.8445803413494956,-1.1030888295997967,0.741470274969195,0.13470395027236978,1.2105372702387485,1.4510247336250213,-0.06799667679769193,1.0439059032051308,1.2758152618645142,-0.28913163689038773,0.6403403697547831,-0.8382254017862524,1.267166140113422,-0.19196802549214645,1.031205035151707,0.26130592536366737,0.290049450665771,0.3923595253989978,-0.07066390600572733,-0.13411773124013696,-0.5112963030506134,0.1523938664586009,-0.256666308707275,1.9500314401460428,0.4451779747728889,1.20667494512559,1.415453883503099,0.4802923215144708,-1.5154210487797841,-1.1689118109720538,-0.855788531435531,0.6967714727613341,0.13185186209408195,1.2545075600604296,0.46671735728806,1.251738898788601,-1.6904602024294255,-0.15933874899631892,-0.6107249632052028,1.0151109662635478,-0.4640549522669946,-1.3094379739157134,-0.1696620985632722,0.7264314214654054,-0.26821860589869123,0.21535758945565767,0.2479765322304549,0.1635268472902467,-0.40118535164143926,0.41818817348398535,-0.5432858902884837,1.2661463403142534,0.9221931103564391,0.077976495849599,0.22879419075920301,0.8708459862581537,1.369969887640816,0.33033096281090457,-0.08613149023670989,-0.10332444940811221,-1.503708056123339,0.46157906034337454,-0.035597229327674916],\"type\":\"scatter\"},{\"line\":{\"color\":\"rgba(128, 0, 128, 1.0)\",\"dash\":\"solid\",\"shape\":\"linear\",\"width\":1.3},\"mode\":\"lines\",\"name\":\"D\",\"text\":\"\",\"x\":[0,1,2,3,4,5,6,7,8,9,10,11,12,13,14,15,16,17,18,19,20,21,22,23,24,25,26,27,28,29,30,31,32,33,34,35,36,37,38,39,40,41,42,43,44,45,46,47,48,49,50,51,52,53,54,55,56,57,58,59,60,61,62,63,64,65,66,67,68,69,70,71,72,73,74,75,76,77,78,79,80,81,82,83,84,85,86,87,88,89,90,91,92,93,94,95,96,97,98,99],\"y\":[-1.643043088882501,-0.041942842179661495,-1.4168472589893575,0.846324115048115,-1.4454782178892902,1.1981126822062262,1.1880877809175365,-0.9437983238027401,0.2791052304301366,0.22472421792598693,-0.23818077146965422,-0.8134865720507752,-0.6539235206125001,-0.18812153427793674,0.10483840484201919,-1.1463715001592154,0.1525511335932151,-0.3333660303849316,0.2231423843314657,-0.642924646210681,1.3868811907592602,2.4775413247661118,-0.9824378868441533,-0.7478323374420225,0.1196298646787779,0.7584231001525484,0.3450095684343771,-0.1364555859070283,0.031593327237034556,0.06416794091502054,-1.0314204223621934,-0.5880114985436802,-0.9309105252363903,1.2080624637488204,-0.4826883216009362,-1.4083635352576558,1.9770423094719052,-1.1996284585164145,0.9825311817596672,-1.6455070177339404,0.295062994963841,-0.7998034733980933,-0.15005896232938026,-0.6656461269471731,0.9465387241306563,-0.3621644533838506,1.154497360028402,0.6355561375336649,1.0729479908496042,-0.946186348362365,0.8035070464021923,0.2299619066818497,0.2677428976486297,0.5441540505336642,2.520355422492496,-1.8362024335707192,0.0752844292503327,-0.8217503084813561,-0.24059727542653545,0.9384132798466748,0.5277873135643862,-1.515812553399073,-0.6654393564758576,2.399854029533553,-0.34779887432418227,0.5360350503453412,-0.18810820561818842,-0.037994786223414116,-0.6004312975798658,-1.5865829760206287,0.9135093073916315,-0.14112121519870538,-1.562180258411497,0.922870786879138,-0.5186716211333601,-1.0691183637534747,-1.4560288756640534,1.8245452402134126,-0.07371980105621495,-0.24864570933300026,0.5080437212536183,-1.323997543405784,1.9888833530466878,-0.9616846288567427,0.8399558727218465,-0.3521507877335014,0.18631604806527377,-0.7852573923852917,0.09450621074434322,-0.25880019016887773,1.1923201907397027,0.2651753312425627,-0.858845471114797,-0.6219850919551331,0.3507993237467051,-1.5098459118210705,1.913013961119211,0.09978487723239408,0.009576411491057068,-0.11720616987445373],\"type\":\"scatter\"}],                        {\"legend\":{\"bgcolor\":\"#F5F6F9\",\"font\":{\"color\":\"#4D5663\"}},\"paper_bgcolor\":\"#F5F6F9\",\"plot_bgcolor\":\"#F5F6F9\",\"template\":{\"data\":{\"barpolar\":[{\"marker\":{\"line\":{\"color\":\"#E5ECF6\",\"width\":0.5},\"pattern\":{\"fillmode\":\"overlay\",\"size\":10,\"solidity\":0.2}},\"type\":\"barpolar\"}],\"bar\":[{\"error_x\":{\"color\":\"#2a3f5f\"},\"error_y\":{\"color\":\"#2a3f5f\"},\"marker\":{\"line\":{\"color\":\"#E5ECF6\",\"width\":0.5},\"pattern\":{\"fillmode\":\"overlay\",\"size\":10,\"solidity\":0.2}},\"type\":\"bar\"}],\"carpet\":[{\"aaxis\":{\"endlinecolor\":\"#2a3f5f\",\"gridcolor\":\"white\",\"linecolor\":\"white\",\"minorgridcolor\":\"white\",\"startlinecolor\":\"#2a3f5f\"},\"baxis\":{\"endlinecolor\":\"#2a3f5f\",\"gridcolor\":\"white\",\"linecolor\":\"white\",\"minorgridcolor\":\"white\",\"startlinecolor\":\"#2a3f5f\"},\"type\":\"carpet\"}],\"choropleth\":[{\"colorbar\":{\"outlinewidth\":0,\"ticks\":\"\"},\"type\":\"choropleth\"}],\"contourcarpet\":[{\"colorbar\":{\"outlinewidth\":0,\"ticks\":\"\"},\"type\":\"contourcarpet\"}],\"contour\":[{\"colorbar\":{\"outlinewidth\":0,\"ticks\":\"\"},\"colorscale\":[[0.0,\"#0d0887\"],[0.1111111111111111,\"#46039f\"],[0.2222222222222222,\"#7201a8\"],[0.3333333333333333,\"#9c179e\"],[0.4444444444444444,\"#bd3786\"],[0.5555555555555556,\"#d8576b\"],[0.6666666666666666,\"#ed7953\"],[0.7777777777777778,\"#fb9f3a\"],[0.8888888888888888,\"#fdca26\"],[1.0,\"#f0f921\"]],\"type\":\"contour\"}],\"heatmapgl\":[{\"colorbar\":{\"outlinewidth\":0,\"ticks\":\"\"},\"colorscale\":[[0.0,\"#0d0887\"],[0.1111111111111111,\"#46039f\"],[0.2222222222222222,\"#7201a8\"],[0.3333333333333333,\"#9c179e\"],[0.4444444444444444,\"#bd3786\"],[0.5555555555555556,\"#d8576b\"],[0.6666666666666666,\"#ed7953\"],[0.7777777777777778,\"#fb9f3a\"],[0.8888888888888888,\"#fdca26\"],[1.0,\"#f0f921\"]],\"type\":\"heatmapgl\"}],\"heatmap\":[{\"colorbar\":{\"outlinewidth\":0,\"ticks\":\"\"},\"colorscale\":[[0.0,\"#0d0887\"],[0.1111111111111111,\"#46039f\"],[0.2222222222222222,\"#7201a8\"],[0.3333333333333333,\"#9c179e\"],[0.4444444444444444,\"#bd3786\"],[0.5555555555555556,\"#d8576b\"],[0.6666666666666666,\"#ed7953\"],[0.7777777777777778,\"#fb9f3a\"],[0.8888888888888888,\"#fdca26\"],[1.0,\"#f0f921\"]],\"type\":\"heatmap\"}],\"histogram2dcontour\":[{\"colorbar\":{\"outlinewidth\":0,\"ticks\":\"\"},\"colorscale\":[[0.0,\"#0d0887\"],[0.1111111111111111,\"#46039f\"],[0.2222222222222222,\"#7201a8\"],[0.3333333333333333,\"#9c179e\"],[0.4444444444444444,\"#bd3786\"],[0.5555555555555556,\"#d8576b\"],[0.6666666666666666,\"#ed7953\"],[0.7777777777777778,\"#fb9f3a\"],[0.8888888888888888,\"#fdca26\"],[1.0,\"#f0f921\"]],\"type\":\"histogram2dcontour\"}],\"histogram2d\":[{\"colorbar\":{\"outlinewidth\":0,\"ticks\":\"\"},\"colorscale\":[[0.0,\"#0d0887\"],[0.1111111111111111,\"#46039f\"],[0.2222222222222222,\"#7201a8\"],[0.3333333333333333,\"#9c179e\"],[0.4444444444444444,\"#bd3786\"],[0.5555555555555556,\"#d8576b\"],[0.6666666666666666,\"#ed7953\"],[0.7777777777777778,\"#fb9f3a\"],[0.8888888888888888,\"#fdca26\"],[1.0,\"#f0f921\"]],\"type\":\"histogram2d\"}],\"histogram\":[{\"marker\":{\"pattern\":{\"fillmode\":\"overlay\",\"size\":10,\"solidity\":0.2}},\"type\":\"histogram\"}],\"mesh3d\":[{\"colorbar\":{\"outlinewidth\":0,\"ticks\":\"\"},\"type\":\"mesh3d\"}],\"parcoords\":[{\"line\":{\"colorbar\":{\"outlinewidth\":0,\"ticks\":\"\"}},\"type\":\"parcoords\"}],\"pie\":[{\"automargin\":true,\"type\":\"pie\"}],\"scatter3d\":[{\"line\":{\"colorbar\":{\"outlinewidth\":0,\"ticks\":\"\"}},\"marker\":{\"colorbar\":{\"outlinewidth\":0,\"ticks\":\"\"}},\"type\":\"scatter3d\"}],\"scattercarpet\":[{\"marker\":{\"colorbar\":{\"outlinewidth\":0,\"ticks\":\"\"}},\"type\":\"scattercarpet\"}],\"scattergeo\":[{\"marker\":{\"colorbar\":{\"outlinewidth\":0,\"ticks\":\"\"}},\"type\":\"scattergeo\"}],\"scattergl\":[{\"marker\":{\"colorbar\":{\"outlinewidth\":0,\"ticks\":\"\"}},\"type\":\"scattergl\"}],\"scattermapbox\":[{\"marker\":{\"colorbar\":{\"outlinewidth\":0,\"ticks\":\"\"}},\"type\":\"scattermapbox\"}],\"scatterpolargl\":[{\"marker\":{\"colorbar\":{\"outlinewidth\":0,\"ticks\":\"\"}},\"type\":\"scatterpolargl\"}],\"scatterpolar\":[{\"marker\":{\"colorbar\":{\"outlinewidth\":0,\"ticks\":\"\"}},\"type\":\"scatterpolar\"}],\"scatter\":[{\"marker\":{\"colorbar\":{\"outlinewidth\":0,\"ticks\":\"\"}},\"type\":\"scatter\"}],\"scatterternary\":[{\"marker\":{\"colorbar\":{\"outlinewidth\":0,\"ticks\":\"\"}},\"type\":\"scatterternary\"}],\"surface\":[{\"colorbar\":{\"outlinewidth\":0,\"ticks\":\"\"},\"colorscale\":[[0.0,\"#0d0887\"],[0.1111111111111111,\"#46039f\"],[0.2222222222222222,\"#7201a8\"],[0.3333333333333333,\"#9c179e\"],[0.4444444444444444,\"#bd3786\"],[0.5555555555555556,\"#d8576b\"],[0.6666666666666666,\"#ed7953\"],[0.7777777777777778,\"#fb9f3a\"],[0.8888888888888888,\"#fdca26\"],[1.0,\"#f0f921\"]],\"type\":\"surface\"}],\"table\":[{\"cells\":{\"fill\":{\"color\":\"#EBF0F8\"},\"line\":{\"color\":\"white\"}},\"header\":{\"fill\":{\"color\":\"#C8D4E3\"},\"line\":{\"color\":\"white\"}},\"type\":\"table\"}]},\"layout\":{\"annotationdefaults\":{\"arrowcolor\":\"#2a3f5f\",\"arrowhead\":0,\"arrowwidth\":1},\"autotypenumbers\":\"strict\",\"coloraxis\":{\"colorbar\":{\"outlinewidth\":0,\"ticks\":\"\"}},\"colorscale\":{\"diverging\":[[0,\"#8e0152\"],[0.1,\"#c51b7d\"],[0.2,\"#de77ae\"],[0.3,\"#f1b6da\"],[0.4,\"#fde0ef\"],[0.5,\"#f7f7f7\"],[0.6,\"#e6f5d0\"],[0.7,\"#b8e186\"],[0.8,\"#7fbc41\"],[0.9,\"#4d9221\"],[1,\"#276419\"]],\"sequential\":[[0.0,\"#0d0887\"],[0.1111111111111111,\"#46039f\"],[0.2222222222222222,\"#7201a8\"],[0.3333333333333333,\"#9c179e\"],[0.4444444444444444,\"#bd3786\"],[0.5555555555555556,\"#d8576b\"],[0.6666666666666666,\"#ed7953\"],[0.7777777777777778,\"#fb9f3a\"],[0.8888888888888888,\"#fdca26\"],[1.0,\"#f0f921\"]],\"sequentialminus\":[[0.0,\"#0d0887\"],[0.1111111111111111,\"#46039f\"],[0.2222222222222222,\"#7201a8\"],[0.3333333333333333,\"#9c179e\"],[0.4444444444444444,\"#bd3786\"],[0.5555555555555556,\"#d8576b\"],[0.6666666666666666,\"#ed7953\"],[0.7777777777777778,\"#fb9f3a\"],[0.8888888888888888,\"#fdca26\"],[1.0,\"#f0f921\"]]},\"colorway\":[\"#636efa\",\"#EF553B\",\"#00cc96\",\"#ab63fa\",\"#FFA15A\",\"#19d3f3\",\"#FF6692\",\"#B6E880\",\"#FF97FF\",\"#FECB52\"],\"font\":{\"color\":\"#2a3f5f\"},\"geo\":{\"bgcolor\":\"white\",\"lakecolor\":\"white\",\"landcolor\":\"#E5ECF6\",\"showlakes\":true,\"showland\":true,\"subunitcolor\":\"white\"},\"hoverlabel\":{\"align\":\"left\"},\"hovermode\":\"closest\",\"mapbox\":{\"style\":\"light\"},\"paper_bgcolor\":\"white\",\"plot_bgcolor\":\"#E5ECF6\",\"polar\":{\"angularaxis\":{\"gridcolor\":\"white\",\"linecolor\":\"white\",\"ticks\":\"\"},\"bgcolor\":\"#E5ECF6\",\"radialaxis\":{\"gridcolor\":\"white\",\"linecolor\":\"white\",\"ticks\":\"\"}},\"scene\":{\"xaxis\":{\"backgroundcolor\":\"#E5ECF6\",\"gridcolor\":\"white\",\"gridwidth\":2,\"linecolor\":\"white\",\"showbackground\":true,\"ticks\":\"\",\"zerolinecolor\":\"white\"},\"yaxis\":{\"backgroundcolor\":\"#E5ECF6\",\"gridcolor\":\"white\",\"gridwidth\":2,\"linecolor\":\"white\",\"showbackground\":true,\"ticks\":\"\",\"zerolinecolor\":\"white\"},\"zaxis\":{\"backgroundcolor\":\"#E5ECF6\",\"gridcolor\":\"white\",\"gridwidth\":2,\"linecolor\":\"white\",\"showbackground\":true,\"ticks\":\"\",\"zerolinecolor\":\"white\"}},\"shapedefaults\":{\"line\":{\"color\":\"#2a3f5f\"}},\"ternary\":{\"aaxis\":{\"gridcolor\":\"white\",\"linecolor\":\"white\",\"ticks\":\"\"},\"baxis\":{\"gridcolor\":\"white\",\"linecolor\":\"white\",\"ticks\":\"\"},\"bgcolor\":\"#E5ECF6\",\"caxis\":{\"gridcolor\":\"white\",\"linecolor\":\"white\",\"ticks\":\"\"}},\"title\":{\"x\":0.05},\"xaxis\":{\"automargin\":true,\"gridcolor\":\"white\",\"linecolor\":\"white\",\"ticks\":\"\",\"title\":{\"standoff\":15},\"zerolinecolor\":\"white\",\"zerolinewidth\":2},\"yaxis\":{\"automargin\":true,\"gridcolor\":\"white\",\"linecolor\":\"white\",\"ticks\":\"\",\"title\":{\"standoff\":15},\"zerolinecolor\":\"white\",\"zerolinewidth\":2}}},\"title\":{\"font\":{\"color\":\"#4D5663\"}},\"xaxis\":{\"gridcolor\":\"#E1E5ED\",\"showgrid\":true,\"tickfont\":{\"color\":\"#4D5663\"},\"title\":{\"font\":{\"color\":\"#4D5663\"},\"text\":\"\"},\"zerolinecolor\":\"#E1E5ED\"},\"yaxis\":{\"gridcolor\":\"#E1E5ED\",\"showgrid\":true,\"tickfont\":{\"color\":\"#4D5663\"},\"title\":{\"font\":{\"color\":\"#4D5663\"},\"text\":\"\"},\"zerolinecolor\":\"#E1E5ED\"}},                        {\"showLink\": true, \"linkText\": \"Export to plot.ly\", \"plotlyServerURL\": \"https://plot.ly\", \"responsive\": true}                    ).then(function(){\n",
       "                            \n",
       "var gd = document.getElementById('227e0928-c5b8-4ec6-9e2a-ac7060839202');\n",
       "var x = new MutationObserver(function (mutations, observer) {{\n",
       "        var display = window.getComputedStyle(gd).display;\n",
       "        if (!display || display === 'none') {{\n",
       "            console.log([gd, 'removed!']);\n",
       "            Plotly.purge(gd);\n",
       "            observer.disconnect();\n",
       "        }}\n",
       "}});\n",
       "\n",
       "// Listen for the removal of the full notebook cells\n",
       "var notebookContainer = gd.closest('#notebook-container');\n",
       "if (notebookContainer) {{\n",
       "    x.observe(notebookContainer, {childList: true});\n",
       "}}\n",
       "\n",
       "// Listen for the clearing of the current output cell\n",
       "var outputEl = gd.closest('.output');\n",
       "if (outputEl) {{\n",
       "    x.observe(outputEl, {childList: true});\n",
       "}}\n",
       "\n",
       "                        })                };                });            </script>        </div>"
      ]
     },
     "metadata": {},
     "output_type": "display_data"
    }
   ],
   "source": [
    "# Interactive Linear Plot\n",
    "df.iplot()"
   ]
  },
  {
   "cell_type": "code",
   "execution_count": 12,
   "id": "b08345b9",
   "metadata": {},
   "outputs": [
    {
     "data": {
      "application/vnd.plotly.v1+json": {
       "config": {
        "linkText": "Export to plot.ly",
        "plotlyServerURL": "https://plot.ly",
        "showLink": true
       },
       "data": [
        {
         "line": {
          "color": "rgba(255, 153, 51, 1.0)",
          "dash": "solid",
          "shape": "linear",
          "width": 1.3
         },
         "marker": {
          "size": 12,
          "symbol": "circle"
         },
         "mode": "markers",
         "name": "B",
         "text": "",
         "type": "scatter",
         "x": [
          0.42834336660048555,
          -0.5431130343751923,
          -1.1089003168660925,
          -0.9310734812179945,
          0.7009672118351541,
          0.8814470474168713,
          -0.8407399793698521,
          -0.576893294052475,
          -0.8080703354235872,
          -0.845685394146627,
          1.0546390088298483,
          -1.2167789452198259,
          -0.5793894576537396,
          0.6531820902565525,
          1.1852687270905453,
          2.179059607997261,
          -0.916752595388181,
          0.5616215793465428,
          0.6378222152443052,
          -0.4644285971201103,
          -0.26443495004037043,
          1.2197910519981685,
          -0.09646466921168612,
          -0.13577844238819872,
          -0.3196361512921841,
          -2.3138191266271706,
          1.8776670994205429,
          0.7405974885272778,
          -3.142074285106367,
          -1.472470555300087,
          -0.16340487140345647,
          -0.14795883993457962,
          0.4002683275186483,
          1.2623093249244404,
          -0.13729696811807196,
          -0.4103419566810211,
          0.6309401297310346,
          -2.554433216510306,
          -1.8136787861246852,
          -1.5971638470617107,
          -0.04727848987271,
          -0.9859271975667138,
          -0.5200134096541108,
          -0.1496386173536915,
          -1.692708236163166,
          -0.9861515241881423,
          1.8566766289766876,
          -0.6426894805921634,
          1.3684446007506572,
          1.0303287829607057,
          0.15816602375477531,
          0.6029637904815115,
          0.7020121929344575,
          -0.6534446453808141,
          -0.8819822613338307,
          -0.3725294111302389,
          0.917844776303251,
          2.952904715090055,
          0.563570403972607,
          0.34163541591459934,
          0.24760279926901188,
          0.6853429334592762,
          -0.8871213125118289,
          -0.62447480201159,
          -1.1435009277849852,
          1.3423559897981243,
          -0.6885983903751369,
          -0.6327941965193481,
          1.1382967585537072,
          1.6535942818207383,
          -0.49473872348892395,
          -0.2213077371949228,
          -1.7441809868780074,
          0.33503514683285246,
          1.457920342236441,
          1.1942547194581565,
          1.6048350491365895,
          0.6834991629924438,
          0.5449683729052708,
          -0.09354422620876975,
          -0.7332514853887435,
          -1.2858330647452987,
          -1.6144516726215936,
          0.5491139981272396,
          0.3988004780816497,
          1.1415368511791262,
          0.9103446674267672,
          -0.4302964462779966,
          0.34100207998563,
          1.0883510241965397,
          0.9003232980148024,
          1.0445905659847246,
          0.4609394941132174,
          2.059739333522352,
          -0.8652132010214949,
          0.4132656940423574,
          0.1597976827062007,
          0.8959245972573175,
          0.19935532667623881,
          -1.2631555290890033
         ],
         "y": [
          -1.5110962441514955,
          -1.3421231187988822,
          -0.8218709717794145,
          -0.5629676527933162,
          -0.0939803421434012,
          -1.0281015513104197,
          0.3995284548028364,
          0.9763755222555714,
          0.04671111034541469,
          -1.9765101574433694,
          -1.0786291236002599,
          -1.1370525638047173,
          0.6234717853349546,
          0.22736963902127702,
          0.6312271068437805,
          1.898722835344093,
          -1.1841566347480224,
          0.6706380460640187,
          0.46705903160036005,
          0.865784386057344,
          -0.48600102296393116,
          -1.087364794658521,
          -0.46493281327929764,
          0.6645474925732094,
          -0.16064904501671742,
          0.10420018730006272,
          1.3088379168204136,
          0.1421960429541945,
          0.021540205979291894,
          -1.696360096304541,
          0.1020244225904697,
          -1.4488401608216697,
          -0.8435275097409567,
          -0.4903190344160185,
          -0.6167726979776068,
          1.516273713443217,
          -0.8504127889940435,
          -0.6817747858776013,
          1.1428523434547717,
          0.6038809943697726,
          -0.19543354794411882,
          0.05964263107473625,
          0.9886081091818062,
          -1.6851781394957248,
          -0.5385704399566267,
          0.4992709096890342,
          0.8523579261540218,
          -0.036804283670902514,
          0.6753618291437835,
          -0.5658997632303835,
          0.08053411107930569,
          0.46914129922192865,
          -0.14822017594795173,
          0.48477839501296927,
          -2.7740379594780014,
          -0.057824947331366054,
          0.007855445306867293,
          -1.037584910585149,
          -0.234403782400521,
          -0.10043071393199138,
          0.24141096042409843,
          -0.6761136267213637,
          -1.3153681866336913,
          -0.11340787951362206,
          -1.5068080162253386,
          -1.3266258407333442,
          0.008007313205507259,
          -1.4753921403733459,
          0.25353596911295373,
          -0.5618230070321575,
          -0.051296848284010335,
          -1.1064574503295967,
          0.451924472091387,
          0.41623143210306596,
          -0.4126695523135965,
          -0.9246281429196028,
          -1.4234046222503718,
          0.08949143437347688,
          -1.1257961613100143,
          -0.45495471958497263,
          -2.2203979818443966,
          -1.1725235534576335,
          0.7847230953515638,
          1.7650003621711998,
          1.2096931205010761,
          -0.46025502320418904,
          -0.04675734436156397,
          2.2850252000751903,
          0.19569106889942578,
          1.9644722028091561,
          0.3203399145813591,
          0.5512007112953003,
          -0.01795135166725152,
          1.8309718907211967,
          -1.2484429434786146,
          0.8173605905207877,
          -0.11453463647031444,
          1.055310864976655,
          -0.6305387854690183,
          -1.4593607886493545
         ]
        }
       ],
       "layout": {
        "legend": {
         "bgcolor": "#F5F6F9",
         "font": {
          "color": "#4D5663"
         }
        },
        "paper_bgcolor": "#F5F6F9",
        "plot_bgcolor": "#F5F6F9",
        "template": {
         "data": {
          "bar": [
           {
            "error_x": {
             "color": "#2a3f5f"
            },
            "error_y": {
             "color": "#2a3f5f"
            },
            "marker": {
             "line": {
              "color": "#E5ECF6",
              "width": 0.5
             },
             "pattern": {
              "fillmode": "overlay",
              "size": 10,
              "solidity": 0.2
             }
            },
            "type": "bar"
           }
          ],
          "barpolar": [
           {
            "marker": {
             "line": {
              "color": "#E5ECF6",
              "width": 0.5
             },
             "pattern": {
              "fillmode": "overlay",
              "size": 10,
              "solidity": 0.2
             }
            },
            "type": "barpolar"
           }
          ],
          "carpet": [
           {
            "aaxis": {
             "endlinecolor": "#2a3f5f",
             "gridcolor": "white",
             "linecolor": "white",
             "minorgridcolor": "white",
             "startlinecolor": "#2a3f5f"
            },
            "baxis": {
             "endlinecolor": "#2a3f5f",
             "gridcolor": "white",
             "linecolor": "white",
             "minorgridcolor": "white",
             "startlinecolor": "#2a3f5f"
            },
            "type": "carpet"
           }
          ],
          "choropleth": [
           {
            "colorbar": {
             "outlinewidth": 0,
             "ticks": ""
            },
            "type": "choropleth"
           }
          ],
          "contour": [
           {
            "colorbar": {
             "outlinewidth": 0,
             "ticks": ""
            },
            "colorscale": [
             [
              0,
              "#0d0887"
             ],
             [
              0.1111111111111111,
              "#46039f"
             ],
             [
              0.2222222222222222,
              "#7201a8"
             ],
             [
              0.3333333333333333,
              "#9c179e"
             ],
             [
              0.4444444444444444,
              "#bd3786"
             ],
             [
              0.5555555555555556,
              "#d8576b"
             ],
             [
              0.6666666666666666,
              "#ed7953"
             ],
             [
              0.7777777777777778,
              "#fb9f3a"
             ],
             [
              0.8888888888888888,
              "#fdca26"
             ],
             [
              1,
              "#f0f921"
             ]
            ],
            "type": "contour"
           }
          ],
          "contourcarpet": [
           {
            "colorbar": {
             "outlinewidth": 0,
             "ticks": ""
            },
            "type": "contourcarpet"
           }
          ],
          "heatmap": [
           {
            "colorbar": {
             "outlinewidth": 0,
             "ticks": ""
            },
            "colorscale": [
             [
              0,
              "#0d0887"
             ],
             [
              0.1111111111111111,
              "#46039f"
             ],
             [
              0.2222222222222222,
              "#7201a8"
             ],
             [
              0.3333333333333333,
              "#9c179e"
             ],
             [
              0.4444444444444444,
              "#bd3786"
             ],
             [
              0.5555555555555556,
              "#d8576b"
             ],
             [
              0.6666666666666666,
              "#ed7953"
             ],
             [
              0.7777777777777778,
              "#fb9f3a"
             ],
             [
              0.8888888888888888,
              "#fdca26"
             ],
             [
              1,
              "#f0f921"
             ]
            ],
            "type": "heatmap"
           }
          ],
          "heatmapgl": [
           {
            "colorbar": {
             "outlinewidth": 0,
             "ticks": ""
            },
            "colorscale": [
             [
              0,
              "#0d0887"
             ],
             [
              0.1111111111111111,
              "#46039f"
             ],
             [
              0.2222222222222222,
              "#7201a8"
             ],
             [
              0.3333333333333333,
              "#9c179e"
             ],
             [
              0.4444444444444444,
              "#bd3786"
             ],
             [
              0.5555555555555556,
              "#d8576b"
             ],
             [
              0.6666666666666666,
              "#ed7953"
             ],
             [
              0.7777777777777778,
              "#fb9f3a"
             ],
             [
              0.8888888888888888,
              "#fdca26"
             ],
             [
              1,
              "#f0f921"
             ]
            ],
            "type": "heatmapgl"
           }
          ],
          "histogram": [
           {
            "marker": {
             "pattern": {
              "fillmode": "overlay",
              "size": 10,
              "solidity": 0.2
             }
            },
            "type": "histogram"
           }
          ],
          "histogram2d": [
           {
            "colorbar": {
             "outlinewidth": 0,
             "ticks": ""
            },
            "colorscale": [
             [
              0,
              "#0d0887"
             ],
             [
              0.1111111111111111,
              "#46039f"
             ],
             [
              0.2222222222222222,
              "#7201a8"
             ],
             [
              0.3333333333333333,
              "#9c179e"
             ],
             [
              0.4444444444444444,
              "#bd3786"
             ],
             [
              0.5555555555555556,
              "#d8576b"
             ],
             [
              0.6666666666666666,
              "#ed7953"
             ],
             [
              0.7777777777777778,
              "#fb9f3a"
             ],
             [
              0.8888888888888888,
              "#fdca26"
             ],
             [
              1,
              "#f0f921"
             ]
            ],
            "type": "histogram2d"
           }
          ],
          "histogram2dcontour": [
           {
            "colorbar": {
             "outlinewidth": 0,
             "ticks": ""
            },
            "colorscale": [
             [
              0,
              "#0d0887"
             ],
             [
              0.1111111111111111,
              "#46039f"
             ],
             [
              0.2222222222222222,
              "#7201a8"
             ],
             [
              0.3333333333333333,
              "#9c179e"
             ],
             [
              0.4444444444444444,
              "#bd3786"
             ],
             [
              0.5555555555555556,
              "#d8576b"
             ],
             [
              0.6666666666666666,
              "#ed7953"
             ],
             [
              0.7777777777777778,
              "#fb9f3a"
             ],
             [
              0.8888888888888888,
              "#fdca26"
             ],
             [
              1,
              "#f0f921"
             ]
            ],
            "type": "histogram2dcontour"
           }
          ],
          "mesh3d": [
           {
            "colorbar": {
             "outlinewidth": 0,
             "ticks": ""
            },
            "type": "mesh3d"
           }
          ],
          "parcoords": [
           {
            "line": {
             "colorbar": {
              "outlinewidth": 0,
              "ticks": ""
             }
            },
            "type": "parcoords"
           }
          ],
          "pie": [
           {
            "automargin": true,
            "type": "pie"
           }
          ],
          "scatter": [
           {
            "marker": {
             "colorbar": {
              "outlinewidth": 0,
              "ticks": ""
             }
            },
            "type": "scatter"
           }
          ],
          "scatter3d": [
           {
            "line": {
             "colorbar": {
              "outlinewidth": 0,
              "ticks": ""
             }
            },
            "marker": {
             "colorbar": {
              "outlinewidth": 0,
              "ticks": ""
             }
            },
            "type": "scatter3d"
           }
          ],
          "scattercarpet": [
           {
            "marker": {
             "colorbar": {
              "outlinewidth": 0,
              "ticks": ""
             }
            },
            "type": "scattercarpet"
           }
          ],
          "scattergeo": [
           {
            "marker": {
             "colorbar": {
              "outlinewidth": 0,
              "ticks": ""
             }
            },
            "type": "scattergeo"
           }
          ],
          "scattergl": [
           {
            "marker": {
             "colorbar": {
              "outlinewidth": 0,
              "ticks": ""
             }
            },
            "type": "scattergl"
           }
          ],
          "scattermapbox": [
           {
            "marker": {
             "colorbar": {
              "outlinewidth": 0,
              "ticks": ""
             }
            },
            "type": "scattermapbox"
           }
          ],
          "scatterpolar": [
           {
            "marker": {
             "colorbar": {
              "outlinewidth": 0,
              "ticks": ""
             }
            },
            "type": "scatterpolar"
           }
          ],
          "scatterpolargl": [
           {
            "marker": {
             "colorbar": {
              "outlinewidth": 0,
              "ticks": ""
             }
            },
            "type": "scatterpolargl"
           }
          ],
          "scatterternary": [
           {
            "marker": {
             "colorbar": {
              "outlinewidth": 0,
              "ticks": ""
             }
            },
            "type": "scatterternary"
           }
          ],
          "surface": [
           {
            "colorbar": {
             "outlinewidth": 0,
             "ticks": ""
            },
            "colorscale": [
             [
              0,
              "#0d0887"
             ],
             [
              0.1111111111111111,
              "#46039f"
             ],
             [
              0.2222222222222222,
              "#7201a8"
             ],
             [
              0.3333333333333333,
              "#9c179e"
             ],
             [
              0.4444444444444444,
              "#bd3786"
             ],
             [
              0.5555555555555556,
              "#d8576b"
             ],
             [
              0.6666666666666666,
              "#ed7953"
             ],
             [
              0.7777777777777778,
              "#fb9f3a"
             ],
             [
              0.8888888888888888,
              "#fdca26"
             ],
             [
              1,
              "#f0f921"
             ]
            ],
            "type": "surface"
           }
          ],
          "table": [
           {
            "cells": {
             "fill": {
              "color": "#EBF0F8"
             },
             "line": {
              "color": "white"
             }
            },
            "header": {
             "fill": {
              "color": "#C8D4E3"
             },
             "line": {
              "color": "white"
             }
            },
            "type": "table"
           }
          ]
         },
         "layout": {
          "annotationdefaults": {
           "arrowcolor": "#2a3f5f",
           "arrowhead": 0,
           "arrowwidth": 1
          },
          "autotypenumbers": "strict",
          "coloraxis": {
           "colorbar": {
            "outlinewidth": 0,
            "ticks": ""
           }
          },
          "colorscale": {
           "diverging": [
            [
             0,
             "#8e0152"
            ],
            [
             0.1,
             "#c51b7d"
            ],
            [
             0.2,
             "#de77ae"
            ],
            [
             0.3,
             "#f1b6da"
            ],
            [
             0.4,
             "#fde0ef"
            ],
            [
             0.5,
             "#f7f7f7"
            ],
            [
             0.6,
             "#e6f5d0"
            ],
            [
             0.7,
             "#b8e186"
            ],
            [
             0.8,
             "#7fbc41"
            ],
            [
             0.9,
             "#4d9221"
            ],
            [
             1,
             "#276419"
            ]
           ],
           "sequential": [
            [
             0,
             "#0d0887"
            ],
            [
             0.1111111111111111,
             "#46039f"
            ],
            [
             0.2222222222222222,
             "#7201a8"
            ],
            [
             0.3333333333333333,
             "#9c179e"
            ],
            [
             0.4444444444444444,
             "#bd3786"
            ],
            [
             0.5555555555555556,
             "#d8576b"
            ],
            [
             0.6666666666666666,
             "#ed7953"
            ],
            [
             0.7777777777777778,
             "#fb9f3a"
            ],
            [
             0.8888888888888888,
             "#fdca26"
            ],
            [
             1,
             "#f0f921"
            ]
           ],
           "sequentialminus": [
            [
             0,
             "#0d0887"
            ],
            [
             0.1111111111111111,
             "#46039f"
            ],
            [
             0.2222222222222222,
             "#7201a8"
            ],
            [
             0.3333333333333333,
             "#9c179e"
            ],
            [
             0.4444444444444444,
             "#bd3786"
            ],
            [
             0.5555555555555556,
             "#d8576b"
            ],
            [
             0.6666666666666666,
             "#ed7953"
            ],
            [
             0.7777777777777778,
             "#fb9f3a"
            ],
            [
             0.8888888888888888,
             "#fdca26"
            ],
            [
             1,
             "#f0f921"
            ]
           ]
          },
          "colorway": [
           "#636efa",
           "#EF553B",
           "#00cc96",
           "#ab63fa",
           "#FFA15A",
           "#19d3f3",
           "#FF6692",
           "#B6E880",
           "#FF97FF",
           "#FECB52"
          ],
          "font": {
           "color": "#2a3f5f"
          },
          "geo": {
           "bgcolor": "white",
           "lakecolor": "white",
           "landcolor": "#E5ECF6",
           "showlakes": true,
           "showland": true,
           "subunitcolor": "white"
          },
          "hoverlabel": {
           "align": "left"
          },
          "hovermode": "closest",
          "mapbox": {
           "style": "light"
          },
          "paper_bgcolor": "white",
          "plot_bgcolor": "#E5ECF6",
          "polar": {
           "angularaxis": {
            "gridcolor": "white",
            "linecolor": "white",
            "ticks": ""
           },
           "bgcolor": "#E5ECF6",
           "radialaxis": {
            "gridcolor": "white",
            "linecolor": "white",
            "ticks": ""
           }
          },
          "scene": {
           "xaxis": {
            "backgroundcolor": "#E5ECF6",
            "gridcolor": "white",
            "gridwidth": 2,
            "linecolor": "white",
            "showbackground": true,
            "ticks": "",
            "zerolinecolor": "white"
           },
           "yaxis": {
            "backgroundcolor": "#E5ECF6",
            "gridcolor": "white",
            "gridwidth": 2,
            "linecolor": "white",
            "showbackground": true,
            "ticks": "",
            "zerolinecolor": "white"
           },
           "zaxis": {
            "backgroundcolor": "#E5ECF6",
            "gridcolor": "white",
            "gridwidth": 2,
            "linecolor": "white",
            "showbackground": true,
            "ticks": "",
            "zerolinecolor": "white"
           }
          },
          "shapedefaults": {
           "line": {
            "color": "#2a3f5f"
           }
          },
          "ternary": {
           "aaxis": {
            "gridcolor": "white",
            "linecolor": "white",
            "ticks": ""
           },
           "baxis": {
            "gridcolor": "white",
            "linecolor": "white",
            "ticks": ""
           },
           "bgcolor": "#E5ECF6",
           "caxis": {
            "gridcolor": "white",
            "linecolor": "white",
            "ticks": ""
           }
          },
          "title": {
           "x": 0.05
          },
          "xaxis": {
           "automargin": true,
           "gridcolor": "white",
           "linecolor": "white",
           "ticks": "",
           "title": {
            "standoff": 15
           },
           "zerolinecolor": "white",
           "zerolinewidth": 2
          },
          "yaxis": {
           "automargin": true,
           "gridcolor": "white",
           "linecolor": "white",
           "ticks": "",
           "title": {
            "standoff": 15
           },
           "zerolinecolor": "white",
           "zerolinewidth": 2
          }
         }
        },
        "title": {
         "font": {
          "color": "#4D5663"
         }
        },
        "xaxis": {
         "gridcolor": "#E1E5ED",
         "showgrid": true,
         "tickfont": {
          "color": "#4D5663"
         },
         "title": {
          "font": {
           "color": "#4D5663"
          },
          "text": ""
         },
         "zerolinecolor": "#E1E5ED"
        },
        "yaxis": {
         "gridcolor": "#E1E5ED",
         "showgrid": true,
         "tickfont": {
          "color": "#4D5663"
         },
         "title": {
          "font": {
           "color": "#4D5663"
          },
          "text": ""
         },
         "zerolinecolor": "#E1E5ED"
        }
       }
      },
      "text/html": [
       "<div>                            <div id=\"128802f7-c029-4283-ad26-a2688ecc17a0\" class=\"plotly-graph-div\" style=\"height:525px; width:100%;\"></div>            <script type=\"text/javascript\">                require([\"plotly\"], function(Plotly) {                    window.PLOTLYENV=window.PLOTLYENV || {};\n",
       "                    window.PLOTLYENV.BASE_URL='https://plot.ly';                                    if (document.getElementById(\"128802f7-c029-4283-ad26-a2688ecc17a0\")) {                    Plotly.newPlot(                        \"128802f7-c029-4283-ad26-a2688ecc17a0\",                        [{\"line\":{\"color\":\"rgba(255, 153, 51, 1.0)\",\"dash\":\"solid\",\"shape\":\"linear\",\"width\":1.3},\"marker\":{\"size\":12,\"symbol\":\"circle\"},\"mode\":\"markers\",\"name\":\"B\",\"text\":\"\",\"x\":[0.42834336660048555,-0.5431130343751923,-1.1089003168660925,-0.9310734812179945,0.7009672118351541,0.8814470474168713,-0.8407399793698521,-0.576893294052475,-0.8080703354235872,-0.845685394146627,1.0546390088298483,-1.2167789452198259,-0.5793894576537396,0.6531820902565525,1.1852687270905453,2.179059607997261,-0.916752595388181,0.5616215793465428,0.6378222152443052,-0.4644285971201103,-0.26443495004037043,1.2197910519981685,-0.09646466921168612,-0.13577844238819872,-0.3196361512921841,-2.3138191266271706,1.8776670994205429,0.7405974885272778,-3.142074285106367,-1.472470555300087,-0.16340487140345647,-0.14795883993457962,0.4002683275186483,1.2623093249244404,-0.13729696811807196,-0.4103419566810211,0.6309401297310346,-2.554433216510306,-1.8136787861246852,-1.5971638470617107,-0.04727848987271,-0.9859271975667138,-0.5200134096541108,-0.1496386173536915,-1.692708236163166,-0.9861515241881423,1.8566766289766876,-0.6426894805921634,1.3684446007506572,1.0303287829607057,0.15816602375477531,0.6029637904815115,0.7020121929344575,-0.6534446453808141,-0.8819822613338307,-0.3725294111302389,0.917844776303251,2.952904715090055,0.563570403972607,0.34163541591459934,0.24760279926901188,0.6853429334592762,-0.8871213125118289,-0.62447480201159,-1.1435009277849852,1.3423559897981243,-0.6885983903751369,-0.6327941965193481,1.1382967585537072,1.6535942818207383,-0.49473872348892395,-0.2213077371949228,-1.7441809868780074,0.33503514683285246,1.457920342236441,1.1942547194581565,1.6048350491365895,0.6834991629924438,0.5449683729052708,-0.09354422620876975,-0.7332514853887435,-1.2858330647452987,-1.6144516726215936,0.5491139981272396,0.3988004780816497,1.1415368511791262,0.9103446674267672,-0.4302964462779966,0.34100207998563,1.0883510241965397,0.9003232980148024,1.0445905659847246,0.4609394941132174,2.059739333522352,-0.8652132010214949,0.4132656940423574,0.1597976827062007,0.8959245972573175,0.19935532667623881,-1.2631555290890033],\"y\":[-1.5110962441514955,-1.3421231187988822,-0.8218709717794145,-0.5629676527933162,-0.0939803421434012,-1.0281015513104197,0.3995284548028364,0.9763755222555714,0.04671111034541469,-1.9765101574433694,-1.0786291236002599,-1.1370525638047173,0.6234717853349546,0.22736963902127702,0.6312271068437805,1.898722835344093,-1.1841566347480224,0.6706380460640187,0.46705903160036005,0.865784386057344,-0.48600102296393116,-1.087364794658521,-0.46493281327929764,0.6645474925732094,-0.16064904501671742,0.10420018730006272,1.3088379168204136,0.1421960429541945,0.021540205979291894,-1.696360096304541,0.1020244225904697,-1.4488401608216697,-0.8435275097409567,-0.4903190344160185,-0.6167726979776068,1.516273713443217,-0.8504127889940435,-0.6817747858776013,1.1428523434547717,0.6038809943697726,-0.19543354794411882,0.05964263107473625,0.9886081091818062,-1.6851781394957248,-0.5385704399566267,0.4992709096890342,0.8523579261540218,-0.036804283670902514,0.6753618291437835,-0.5658997632303835,0.08053411107930569,0.46914129922192865,-0.14822017594795173,0.48477839501296927,-2.7740379594780014,-0.057824947331366054,0.007855445306867293,-1.037584910585149,-0.234403782400521,-0.10043071393199138,0.24141096042409843,-0.6761136267213637,-1.3153681866336913,-0.11340787951362206,-1.5068080162253386,-1.3266258407333442,0.008007313205507259,-1.4753921403733459,0.25353596911295373,-0.5618230070321575,-0.051296848284010335,-1.1064574503295967,0.451924472091387,0.41623143210306596,-0.4126695523135965,-0.9246281429196028,-1.4234046222503718,0.08949143437347688,-1.1257961613100143,-0.45495471958497263,-2.2203979818443966,-1.1725235534576335,0.7847230953515638,1.7650003621711998,1.2096931205010761,-0.46025502320418904,-0.04675734436156397,2.2850252000751903,0.19569106889942578,1.9644722028091561,0.3203399145813591,0.5512007112953003,-0.01795135166725152,1.8309718907211967,-1.2484429434786146,0.8173605905207877,-0.11453463647031444,1.055310864976655,-0.6305387854690183,-1.4593607886493545],\"type\":\"scatter\"}],                        {\"legend\":{\"bgcolor\":\"#F5F6F9\",\"font\":{\"color\":\"#4D5663\"}},\"paper_bgcolor\":\"#F5F6F9\",\"plot_bgcolor\":\"#F5F6F9\",\"template\":{\"data\":{\"barpolar\":[{\"marker\":{\"line\":{\"color\":\"#E5ECF6\",\"width\":0.5},\"pattern\":{\"fillmode\":\"overlay\",\"size\":10,\"solidity\":0.2}},\"type\":\"barpolar\"}],\"bar\":[{\"error_x\":{\"color\":\"#2a3f5f\"},\"error_y\":{\"color\":\"#2a3f5f\"},\"marker\":{\"line\":{\"color\":\"#E5ECF6\",\"width\":0.5},\"pattern\":{\"fillmode\":\"overlay\",\"size\":10,\"solidity\":0.2}},\"type\":\"bar\"}],\"carpet\":[{\"aaxis\":{\"endlinecolor\":\"#2a3f5f\",\"gridcolor\":\"white\",\"linecolor\":\"white\",\"minorgridcolor\":\"white\",\"startlinecolor\":\"#2a3f5f\"},\"baxis\":{\"endlinecolor\":\"#2a3f5f\",\"gridcolor\":\"white\",\"linecolor\":\"white\",\"minorgridcolor\":\"white\",\"startlinecolor\":\"#2a3f5f\"},\"type\":\"carpet\"}],\"choropleth\":[{\"colorbar\":{\"outlinewidth\":0,\"ticks\":\"\"},\"type\":\"choropleth\"}],\"contourcarpet\":[{\"colorbar\":{\"outlinewidth\":0,\"ticks\":\"\"},\"type\":\"contourcarpet\"}],\"contour\":[{\"colorbar\":{\"outlinewidth\":0,\"ticks\":\"\"},\"colorscale\":[[0.0,\"#0d0887\"],[0.1111111111111111,\"#46039f\"],[0.2222222222222222,\"#7201a8\"],[0.3333333333333333,\"#9c179e\"],[0.4444444444444444,\"#bd3786\"],[0.5555555555555556,\"#d8576b\"],[0.6666666666666666,\"#ed7953\"],[0.7777777777777778,\"#fb9f3a\"],[0.8888888888888888,\"#fdca26\"],[1.0,\"#f0f921\"]],\"type\":\"contour\"}],\"heatmapgl\":[{\"colorbar\":{\"outlinewidth\":0,\"ticks\":\"\"},\"colorscale\":[[0.0,\"#0d0887\"],[0.1111111111111111,\"#46039f\"],[0.2222222222222222,\"#7201a8\"],[0.3333333333333333,\"#9c179e\"],[0.4444444444444444,\"#bd3786\"],[0.5555555555555556,\"#d8576b\"],[0.6666666666666666,\"#ed7953\"],[0.7777777777777778,\"#fb9f3a\"],[0.8888888888888888,\"#fdca26\"],[1.0,\"#f0f921\"]],\"type\":\"heatmapgl\"}],\"heatmap\":[{\"colorbar\":{\"outlinewidth\":0,\"ticks\":\"\"},\"colorscale\":[[0.0,\"#0d0887\"],[0.1111111111111111,\"#46039f\"],[0.2222222222222222,\"#7201a8\"],[0.3333333333333333,\"#9c179e\"],[0.4444444444444444,\"#bd3786\"],[0.5555555555555556,\"#d8576b\"],[0.6666666666666666,\"#ed7953\"],[0.7777777777777778,\"#fb9f3a\"],[0.8888888888888888,\"#fdca26\"],[1.0,\"#f0f921\"]],\"type\":\"heatmap\"}],\"histogram2dcontour\":[{\"colorbar\":{\"outlinewidth\":0,\"ticks\":\"\"},\"colorscale\":[[0.0,\"#0d0887\"],[0.1111111111111111,\"#46039f\"],[0.2222222222222222,\"#7201a8\"],[0.3333333333333333,\"#9c179e\"],[0.4444444444444444,\"#bd3786\"],[0.5555555555555556,\"#d8576b\"],[0.6666666666666666,\"#ed7953\"],[0.7777777777777778,\"#fb9f3a\"],[0.8888888888888888,\"#fdca26\"],[1.0,\"#f0f921\"]],\"type\":\"histogram2dcontour\"}],\"histogram2d\":[{\"colorbar\":{\"outlinewidth\":0,\"ticks\":\"\"},\"colorscale\":[[0.0,\"#0d0887\"],[0.1111111111111111,\"#46039f\"],[0.2222222222222222,\"#7201a8\"],[0.3333333333333333,\"#9c179e\"],[0.4444444444444444,\"#bd3786\"],[0.5555555555555556,\"#d8576b\"],[0.6666666666666666,\"#ed7953\"],[0.7777777777777778,\"#fb9f3a\"],[0.8888888888888888,\"#fdca26\"],[1.0,\"#f0f921\"]],\"type\":\"histogram2d\"}],\"histogram\":[{\"marker\":{\"pattern\":{\"fillmode\":\"overlay\",\"size\":10,\"solidity\":0.2}},\"type\":\"histogram\"}],\"mesh3d\":[{\"colorbar\":{\"outlinewidth\":0,\"ticks\":\"\"},\"type\":\"mesh3d\"}],\"parcoords\":[{\"line\":{\"colorbar\":{\"outlinewidth\":0,\"ticks\":\"\"}},\"type\":\"parcoords\"}],\"pie\":[{\"automargin\":true,\"type\":\"pie\"}],\"scatter3d\":[{\"line\":{\"colorbar\":{\"outlinewidth\":0,\"ticks\":\"\"}},\"marker\":{\"colorbar\":{\"outlinewidth\":0,\"ticks\":\"\"}},\"type\":\"scatter3d\"}],\"scattercarpet\":[{\"marker\":{\"colorbar\":{\"outlinewidth\":0,\"ticks\":\"\"}},\"type\":\"scattercarpet\"}],\"scattergeo\":[{\"marker\":{\"colorbar\":{\"outlinewidth\":0,\"ticks\":\"\"}},\"type\":\"scattergeo\"}],\"scattergl\":[{\"marker\":{\"colorbar\":{\"outlinewidth\":0,\"ticks\":\"\"}},\"type\":\"scattergl\"}],\"scattermapbox\":[{\"marker\":{\"colorbar\":{\"outlinewidth\":0,\"ticks\":\"\"}},\"type\":\"scattermapbox\"}],\"scatterpolargl\":[{\"marker\":{\"colorbar\":{\"outlinewidth\":0,\"ticks\":\"\"}},\"type\":\"scatterpolargl\"}],\"scatterpolar\":[{\"marker\":{\"colorbar\":{\"outlinewidth\":0,\"ticks\":\"\"}},\"type\":\"scatterpolar\"}],\"scatter\":[{\"marker\":{\"colorbar\":{\"outlinewidth\":0,\"ticks\":\"\"}},\"type\":\"scatter\"}],\"scatterternary\":[{\"marker\":{\"colorbar\":{\"outlinewidth\":0,\"ticks\":\"\"}},\"type\":\"scatterternary\"}],\"surface\":[{\"colorbar\":{\"outlinewidth\":0,\"ticks\":\"\"},\"colorscale\":[[0.0,\"#0d0887\"],[0.1111111111111111,\"#46039f\"],[0.2222222222222222,\"#7201a8\"],[0.3333333333333333,\"#9c179e\"],[0.4444444444444444,\"#bd3786\"],[0.5555555555555556,\"#d8576b\"],[0.6666666666666666,\"#ed7953\"],[0.7777777777777778,\"#fb9f3a\"],[0.8888888888888888,\"#fdca26\"],[1.0,\"#f0f921\"]],\"type\":\"surface\"}],\"table\":[{\"cells\":{\"fill\":{\"color\":\"#EBF0F8\"},\"line\":{\"color\":\"white\"}},\"header\":{\"fill\":{\"color\":\"#C8D4E3\"},\"line\":{\"color\":\"white\"}},\"type\":\"table\"}]},\"layout\":{\"annotationdefaults\":{\"arrowcolor\":\"#2a3f5f\",\"arrowhead\":0,\"arrowwidth\":1},\"autotypenumbers\":\"strict\",\"coloraxis\":{\"colorbar\":{\"outlinewidth\":0,\"ticks\":\"\"}},\"colorscale\":{\"diverging\":[[0,\"#8e0152\"],[0.1,\"#c51b7d\"],[0.2,\"#de77ae\"],[0.3,\"#f1b6da\"],[0.4,\"#fde0ef\"],[0.5,\"#f7f7f7\"],[0.6,\"#e6f5d0\"],[0.7,\"#b8e186\"],[0.8,\"#7fbc41\"],[0.9,\"#4d9221\"],[1,\"#276419\"]],\"sequential\":[[0.0,\"#0d0887\"],[0.1111111111111111,\"#46039f\"],[0.2222222222222222,\"#7201a8\"],[0.3333333333333333,\"#9c179e\"],[0.4444444444444444,\"#bd3786\"],[0.5555555555555556,\"#d8576b\"],[0.6666666666666666,\"#ed7953\"],[0.7777777777777778,\"#fb9f3a\"],[0.8888888888888888,\"#fdca26\"],[1.0,\"#f0f921\"]],\"sequentialminus\":[[0.0,\"#0d0887\"],[0.1111111111111111,\"#46039f\"],[0.2222222222222222,\"#7201a8\"],[0.3333333333333333,\"#9c179e\"],[0.4444444444444444,\"#bd3786\"],[0.5555555555555556,\"#d8576b\"],[0.6666666666666666,\"#ed7953\"],[0.7777777777777778,\"#fb9f3a\"],[0.8888888888888888,\"#fdca26\"],[1.0,\"#f0f921\"]]},\"colorway\":[\"#636efa\",\"#EF553B\",\"#00cc96\",\"#ab63fa\",\"#FFA15A\",\"#19d3f3\",\"#FF6692\",\"#B6E880\",\"#FF97FF\",\"#FECB52\"],\"font\":{\"color\":\"#2a3f5f\"},\"geo\":{\"bgcolor\":\"white\",\"lakecolor\":\"white\",\"landcolor\":\"#E5ECF6\",\"showlakes\":true,\"showland\":true,\"subunitcolor\":\"white\"},\"hoverlabel\":{\"align\":\"left\"},\"hovermode\":\"closest\",\"mapbox\":{\"style\":\"light\"},\"paper_bgcolor\":\"white\",\"plot_bgcolor\":\"#E5ECF6\",\"polar\":{\"angularaxis\":{\"gridcolor\":\"white\",\"linecolor\":\"white\",\"ticks\":\"\"},\"bgcolor\":\"#E5ECF6\",\"radialaxis\":{\"gridcolor\":\"white\",\"linecolor\":\"white\",\"ticks\":\"\"}},\"scene\":{\"xaxis\":{\"backgroundcolor\":\"#E5ECF6\",\"gridcolor\":\"white\",\"gridwidth\":2,\"linecolor\":\"white\",\"showbackground\":true,\"ticks\":\"\",\"zerolinecolor\":\"white\"},\"yaxis\":{\"backgroundcolor\":\"#E5ECF6\",\"gridcolor\":\"white\",\"gridwidth\":2,\"linecolor\":\"white\",\"showbackground\":true,\"ticks\":\"\",\"zerolinecolor\":\"white\"},\"zaxis\":{\"backgroundcolor\":\"#E5ECF6\",\"gridcolor\":\"white\",\"gridwidth\":2,\"linecolor\":\"white\",\"showbackground\":true,\"ticks\":\"\",\"zerolinecolor\":\"white\"}},\"shapedefaults\":{\"line\":{\"color\":\"#2a3f5f\"}},\"ternary\":{\"aaxis\":{\"gridcolor\":\"white\",\"linecolor\":\"white\",\"ticks\":\"\"},\"baxis\":{\"gridcolor\":\"white\",\"linecolor\":\"white\",\"ticks\":\"\"},\"bgcolor\":\"#E5ECF6\",\"caxis\":{\"gridcolor\":\"white\",\"linecolor\":\"white\",\"ticks\":\"\"}},\"title\":{\"x\":0.05},\"xaxis\":{\"automargin\":true,\"gridcolor\":\"white\",\"linecolor\":\"white\",\"ticks\":\"\",\"title\":{\"standoff\":15},\"zerolinecolor\":\"white\",\"zerolinewidth\":2},\"yaxis\":{\"automargin\":true,\"gridcolor\":\"white\",\"linecolor\":\"white\",\"ticks\":\"\",\"title\":{\"standoff\":15},\"zerolinecolor\":\"white\",\"zerolinewidth\":2}}},\"title\":{\"font\":{\"color\":\"#4D5663\"}},\"xaxis\":{\"gridcolor\":\"#E1E5ED\",\"showgrid\":true,\"tickfont\":{\"color\":\"#4D5663\"},\"title\":{\"font\":{\"color\":\"#4D5663\"},\"text\":\"\"},\"zerolinecolor\":\"#E1E5ED\"},\"yaxis\":{\"gridcolor\":\"#E1E5ED\",\"showgrid\":true,\"tickfont\":{\"color\":\"#4D5663\"},\"title\":{\"font\":{\"color\":\"#4D5663\"},\"text\":\"\"},\"zerolinecolor\":\"#E1E5ED\"}},                        {\"showLink\": true, \"linkText\": \"Export to plot.ly\", \"plotlyServerURL\": \"https://plot.ly\", \"responsive\": true}                    ).then(function(){\n",
       "                            \n",
       "var gd = document.getElementById('128802f7-c029-4283-ad26-a2688ecc17a0');\n",
       "var x = new MutationObserver(function (mutations, observer) {{\n",
       "        var display = window.getComputedStyle(gd).display;\n",
       "        if (!display || display === 'none') {{\n",
       "            console.log([gd, 'removed!']);\n",
       "            Plotly.purge(gd);\n",
       "            observer.disconnect();\n",
       "        }}\n",
       "}});\n",
       "\n",
       "// Listen for the removal of the full notebook cells\n",
       "var notebookContainer = gd.closest('#notebook-container');\n",
       "if (notebookContainer) {{\n",
       "    x.observe(notebookContainer, {childList: true});\n",
       "}}\n",
       "\n",
       "// Listen for the clearing of the current output cell\n",
       "var outputEl = gd.closest('.output');\n",
       "if (outputEl) {{\n",
       "    x.observe(outputEl, {childList: true});\n",
       "}}\n",
       "\n",
       "                        })                };                });            </script>        </div>"
      ]
     },
     "metadata": {},
     "output_type": "display_data"
    }
   ],
   "source": [
    "# Scatter Plot\n",
    "df.iplot(kind='scatter',x='A',y='B',mode='markers')"
   ]
  },
  {
   "cell_type": "code",
   "execution_count": 13,
   "id": "e9bd4e50",
   "metadata": {},
   "outputs": [
    {
     "data": {
      "application/vnd.plotly.v1+json": {
       "config": {
        "linkText": "Export to plot.ly",
        "plotlyServerURL": "https://plot.ly",
        "showLink": true
       },
       "data": [
        {
         "marker": {
          "color": "rgba(255, 153, 51, 0.6)",
          "line": {
           "color": "rgba(255, 153, 51, 1.0)",
           "width": 1
          }
         },
         "name": "Values",
         "orientation": "v",
         "text": "",
         "type": "bar",
         "x": [
          "A",
          "B",
          "C"
         ],
         "y": [
          32,
          43,
          50
         ]
        }
       ],
       "layout": {
        "legend": {
         "bgcolor": "#F5F6F9",
         "font": {
          "color": "#4D5663"
         }
        },
        "paper_bgcolor": "#F5F6F9",
        "plot_bgcolor": "#F5F6F9",
        "template": {
         "data": {
          "bar": [
           {
            "error_x": {
             "color": "#2a3f5f"
            },
            "error_y": {
             "color": "#2a3f5f"
            },
            "marker": {
             "line": {
              "color": "#E5ECF6",
              "width": 0.5
             },
             "pattern": {
              "fillmode": "overlay",
              "size": 10,
              "solidity": 0.2
             }
            },
            "type": "bar"
           }
          ],
          "barpolar": [
           {
            "marker": {
             "line": {
              "color": "#E5ECF6",
              "width": 0.5
             },
             "pattern": {
              "fillmode": "overlay",
              "size": 10,
              "solidity": 0.2
             }
            },
            "type": "barpolar"
           }
          ],
          "carpet": [
           {
            "aaxis": {
             "endlinecolor": "#2a3f5f",
             "gridcolor": "white",
             "linecolor": "white",
             "minorgridcolor": "white",
             "startlinecolor": "#2a3f5f"
            },
            "baxis": {
             "endlinecolor": "#2a3f5f",
             "gridcolor": "white",
             "linecolor": "white",
             "minorgridcolor": "white",
             "startlinecolor": "#2a3f5f"
            },
            "type": "carpet"
           }
          ],
          "choropleth": [
           {
            "colorbar": {
             "outlinewidth": 0,
             "ticks": ""
            },
            "type": "choropleth"
           }
          ],
          "contour": [
           {
            "colorbar": {
             "outlinewidth": 0,
             "ticks": ""
            },
            "colorscale": [
             [
              0,
              "#0d0887"
             ],
             [
              0.1111111111111111,
              "#46039f"
             ],
             [
              0.2222222222222222,
              "#7201a8"
             ],
             [
              0.3333333333333333,
              "#9c179e"
             ],
             [
              0.4444444444444444,
              "#bd3786"
             ],
             [
              0.5555555555555556,
              "#d8576b"
             ],
             [
              0.6666666666666666,
              "#ed7953"
             ],
             [
              0.7777777777777778,
              "#fb9f3a"
             ],
             [
              0.8888888888888888,
              "#fdca26"
             ],
             [
              1,
              "#f0f921"
             ]
            ],
            "type": "contour"
           }
          ],
          "contourcarpet": [
           {
            "colorbar": {
             "outlinewidth": 0,
             "ticks": ""
            },
            "type": "contourcarpet"
           }
          ],
          "heatmap": [
           {
            "colorbar": {
             "outlinewidth": 0,
             "ticks": ""
            },
            "colorscale": [
             [
              0,
              "#0d0887"
             ],
             [
              0.1111111111111111,
              "#46039f"
             ],
             [
              0.2222222222222222,
              "#7201a8"
             ],
             [
              0.3333333333333333,
              "#9c179e"
             ],
             [
              0.4444444444444444,
              "#bd3786"
             ],
             [
              0.5555555555555556,
              "#d8576b"
             ],
             [
              0.6666666666666666,
              "#ed7953"
             ],
             [
              0.7777777777777778,
              "#fb9f3a"
             ],
             [
              0.8888888888888888,
              "#fdca26"
             ],
             [
              1,
              "#f0f921"
             ]
            ],
            "type": "heatmap"
           }
          ],
          "heatmapgl": [
           {
            "colorbar": {
             "outlinewidth": 0,
             "ticks": ""
            },
            "colorscale": [
             [
              0,
              "#0d0887"
             ],
             [
              0.1111111111111111,
              "#46039f"
             ],
             [
              0.2222222222222222,
              "#7201a8"
             ],
             [
              0.3333333333333333,
              "#9c179e"
             ],
             [
              0.4444444444444444,
              "#bd3786"
             ],
             [
              0.5555555555555556,
              "#d8576b"
             ],
             [
              0.6666666666666666,
              "#ed7953"
             ],
             [
              0.7777777777777778,
              "#fb9f3a"
             ],
             [
              0.8888888888888888,
              "#fdca26"
             ],
             [
              1,
              "#f0f921"
             ]
            ],
            "type": "heatmapgl"
           }
          ],
          "histogram": [
           {
            "marker": {
             "pattern": {
              "fillmode": "overlay",
              "size": 10,
              "solidity": 0.2
             }
            },
            "type": "histogram"
           }
          ],
          "histogram2d": [
           {
            "colorbar": {
             "outlinewidth": 0,
             "ticks": ""
            },
            "colorscale": [
             [
              0,
              "#0d0887"
             ],
             [
              0.1111111111111111,
              "#46039f"
             ],
             [
              0.2222222222222222,
              "#7201a8"
             ],
             [
              0.3333333333333333,
              "#9c179e"
             ],
             [
              0.4444444444444444,
              "#bd3786"
             ],
             [
              0.5555555555555556,
              "#d8576b"
             ],
             [
              0.6666666666666666,
              "#ed7953"
             ],
             [
              0.7777777777777778,
              "#fb9f3a"
             ],
             [
              0.8888888888888888,
              "#fdca26"
             ],
             [
              1,
              "#f0f921"
             ]
            ],
            "type": "histogram2d"
           }
          ],
          "histogram2dcontour": [
           {
            "colorbar": {
             "outlinewidth": 0,
             "ticks": ""
            },
            "colorscale": [
             [
              0,
              "#0d0887"
             ],
             [
              0.1111111111111111,
              "#46039f"
             ],
             [
              0.2222222222222222,
              "#7201a8"
             ],
             [
              0.3333333333333333,
              "#9c179e"
             ],
             [
              0.4444444444444444,
              "#bd3786"
             ],
             [
              0.5555555555555556,
              "#d8576b"
             ],
             [
              0.6666666666666666,
              "#ed7953"
             ],
             [
              0.7777777777777778,
              "#fb9f3a"
             ],
             [
              0.8888888888888888,
              "#fdca26"
             ],
             [
              1,
              "#f0f921"
             ]
            ],
            "type": "histogram2dcontour"
           }
          ],
          "mesh3d": [
           {
            "colorbar": {
             "outlinewidth": 0,
             "ticks": ""
            },
            "type": "mesh3d"
           }
          ],
          "parcoords": [
           {
            "line": {
             "colorbar": {
              "outlinewidth": 0,
              "ticks": ""
             }
            },
            "type": "parcoords"
           }
          ],
          "pie": [
           {
            "automargin": true,
            "type": "pie"
           }
          ],
          "scatter": [
           {
            "marker": {
             "colorbar": {
              "outlinewidth": 0,
              "ticks": ""
             }
            },
            "type": "scatter"
           }
          ],
          "scatter3d": [
           {
            "line": {
             "colorbar": {
              "outlinewidth": 0,
              "ticks": ""
             }
            },
            "marker": {
             "colorbar": {
              "outlinewidth": 0,
              "ticks": ""
             }
            },
            "type": "scatter3d"
           }
          ],
          "scattercarpet": [
           {
            "marker": {
             "colorbar": {
              "outlinewidth": 0,
              "ticks": ""
             }
            },
            "type": "scattercarpet"
           }
          ],
          "scattergeo": [
           {
            "marker": {
             "colorbar": {
              "outlinewidth": 0,
              "ticks": ""
             }
            },
            "type": "scattergeo"
           }
          ],
          "scattergl": [
           {
            "marker": {
             "colorbar": {
              "outlinewidth": 0,
              "ticks": ""
             }
            },
            "type": "scattergl"
           }
          ],
          "scattermapbox": [
           {
            "marker": {
             "colorbar": {
              "outlinewidth": 0,
              "ticks": ""
             }
            },
            "type": "scattermapbox"
           }
          ],
          "scatterpolar": [
           {
            "marker": {
             "colorbar": {
              "outlinewidth": 0,
              "ticks": ""
             }
            },
            "type": "scatterpolar"
           }
          ],
          "scatterpolargl": [
           {
            "marker": {
             "colorbar": {
              "outlinewidth": 0,
              "ticks": ""
             }
            },
            "type": "scatterpolargl"
           }
          ],
          "scatterternary": [
           {
            "marker": {
             "colorbar": {
              "outlinewidth": 0,
              "ticks": ""
             }
            },
            "type": "scatterternary"
           }
          ],
          "surface": [
           {
            "colorbar": {
             "outlinewidth": 0,
             "ticks": ""
            },
            "colorscale": [
             [
              0,
              "#0d0887"
             ],
             [
              0.1111111111111111,
              "#46039f"
             ],
             [
              0.2222222222222222,
              "#7201a8"
             ],
             [
              0.3333333333333333,
              "#9c179e"
             ],
             [
              0.4444444444444444,
              "#bd3786"
             ],
             [
              0.5555555555555556,
              "#d8576b"
             ],
             [
              0.6666666666666666,
              "#ed7953"
             ],
             [
              0.7777777777777778,
              "#fb9f3a"
             ],
             [
              0.8888888888888888,
              "#fdca26"
             ],
             [
              1,
              "#f0f921"
             ]
            ],
            "type": "surface"
           }
          ],
          "table": [
           {
            "cells": {
             "fill": {
              "color": "#EBF0F8"
             },
             "line": {
              "color": "white"
             }
            },
            "header": {
             "fill": {
              "color": "#C8D4E3"
             },
             "line": {
              "color": "white"
             }
            },
            "type": "table"
           }
          ]
         },
         "layout": {
          "annotationdefaults": {
           "arrowcolor": "#2a3f5f",
           "arrowhead": 0,
           "arrowwidth": 1
          },
          "autotypenumbers": "strict",
          "coloraxis": {
           "colorbar": {
            "outlinewidth": 0,
            "ticks": ""
           }
          },
          "colorscale": {
           "diverging": [
            [
             0,
             "#8e0152"
            ],
            [
             0.1,
             "#c51b7d"
            ],
            [
             0.2,
             "#de77ae"
            ],
            [
             0.3,
             "#f1b6da"
            ],
            [
             0.4,
             "#fde0ef"
            ],
            [
             0.5,
             "#f7f7f7"
            ],
            [
             0.6,
             "#e6f5d0"
            ],
            [
             0.7,
             "#b8e186"
            ],
            [
             0.8,
             "#7fbc41"
            ],
            [
             0.9,
             "#4d9221"
            ],
            [
             1,
             "#276419"
            ]
           ],
           "sequential": [
            [
             0,
             "#0d0887"
            ],
            [
             0.1111111111111111,
             "#46039f"
            ],
            [
             0.2222222222222222,
             "#7201a8"
            ],
            [
             0.3333333333333333,
             "#9c179e"
            ],
            [
             0.4444444444444444,
             "#bd3786"
            ],
            [
             0.5555555555555556,
             "#d8576b"
            ],
            [
             0.6666666666666666,
             "#ed7953"
            ],
            [
             0.7777777777777778,
             "#fb9f3a"
            ],
            [
             0.8888888888888888,
             "#fdca26"
            ],
            [
             1,
             "#f0f921"
            ]
           ],
           "sequentialminus": [
            [
             0,
             "#0d0887"
            ],
            [
             0.1111111111111111,
             "#46039f"
            ],
            [
             0.2222222222222222,
             "#7201a8"
            ],
            [
             0.3333333333333333,
             "#9c179e"
            ],
            [
             0.4444444444444444,
             "#bd3786"
            ],
            [
             0.5555555555555556,
             "#d8576b"
            ],
            [
             0.6666666666666666,
             "#ed7953"
            ],
            [
             0.7777777777777778,
             "#fb9f3a"
            ],
            [
             0.8888888888888888,
             "#fdca26"
            ],
            [
             1,
             "#f0f921"
            ]
           ]
          },
          "colorway": [
           "#636efa",
           "#EF553B",
           "#00cc96",
           "#ab63fa",
           "#FFA15A",
           "#19d3f3",
           "#FF6692",
           "#B6E880",
           "#FF97FF",
           "#FECB52"
          ],
          "font": {
           "color": "#2a3f5f"
          },
          "geo": {
           "bgcolor": "white",
           "lakecolor": "white",
           "landcolor": "#E5ECF6",
           "showlakes": true,
           "showland": true,
           "subunitcolor": "white"
          },
          "hoverlabel": {
           "align": "left"
          },
          "hovermode": "closest",
          "mapbox": {
           "style": "light"
          },
          "paper_bgcolor": "white",
          "plot_bgcolor": "#E5ECF6",
          "polar": {
           "angularaxis": {
            "gridcolor": "white",
            "linecolor": "white",
            "ticks": ""
           },
           "bgcolor": "#E5ECF6",
           "radialaxis": {
            "gridcolor": "white",
            "linecolor": "white",
            "ticks": ""
           }
          },
          "scene": {
           "xaxis": {
            "backgroundcolor": "#E5ECF6",
            "gridcolor": "white",
            "gridwidth": 2,
            "linecolor": "white",
            "showbackground": true,
            "ticks": "",
            "zerolinecolor": "white"
           },
           "yaxis": {
            "backgroundcolor": "#E5ECF6",
            "gridcolor": "white",
            "gridwidth": 2,
            "linecolor": "white",
            "showbackground": true,
            "ticks": "",
            "zerolinecolor": "white"
           },
           "zaxis": {
            "backgroundcolor": "#E5ECF6",
            "gridcolor": "white",
            "gridwidth": 2,
            "linecolor": "white",
            "showbackground": true,
            "ticks": "",
            "zerolinecolor": "white"
           }
          },
          "shapedefaults": {
           "line": {
            "color": "#2a3f5f"
           }
          },
          "ternary": {
           "aaxis": {
            "gridcolor": "white",
            "linecolor": "white",
            "ticks": ""
           },
           "baxis": {
            "gridcolor": "white",
            "linecolor": "white",
            "ticks": ""
           },
           "bgcolor": "#E5ECF6",
           "caxis": {
            "gridcolor": "white",
            "linecolor": "white",
            "ticks": ""
           }
          },
          "title": {
           "x": 0.05
          },
          "xaxis": {
           "automargin": true,
           "gridcolor": "white",
           "linecolor": "white",
           "ticks": "",
           "title": {
            "standoff": 15
           },
           "zerolinecolor": "white",
           "zerolinewidth": 2
          },
          "yaxis": {
           "automargin": true,
           "gridcolor": "white",
           "linecolor": "white",
           "ticks": "",
           "title": {
            "standoff": 15
           },
           "zerolinecolor": "white",
           "zerolinewidth": 2
          }
         }
        },
        "title": {
         "font": {
          "color": "#4D5663"
         }
        },
        "xaxis": {
         "gridcolor": "#E1E5ED",
         "showgrid": true,
         "tickfont": {
          "color": "#4D5663"
         },
         "title": {
          "font": {
           "color": "#4D5663"
          },
          "text": ""
         },
         "zerolinecolor": "#E1E5ED"
        },
        "yaxis": {
         "gridcolor": "#E1E5ED",
         "showgrid": true,
         "tickfont": {
          "color": "#4D5663"
         },
         "title": {
          "font": {
           "color": "#4D5663"
          },
          "text": ""
         },
         "zerolinecolor": "#E1E5ED"
        }
       }
      },
      "text/html": [
       "<div>                            <div id=\"59d1a292-ea6b-4b72-b510-fa70520e5fb0\" class=\"plotly-graph-div\" style=\"height:525px; width:100%;\"></div>            <script type=\"text/javascript\">                require([\"plotly\"], function(Plotly) {                    window.PLOTLYENV=window.PLOTLYENV || {};\n",
       "                    window.PLOTLYENV.BASE_URL='https://plot.ly';                                    if (document.getElementById(\"59d1a292-ea6b-4b72-b510-fa70520e5fb0\")) {                    Plotly.newPlot(                        \"59d1a292-ea6b-4b72-b510-fa70520e5fb0\",                        [{\"marker\":{\"color\":\"rgba(255, 153, 51, 0.6)\",\"line\":{\"color\":\"rgba(255, 153, 51, 1.0)\",\"width\":1}},\"name\":\"Values\",\"orientation\":\"v\",\"text\":\"\",\"x\":[\"A\",\"B\",\"C\"],\"y\":[32,43,50],\"type\":\"bar\"}],                        {\"legend\":{\"bgcolor\":\"#F5F6F9\",\"font\":{\"color\":\"#4D5663\"}},\"paper_bgcolor\":\"#F5F6F9\",\"plot_bgcolor\":\"#F5F6F9\",\"template\":{\"data\":{\"barpolar\":[{\"marker\":{\"line\":{\"color\":\"#E5ECF6\",\"width\":0.5},\"pattern\":{\"fillmode\":\"overlay\",\"size\":10,\"solidity\":0.2}},\"type\":\"barpolar\"}],\"bar\":[{\"error_x\":{\"color\":\"#2a3f5f\"},\"error_y\":{\"color\":\"#2a3f5f\"},\"marker\":{\"line\":{\"color\":\"#E5ECF6\",\"width\":0.5},\"pattern\":{\"fillmode\":\"overlay\",\"size\":10,\"solidity\":0.2}},\"type\":\"bar\"}],\"carpet\":[{\"aaxis\":{\"endlinecolor\":\"#2a3f5f\",\"gridcolor\":\"white\",\"linecolor\":\"white\",\"minorgridcolor\":\"white\",\"startlinecolor\":\"#2a3f5f\"},\"baxis\":{\"endlinecolor\":\"#2a3f5f\",\"gridcolor\":\"white\",\"linecolor\":\"white\",\"minorgridcolor\":\"white\",\"startlinecolor\":\"#2a3f5f\"},\"type\":\"carpet\"}],\"choropleth\":[{\"colorbar\":{\"outlinewidth\":0,\"ticks\":\"\"},\"type\":\"choropleth\"}],\"contourcarpet\":[{\"colorbar\":{\"outlinewidth\":0,\"ticks\":\"\"},\"type\":\"contourcarpet\"}],\"contour\":[{\"colorbar\":{\"outlinewidth\":0,\"ticks\":\"\"},\"colorscale\":[[0.0,\"#0d0887\"],[0.1111111111111111,\"#46039f\"],[0.2222222222222222,\"#7201a8\"],[0.3333333333333333,\"#9c179e\"],[0.4444444444444444,\"#bd3786\"],[0.5555555555555556,\"#d8576b\"],[0.6666666666666666,\"#ed7953\"],[0.7777777777777778,\"#fb9f3a\"],[0.8888888888888888,\"#fdca26\"],[1.0,\"#f0f921\"]],\"type\":\"contour\"}],\"heatmapgl\":[{\"colorbar\":{\"outlinewidth\":0,\"ticks\":\"\"},\"colorscale\":[[0.0,\"#0d0887\"],[0.1111111111111111,\"#46039f\"],[0.2222222222222222,\"#7201a8\"],[0.3333333333333333,\"#9c179e\"],[0.4444444444444444,\"#bd3786\"],[0.5555555555555556,\"#d8576b\"],[0.6666666666666666,\"#ed7953\"],[0.7777777777777778,\"#fb9f3a\"],[0.8888888888888888,\"#fdca26\"],[1.0,\"#f0f921\"]],\"type\":\"heatmapgl\"}],\"heatmap\":[{\"colorbar\":{\"outlinewidth\":0,\"ticks\":\"\"},\"colorscale\":[[0.0,\"#0d0887\"],[0.1111111111111111,\"#46039f\"],[0.2222222222222222,\"#7201a8\"],[0.3333333333333333,\"#9c179e\"],[0.4444444444444444,\"#bd3786\"],[0.5555555555555556,\"#d8576b\"],[0.6666666666666666,\"#ed7953\"],[0.7777777777777778,\"#fb9f3a\"],[0.8888888888888888,\"#fdca26\"],[1.0,\"#f0f921\"]],\"type\":\"heatmap\"}],\"histogram2dcontour\":[{\"colorbar\":{\"outlinewidth\":0,\"ticks\":\"\"},\"colorscale\":[[0.0,\"#0d0887\"],[0.1111111111111111,\"#46039f\"],[0.2222222222222222,\"#7201a8\"],[0.3333333333333333,\"#9c179e\"],[0.4444444444444444,\"#bd3786\"],[0.5555555555555556,\"#d8576b\"],[0.6666666666666666,\"#ed7953\"],[0.7777777777777778,\"#fb9f3a\"],[0.8888888888888888,\"#fdca26\"],[1.0,\"#f0f921\"]],\"type\":\"histogram2dcontour\"}],\"histogram2d\":[{\"colorbar\":{\"outlinewidth\":0,\"ticks\":\"\"},\"colorscale\":[[0.0,\"#0d0887\"],[0.1111111111111111,\"#46039f\"],[0.2222222222222222,\"#7201a8\"],[0.3333333333333333,\"#9c179e\"],[0.4444444444444444,\"#bd3786\"],[0.5555555555555556,\"#d8576b\"],[0.6666666666666666,\"#ed7953\"],[0.7777777777777778,\"#fb9f3a\"],[0.8888888888888888,\"#fdca26\"],[1.0,\"#f0f921\"]],\"type\":\"histogram2d\"}],\"histogram\":[{\"marker\":{\"pattern\":{\"fillmode\":\"overlay\",\"size\":10,\"solidity\":0.2}},\"type\":\"histogram\"}],\"mesh3d\":[{\"colorbar\":{\"outlinewidth\":0,\"ticks\":\"\"},\"type\":\"mesh3d\"}],\"parcoords\":[{\"line\":{\"colorbar\":{\"outlinewidth\":0,\"ticks\":\"\"}},\"type\":\"parcoords\"}],\"pie\":[{\"automargin\":true,\"type\":\"pie\"}],\"scatter3d\":[{\"line\":{\"colorbar\":{\"outlinewidth\":0,\"ticks\":\"\"}},\"marker\":{\"colorbar\":{\"outlinewidth\":0,\"ticks\":\"\"}},\"type\":\"scatter3d\"}],\"scattercarpet\":[{\"marker\":{\"colorbar\":{\"outlinewidth\":0,\"ticks\":\"\"}},\"type\":\"scattercarpet\"}],\"scattergeo\":[{\"marker\":{\"colorbar\":{\"outlinewidth\":0,\"ticks\":\"\"}},\"type\":\"scattergeo\"}],\"scattergl\":[{\"marker\":{\"colorbar\":{\"outlinewidth\":0,\"ticks\":\"\"}},\"type\":\"scattergl\"}],\"scattermapbox\":[{\"marker\":{\"colorbar\":{\"outlinewidth\":0,\"ticks\":\"\"}},\"type\":\"scattermapbox\"}],\"scatterpolargl\":[{\"marker\":{\"colorbar\":{\"outlinewidth\":0,\"ticks\":\"\"}},\"type\":\"scatterpolargl\"}],\"scatterpolar\":[{\"marker\":{\"colorbar\":{\"outlinewidth\":0,\"ticks\":\"\"}},\"type\":\"scatterpolar\"}],\"scatter\":[{\"marker\":{\"colorbar\":{\"outlinewidth\":0,\"ticks\":\"\"}},\"type\":\"scatter\"}],\"scatterternary\":[{\"marker\":{\"colorbar\":{\"outlinewidth\":0,\"ticks\":\"\"}},\"type\":\"scatterternary\"}],\"surface\":[{\"colorbar\":{\"outlinewidth\":0,\"ticks\":\"\"},\"colorscale\":[[0.0,\"#0d0887\"],[0.1111111111111111,\"#46039f\"],[0.2222222222222222,\"#7201a8\"],[0.3333333333333333,\"#9c179e\"],[0.4444444444444444,\"#bd3786\"],[0.5555555555555556,\"#d8576b\"],[0.6666666666666666,\"#ed7953\"],[0.7777777777777778,\"#fb9f3a\"],[0.8888888888888888,\"#fdca26\"],[1.0,\"#f0f921\"]],\"type\":\"surface\"}],\"table\":[{\"cells\":{\"fill\":{\"color\":\"#EBF0F8\"},\"line\":{\"color\":\"white\"}},\"header\":{\"fill\":{\"color\":\"#C8D4E3\"},\"line\":{\"color\":\"white\"}},\"type\":\"table\"}]},\"layout\":{\"annotationdefaults\":{\"arrowcolor\":\"#2a3f5f\",\"arrowhead\":0,\"arrowwidth\":1},\"autotypenumbers\":\"strict\",\"coloraxis\":{\"colorbar\":{\"outlinewidth\":0,\"ticks\":\"\"}},\"colorscale\":{\"diverging\":[[0,\"#8e0152\"],[0.1,\"#c51b7d\"],[0.2,\"#de77ae\"],[0.3,\"#f1b6da\"],[0.4,\"#fde0ef\"],[0.5,\"#f7f7f7\"],[0.6,\"#e6f5d0\"],[0.7,\"#b8e186\"],[0.8,\"#7fbc41\"],[0.9,\"#4d9221\"],[1,\"#276419\"]],\"sequential\":[[0.0,\"#0d0887\"],[0.1111111111111111,\"#46039f\"],[0.2222222222222222,\"#7201a8\"],[0.3333333333333333,\"#9c179e\"],[0.4444444444444444,\"#bd3786\"],[0.5555555555555556,\"#d8576b\"],[0.6666666666666666,\"#ed7953\"],[0.7777777777777778,\"#fb9f3a\"],[0.8888888888888888,\"#fdca26\"],[1.0,\"#f0f921\"]],\"sequentialminus\":[[0.0,\"#0d0887\"],[0.1111111111111111,\"#46039f\"],[0.2222222222222222,\"#7201a8\"],[0.3333333333333333,\"#9c179e\"],[0.4444444444444444,\"#bd3786\"],[0.5555555555555556,\"#d8576b\"],[0.6666666666666666,\"#ed7953\"],[0.7777777777777778,\"#fb9f3a\"],[0.8888888888888888,\"#fdca26\"],[1.0,\"#f0f921\"]]},\"colorway\":[\"#636efa\",\"#EF553B\",\"#00cc96\",\"#ab63fa\",\"#FFA15A\",\"#19d3f3\",\"#FF6692\",\"#B6E880\",\"#FF97FF\",\"#FECB52\"],\"font\":{\"color\":\"#2a3f5f\"},\"geo\":{\"bgcolor\":\"white\",\"lakecolor\":\"white\",\"landcolor\":\"#E5ECF6\",\"showlakes\":true,\"showland\":true,\"subunitcolor\":\"white\"},\"hoverlabel\":{\"align\":\"left\"},\"hovermode\":\"closest\",\"mapbox\":{\"style\":\"light\"},\"paper_bgcolor\":\"white\",\"plot_bgcolor\":\"#E5ECF6\",\"polar\":{\"angularaxis\":{\"gridcolor\":\"white\",\"linecolor\":\"white\",\"ticks\":\"\"},\"bgcolor\":\"#E5ECF6\",\"radialaxis\":{\"gridcolor\":\"white\",\"linecolor\":\"white\",\"ticks\":\"\"}},\"scene\":{\"xaxis\":{\"backgroundcolor\":\"#E5ECF6\",\"gridcolor\":\"white\",\"gridwidth\":2,\"linecolor\":\"white\",\"showbackground\":true,\"ticks\":\"\",\"zerolinecolor\":\"white\"},\"yaxis\":{\"backgroundcolor\":\"#E5ECF6\",\"gridcolor\":\"white\",\"gridwidth\":2,\"linecolor\":\"white\",\"showbackground\":true,\"ticks\":\"\",\"zerolinecolor\":\"white\"},\"zaxis\":{\"backgroundcolor\":\"#E5ECF6\",\"gridcolor\":\"white\",\"gridwidth\":2,\"linecolor\":\"white\",\"showbackground\":true,\"ticks\":\"\",\"zerolinecolor\":\"white\"}},\"shapedefaults\":{\"line\":{\"color\":\"#2a3f5f\"}},\"ternary\":{\"aaxis\":{\"gridcolor\":\"white\",\"linecolor\":\"white\",\"ticks\":\"\"},\"baxis\":{\"gridcolor\":\"white\",\"linecolor\":\"white\",\"ticks\":\"\"},\"bgcolor\":\"#E5ECF6\",\"caxis\":{\"gridcolor\":\"white\",\"linecolor\":\"white\",\"ticks\":\"\"}},\"title\":{\"x\":0.05},\"xaxis\":{\"automargin\":true,\"gridcolor\":\"white\",\"linecolor\":\"white\",\"ticks\":\"\",\"title\":{\"standoff\":15},\"zerolinecolor\":\"white\",\"zerolinewidth\":2},\"yaxis\":{\"automargin\":true,\"gridcolor\":\"white\",\"linecolor\":\"white\",\"ticks\":\"\",\"title\":{\"standoff\":15},\"zerolinecolor\":\"white\",\"zerolinewidth\":2}}},\"title\":{\"font\":{\"color\":\"#4D5663\"}},\"xaxis\":{\"gridcolor\":\"#E1E5ED\",\"showgrid\":true,\"tickfont\":{\"color\":\"#4D5663\"},\"title\":{\"font\":{\"color\":\"#4D5663\"},\"text\":\"\"},\"zerolinecolor\":\"#E1E5ED\"},\"yaxis\":{\"gridcolor\":\"#E1E5ED\",\"showgrid\":true,\"tickfont\":{\"color\":\"#4D5663\"},\"title\":{\"font\":{\"color\":\"#4D5663\"},\"text\":\"\"},\"zerolinecolor\":\"#E1E5ED\"}},                        {\"showLink\": true, \"linkText\": \"Export to plot.ly\", \"plotlyServerURL\": \"https://plot.ly\", \"responsive\": true}                    ).then(function(){\n",
       "                            \n",
       "var gd = document.getElementById('59d1a292-ea6b-4b72-b510-fa70520e5fb0');\n",
       "var x = new MutationObserver(function (mutations, observer) {{\n",
       "        var display = window.getComputedStyle(gd).display;\n",
       "        if (!display || display === 'none') {{\n",
       "            console.log([gd, 'removed!']);\n",
       "            Plotly.purge(gd);\n",
       "            observer.disconnect();\n",
       "        }}\n",
       "}});\n",
       "\n",
       "// Listen for the removal of the full notebook cells\n",
       "var notebookContainer = gd.closest('#notebook-container');\n",
       "if (notebookContainer) {{\n",
       "    x.observe(notebookContainer, {childList: true});\n",
       "}}\n",
       "\n",
       "// Listen for the clearing of the current output cell\n",
       "var outputEl = gd.closest('.output');\n",
       "if (outputEl) {{\n",
       "    x.observe(outputEl, {childList: true});\n",
       "}}\n",
       "\n",
       "                        })                };                });            </script>        </div>"
      ]
     },
     "metadata": {},
     "output_type": "display_data"
    }
   ],
   "source": [
    "# Bar Plot\n",
    "df2.iplot(kind='bar',x='Category',y='Values')"
   ]
  },
  {
   "cell_type": "code",
   "execution_count": 14,
   "id": "0acf02de",
   "metadata": {},
   "outputs": [
    {
     "data": {
      "application/vnd.plotly.v1+json": {
       "config": {
        "linkText": "Export to plot.ly",
        "plotlyServerURL": "https://plot.ly",
        "showLink": true
       },
       "data": [
        {
         "marker": {
          "color": "rgba(255, 153, 51, 0.6)",
          "line": {
           "color": "rgba(255, 153, 51, 1.0)",
           "width": 1
          }
         },
         "name": "None",
         "orientation": "v",
         "text": "",
         "type": "bar",
         "x": [
          "A",
          "B",
          "C",
          "D"
         ],
         "y": [
          3.303654183666965,
          -16.012157881191392,
          22.982794721998577,
          -3.659808868849203
         ]
        }
       ],
       "layout": {
        "legend": {
         "bgcolor": "#F5F6F9",
         "font": {
          "color": "#4D5663"
         }
        },
        "paper_bgcolor": "#F5F6F9",
        "plot_bgcolor": "#F5F6F9",
        "template": {
         "data": {
          "bar": [
           {
            "error_x": {
             "color": "#2a3f5f"
            },
            "error_y": {
             "color": "#2a3f5f"
            },
            "marker": {
             "line": {
              "color": "#E5ECF6",
              "width": 0.5
             },
             "pattern": {
              "fillmode": "overlay",
              "size": 10,
              "solidity": 0.2
             }
            },
            "type": "bar"
           }
          ],
          "barpolar": [
           {
            "marker": {
             "line": {
              "color": "#E5ECF6",
              "width": 0.5
             },
             "pattern": {
              "fillmode": "overlay",
              "size": 10,
              "solidity": 0.2
             }
            },
            "type": "barpolar"
           }
          ],
          "carpet": [
           {
            "aaxis": {
             "endlinecolor": "#2a3f5f",
             "gridcolor": "white",
             "linecolor": "white",
             "minorgridcolor": "white",
             "startlinecolor": "#2a3f5f"
            },
            "baxis": {
             "endlinecolor": "#2a3f5f",
             "gridcolor": "white",
             "linecolor": "white",
             "minorgridcolor": "white",
             "startlinecolor": "#2a3f5f"
            },
            "type": "carpet"
           }
          ],
          "choropleth": [
           {
            "colorbar": {
             "outlinewidth": 0,
             "ticks": ""
            },
            "type": "choropleth"
           }
          ],
          "contour": [
           {
            "colorbar": {
             "outlinewidth": 0,
             "ticks": ""
            },
            "colorscale": [
             [
              0,
              "#0d0887"
             ],
             [
              0.1111111111111111,
              "#46039f"
             ],
             [
              0.2222222222222222,
              "#7201a8"
             ],
             [
              0.3333333333333333,
              "#9c179e"
             ],
             [
              0.4444444444444444,
              "#bd3786"
             ],
             [
              0.5555555555555556,
              "#d8576b"
             ],
             [
              0.6666666666666666,
              "#ed7953"
             ],
             [
              0.7777777777777778,
              "#fb9f3a"
             ],
             [
              0.8888888888888888,
              "#fdca26"
             ],
             [
              1,
              "#f0f921"
             ]
            ],
            "type": "contour"
           }
          ],
          "contourcarpet": [
           {
            "colorbar": {
             "outlinewidth": 0,
             "ticks": ""
            },
            "type": "contourcarpet"
           }
          ],
          "heatmap": [
           {
            "colorbar": {
             "outlinewidth": 0,
             "ticks": ""
            },
            "colorscale": [
             [
              0,
              "#0d0887"
             ],
             [
              0.1111111111111111,
              "#46039f"
             ],
             [
              0.2222222222222222,
              "#7201a8"
             ],
             [
              0.3333333333333333,
              "#9c179e"
             ],
             [
              0.4444444444444444,
              "#bd3786"
             ],
             [
              0.5555555555555556,
              "#d8576b"
             ],
             [
              0.6666666666666666,
              "#ed7953"
             ],
             [
              0.7777777777777778,
              "#fb9f3a"
             ],
             [
              0.8888888888888888,
              "#fdca26"
             ],
             [
              1,
              "#f0f921"
             ]
            ],
            "type": "heatmap"
           }
          ],
          "heatmapgl": [
           {
            "colorbar": {
             "outlinewidth": 0,
             "ticks": ""
            },
            "colorscale": [
             [
              0,
              "#0d0887"
             ],
             [
              0.1111111111111111,
              "#46039f"
             ],
             [
              0.2222222222222222,
              "#7201a8"
             ],
             [
              0.3333333333333333,
              "#9c179e"
             ],
             [
              0.4444444444444444,
              "#bd3786"
             ],
             [
              0.5555555555555556,
              "#d8576b"
             ],
             [
              0.6666666666666666,
              "#ed7953"
             ],
             [
              0.7777777777777778,
              "#fb9f3a"
             ],
             [
              0.8888888888888888,
              "#fdca26"
             ],
             [
              1,
              "#f0f921"
             ]
            ],
            "type": "heatmapgl"
           }
          ],
          "histogram": [
           {
            "marker": {
             "pattern": {
              "fillmode": "overlay",
              "size": 10,
              "solidity": 0.2
             }
            },
            "type": "histogram"
           }
          ],
          "histogram2d": [
           {
            "colorbar": {
             "outlinewidth": 0,
             "ticks": ""
            },
            "colorscale": [
             [
              0,
              "#0d0887"
             ],
             [
              0.1111111111111111,
              "#46039f"
             ],
             [
              0.2222222222222222,
              "#7201a8"
             ],
             [
              0.3333333333333333,
              "#9c179e"
             ],
             [
              0.4444444444444444,
              "#bd3786"
             ],
             [
              0.5555555555555556,
              "#d8576b"
             ],
             [
              0.6666666666666666,
              "#ed7953"
             ],
             [
              0.7777777777777778,
              "#fb9f3a"
             ],
             [
              0.8888888888888888,
              "#fdca26"
             ],
             [
              1,
              "#f0f921"
             ]
            ],
            "type": "histogram2d"
           }
          ],
          "histogram2dcontour": [
           {
            "colorbar": {
             "outlinewidth": 0,
             "ticks": ""
            },
            "colorscale": [
             [
              0,
              "#0d0887"
             ],
             [
              0.1111111111111111,
              "#46039f"
             ],
             [
              0.2222222222222222,
              "#7201a8"
             ],
             [
              0.3333333333333333,
              "#9c179e"
             ],
             [
              0.4444444444444444,
              "#bd3786"
             ],
             [
              0.5555555555555556,
              "#d8576b"
             ],
             [
              0.6666666666666666,
              "#ed7953"
             ],
             [
              0.7777777777777778,
              "#fb9f3a"
             ],
             [
              0.8888888888888888,
              "#fdca26"
             ],
             [
              1,
              "#f0f921"
             ]
            ],
            "type": "histogram2dcontour"
           }
          ],
          "mesh3d": [
           {
            "colorbar": {
             "outlinewidth": 0,
             "ticks": ""
            },
            "type": "mesh3d"
           }
          ],
          "parcoords": [
           {
            "line": {
             "colorbar": {
              "outlinewidth": 0,
              "ticks": ""
             }
            },
            "type": "parcoords"
           }
          ],
          "pie": [
           {
            "automargin": true,
            "type": "pie"
           }
          ],
          "scatter": [
           {
            "marker": {
             "colorbar": {
              "outlinewidth": 0,
              "ticks": ""
             }
            },
            "type": "scatter"
           }
          ],
          "scatter3d": [
           {
            "line": {
             "colorbar": {
              "outlinewidth": 0,
              "ticks": ""
             }
            },
            "marker": {
             "colorbar": {
              "outlinewidth": 0,
              "ticks": ""
             }
            },
            "type": "scatter3d"
           }
          ],
          "scattercarpet": [
           {
            "marker": {
             "colorbar": {
              "outlinewidth": 0,
              "ticks": ""
             }
            },
            "type": "scattercarpet"
           }
          ],
          "scattergeo": [
           {
            "marker": {
             "colorbar": {
              "outlinewidth": 0,
              "ticks": ""
             }
            },
            "type": "scattergeo"
           }
          ],
          "scattergl": [
           {
            "marker": {
             "colorbar": {
              "outlinewidth": 0,
              "ticks": ""
             }
            },
            "type": "scattergl"
           }
          ],
          "scattermapbox": [
           {
            "marker": {
             "colorbar": {
              "outlinewidth": 0,
              "ticks": ""
             }
            },
            "type": "scattermapbox"
           }
          ],
          "scatterpolar": [
           {
            "marker": {
             "colorbar": {
              "outlinewidth": 0,
              "ticks": ""
             }
            },
            "type": "scatterpolar"
           }
          ],
          "scatterpolargl": [
           {
            "marker": {
             "colorbar": {
              "outlinewidth": 0,
              "ticks": ""
             }
            },
            "type": "scatterpolargl"
           }
          ],
          "scatterternary": [
           {
            "marker": {
             "colorbar": {
              "outlinewidth": 0,
              "ticks": ""
             }
            },
            "type": "scatterternary"
           }
          ],
          "surface": [
           {
            "colorbar": {
             "outlinewidth": 0,
             "ticks": ""
            },
            "colorscale": [
             [
              0,
              "#0d0887"
             ],
             [
              0.1111111111111111,
              "#46039f"
             ],
             [
              0.2222222222222222,
              "#7201a8"
             ],
             [
              0.3333333333333333,
              "#9c179e"
             ],
             [
              0.4444444444444444,
              "#bd3786"
             ],
             [
              0.5555555555555556,
              "#d8576b"
             ],
             [
              0.6666666666666666,
              "#ed7953"
             ],
             [
              0.7777777777777778,
              "#fb9f3a"
             ],
             [
              0.8888888888888888,
              "#fdca26"
             ],
             [
              1,
              "#f0f921"
             ]
            ],
            "type": "surface"
           }
          ],
          "table": [
           {
            "cells": {
             "fill": {
              "color": "#EBF0F8"
             },
             "line": {
              "color": "white"
             }
            },
            "header": {
             "fill": {
              "color": "#C8D4E3"
             },
             "line": {
              "color": "white"
             }
            },
            "type": "table"
           }
          ]
         },
         "layout": {
          "annotationdefaults": {
           "arrowcolor": "#2a3f5f",
           "arrowhead": 0,
           "arrowwidth": 1
          },
          "autotypenumbers": "strict",
          "coloraxis": {
           "colorbar": {
            "outlinewidth": 0,
            "ticks": ""
           }
          },
          "colorscale": {
           "diverging": [
            [
             0,
             "#8e0152"
            ],
            [
             0.1,
             "#c51b7d"
            ],
            [
             0.2,
             "#de77ae"
            ],
            [
             0.3,
             "#f1b6da"
            ],
            [
             0.4,
             "#fde0ef"
            ],
            [
             0.5,
             "#f7f7f7"
            ],
            [
             0.6,
             "#e6f5d0"
            ],
            [
             0.7,
             "#b8e186"
            ],
            [
             0.8,
             "#7fbc41"
            ],
            [
             0.9,
             "#4d9221"
            ],
            [
             1,
             "#276419"
            ]
           ],
           "sequential": [
            [
             0,
             "#0d0887"
            ],
            [
             0.1111111111111111,
             "#46039f"
            ],
            [
             0.2222222222222222,
             "#7201a8"
            ],
            [
             0.3333333333333333,
             "#9c179e"
            ],
            [
             0.4444444444444444,
             "#bd3786"
            ],
            [
             0.5555555555555556,
             "#d8576b"
            ],
            [
             0.6666666666666666,
             "#ed7953"
            ],
            [
             0.7777777777777778,
             "#fb9f3a"
            ],
            [
             0.8888888888888888,
             "#fdca26"
            ],
            [
             1,
             "#f0f921"
            ]
           ],
           "sequentialminus": [
            [
             0,
             "#0d0887"
            ],
            [
             0.1111111111111111,
             "#46039f"
            ],
            [
             0.2222222222222222,
             "#7201a8"
            ],
            [
             0.3333333333333333,
             "#9c179e"
            ],
            [
             0.4444444444444444,
             "#bd3786"
            ],
            [
             0.5555555555555556,
             "#d8576b"
            ],
            [
             0.6666666666666666,
             "#ed7953"
            ],
            [
             0.7777777777777778,
             "#fb9f3a"
            ],
            [
             0.8888888888888888,
             "#fdca26"
            ],
            [
             1,
             "#f0f921"
            ]
           ]
          },
          "colorway": [
           "#636efa",
           "#EF553B",
           "#00cc96",
           "#ab63fa",
           "#FFA15A",
           "#19d3f3",
           "#FF6692",
           "#B6E880",
           "#FF97FF",
           "#FECB52"
          ],
          "font": {
           "color": "#2a3f5f"
          },
          "geo": {
           "bgcolor": "white",
           "lakecolor": "white",
           "landcolor": "#E5ECF6",
           "showlakes": true,
           "showland": true,
           "subunitcolor": "white"
          },
          "hoverlabel": {
           "align": "left"
          },
          "hovermode": "closest",
          "mapbox": {
           "style": "light"
          },
          "paper_bgcolor": "white",
          "plot_bgcolor": "#E5ECF6",
          "polar": {
           "angularaxis": {
            "gridcolor": "white",
            "linecolor": "white",
            "ticks": ""
           },
           "bgcolor": "#E5ECF6",
           "radialaxis": {
            "gridcolor": "white",
            "linecolor": "white",
            "ticks": ""
           }
          },
          "scene": {
           "xaxis": {
            "backgroundcolor": "#E5ECF6",
            "gridcolor": "white",
            "gridwidth": 2,
            "linecolor": "white",
            "showbackground": true,
            "ticks": "",
            "zerolinecolor": "white"
           },
           "yaxis": {
            "backgroundcolor": "#E5ECF6",
            "gridcolor": "white",
            "gridwidth": 2,
            "linecolor": "white",
            "showbackground": true,
            "ticks": "",
            "zerolinecolor": "white"
           },
           "zaxis": {
            "backgroundcolor": "#E5ECF6",
            "gridcolor": "white",
            "gridwidth": 2,
            "linecolor": "white",
            "showbackground": true,
            "ticks": "",
            "zerolinecolor": "white"
           }
          },
          "shapedefaults": {
           "line": {
            "color": "#2a3f5f"
           }
          },
          "ternary": {
           "aaxis": {
            "gridcolor": "white",
            "linecolor": "white",
            "ticks": ""
           },
           "baxis": {
            "gridcolor": "white",
            "linecolor": "white",
            "ticks": ""
           },
           "bgcolor": "#E5ECF6",
           "caxis": {
            "gridcolor": "white",
            "linecolor": "white",
            "ticks": ""
           }
          },
          "title": {
           "x": 0.05
          },
          "xaxis": {
           "automargin": true,
           "gridcolor": "white",
           "linecolor": "white",
           "ticks": "",
           "title": {
            "standoff": 15
           },
           "zerolinecolor": "white",
           "zerolinewidth": 2
          },
          "yaxis": {
           "automargin": true,
           "gridcolor": "white",
           "linecolor": "white",
           "ticks": "",
           "title": {
            "standoff": 15
           },
           "zerolinecolor": "white",
           "zerolinewidth": 2
          }
         }
        },
        "title": {
         "font": {
          "color": "#4D5663"
         }
        },
        "xaxis": {
         "gridcolor": "#E1E5ED",
         "showgrid": true,
         "tickfont": {
          "color": "#4D5663"
         },
         "title": {
          "font": {
           "color": "#4D5663"
          },
          "text": ""
         },
         "zerolinecolor": "#E1E5ED"
        },
        "yaxis": {
         "gridcolor": "#E1E5ED",
         "showgrid": true,
         "tickfont": {
          "color": "#4D5663"
         },
         "title": {
          "font": {
           "color": "#4D5663"
          },
          "text": ""
         },
         "zerolinecolor": "#E1E5ED"
        }
       }
      },
      "text/html": [
       "<div>                            <div id=\"97ca0868-294c-4e44-8cda-4e5185c50299\" class=\"plotly-graph-div\" style=\"height:525px; width:100%;\"></div>            <script type=\"text/javascript\">                require([\"plotly\"], function(Plotly) {                    window.PLOTLYENV=window.PLOTLYENV || {};\n",
       "                    window.PLOTLYENV.BASE_URL='https://plot.ly';                                    if (document.getElementById(\"97ca0868-294c-4e44-8cda-4e5185c50299\")) {                    Plotly.newPlot(                        \"97ca0868-294c-4e44-8cda-4e5185c50299\",                        [{\"marker\":{\"color\":\"rgba(255, 153, 51, 0.6)\",\"line\":{\"color\":\"rgba(255, 153, 51, 1.0)\",\"width\":1}},\"name\":\"None\",\"orientation\":\"v\",\"text\":\"\",\"x\":[\"A\",\"B\",\"C\",\"D\"],\"y\":[3.303654183666965,-16.012157881191392,22.982794721998577,-3.659808868849203],\"type\":\"bar\"}],                        {\"legend\":{\"bgcolor\":\"#F5F6F9\",\"font\":{\"color\":\"#4D5663\"}},\"paper_bgcolor\":\"#F5F6F9\",\"plot_bgcolor\":\"#F5F6F9\",\"template\":{\"data\":{\"barpolar\":[{\"marker\":{\"line\":{\"color\":\"#E5ECF6\",\"width\":0.5},\"pattern\":{\"fillmode\":\"overlay\",\"size\":10,\"solidity\":0.2}},\"type\":\"barpolar\"}],\"bar\":[{\"error_x\":{\"color\":\"#2a3f5f\"},\"error_y\":{\"color\":\"#2a3f5f\"},\"marker\":{\"line\":{\"color\":\"#E5ECF6\",\"width\":0.5},\"pattern\":{\"fillmode\":\"overlay\",\"size\":10,\"solidity\":0.2}},\"type\":\"bar\"}],\"carpet\":[{\"aaxis\":{\"endlinecolor\":\"#2a3f5f\",\"gridcolor\":\"white\",\"linecolor\":\"white\",\"minorgridcolor\":\"white\",\"startlinecolor\":\"#2a3f5f\"},\"baxis\":{\"endlinecolor\":\"#2a3f5f\",\"gridcolor\":\"white\",\"linecolor\":\"white\",\"minorgridcolor\":\"white\",\"startlinecolor\":\"#2a3f5f\"},\"type\":\"carpet\"}],\"choropleth\":[{\"colorbar\":{\"outlinewidth\":0,\"ticks\":\"\"},\"type\":\"choropleth\"}],\"contourcarpet\":[{\"colorbar\":{\"outlinewidth\":0,\"ticks\":\"\"},\"type\":\"contourcarpet\"}],\"contour\":[{\"colorbar\":{\"outlinewidth\":0,\"ticks\":\"\"},\"colorscale\":[[0.0,\"#0d0887\"],[0.1111111111111111,\"#46039f\"],[0.2222222222222222,\"#7201a8\"],[0.3333333333333333,\"#9c179e\"],[0.4444444444444444,\"#bd3786\"],[0.5555555555555556,\"#d8576b\"],[0.6666666666666666,\"#ed7953\"],[0.7777777777777778,\"#fb9f3a\"],[0.8888888888888888,\"#fdca26\"],[1.0,\"#f0f921\"]],\"type\":\"contour\"}],\"heatmapgl\":[{\"colorbar\":{\"outlinewidth\":0,\"ticks\":\"\"},\"colorscale\":[[0.0,\"#0d0887\"],[0.1111111111111111,\"#46039f\"],[0.2222222222222222,\"#7201a8\"],[0.3333333333333333,\"#9c179e\"],[0.4444444444444444,\"#bd3786\"],[0.5555555555555556,\"#d8576b\"],[0.6666666666666666,\"#ed7953\"],[0.7777777777777778,\"#fb9f3a\"],[0.8888888888888888,\"#fdca26\"],[1.0,\"#f0f921\"]],\"type\":\"heatmapgl\"}],\"heatmap\":[{\"colorbar\":{\"outlinewidth\":0,\"ticks\":\"\"},\"colorscale\":[[0.0,\"#0d0887\"],[0.1111111111111111,\"#46039f\"],[0.2222222222222222,\"#7201a8\"],[0.3333333333333333,\"#9c179e\"],[0.4444444444444444,\"#bd3786\"],[0.5555555555555556,\"#d8576b\"],[0.6666666666666666,\"#ed7953\"],[0.7777777777777778,\"#fb9f3a\"],[0.8888888888888888,\"#fdca26\"],[1.0,\"#f0f921\"]],\"type\":\"heatmap\"}],\"histogram2dcontour\":[{\"colorbar\":{\"outlinewidth\":0,\"ticks\":\"\"},\"colorscale\":[[0.0,\"#0d0887\"],[0.1111111111111111,\"#46039f\"],[0.2222222222222222,\"#7201a8\"],[0.3333333333333333,\"#9c179e\"],[0.4444444444444444,\"#bd3786\"],[0.5555555555555556,\"#d8576b\"],[0.6666666666666666,\"#ed7953\"],[0.7777777777777778,\"#fb9f3a\"],[0.8888888888888888,\"#fdca26\"],[1.0,\"#f0f921\"]],\"type\":\"histogram2dcontour\"}],\"histogram2d\":[{\"colorbar\":{\"outlinewidth\":0,\"ticks\":\"\"},\"colorscale\":[[0.0,\"#0d0887\"],[0.1111111111111111,\"#46039f\"],[0.2222222222222222,\"#7201a8\"],[0.3333333333333333,\"#9c179e\"],[0.4444444444444444,\"#bd3786\"],[0.5555555555555556,\"#d8576b\"],[0.6666666666666666,\"#ed7953\"],[0.7777777777777778,\"#fb9f3a\"],[0.8888888888888888,\"#fdca26\"],[1.0,\"#f0f921\"]],\"type\":\"histogram2d\"}],\"histogram\":[{\"marker\":{\"pattern\":{\"fillmode\":\"overlay\",\"size\":10,\"solidity\":0.2}},\"type\":\"histogram\"}],\"mesh3d\":[{\"colorbar\":{\"outlinewidth\":0,\"ticks\":\"\"},\"type\":\"mesh3d\"}],\"parcoords\":[{\"line\":{\"colorbar\":{\"outlinewidth\":0,\"ticks\":\"\"}},\"type\":\"parcoords\"}],\"pie\":[{\"automargin\":true,\"type\":\"pie\"}],\"scatter3d\":[{\"line\":{\"colorbar\":{\"outlinewidth\":0,\"ticks\":\"\"}},\"marker\":{\"colorbar\":{\"outlinewidth\":0,\"ticks\":\"\"}},\"type\":\"scatter3d\"}],\"scattercarpet\":[{\"marker\":{\"colorbar\":{\"outlinewidth\":0,\"ticks\":\"\"}},\"type\":\"scattercarpet\"}],\"scattergeo\":[{\"marker\":{\"colorbar\":{\"outlinewidth\":0,\"ticks\":\"\"}},\"type\":\"scattergeo\"}],\"scattergl\":[{\"marker\":{\"colorbar\":{\"outlinewidth\":0,\"ticks\":\"\"}},\"type\":\"scattergl\"}],\"scattermapbox\":[{\"marker\":{\"colorbar\":{\"outlinewidth\":0,\"ticks\":\"\"}},\"type\":\"scattermapbox\"}],\"scatterpolargl\":[{\"marker\":{\"colorbar\":{\"outlinewidth\":0,\"ticks\":\"\"}},\"type\":\"scatterpolargl\"}],\"scatterpolar\":[{\"marker\":{\"colorbar\":{\"outlinewidth\":0,\"ticks\":\"\"}},\"type\":\"scatterpolar\"}],\"scatter\":[{\"marker\":{\"colorbar\":{\"outlinewidth\":0,\"ticks\":\"\"}},\"type\":\"scatter\"}],\"scatterternary\":[{\"marker\":{\"colorbar\":{\"outlinewidth\":0,\"ticks\":\"\"}},\"type\":\"scatterternary\"}],\"surface\":[{\"colorbar\":{\"outlinewidth\":0,\"ticks\":\"\"},\"colorscale\":[[0.0,\"#0d0887\"],[0.1111111111111111,\"#46039f\"],[0.2222222222222222,\"#7201a8\"],[0.3333333333333333,\"#9c179e\"],[0.4444444444444444,\"#bd3786\"],[0.5555555555555556,\"#d8576b\"],[0.6666666666666666,\"#ed7953\"],[0.7777777777777778,\"#fb9f3a\"],[0.8888888888888888,\"#fdca26\"],[1.0,\"#f0f921\"]],\"type\":\"surface\"}],\"table\":[{\"cells\":{\"fill\":{\"color\":\"#EBF0F8\"},\"line\":{\"color\":\"white\"}},\"header\":{\"fill\":{\"color\":\"#C8D4E3\"},\"line\":{\"color\":\"white\"}},\"type\":\"table\"}]},\"layout\":{\"annotationdefaults\":{\"arrowcolor\":\"#2a3f5f\",\"arrowhead\":0,\"arrowwidth\":1},\"autotypenumbers\":\"strict\",\"coloraxis\":{\"colorbar\":{\"outlinewidth\":0,\"ticks\":\"\"}},\"colorscale\":{\"diverging\":[[0,\"#8e0152\"],[0.1,\"#c51b7d\"],[0.2,\"#de77ae\"],[0.3,\"#f1b6da\"],[0.4,\"#fde0ef\"],[0.5,\"#f7f7f7\"],[0.6,\"#e6f5d0\"],[0.7,\"#b8e186\"],[0.8,\"#7fbc41\"],[0.9,\"#4d9221\"],[1,\"#276419\"]],\"sequential\":[[0.0,\"#0d0887\"],[0.1111111111111111,\"#46039f\"],[0.2222222222222222,\"#7201a8\"],[0.3333333333333333,\"#9c179e\"],[0.4444444444444444,\"#bd3786\"],[0.5555555555555556,\"#d8576b\"],[0.6666666666666666,\"#ed7953\"],[0.7777777777777778,\"#fb9f3a\"],[0.8888888888888888,\"#fdca26\"],[1.0,\"#f0f921\"]],\"sequentialminus\":[[0.0,\"#0d0887\"],[0.1111111111111111,\"#46039f\"],[0.2222222222222222,\"#7201a8\"],[0.3333333333333333,\"#9c179e\"],[0.4444444444444444,\"#bd3786\"],[0.5555555555555556,\"#d8576b\"],[0.6666666666666666,\"#ed7953\"],[0.7777777777777778,\"#fb9f3a\"],[0.8888888888888888,\"#fdca26\"],[1.0,\"#f0f921\"]]},\"colorway\":[\"#636efa\",\"#EF553B\",\"#00cc96\",\"#ab63fa\",\"#FFA15A\",\"#19d3f3\",\"#FF6692\",\"#B6E880\",\"#FF97FF\",\"#FECB52\"],\"font\":{\"color\":\"#2a3f5f\"},\"geo\":{\"bgcolor\":\"white\",\"lakecolor\":\"white\",\"landcolor\":\"#E5ECF6\",\"showlakes\":true,\"showland\":true,\"subunitcolor\":\"white\"},\"hoverlabel\":{\"align\":\"left\"},\"hovermode\":\"closest\",\"mapbox\":{\"style\":\"light\"},\"paper_bgcolor\":\"white\",\"plot_bgcolor\":\"#E5ECF6\",\"polar\":{\"angularaxis\":{\"gridcolor\":\"white\",\"linecolor\":\"white\",\"ticks\":\"\"},\"bgcolor\":\"#E5ECF6\",\"radialaxis\":{\"gridcolor\":\"white\",\"linecolor\":\"white\",\"ticks\":\"\"}},\"scene\":{\"xaxis\":{\"backgroundcolor\":\"#E5ECF6\",\"gridcolor\":\"white\",\"gridwidth\":2,\"linecolor\":\"white\",\"showbackground\":true,\"ticks\":\"\",\"zerolinecolor\":\"white\"},\"yaxis\":{\"backgroundcolor\":\"#E5ECF6\",\"gridcolor\":\"white\",\"gridwidth\":2,\"linecolor\":\"white\",\"showbackground\":true,\"ticks\":\"\",\"zerolinecolor\":\"white\"},\"zaxis\":{\"backgroundcolor\":\"#E5ECF6\",\"gridcolor\":\"white\",\"gridwidth\":2,\"linecolor\":\"white\",\"showbackground\":true,\"ticks\":\"\",\"zerolinecolor\":\"white\"}},\"shapedefaults\":{\"line\":{\"color\":\"#2a3f5f\"}},\"ternary\":{\"aaxis\":{\"gridcolor\":\"white\",\"linecolor\":\"white\",\"ticks\":\"\"},\"baxis\":{\"gridcolor\":\"white\",\"linecolor\":\"white\",\"ticks\":\"\"},\"bgcolor\":\"#E5ECF6\",\"caxis\":{\"gridcolor\":\"white\",\"linecolor\":\"white\",\"ticks\":\"\"}},\"title\":{\"x\":0.05},\"xaxis\":{\"automargin\":true,\"gridcolor\":\"white\",\"linecolor\":\"white\",\"ticks\":\"\",\"title\":{\"standoff\":15},\"zerolinecolor\":\"white\",\"zerolinewidth\":2},\"yaxis\":{\"automargin\":true,\"gridcolor\":\"white\",\"linecolor\":\"white\",\"ticks\":\"\",\"title\":{\"standoff\":15},\"zerolinecolor\":\"white\",\"zerolinewidth\":2}}},\"title\":{\"font\":{\"color\":\"#4D5663\"}},\"xaxis\":{\"gridcolor\":\"#E1E5ED\",\"showgrid\":true,\"tickfont\":{\"color\":\"#4D5663\"},\"title\":{\"font\":{\"color\":\"#4D5663\"},\"text\":\"\"},\"zerolinecolor\":\"#E1E5ED\"},\"yaxis\":{\"gridcolor\":\"#E1E5ED\",\"showgrid\":true,\"tickfont\":{\"color\":\"#4D5663\"},\"title\":{\"font\":{\"color\":\"#4D5663\"},\"text\":\"\"},\"zerolinecolor\":\"#E1E5ED\"}},                        {\"showLink\": true, \"linkText\": \"Export to plot.ly\", \"plotlyServerURL\": \"https://plot.ly\", \"responsive\": true}                    ).then(function(){\n",
       "                            \n",
       "var gd = document.getElementById('97ca0868-294c-4e44-8cda-4e5185c50299');\n",
       "var x = new MutationObserver(function (mutations, observer) {{\n",
       "        var display = window.getComputedStyle(gd).display;\n",
       "        if (!display || display === 'none') {{\n",
       "            console.log([gd, 'removed!']);\n",
       "            Plotly.purge(gd);\n",
       "            observer.disconnect();\n",
       "        }}\n",
       "}});\n",
       "\n",
       "// Listen for the removal of the full notebook cells\n",
       "var notebookContainer = gd.closest('#notebook-container');\n",
       "if (notebookContainer) {{\n",
       "    x.observe(notebookContainer, {childList: true});\n",
       "}}\n",
       "\n",
       "// Listen for the clearing of the current output cell\n",
       "var outputEl = gd.closest('.output');\n",
       "if (outputEl) {{\n",
       "    x.observe(outputEl, {childList: true});\n",
       "}}\n",
       "\n",
       "                        })                };                });            </script>        </div>"
      ]
     },
     "metadata": {},
     "output_type": "display_data"
    }
   ],
   "source": [
    "# Bar Plot with Aggregate Functions\n",
    "df.sum().iplot(kind='bar')"
   ]
  },
  {
   "cell_type": "code",
   "execution_count": 15,
   "id": "a8d499a7",
   "metadata": {},
   "outputs": [
    {
     "data": {
      "application/vnd.plotly.v1+json": {
       "config": {
        "linkText": "Export to plot.ly",
        "plotlyServerURL": "https://plot.ly",
        "showLink": true
       },
       "data": [
        {
         "boxpoints": false,
         "line": {
          "width": 1.3
         },
         "marker": {
          "color": "rgba(255, 153, 51, 1.0)"
         },
         "name": "A",
         "orientation": "v",
         "type": "box",
         "y": [
          0.42834336660048555,
          -0.5431130343751923,
          -1.1089003168660925,
          -0.9310734812179945,
          0.7009672118351541,
          0.8814470474168713,
          -0.8407399793698521,
          -0.576893294052475,
          -0.8080703354235872,
          -0.845685394146627,
          1.0546390088298483,
          -1.2167789452198259,
          -0.5793894576537396,
          0.6531820902565525,
          1.1852687270905453,
          2.179059607997261,
          -0.916752595388181,
          0.5616215793465428,
          0.6378222152443052,
          -0.4644285971201103,
          -0.26443495004037043,
          1.2197910519981685,
          -0.09646466921168612,
          -0.13577844238819872,
          -0.3196361512921841,
          -2.3138191266271706,
          1.8776670994205429,
          0.7405974885272778,
          -3.142074285106367,
          -1.472470555300087,
          -0.16340487140345647,
          -0.14795883993457962,
          0.4002683275186483,
          1.2623093249244404,
          -0.13729696811807196,
          -0.4103419566810211,
          0.6309401297310346,
          -2.554433216510306,
          -1.8136787861246852,
          -1.5971638470617107,
          -0.04727848987271,
          -0.9859271975667138,
          -0.5200134096541108,
          -0.1496386173536915,
          -1.692708236163166,
          -0.9861515241881423,
          1.8566766289766876,
          -0.6426894805921634,
          1.3684446007506572,
          1.0303287829607057,
          0.15816602375477531,
          0.6029637904815115,
          0.7020121929344575,
          -0.6534446453808141,
          -0.8819822613338307,
          -0.3725294111302389,
          0.917844776303251,
          2.952904715090055,
          0.563570403972607,
          0.34163541591459934,
          0.24760279926901188,
          0.6853429334592762,
          -0.8871213125118289,
          -0.62447480201159,
          -1.1435009277849852,
          1.3423559897981243,
          -0.6885983903751369,
          -0.6327941965193481,
          1.1382967585537072,
          1.6535942818207383,
          -0.49473872348892395,
          -0.2213077371949228,
          -1.7441809868780074,
          0.33503514683285246,
          1.457920342236441,
          1.1942547194581565,
          1.6048350491365895,
          0.6834991629924438,
          0.5449683729052708,
          -0.09354422620876975,
          -0.7332514853887435,
          -1.2858330647452987,
          -1.6144516726215936,
          0.5491139981272396,
          0.3988004780816497,
          1.1415368511791262,
          0.9103446674267672,
          -0.4302964462779966,
          0.34100207998563,
          1.0883510241965397,
          0.9003232980148024,
          1.0445905659847246,
          0.4609394941132174,
          2.059739333522352,
          -0.8652132010214949,
          0.4132656940423574,
          0.1597976827062007,
          0.8959245972573175,
          0.19935532667623881,
          -1.2631555290890033
         ]
        },
        {
         "boxpoints": false,
         "line": {
          "width": 1.3
         },
         "marker": {
          "color": "rgba(55, 128, 191, 1.0)"
         },
         "name": "B",
         "orientation": "v",
         "type": "box",
         "y": [
          -1.5110962441514955,
          -1.3421231187988822,
          -0.8218709717794145,
          -0.5629676527933162,
          -0.0939803421434012,
          -1.0281015513104197,
          0.3995284548028364,
          0.9763755222555714,
          0.04671111034541469,
          -1.9765101574433694,
          -1.0786291236002599,
          -1.1370525638047173,
          0.6234717853349546,
          0.22736963902127702,
          0.6312271068437805,
          1.898722835344093,
          -1.1841566347480224,
          0.6706380460640187,
          0.46705903160036005,
          0.865784386057344,
          -0.48600102296393116,
          -1.087364794658521,
          -0.46493281327929764,
          0.6645474925732094,
          -0.16064904501671742,
          0.10420018730006272,
          1.3088379168204136,
          0.1421960429541945,
          0.021540205979291894,
          -1.696360096304541,
          0.1020244225904697,
          -1.4488401608216697,
          -0.8435275097409567,
          -0.4903190344160185,
          -0.6167726979776068,
          1.516273713443217,
          -0.8504127889940435,
          -0.6817747858776013,
          1.1428523434547717,
          0.6038809943697726,
          -0.19543354794411882,
          0.05964263107473625,
          0.9886081091818062,
          -1.6851781394957248,
          -0.5385704399566267,
          0.4992709096890342,
          0.8523579261540218,
          -0.036804283670902514,
          0.6753618291437835,
          -0.5658997632303835,
          0.08053411107930569,
          0.46914129922192865,
          -0.14822017594795173,
          0.48477839501296927,
          -2.7740379594780014,
          -0.057824947331366054,
          0.007855445306867293,
          -1.037584910585149,
          -0.234403782400521,
          -0.10043071393199138,
          0.24141096042409843,
          -0.6761136267213637,
          -1.3153681866336913,
          -0.11340787951362206,
          -1.5068080162253386,
          -1.3266258407333442,
          0.008007313205507259,
          -1.4753921403733459,
          0.25353596911295373,
          -0.5618230070321575,
          -0.051296848284010335,
          -1.1064574503295967,
          0.451924472091387,
          0.41623143210306596,
          -0.4126695523135965,
          -0.9246281429196028,
          -1.4234046222503718,
          0.08949143437347688,
          -1.1257961613100143,
          -0.45495471958497263,
          -2.2203979818443966,
          -1.1725235534576335,
          0.7847230953515638,
          1.7650003621711998,
          1.2096931205010761,
          -0.46025502320418904,
          -0.04675734436156397,
          2.2850252000751903,
          0.19569106889942578,
          1.9644722028091561,
          0.3203399145813591,
          0.5512007112953003,
          -0.01795135166725152,
          1.8309718907211967,
          -1.2484429434786146,
          0.8173605905207877,
          -0.11453463647031444,
          1.055310864976655,
          -0.6305387854690183,
          -1.4593607886493545
         ]
        },
        {
         "boxpoints": false,
         "line": {
          "width": 1.3
         },
         "marker": {
          "color": "rgba(50, 171, 96, 1.0)"
         },
         "name": "C",
         "orientation": "v",
         "type": "box",
         "y": [
          0.5818959601613439,
          0.6635389007014588,
          -0.4650326002158927,
          -0.49563769496187016,
          0.3544326149014103,
          0.032280422153337845,
          1.500194598749117,
          2.0078251618293383,
          1.250331560859558,
          -1.5210260565593223,
          -0.9083896727413385,
          0.09343621622137635,
          1.0770523647661714,
          0.4135650963652773,
          0.18243023661373478,
          1.6017575628860965,
          -0.531874639863994,
          0.7386088731874443,
          -1.299442569668759,
          0.09061907544395652,
          1.3048100282856383,
          0.38363698324233875,
          2.1600291784329193,
          -0.17890225991828895,
          -0.3928507318555888,
          0.5077203804001711,
          -0.17890260246201345,
          0.5325204521149169,
          0.5552064558546723,
          0.9466377884787205,
          -0.5537834734751812,
          -0.9225931378437296,
          -0.8501838556832638,
          -0.31102566975449314,
          0.9836054884214205,
          -0.3681798942114995,
          -0.00361292480589936,
          0.8445803413494956,
          -1.1030888295997967,
          0.741470274969195,
          0.13470395027236978,
          1.2105372702387485,
          1.4510247336250213,
          -0.06799667679769193,
          1.0439059032051308,
          1.2758152618645142,
          -0.28913163689038773,
          0.6403403697547831,
          -0.8382254017862524,
          1.267166140113422,
          -0.19196802549214645,
          1.031205035151707,
          0.26130592536366737,
          0.290049450665771,
          0.3923595253989978,
          -0.07066390600572733,
          -0.13411773124013696,
          -0.5112963030506134,
          0.1523938664586009,
          -0.256666308707275,
          1.9500314401460428,
          0.4451779747728889,
          1.20667494512559,
          1.415453883503099,
          0.4802923215144708,
          -1.5154210487797841,
          -1.1689118109720538,
          -0.855788531435531,
          0.6967714727613341,
          0.13185186209408195,
          1.2545075600604296,
          0.46671735728806,
          1.251738898788601,
          -1.6904602024294255,
          -0.15933874899631892,
          -0.6107249632052028,
          1.0151109662635478,
          -0.4640549522669946,
          -1.3094379739157134,
          -0.1696620985632722,
          0.7264314214654054,
          -0.26821860589869123,
          0.21535758945565767,
          0.2479765322304549,
          0.1635268472902467,
          -0.40118535164143926,
          0.41818817348398535,
          -0.5432858902884837,
          1.2661463403142534,
          0.9221931103564391,
          0.077976495849599,
          0.22879419075920301,
          0.8708459862581537,
          1.369969887640816,
          0.33033096281090457,
          -0.08613149023670989,
          -0.10332444940811221,
          -1.503708056123339,
          0.46157906034337454,
          -0.035597229327674916
         ]
        },
        {
         "boxpoints": false,
         "line": {
          "width": 1.3
         },
         "marker": {
          "color": "rgba(128, 0, 128, 1.0)"
         },
         "name": "D",
         "orientation": "v",
         "type": "box",
         "y": [
          -1.643043088882501,
          -0.041942842179661495,
          -1.4168472589893575,
          0.846324115048115,
          -1.4454782178892902,
          1.1981126822062262,
          1.1880877809175365,
          -0.9437983238027401,
          0.2791052304301366,
          0.22472421792598693,
          -0.23818077146965422,
          -0.8134865720507752,
          -0.6539235206125001,
          -0.18812153427793674,
          0.10483840484201919,
          -1.1463715001592154,
          0.1525511335932151,
          -0.3333660303849316,
          0.2231423843314657,
          -0.642924646210681,
          1.3868811907592602,
          2.4775413247661118,
          -0.9824378868441533,
          -0.7478323374420225,
          0.1196298646787779,
          0.7584231001525484,
          0.3450095684343771,
          -0.1364555859070283,
          0.031593327237034556,
          0.06416794091502054,
          -1.0314204223621934,
          -0.5880114985436802,
          -0.9309105252363903,
          1.2080624637488204,
          -0.4826883216009362,
          -1.4083635352576558,
          1.9770423094719052,
          -1.1996284585164145,
          0.9825311817596672,
          -1.6455070177339404,
          0.295062994963841,
          -0.7998034733980933,
          -0.15005896232938026,
          -0.6656461269471731,
          0.9465387241306563,
          -0.3621644533838506,
          1.154497360028402,
          0.6355561375336649,
          1.0729479908496042,
          -0.946186348362365,
          0.8035070464021923,
          0.2299619066818497,
          0.2677428976486297,
          0.5441540505336642,
          2.520355422492496,
          -1.8362024335707192,
          0.0752844292503327,
          -0.8217503084813561,
          -0.24059727542653545,
          0.9384132798466748,
          0.5277873135643862,
          -1.515812553399073,
          -0.6654393564758576,
          2.399854029533553,
          -0.34779887432418227,
          0.5360350503453412,
          -0.18810820561818842,
          -0.037994786223414116,
          -0.6004312975798658,
          -1.5865829760206287,
          0.9135093073916315,
          -0.14112121519870538,
          -1.562180258411497,
          0.922870786879138,
          -0.5186716211333601,
          -1.0691183637534747,
          -1.4560288756640534,
          1.8245452402134126,
          -0.07371980105621495,
          -0.24864570933300026,
          0.5080437212536183,
          -1.323997543405784,
          1.9888833530466878,
          -0.9616846288567427,
          0.8399558727218465,
          -0.3521507877335014,
          0.18631604806527377,
          -0.7852573923852917,
          0.09450621074434322,
          -0.25880019016887773,
          1.1923201907397027,
          0.2651753312425627,
          -0.858845471114797,
          -0.6219850919551331,
          0.3507993237467051,
          -1.5098459118210705,
          1.913013961119211,
          0.09978487723239408,
          0.009576411491057068,
          -0.11720616987445373
         ]
        }
       ],
       "layout": {
        "legend": {
         "bgcolor": "#F5F6F9",
         "font": {
          "color": "#4D5663"
         }
        },
        "paper_bgcolor": "#F5F6F9",
        "plot_bgcolor": "#F5F6F9",
        "template": {
         "data": {
          "bar": [
           {
            "error_x": {
             "color": "#2a3f5f"
            },
            "error_y": {
             "color": "#2a3f5f"
            },
            "marker": {
             "line": {
              "color": "#E5ECF6",
              "width": 0.5
             },
             "pattern": {
              "fillmode": "overlay",
              "size": 10,
              "solidity": 0.2
             }
            },
            "type": "bar"
           }
          ],
          "barpolar": [
           {
            "marker": {
             "line": {
              "color": "#E5ECF6",
              "width": 0.5
             },
             "pattern": {
              "fillmode": "overlay",
              "size": 10,
              "solidity": 0.2
             }
            },
            "type": "barpolar"
           }
          ],
          "carpet": [
           {
            "aaxis": {
             "endlinecolor": "#2a3f5f",
             "gridcolor": "white",
             "linecolor": "white",
             "minorgridcolor": "white",
             "startlinecolor": "#2a3f5f"
            },
            "baxis": {
             "endlinecolor": "#2a3f5f",
             "gridcolor": "white",
             "linecolor": "white",
             "minorgridcolor": "white",
             "startlinecolor": "#2a3f5f"
            },
            "type": "carpet"
           }
          ],
          "choropleth": [
           {
            "colorbar": {
             "outlinewidth": 0,
             "ticks": ""
            },
            "type": "choropleth"
           }
          ],
          "contour": [
           {
            "colorbar": {
             "outlinewidth": 0,
             "ticks": ""
            },
            "colorscale": [
             [
              0,
              "#0d0887"
             ],
             [
              0.1111111111111111,
              "#46039f"
             ],
             [
              0.2222222222222222,
              "#7201a8"
             ],
             [
              0.3333333333333333,
              "#9c179e"
             ],
             [
              0.4444444444444444,
              "#bd3786"
             ],
             [
              0.5555555555555556,
              "#d8576b"
             ],
             [
              0.6666666666666666,
              "#ed7953"
             ],
             [
              0.7777777777777778,
              "#fb9f3a"
             ],
             [
              0.8888888888888888,
              "#fdca26"
             ],
             [
              1,
              "#f0f921"
             ]
            ],
            "type": "contour"
           }
          ],
          "contourcarpet": [
           {
            "colorbar": {
             "outlinewidth": 0,
             "ticks": ""
            },
            "type": "contourcarpet"
           }
          ],
          "heatmap": [
           {
            "colorbar": {
             "outlinewidth": 0,
             "ticks": ""
            },
            "colorscale": [
             [
              0,
              "#0d0887"
             ],
             [
              0.1111111111111111,
              "#46039f"
             ],
             [
              0.2222222222222222,
              "#7201a8"
             ],
             [
              0.3333333333333333,
              "#9c179e"
             ],
             [
              0.4444444444444444,
              "#bd3786"
             ],
             [
              0.5555555555555556,
              "#d8576b"
             ],
             [
              0.6666666666666666,
              "#ed7953"
             ],
             [
              0.7777777777777778,
              "#fb9f3a"
             ],
             [
              0.8888888888888888,
              "#fdca26"
             ],
             [
              1,
              "#f0f921"
             ]
            ],
            "type": "heatmap"
           }
          ],
          "heatmapgl": [
           {
            "colorbar": {
             "outlinewidth": 0,
             "ticks": ""
            },
            "colorscale": [
             [
              0,
              "#0d0887"
             ],
             [
              0.1111111111111111,
              "#46039f"
             ],
             [
              0.2222222222222222,
              "#7201a8"
             ],
             [
              0.3333333333333333,
              "#9c179e"
             ],
             [
              0.4444444444444444,
              "#bd3786"
             ],
             [
              0.5555555555555556,
              "#d8576b"
             ],
             [
              0.6666666666666666,
              "#ed7953"
             ],
             [
              0.7777777777777778,
              "#fb9f3a"
             ],
             [
              0.8888888888888888,
              "#fdca26"
             ],
             [
              1,
              "#f0f921"
             ]
            ],
            "type": "heatmapgl"
           }
          ],
          "histogram": [
           {
            "marker": {
             "pattern": {
              "fillmode": "overlay",
              "size": 10,
              "solidity": 0.2
             }
            },
            "type": "histogram"
           }
          ],
          "histogram2d": [
           {
            "colorbar": {
             "outlinewidth": 0,
             "ticks": ""
            },
            "colorscale": [
             [
              0,
              "#0d0887"
             ],
             [
              0.1111111111111111,
              "#46039f"
             ],
             [
              0.2222222222222222,
              "#7201a8"
             ],
             [
              0.3333333333333333,
              "#9c179e"
             ],
             [
              0.4444444444444444,
              "#bd3786"
             ],
             [
              0.5555555555555556,
              "#d8576b"
             ],
             [
              0.6666666666666666,
              "#ed7953"
             ],
             [
              0.7777777777777778,
              "#fb9f3a"
             ],
             [
              0.8888888888888888,
              "#fdca26"
             ],
             [
              1,
              "#f0f921"
             ]
            ],
            "type": "histogram2d"
           }
          ],
          "histogram2dcontour": [
           {
            "colorbar": {
             "outlinewidth": 0,
             "ticks": ""
            },
            "colorscale": [
             [
              0,
              "#0d0887"
             ],
             [
              0.1111111111111111,
              "#46039f"
             ],
             [
              0.2222222222222222,
              "#7201a8"
             ],
             [
              0.3333333333333333,
              "#9c179e"
             ],
             [
              0.4444444444444444,
              "#bd3786"
             ],
             [
              0.5555555555555556,
              "#d8576b"
             ],
             [
              0.6666666666666666,
              "#ed7953"
             ],
             [
              0.7777777777777778,
              "#fb9f3a"
             ],
             [
              0.8888888888888888,
              "#fdca26"
             ],
             [
              1,
              "#f0f921"
             ]
            ],
            "type": "histogram2dcontour"
           }
          ],
          "mesh3d": [
           {
            "colorbar": {
             "outlinewidth": 0,
             "ticks": ""
            },
            "type": "mesh3d"
           }
          ],
          "parcoords": [
           {
            "line": {
             "colorbar": {
              "outlinewidth": 0,
              "ticks": ""
             }
            },
            "type": "parcoords"
           }
          ],
          "pie": [
           {
            "automargin": true,
            "type": "pie"
           }
          ],
          "scatter": [
           {
            "marker": {
             "colorbar": {
              "outlinewidth": 0,
              "ticks": ""
             }
            },
            "type": "scatter"
           }
          ],
          "scatter3d": [
           {
            "line": {
             "colorbar": {
              "outlinewidth": 0,
              "ticks": ""
             }
            },
            "marker": {
             "colorbar": {
              "outlinewidth": 0,
              "ticks": ""
             }
            },
            "type": "scatter3d"
           }
          ],
          "scattercarpet": [
           {
            "marker": {
             "colorbar": {
              "outlinewidth": 0,
              "ticks": ""
             }
            },
            "type": "scattercarpet"
           }
          ],
          "scattergeo": [
           {
            "marker": {
             "colorbar": {
              "outlinewidth": 0,
              "ticks": ""
             }
            },
            "type": "scattergeo"
           }
          ],
          "scattergl": [
           {
            "marker": {
             "colorbar": {
              "outlinewidth": 0,
              "ticks": ""
             }
            },
            "type": "scattergl"
           }
          ],
          "scattermapbox": [
           {
            "marker": {
             "colorbar": {
              "outlinewidth": 0,
              "ticks": ""
             }
            },
            "type": "scattermapbox"
           }
          ],
          "scatterpolar": [
           {
            "marker": {
             "colorbar": {
              "outlinewidth": 0,
              "ticks": ""
             }
            },
            "type": "scatterpolar"
           }
          ],
          "scatterpolargl": [
           {
            "marker": {
             "colorbar": {
              "outlinewidth": 0,
              "ticks": ""
             }
            },
            "type": "scatterpolargl"
           }
          ],
          "scatterternary": [
           {
            "marker": {
             "colorbar": {
              "outlinewidth": 0,
              "ticks": ""
             }
            },
            "type": "scatterternary"
           }
          ],
          "surface": [
           {
            "colorbar": {
             "outlinewidth": 0,
             "ticks": ""
            },
            "colorscale": [
             [
              0,
              "#0d0887"
             ],
             [
              0.1111111111111111,
              "#46039f"
             ],
             [
              0.2222222222222222,
              "#7201a8"
             ],
             [
              0.3333333333333333,
              "#9c179e"
             ],
             [
              0.4444444444444444,
              "#bd3786"
             ],
             [
              0.5555555555555556,
              "#d8576b"
             ],
             [
              0.6666666666666666,
              "#ed7953"
             ],
             [
              0.7777777777777778,
              "#fb9f3a"
             ],
             [
              0.8888888888888888,
              "#fdca26"
             ],
             [
              1,
              "#f0f921"
             ]
            ],
            "type": "surface"
           }
          ],
          "table": [
           {
            "cells": {
             "fill": {
              "color": "#EBF0F8"
             },
             "line": {
              "color": "white"
             }
            },
            "header": {
             "fill": {
              "color": "#C8D4E3"
             },
             "line": {
              "color": "white"
             }
            },
            "type": "table"
           }
          ]
         },
         "layout": {
          "annotationdefaults": {
           "arrowcolor": "#2a3f5f",
           "arrowhead": 0,
           "arrowwidth": 1
          },
          "autotypenumbers": "strict",
          "coloraxis": {
           "colorbar": {
            "outlinewidth": 0,
            "ticks": ""
           }
          },
          "colorscale": {
           "diverging": [
            [
             0,
             "#8e0152"
            ],
            [
             0.1,
             "#c51b7d"
            ],
            [
             0.2,
             "#de77ae"
            ],
            [
             0.3,
             "#f1b6da"
            ],
            [
             0.4,
             "#fde0ef"
            ],
            [
             0.5,
             "#f7f7f7"
            ],
            [
             0.6,
             "#e6f5d0"
            ],
            [
             0.7,
             "#b8e186"
            ],
            [
             0.8,
             "#7fbc41"
            ],
            [
             0.9,
             "#4d9221"
            ],
            [
             1,
             "#276419"
            ]
           ],
           "sequential": [
            [
             0,
             "#0d0887"
            ],
            [
             0.1111111111111111,
             "#46039f"
            ],
            [
             0.2222222222222222,
             "#7201a8"
            ],
            [
             0.3333333333333333,
             "#9c179e"
            ],
            [
             0.4444444444444444,
             "#bd3786"
            ],
            [
             0.5555555555555556,
             "#d8576b"
            ],
            [
             0.6666666666666666,
             "#ed7953"
            ],
            [
             0.7777777777777778,
             "#fb9f3a"
            ],
            [
             0.8888888888888888,
             "#fdca26"
            ],
            [
             1,
             "#f0f921"
            ]
           ],
           "sequentialminus": [
            [
             0,
             "#0d0887"
            ],
            [
             0.1111111111111111,
             "#46039f"
            ],
            [
             0.2222222222222222,
             "#7201a8"
            ],
            [
             0.3333333333333333,
             "#9c179e"
            ],
            [
             0.4444444444444444,
             "#bd3786"
            ],
            [
             0.5555555555555556,
             "#d8576b"
            ],
            [
             0.6666666666666666,
             "#ed7953"
            ],
            [
             0.7777777777777778,
             "#fb9f3a"
            ],
            [
             0.8888888888888888,
             "#fdca26"
            ],
            [
             1,
             "#f0f921"
            ]
           ]
          },
          "colorway": [
           "#636efa",
           "#EF553B",
           "#00cc96",
           "#ab63fa",
           "#FFA15A",
           "#19d3f3",
           "#FF6692",
           "#B6E880",
           "#FF97FF",
           "#FECB52"
          ],
          "font": {
           "color": "#2a3f5f"
          },
          "geo": {
           "bgcolor": "white",
           "lakecolor": "white",
           "landcolor": "#E5ECF6",
           "showlakes": true,
           "showland": true,
           "subunitcolor": "white"
          },
          "hoverlabel": {
           "align": "left"
          },
          "hovermode": "closest",
          "mapbox": {
           "style": "light"
          },
          "paper_bgcolor": "white",
          "plot_bgcolor": "#E5ECF6",
          "polar": {
           "angularaxis": {
            "gridcolor": "white",
            "linecolor": "white",
            "ticks": ""
           },
           "bgcolor": "#E5ECF6",
           "radialaxis": {
            "gridcolor": "white",
            "linecolor": "white",
            "ticks": ""
           }
          },
          "scene": {
           "xaxis": {
            "backgroundcolor": "#E5ECF6",
            "gridcolor": "white",
            "gridwidth": 2,
            "linecolor": "white",
            "showbackground": true,
            "ticks": "",
            "zerolinecolor": "white"
           },
           "yaxis": {
            "backgroundcolor": "#E5ECF6",
            "gridcolor": "white",
            "gridwidth": 2,
            "linecolor": "white",
            "showbackground": true,
            "ticks": "",
            "zerolinecolor": "white"
           },
           "zaxis": {
            "backgroundcolor": "#E5ECF6",
            "gridcolor": "white",
            "gridwidth": 2,
            "linecolor": "white",
            "showbackground": true,
            "ticks": "",
            "zerolinecolor": "white"
           }
          },
          "shapedefaults": {
           "line": {
            "color": "#2a3f5f"
           }
          },
          "ternary": {
           "aaxis": {
            "gridcolor": "white",
            "linecolor": "white",
            "ticks": ""
           },
           "baxis": {
            "gridcolor": "white",
            "linecolor": "white",
            "ticks": ""
           },
           "bgcolor": "#E5ECF6",
           "caxis": {
            "gridcolor": "white",
            "linecolor": "white",
            "ticks": ""
           }
          },
          "title": {
           "x": 0.05
          },
          "xaxis": {
           "automargin": true,
           "gridcolor": "white",
           "linecolor": "white",
           "ticks": "",
           "title": {
            "standoff": 15
           },
           "zerolinecolor": "white",
           "zerolinewidth": 2
          },
          "yaxis": {
           "automargin": true,
           "gridcolor": "white",
           "linecolor": "white",
           "ticks": "",
           "title": {
            "standoff": 15
           },
           "zerolinecolor": "white",
           "zerolinewidth": 2
          }
         }
        },
        "title": {
         "font": {
          "color": "#4D5663"
         }
        },
        "xaxis": {
         "gridcolor": "#E1E5ED",
         "showgrid": true,
         "tickfont": {
          "color": "#4D5663"
         },
         "title": {
          "font": {
           "color": "#4D5663"
          },
          "text": ""
         },
         "zerolinecolor": "#E1E5ED"
        },
        "yaxis": {
         "gridcolor": "#E1E5ED",
         "showgrid": true,
         "tickfont": {
          "color": "#4D5663"
         },
         "title": {
          "font": {
           "color": "#4D5663"
          },
          "text": ""
         },
         "zerolinecolor": "#E1E5ED"
        }
       }
      },
      "text/html": [
       "<div>                            <div id=\"ddf99738-9239-4b8e-84ea-be4475867c4e\" class=\"plotly-graph-div\" style=\"height:525px; width:100%;\"></div>            <script type=\"text/javascript\">                require([\"plotly\"], function(Plotly) {                    window.PLOTLYENV=window.PLOTLYENV || {};\n",
       "                    window.PLOTLYENV.BASE_URL='https://plot.ly';                                    if (document.getElementById(\"ddf99738-9239-4b8e-84ea-be4475867c4e\")) {                    Plotly.newPlot(                        \"ddf99738-9239-4b8e-84ea-be4475867c4e\",                        [{\"boxpoints\":false,\"line\":{\"width\":1.3},\"marker\":{\"color\":\"rgba(255, 153, 51, 1.0)\"},\"name\":\"A\",\"orientation\":\"v\",\"y\":[0.42834336660048555,-0.5431130343751923,-1.1089003168660925,-0.9310734812179945,0.7009672118351541,0.8814470474168713,-0.8407399793698521,-0.576893294052475,-0.8080703354235872,-0.845685394146627,1.0546390088298483,-1.2167789452198259,-0.5793894576537396,0.6531820902565525,1.1852687270905453,2.179059607997261,-0.916752595388181,0.5616215793465428,0.6378222152443052,-0.4644285971201103,-0.26443495004037043,1.2197910519981685,-0.09646466921168612,-0.13577844238819872,-0.3196361512921841,-2.3138191266271706,1.8776670994205429,0.7405974885272778,-3.142074285106367,-1.472470555300087,-0.16340487140345647,-0.14795883993457962,0.4002683275186483,1.2623093249244404,-0.13729696811807196,-0.4103419566810211,0.6309401297310346,-2.554433216510306,-1.8136787861246852,-1.5971638470617107,-0.04727848987271,-0.9859271975667138,-0.5200134096541108,-0.1496386173536915,-1.692708236163166,-0.9861515241881423,1.8566766289766876,-0.6426894805921634,1.3684446007506572,1.0303287829607057,0.15816602375477531,0.6029637904815115,0.7020121929344575,-0.6534446453808141,-0.8819822613338307,-0.3725294111302389,0.917844776303251,2.952904715090055,0.563570403972607,0.34163541591459934,0.24760279926901188,0.6853429334592762,-0.8871213125118289,-0.62447480201159,-1.1435009277849852,1.3423559897981243,-0.6885983903751369,-0.6327941965193481,1.1382967585537072,1.6535942818207383,-0.49473872348892395,-0.2213077371949228,-1.7441809868780074,0.33503514683285246,1.457920342236441,1.1942547194581565,1.6048350491365895,0.6834991629924438,0.5449683729052708,-0.09354422620876975,-0.7332514853887435,-1.2858330647452987,-1.6144516726215936,0.5491139981272396,0.3988004780816497,1.1415368511791262,0.9103446674267672,-0.4302964462779966,0.34100207998563,1.0883510241965397,0.9003232980148024,1.0445905659847246,0.4609394941132174,2.059739333522352,-0.8652132010214949,0.4132656940423574,0.1597976827062007,0.8959245972573175,0.19935532667623881,-1.2631555290890033],\"type\":\"box\"},{\"boxpoints\":false,\"line\":{\"width\":1.3},\"marker\":{\"color\":\"rgba(55, 128, 191, 1.0)\"},\"name\":\"B\",\"orientation\":\"v\",\"y\":[-1.5110962441514955,-1.3421231187988822,-0.8218709717794145,-0.5629676527933162,-0.0939803421434012,-1.0281015513104197,0.3995284548028364,0.9763755222555714,0.04671111034541469,-1.9765101574433694,-1.0786291236002599,-1.1370525638047173,0.6234717853349546,0.22736963902127702,0.6312271068437805,1.898722835344093,-1.1841566347480224,0.6706380460640187,0.46705903160036005,0.865784386057344,-0.48600102296393116,-1.087364794658521,-0.46493281327929764,0.6645474925732094,-0.16064904501671742,0.10420018730006272,1.3088379168204136,0.1421960429541945,0.021540205979291894,-1.696360096304541,0.1020244225904697,-1.4488401608216697,-0.8435275097409567,-0.4903190344160185,-0.6167726979776068,1.516273713443217,-0.8504127889940435,-0.6817747858776013,1.1428523434547717,0.6038809943697726,-0.19543354794411882,0.05964263107473625,0.9886081091818062,-1.6851781394957248,-0.5385704399566267,0.4992709096890342,0.8523579261540218,-0.036804283670902514,0.6753618291437835,-0.5658997632303835,0.08053411107930569,0.46914129922192865,-0.14822017594795173,0.48477839501296927,-2.7740379594780014,-0.057824947331366054,0.007855445306867293,-1.037584910585149,-0.234403782400521,-0.10043071393199138,0.24141096042409843,-0.6761136267213637,-1.3153681866336913,-0.11340787951362206,-1.5068080162253386,-1.3266258407333442,0.008007313205507259,-1.4753921403733459,0.25353596911295373,-0.5618230070321575,-0.051296848284010335,-1.1064574503295967,0.451924472091387,0.41623143210306596,-0.4126695523135965,-0.9246281429196028,-1.4234046222503718,0.08949143437347688,-1.1257961613100143,-0.45495471958497263,-2.2203979818443966,-1.1725235534576335,0.7847230953515638,1.7650003621711998,1.2096931205010761,-0.46025502320418904,-0.04675734436156397,2.2850252000751903,0.19569106889942578,1.9644722028091561,0.3203399145813591,0.5512007112953003,-0.01795135166725152,1.8309718907211967,-1.2484429434786146,0.8173605905207877,-0.11453463647031444,1.055310864976655,-0.6305387854690183,-1.4593607886493545],\"type\":\"box\"},{\"boxpoints\":false,\"line\":{\"width\":1.3},\"marker\":{\"color\":\"rgba(50, 171, 96, 1.0)\"},\"name\":\"C\",\"orientation\":\"v\",\"y\":[0.5818959601613439,0.6635389007014588,-0.4650326002158927,-0.49563769496187016,0.3544326149014103,0.032280422153337845,1.500194598749117,2.0078251618293383,1.250331560859558,-1.5210260565593223,-0.9083896727413385,0.09343621622137635,1.0770523647661714,0.4135650963652773,0.18243023661373478,1.6017575628860965,-0.531874639863994,0.7386088731874443,-1.299442569668759,0.09061907544395652,1.3048100282856383,0.38363698324233875,2.1600291784329193,-0.17890225991828895,-0.3928507318555888,0.5077203804001711,-0.17890260246201345,0.5325204521149169,0.5552064558546723,0.9466377884787205,-0.5537834734751812,-0.9225931378437296,-0.8501838556832638,-0.31102566975449314,0.9836054884214205,-0.3681798942114995,-0.00361292480589936,0.8445803413494956,-1.1030888295997967,0.741470274969195,0.13470395027236978,1.2105372702387485,1.4510247336250213,-0.06799667679769193,1.0439059032051308,1.2758152618645142,-0.28913163689038773,0.6403403697547831,-0.8382254017862524,1.267166140113422,-0.19196802549214645,1.031205035151707,0.26130592536366737,0.290049450665771,0.3923595253989978,-0.07066390600572733,-0.13411773124013696,-0.5112963030506134,0.1523938664586009,-0.256666308707275,1.9500314401460428,0.4451779747728889,1.20667494512559,1.415453883503099,0.4802923215144708,-1.5154210487797841,-1.1689118109720538,-0.855788531435531,0.6967714727613341,0.13185186209408195,1.2545075600604296,0.46671735728806,1.251738898788601,-1.6904602024294255,-0.15933874899631892,-0.6107249632052028,1.0151109662635478,-0.4640549522669946,-1.3094379739157134,-0.1696620985632722,0.7264314214654054,-0.26821860589869123,0.21535758945565767,0.2479765322304549,0.1635268472902467,-0.40118535164143926,0.41818817348398535,-0.5432858902884837,1.2661463403142534,0.9221931103564391,0.077976495849599,0.22879419075920301,0.8708459862581537,1.369969887640816,0.33033096281090457,-0.08613149023670989,-0.10332444940811221,-1.503708056123339,0.46157906034337454,-0.035597229327674916],\"type\":\"box\"},{\"boxpoints\":false,\"line\":{\"width\":1.3},\"marker\":{\"color\":\"rgba(128, 0, 128, 1.0)\"},\"name\":\"D\",\"orientation\":\"v\",\"y\":[-1.643043088882501,-0.041942842179661495,-1.4168472589893575,0.846324115048115,-1.4454782178892902,1.1981126822062262,1.1880877809175365,-0.9437983238027401,0.2791052304301366,0.22472421792598693,-0.23818077146965422,-0.8134865720507752,-0.6539235206125001,-0.18812153427793674,0.10483840484201919,-1.1463715001592154,0.1525511335932151,-0.3333660303849316,0.2231423843314657,-0.642924646210681,1.3868811907592602,2.4775413247661118,-0.9824378868441533,-0.7478323374420225,0.1196298646787779,0.7584231001525484,0.3450095684343771,-0.1364555859070283,0.031593327237034556,0.06416794091502054,-1.0314204223621934,-0.5880114985436802,-0.9309105252363903,1.2080624637488204,-0.4826883216009362,-1.4083635352576558,1.9770423094719052,-1.1996284585164145,0.9825311817596672,-1.6455070177339404,0.295062994963841,-0.7998034733980933,-0.15005896232938026,-0.6656461269471731,0.9465387241306563,-0.3621644533838506,1.154497360028402,0.6355561375336649,1.0729479908496042,-0.946186348362365,0.8035070464021923,0.2299619066818497,0.2677428976486297,0.5441540505336642,2.520355422492496,-1.8362024335707192,0.0752844292503327,-0.8217503084813561,-0.24059727542653545,0.9384132798466748,0.5277873135643862,-1.515812553399073,-0.6654393564758576,2.399854029533553,-0.34779887432418227,0.5360350503453412,-0.18810820561818842,-0.037994786223414116,-0.6004312975798658,-1.5865829760206287,0.9135093073916315,-0.14112121519870538,-1.562180258411497,0.922870786879138,-0.5186716211333601,-1.0691183637534747,-1.4560288756640534,1.8245452402134126,-0.07371980105621495,-0.24864570933300026,0.5080437212536183,-1.323997543405784,1.9888833530466878,-0.9616846288567427,0.8399558727218465,-0.3521507877335014,0.18631604806527377,-0.7852573923852917,0.09450621074434322,-0.25880019016887773,1.1923201907397027,0.2651753312425627,-0.858845471114797,-0.6219850919551331,0.3507993237467051,-1.5098459118210705,1.913013961119211,0.09978487723239408,0.009576411491057068,-0.11720616987445373],\"type\":\"box\"}],                        {\"legend\":{\"bgcolor\":\"#F5F6F9\",\"font\":{\"color\":\"#4D5663\"}},\"paper_bgcolor\":\"#F5F6F9\",\"plot_bgcolor\":\"#F5F6F9\",\"template\":{\"data\":{\"barpolar\":[{\"marker\":{\"line\":{\"color\":\"#E5ECF6\",\"width\":0.5},\"pattern\":{\"fillmode\":\"overlay\",\"size\":10,\"solidity\":0.2}},\"type\":\"barpolar\"}],\"bar\":[{\"error_x\":{\"color\":\"#2a3f5f\"},\"error_y\":{\"color\":\"#2a3f5f\"},\"marker\":{\"line\":{\"color\":\"#E5ECF6\",\"width\":0.5},\"pattern\":{\"fillmode\":\"overlay\",\"size\":10,\"solidity\":0.2}},\"type\":\"bar\"}],\"carpet\":[{\"aaxis\":{\"endlinecolor\":\"#2a3f5f\",\"gridcolor\":\"white\",\"linecolor\":\"white\",\"minorgridcolor\":\"white\",\"startlinecolor\":\"#2a3f5f\"},\"baxis\":{\"endlinecolor\":\"#2a3f5f\",\"gridcolor\":\"white\",\"linecolor\":\"white\",\"minorgridcolor\":\"white\",\"startlinecolor\":\"#2a3f5f\"},\"type\":\"carpet\"}],\"choropleth\":[{\"colorbar\":{\"outlinewidth\":0,\"ticks\":\"\"},\"type\":\"choropleth\"}],\"contourcarpet\":[{\"colorbar\":{\"outlinewidth\":0,\"ticks\":\"\"},\"type\":\"contourcarpet\"}],\"contour\":[{\"colorbar\":{\"outlinewidth\":0,\"ticks\":\"\"},\"colorscale\":[[0.0,\"#0d0887\"],[0.1111111111111111,\"#46039f\"],[0.2222222222222222,\"#7201a8\"],[0.3333333333333333,\"#9c179e\"],[0.4444444444444444,\"#bd3786\"],[0.5555555555555556,\"#d8576b\"],[0.6666666666666666,\"#ed7953\"],[0.7777777777777778,\"#fb9f3a\"],[0.8888888888888888,\"#fdca26\"],[1.0,\"#f0f921\"]],\"type\":\"contour\"}],\"heatmapgl\":[{\"colorbar\":{\"outlinewidth\":0,\"ticks\":\"\"},\"colorscale\":[[0.0,\"#0d0887\"],[0.1111111111111111,\"#46039f\"],[0.2222222222222222,\"#7201a8\"],[0.3333333333333333,\"#9c179e\"],[0.4444444444444444,\"#bd3786\"],[0.5555555555555556,\"#d8576b\"],[0.6666666666666666,\"#ed7953\"],[0.7777777777777778,\"#fb9f3a\"],[0.8888888888888888,\"#fdca26\"],[1.0,\"#f0f921\"]],\"type\":\"heatmapgl\"}],\"heatmap\":[{\"colorbar\":{\"outlinewidth\":0,\"ticks\":\"\"},\"colorscale\":[[0.0,\"#0d0887\"],[0.1111111111111111,\"#46039f\"],[0.2222222222222222,\"#7201a8\"],[0.3333333333333333,\"#9c179e\"],[0.4444444444444444,\"#bd3786\"],[0.5555555555555556,\"#d8576b\"],[0.6666666666666666,\"#ed7953\"],[0.7777777777777778,\"#fb9f3a\"],[0.8888888888888888,\"#fdca26\"],[1.0,\"#f0f921\"]],\"type\":\"heatmap\"}],\"histogram2dcontour\":[{\"colorbar\":{\"outlinewidth\":0,\"ticks\":\"\"},\"colorscale\":[[0.0,\"#0d0887\"],[0.1111111111111111,\"#46039f\"],[0.2222222222222222,\"#7201a8\"],[0.3333333333333333,\"#9c179e\"],[0.4444444444444444,\"#bd3786\"],[0.5555555555555556,\"#d8576b\"],[0.6666666666666666,\"#ed7953\"],[0.7777777777777778,\"#fb9f3a\"],[0.8888888888888888,\"#fdca26\"],[1.0,\"#f0f921\"]],\"type\":\"histogram2dcontour\"}],\"histogram2d\":[{\"colorbar\":{\"outlinewidth\":0,\"ticks\":\"\"},\"colorscale\":[[0.0,\"#0d0887\"],[0.1111111111111111,\"#46039f\"],[0.2222222222222222,\"#7201a8\"],[0.3333333333333333,\"#9c179e\"],[0.4444444444444444,\"#bd3786\"],[0.5555555555555556,\"#d8576b\"],[0.6666666666666666,\"#ed7953\"],[0.7777777777777778,\"#fb9f3a\"],[0.8888888888888888,\"#fdca26\"],[1.0,\"#f0f921\"]],\"type\":\"histogram2d\"}],\"histogram\":[{\"marker\":{\"pattern\":{\"fillmode\":\"overlay\",\"size\":10,\"solidity\":0.2}},\"type\":\"histogram\"}],\"mesh3d\":[{\"colorbar\":{\"outlinewidth\":0,\"ticks\":\"\"},\"type\":\"mesh3d\"}],\"parcoords\":[{\"line\":{\"colorbar\":{\"outlinewidth\":0,\"ticks\":\"\"}},\"type\":\"parcoords\"}],\"pie\":[{\"automargin\":true,\"type\":\"pie\"}],\"scatter3d\":[{\"line\":{\"colorbar\":{\"outlinewidth\":0,\"ticks\":\"\"}},\"marker\":{\"colorbar\":{\"outlinewidth\":0,\"ticks\":\"\"}},\"type\":\"scatter3d\"}],\"scattercarpet\":[{\"marker\":{\"colorbar\":{\"outlinewidth\":0,\"ticks\":\"\"}},\"type\":\"scattercarpet\"}],\"scattergeo\":[{\"marker\":{\"colorbar\":{\"outlinewidth\":0,\"ticks\":\"\"}},\"type\":\"scattergeo\"}],\"scattergl\":[{\"marker\":{\"colorbar\":{\"outlinewidth\":0,\"ticks\":\"\"}},\"type\":\"scattergl\"}],\"scattermapbox\":[{\"marker\":{\"colorbar\":{\"outlinewidth\":0,\"ticks\":\"\"}},\"type\":\"scattermapbox\"}],\"scatterpolargl\":[{\"marker\":{\"colorbar\":{\"outlinewidth\":0,\"ticks\":\"\"}},\"type\":\"scatterpolargl\"}],\"scatterpolar\":[{\"marker\":{\"colorbar\":{\"outlinewidth\":0,\"ticks\":\"\"}},\"type\":\"scatterpolar\"}],\"scatter\":[{\"marker\":{\"colorbar\":{\"outlinewidth\":0,\"ticks\":\"\"}},\"type\":\"scatter\"}],\"scatterternary\":[{\"marker\":{\"colorbar\":{\"outlinewidth\":0,\"ticks\":\"\"}},\"type\":\"scatterternary\"}],\"surface\":[{\"colorbar\":{\"outlinewidth\":0,\"ticks\":\"\"},\"colorscale\":[[0.0,\"#0d0887\"],[0.1111111111111111,\"#46039f\"],[0.2222222222222222,\"#7201a8\"],[0.3333333333333333,\"#9c179e\"],[0.4444444444444444,\"#bd3786\"],[0.5555555555555556,\"#d8576b\"],[0.6666666666666666,\"#ed7953\"],[0.7777777777777778,\"#fb9f3a\"],[0.8888888888888888,\"#fdca26\"],[1.0,\"#f0f921\"]],\"type\":\"surface\"}],\"table\":[{\"cells\":{\"fill\":{\"color\":\"#EBF0F8\"},\"line\":{\"color\":\"white\"}},\"header\":{\"fill\":{\"color\":\"#C8D4E3\"},\"line\":{\"color\":\"white\"}},\"type\":\"table\"}]},\"layout\":{\"annotationdefaults\":{\"arrowcolor\":\"#2a3f5f\",\"arrowhead\":0,\"arrowwidth\":1},\"autotypenumbers\":\"strict\",\"coloraxis\":{\"colorbar\":{\"outlinewidth\":0,\"ticks\":\"\"}},\"colorscale\":{\"diverging\":[[0,\"#8e0152\"],[0.1,\"#c51b7d\"],[0.2,\"#de77ae\"],[0.3,\"#f1b6da\"],[0.4,\"#fde0ef\"],[0.5,\"#f7f7f7\"],[0.6,\"#e6f5d0\"],[0.7,\"#b8e186\"],[0.8,\"#7fbc41\"],[0.9,\"#4d9221\"],[1,\"#276419\"]],\"sequential\":[[0.0,\"#0d0887\"],[0.1111111111111111,\"#46039f\"],[0.2222222222222222,\"#7201a8\"],[0.3333333333333333,\"#9c179e\"],[0.4444444444444444,\"#bd3786\"],[0.5555555555555556,\"#d8576b\"],[0.6666666666666666,\"#ed7953\"],[0.7777777777777778,\"#fb9f3a\"],[0.8888888888888888,\"#fdca26\"],[1.0,\"#f0f921\"]],\"sequentialminus\":[[0.0,\"#0d0887\"],[0.1111111111111111,\"#46039f\"],[0.2222222222222222,\"#7201a8\"],[0.3333333333333333,\"#9c179e\"],[0.4444444444444444,\"#bd3786\"],[0.5555555555555556,\"#d8576b\"],[0.6666666666666666,\"#ed7953\"],[0.7777777777777778,\"#fb9f3a\"],[0.8888888888888888,\"#fdca26\"],[1.0,\"#f0f921\"]]},\"colorway\":[\"#636efa\",\"#EF553B\",\"#00cc96\",\"#ab63fa\",\"#FFA15A\",\"#19d3f3\",\"#FF6692\",\"#B6E880\",\"#FF97FF\",\"#FECB52\"],\"font\":{\"color\":\"#2a3f5f\"},\"geo\":{\"bgcolor\":\"white\",\"lakecolor\":\"white\",\"landcolor\":\"#E5ECF6\",\"showlakes\":true,\"showland\":true,\"subunitcolor\":\"white\"},\"hoverlabel\":{\"align\":\"left\"},\"hovermode\":\"closest\",\"mapbox\":{\"style\":\"light\"},\"paper_bgcolor\":\"white\",\"plot_bgcolor\":\"#E5ECF6\",\"polar\":{\"angularaxis\":{\"gridcolor\":\"white\",\"linecolor\":\"white\",\"ticks\":\"\"},\"bgcolor\":\"#E5ECF6\",\"radialaxis\":{\"gridcolor\":\"white\",\"linecolor\":\"white\",\"ticks\":\"\"}},\"scene\":{\"xaxis\":{\"backgroundcolor\":\"#E5ECF6\",\"gridcolor\":\"white\",\"gridwidth\":2,\"linecolor\":\"white\",\"showbackground\":true,\"ticks\":\"\",\"zerolinecolor\":\"white\"},\"yaxis\":{\"backgroundcolor\":\"#E5ECF6\",\"gridcolor\":\"white\",\"gridwidth\":2,\"linecolor\":\"white\",\"showbackground\":true,\"ticks\":\"\",\"zerolinecolor\":\"white\"},\"zaxis\":{\"backgroundcolor\":\"#E5ECF6\",\"gridcolor\":\"white\",\"gridwidth\":2,\"linecolor\":\"white\",\"showbackground\":true,\"ticks\":\"\",\"zerolinecolor\":\"white\"}},\"shapedefaults\":{\"line\":{\"color\":\"#2a3f5f\"}},\"ternary\":{\"aaxis\":{\"gridcolor\":\"white\",\"linecolor\":\"white\",\"ticks\":\"\"},\"baxis\":{\"gridcolor\":\"white\",\"linecolor\":\"white\",\"ticks\":\"\"},\"bgcolor\":\"#E5ECF6\",\"caxis\":{\"gridcolor\":\"white\",\"linecolor\":\"white\",\"ticks\":\"\"}},\"title\":{\"x\":0.05},\"xaxis\":{\"automargin\":true,\"gridcolor\":\"white\",\"linecolor\":\"white\",\"ticks\":\"\",\"title\":{\"standoff\":15},\"zerolinecolor\":\"white\",\"zerolinewidth\":2},\"yaxis\":{\"automargin\":true,\"gridcolor\":\"white\",\"linecolor\":\"white\",\"ticks\":\"\",\"title\":{\"standoff\":15},\"zerolinecolor\":\"white\",\"zerolinewidth\":2}}},\"title\":{\"font\":{\"color\":\"#4D5663\"}},\"xaxis\":{\"gridcolor\":\"#E1E5ED\",\"showgrid\":true,\"tickfont\":{\"color\":\"#4D5663\"},\"title\":{\"font\":{\"color\":\"#4D5663\"},\"text\":\"\"},\"zerolinecolor\":\"#E1E5ED\"},\"yaxis\":{\"gridcolor\":\"#E1E5ED\",\"showgrid\":true,\"tickfont\":{\"color\":\"#4D5663\"},\"title\":{\"font\":{\"color\":\"#4D5663\"},\"text\":\"\"},\"zerolinecolor\":\"#E1E5ED\"}},                        {\"showLink\": true, \"linkText\": \"Export to plot.ly\", \"plotlyServerURL\": \"https://plot.ly\", \"responsive\": true}                    ).then(function(){\n",
       "                            \n",
       "var gd = document.getElementById('ddf99738-9239-4b8e-84ea-be4475867c4e');\n",
       "var x = new MutationObserver(function (mutations, observer) {{\n",
       "        var display = window.getComputedStyle(gd).display;\n",
       "        if (!display || display === 'none') {{\n",
       "            console.log([gd, 'removed!']);\n",
       "            Plotly.purge(gd);\n",
       "            observer.disconnect();\n",
       "        }}\n",
       "}});\n",
       "\n",
       "// Listen for the removal of the full notebook cells\n",
       "var notebookContainer = gd.closest('#notebook-container');\n",
       "if (notebookContainer) {{\n",
       "    x.observe(notebookContainer, {childList: true});\n",
       "}}\n",
       "\n",
       "// Listen for the clearing of the current output cell\n",
       "var outputEl = gd.closest('.output');\n",
       "if (outputEl) {{\n",
       "    x.observe(outputEl, {childList: true});\n",
       "}}\n",
       "\n",
       "                        })                };                });            </script>        </div>"
      ]
     },
     "metadata": {},
     "output_type": "display_data"
    }
   ],
   "source": [
    "# Box Plot\n",
    "df.iplot(kind='box')"
   ]
  },
  {
   "cell_type": "code",
   "execution_count": 18,
   "id": "574811d3",
   "metadata": {},
   "outputs": [
    {
     "data": {
      "application/vnd.plotly.v1+json": {
       "config": {
        "linkText": "Export to plot.ly",
        "plotlyServerURL": "https://plot.ly",
        "showLink": true
       },
       "data": [
        {
         "colorscale": [
          [
           0,
           "rgb(165,0,38)"
          ],
          [
           0.1,
           "rgb(215,48,39)"
          ],
          [
           0.2,
           "rgb(244,109,67)"
          ],
          [
           0.3,
           "rgb(253,174,97)"
          ],
          [
           0.4,
           "rgb(254,224,144)"
          ],
          [
           0.5,
           "rgb(255,255,191)"
          ],
          [
           0.6,
           "rgb(224,243,248)"
          ],
          [
           0.7,
           "rgb(171,217,233)"
          ],
          [
           0.8,
           "rgb(116,173,209)"
          ],
          [
           0.9,
           "rgb(69,117,180)"
          ],
          [
           1,
           "rgb(49,54,149)"
          ]
         ],
         "type": "surface",
         "x": [
          0,
          1,
          2,
          3,
          4
         ],
         "y": [
          "x",
          "y",
          "z"
         ],
         "z": [
          [
           1,
           2,
           3,
           4,
           5
          ],
          [
           10,
           20,
           30,
           20,
           10
          ],
          [
           5,
           4,
           3,
           2,
           1
          ]
         ]
        }
       ],
       "layout": {
        "legend": {
         "bgcolor": "#F5F6F9",
         "font": {
          "color": "#4D5663"
         }
        },
        "paper_bgcolor": "#F5F6F9",
        "plot_bgcolor": "#F5F6F9",
        "template": {
         "data": {
          "bar": [
           {
            "error_x": {
             "color": "#2a3f5f"
            },
            "error_y": {
             "color": "#2a3f5f"
            },
            "marker": {
             "line": {
              "color": "#E5ECF6",
              "width": 0.5
             },
             "pattern": {
              "fillmode": "overlay",
              "size": 10,
              "solidity": 0.2
             }
            },
            "type": "bar"
           }
          ],
          "barpolar": [
           {
            "marker": {
             "line": {
              "color": "#E5ECF6",
              "width": 0.5
             },
             "pattern": {
              "fillmode": "overlay",
              "size": 10,
              "solidity": 0.2
             }
            },
            "type": "barpolar"
           }
          ],
          "carpet": [
           {
            "aaxis": {
             "endlinecolor": "#2a3f5f",
             "gridcolor": "white",
             "linecolor": "white",
             "minorgridcolor": "white",
             "startlinecolor": "#2a3f5f"
            },
            "baxis": {
             "endlinecolor": "#2a3f5f",
             "gridcolor": "white",
             "linecolor": "white",
             "minorgridcolor": "white",
             "startlinecolor": "#2a3f5f"
            },
            "type": "carpet"
           }
          ],
          "choropleth": [
           {
            "colorbar": {
             "outlinewidth": 0,
             "ticks": ""
            },
            "type": "choropleth"
           }
          ],
          "contour": [
           {
            "colorbar": {
             "outlinewidth": 0,
             "ticks": ""
            },
            "colorscale": [
             [
              0,
              "#0d0887"
             ],
             [
              0.1111111111111111,
              "#46039f"
             ],
             [
              0.2222222222222222,
              "#7201a8"
             ],
             [
              0.3333333333333333,
              "#9c179e"
             ],
             [
              0.4444444444444444,
              "#bd3786"
             ],
             [
              0.5555555555555556,
              "#d8576b"
             ],
             [
              0.6666666666666666,
              "#ed7953"
             ],
             [
              0.7777777777777778,
              "#fb9f3a"
             ],
             [
              0.8888888888888888,
              "#fdca26"
             ],
             [
              1,
              "#f0f921"
             ]
            ],
            "type": "contour"
           }
          ],
          "contourcarpet": [
           {
            "colorbar": {
             "outlinewidth": 0,
             "ticks": ""
            },
            "type": "contourcarpet"
           }
          ],
          "heatmap": [
           {
            "colorbar": {
             "outlinewidth": 0,
             "ticks": ""
            },
            "colorscale": [
             [
              0,
              "#0d0887"
             ],
             [
              0.1111111111111111,
              "#46039f"
             ],
             [
              0.2222222222222222,
              "#7201a8"
             ],
             [
              0.3333333333333333,
              "#9c179e"
             ],
             [
              0.4444444444444444,
              "#bd3786"
             ],
             [
              0.5555555555555556,
              "#d8576b"
             ],
             [
              0.6666666666666666,
              "#ed7953"
             ],
             [
              0.7777777777777778,
              "#fb9f3a"
             ],
             [
              0.8888888888888888,
              "#fdca26"
             ],
             [
              1,
              "#f0f921"
             ]
            ],
            "type": "heatmap"
           }
          ],
          "heatmapgl": [
           {
            "colorbar": {
             "outlinewidth": 0,
             "ticks": ""
            },
            "colorscale": [
             [
              0,
              "#0d0887"
             ],
             [
              0.1111111111111111,
              "#46039f"
             ],
             [
              0.2222222222222222,
              "#7201a8"
             ],
             [
              0.3333333333333333,
              "#9c179e"
             ],
             [
              0.4444444444444444,
              "#bd3786"
             ],
             [
              0.5555555555555556,
              "#d8576b"
             ],
             [
              0.6666666666666666,
              "#ed7953"
             ],
             [
              0.7777777777777778,
              "#fb9f3a"
             ],
             [
              0.8888888888888888,
              "#fdca26"
             ],
             [
              1,
              "#f0f921"
             ]
            ],
            "type": "heatmapgl"
           }
          ],
          "histogram": [
           {
            "marker": {
             "pattern": {
              "fillmode": "overlay",
              "size": 10,
              "solidity": 0.2
             }
            },
            "type": "histogram"
           }
          ],
          "histogram2d": [
           {
            "colorbar": {
             "outlinewidth": 0,
             "ticks": ""
            },
            "colorscale": [
             [
              0,
              "#0d0887"
             ],
             [
              0.1111111111111111,
              "#46039f"
             ],
             [
              0.2222222222222222,
              "#7201a8"
             ],
             [
              0.3333333333333333,
              "#9c179e"
             ],
             [
              0.4444444444444444,
              "#bd3786"
             ],
             [
              0.5555555555555556,
              "#d8576b"
             ],
             [
              0.6666666666666666,
              "#ed7953"
             ],
             [
              0.7777777777777778,
              "#fb9f3a"
             ],
             [
              0.8888888888888888,
              "#fdca26"
             ],
             [
              1,
              "#f0f921"
             ]
            ],
            "type": "histogram2d"
           }
          ],
          "histogram2dcontour": [
           {
            "colorbar": {
             "outlinewidth": 0,
             "ticks": ""
            },
            "colorscale": [
             [
              0,
              "#0d0887"
             ],
             [
              0.1111111111111111,
              "#46039f"
             ],
             [
              0.2222222222222222,
              "#7201a8"
             ],
             [
              0.3333333333333333,
              "#9c179e"
             ],
             [
              0.4444444444444444,
              "#bd3786"
             ],
             [
              0.5555555555555556,
              "#d8576b"
             ],
             [
              0.6666666666666666,
              "#ed7953"
             ],
             [
              0.7777777777777778,
              "#fb9f3a"
             ],
             [
              0.8888888888888888,
              "#fdca26"
             ],
             [
              1,
              "#f0f921"
             ]
            ],
            "type": "histogram2dcontour"
           }
          ],
          "mesh3d": [
           {
            "colorbar": {
             "outlinewidth": 0,
             "ticks": ""
            },
            "type": "mesh3d"
           }
          ],
          "parcoords": [
           {
            "line": {
             "colorbar": {
              "outlinewidth": 0,
              "ticks": ""
             }
            },
            "type": "parcoords"
           }
          ],
          "pie": [
           {
            "automargin": true,
            "type": "pie"
           }
          ],
          "scatter": [
           {
            "marker": {
             "colorbar": {
              "outlinewidth": 0,
              "ticks": ""
             }
            },
            "type": "scatter"
           }
          ],
          "scatter3d": [
           {
            "line": {
             "colorbar": {
              "outlinewidth": 0,
              "ticks": ""
             }
            },
            "marker": {
             "colorbar": {
              "outlinewidth": 0,
              "ticks": ""
             }
            },
            "type": "scatter3d"
           }
          ],
          "scattercarpet": [
           {
            "marker": {
             "colorbar": {
              "outlinewidth": 0,
              "ticks": ""
             }
            },
            "type": "scattercarpet"
           }
          ],
          "scattergeo": [
           {
            "marker": {
             "colorbar": {
              "outlinewidth": 0,
              "ticks": ""
             }
            },
            "type": "scattergeo"
           }
          ],
          "scattergl": [
           {
            "marker": {
             "colorbar": {
              "outlinewidth": 0,
              "ticks": ""
             }
            },
            "type": "scattergl"
           }
          ],
          "scattermapbox": [
           {
            "marker": {
             "colorbar": {
              "outlinewidth": 0,
              "ticks": ""
             }
            },
            "type": "scattermapbox"
           }
          ],
          "scatterpolar": [
           {
            "marker": {
             "colorbar": {
              "outlinewidth": 0,
              "ticks": ""
             }
            },
            "type": "scatterpolar"
           }
          ],
          "scatterpolargl": [
           {
            "marker": {
             "colorbar": {
              "outlinewidth": 0,
              "ticks": ""
             }
            },
            "type": "scatterpolargl"
           }
          ],
          "scatterternary": [
           {
            "marker": {
             "colorbar": {
              "outlinewidth": 0,
              "ticks": ""
             }
            },
            "type": "scatterternary"
           }
          ],
          "surface": [
           {
            "colorbar": {
             "outlinewidth": 0,
             "ticks": ""
            },
            "colorscale": [
             [
              0,
              "#0d0887"
             ],
             [
              0.1111111111111111,
              "#46039f"
             ],
             [
              0.2222222222222222,
              "#7201a8"
             ],
             [
              0.3333333333333333,
              "#9c179e"
             ],
             [
              0.4444444444444444,
              "#bd3786"
             ],
             [
              0.5555555555555556,
              "#d8576b"
             ],
             [
              0.6666666666666666,
              "#ed7953"
             ],
             [
              0.7777777777777778,
              "#fb9f3a"
             ],
             [
              0.8888888888888888,
              "#fdca26"
             ],
             [
              1,
              "#f0f921"
             ]
            ],
            "type": "surface"
           }
          ],
          "table": [
           {
            "cells": {
             "fill": {
              "color": "#EBF0F8"
             },
             "line": {
              "color": "white"
             }
            },
            "header": {
             "fill": {
              "color": "#C8D4E3"
             },
             "line": {
              "color": "white"
             }
            },
            "type": "table"
           }
          ]
         },
         "layout": {
          "annotationdefaults": {
           "arrowcolor": "#2a3f5f",
           "arrowhead": 0,
           "arrowwidth": 1
          },
          "autotypenumbers": "strict",
          "coloraxis": {
           "colorbar": {
            "outlinewidth": 0,
            "ticks": ""
           }
          },
          "colorscale": {
           "diverging": [
            [
             0,
             "#8e0152"
            ],
            [
             0.1,
             "#c51b7d"
            ],
            [
             0.2,
             "#de77ae"
            ],
            [
             0.3,
             "#f1b6da"
            ],
            [
             0.4,
             "#fde0ef"
            ],
            [
             0.5,
             "#f7f7f7"
            ],
            [
             0.6,
             "#e6f5d0"
            ],
            [
             0.7,
             "#b8e186"
            ],
            [
             0.8,
             "#7fbc41"
            ],
            [
             0.9,
             "#4d9221"
            ],
            [
             1,
             "#276419"
            ]
           ],
           "sequential": [
            [
             0,
             "#0d0887"
            ],
            [
             0.1111111111111111,
             "#46039f"
            ],
            [
             0.2222222222222222,
             "#7201a8"
            ],
            [
             0.3333333333333333,
             "#9c179e"
            ],
            [
             0.4444444444444444,
             "#bd3786"
            ],
            [
             0.5555555555555556,
             "#d8576b"
            ],
            [
             0.6666666666666666,
             "#ed7953"
            ],
            [
             0.7777777777777778,
             "#fb9f3a"
            ],
            [
             0.8888888888888888,
             "#fdca26"
            ],
            [
             1,
             "#f0f921"
            ]
           ],
           "sequentialminus": [
            [
             0,
             "#0d0887"
            ],
            [
             0.1111111111111111,
             "#46039f"
            ],
            [
             0.2222222222222222,
             "#7201a8"
            ],
            [
             0.3333333333333333,
             "#9c179e"
            ],
            [
             0.4444444444444444,
             "#bd3786"
            ],
            [
             0.5555555555555556,
             "#d8576b"
            ],
            [
             0.6666666666666666,
             "#ed7953"
            ],
            [
             0.7777777777777778,
             "#fb9f3a"
            ],
            [
             0.8888888888888888,
             "#fdca26"
            ],
            [
             1,
             "#f0f921"
            ]
           ]
          },
          "colorway": [
           "#636efa",
           "#EF553B",
           "#00cc96",
           "#ab63fa",
           "#FFA15A",
           "#19d3f3",
           "#FF6692",
           "#B6E880",
           "#FF97FF",
           "#FECB52"
          ],
          "font": {
           "color": "#2a3f5f"
          },
          "geo": {
           "bgcolor": "white",
           "lakecolor": "white",
           "landcolor": "#E5ECF6",
           "showlakes": true,
           "showland": true,
           "subunitcolor": "white"
          },
          "hoverlabel": {
           "align": "left"
          },
          "hovermode": "closest",
          "mapbox": {
           "style": "light"
          },
          "paper_bgcolor": "white",
          "plot_bgcolor": "#E5ECF6",
          "polar": {
           "angularaxis": {
            "gridcolor": "white",
            "linecolor": "white",
            "ticks": ""
           },
           "bgcolor": "#E5ECF6",
           "radialaxis": {
            "gridcolor": "white",
            "linecolor": "white",
            "ticks": ""
           }
          },
          "scene": {
           "xaxis": {
            "backgroundcolor": "#E5ECF6",
            "gridcolor": "white",
            "gridwidth": 2,
            "linecolor": "white",
            "showbackground": true,
            "ticks": "",
            "zerolinecolor": "white"
           },
           "yaxis": {
            "backgroundcolor": "#E5ECF6",
            "gridcolor": "white",
            "gridwidth": 2,
            "linecolor": "white",
            "showbackground": true,
            "ticks": "",
            "zerolinecolor": "white"
           },
           "zaxis": {
            "backgroundcolor": "#E5ECF6",
            "gridcolor": "white",
            "gridwidth": 2,
            "linecolor": "white",
            "showbackground": true,
            "ticks": "",
            "zerolinecolor": "white"
           }
          },
          "shapedefaults": {
           "line": {
            "color": "#2a3f5f"
           }
          },
          "ternary": {
           "aaxis": {
            "gridcolor": "white",
            "linecolor": "white",
            "ticks": ""
           },
           "baxis": {
            "gridcolor": "white",
            "linecolor": "white",
            "ticks": ""
           },
           "bgcolor": "#E5ECF6",
           "caxis": {
            "gridcolor": "white",
            "linecolor": "white",
            "ticks": ""
           }
          },
          "title": {
           "x": 0.05
          },
          "xaxis": {
           "automargin": true,
           "gridcolor": "white",
           "linecolor": "white",
           "ticks": "",
           "title": {
            "standoff": 15
           },
           "zerolinecolor": "white",
           "zerolinewidth": 2
          },
          "yaxis": {
           "automargin": true,
           "gridcolor": "white",
           "linecolor": "white",
           "ticks": "",
           "title": {
            "standoff": 15
           },
           "zerolinecolor": "white",
           "zerolinewidth": 2
          }
         }
        },
        "title": {
         "font": {
          "color": "#4D5663"
         }
        },
        "xaxis": {
         "gridcolor": "#E1E5ED",
         "showgrid": true,
         "tickfont": {
          "color": "#4D5663"
         },
         "title": {
          "font": {
           "color": "#4D5663"
          },
          "text": ""
         },
         "zerolinecolor": "#E1E5ED"
        },
        "yaxis": {
         "gridcolor": "#E1E5ED",
         "showgrid": true,
         "tickfont": {
          "color": "#4D5663"
         },
         "title": {
          "font": {
           "color": "#4D5663"
          },
          "text": ""
         },
         "zerolinecolor": "#E1E5ED"
        }
       }
      },
      "text/html": [
       "<div>                            <div id=\"1770a482-77d3-4fb4-b5c5-0ebd152539f3\" class=\"plotly-graph-div\" style=\"height:525px; width:100%;\"></div>            <script type=\"text/javascript\">                require([\"plotly\"], function(Plotly) {                    window.PLOTLYENV=window.PLOTLYENV || {};\n",
       "                    window.PLOTLYENV.BASE_URL='https://plot.ly';                                    if (document.getElementById(\"1770a482-77d3-4fb4-b5c5-0ebd152539f3\")) {                    Plotly.newPlot(                        \"1770a482-77d3-4fb4-b5c5-0ebd152539f3\",                        [{\"colorscale\":[[0.0,\"rgb(165,0,38)\"],[0.1,\"rgb(215,48,39)\"],[0.2,\"rgb(244,109,67)\"],[0.3,\"rgb(253,174,97)\"],[0.4,\"rgb(254,224,144)\"],[0.5,\"rgb(255,255,191)\"],[0.6,\"rgb(224,243,248)\"],[0.7,\"rgb(171,217,233)\"],[0.8,\"rgb(116,173,209)\"],[0.9,\"rgb(69,117,180)\"],[1.0,\"rgb(49,54,149)\"]],\"x\":[0,1,2,3,4],\"y\":[\"x\",\"y\",\"z\"],\"z\":[[1,2,3,4,5],[10,20,30,20,10],[5,4,3,2,1]],\"type\":\"surface\"}],                        {\"legend\":{\"bgcolor\":\"#F5F6F9\",\"font\":{\"color\":\"#4D5663\"}},\"paper_bgcolor\":\"#F5F6F9\",\"plot_bgcolor\":\"#F5F6F9\",\"template\":{\"data\":{\"barpolar\":[{\"marker\":{\"line\":{\"color\":\"#E5ECF6\",\"width\":0.5},\"pattern\":{\"fillmode\":\"overlay\",\"size\":10,\"solidity\":0.2}},\"type\":\"barpolar\"}],\"bar\":[{\"error_x\":{\"color\":\"#2a3f5f\"},\"error_y\":{\"color\":\"#2a3f5f\"},\"marker\":{\"line\":{\"color\":\"#E5ECF6\",\"width\":0.5},\"pattern\":{\"fillmode\":\"overlay\",\"size\":10,\"solidity\":0.2}},\"type\":\"bar\"}],\"carpet\":[{\"aaxis\":{\"endlinecolor\":\"#2a3f5f\",\"gridcolor\":\"white\",\"linecolor\":\"white\",\"minorgridcolor\":\"white\",\"startlinecolor\":\"#2a3f5f\"},\"baxis\":{\"endlinecolor\":\"#2a3f5f\",\"gridcolor\":\"white\",\"linecolor\":\"white\",\"minorgridcolor\":\"white\",\"startlinecolor\":\"#2a3f5f\"},\"type\":\"carpet\"}],\"choropleth\":[{\"colorbar\":{\"outlinewidth\":0,\"ticks\":\"\"},\"type\":\"choropleth\"}],\"contourcarpet\":[{\"colorbar\":{\"outlinewidth\":0,\"ticks\":\"\"},\"type\":\"contourcarpet\"}],\"contour\":[{\"colorbar\":{\"outlinewidth\":0,\"ticks\":\"\"},\"colorscale\":[[0.0,\"#0d0887\"],[0.1111111111111111,\"#46039f\"],[0.2222222222222222,\"#7201a8\"],[0.3333333333333333,\"#9c179e\"],[0.4444444444444444,\"#bd3786\"],[0.5555555555555556,\"#d8576b\"],[0.6666666666666666,\"#ed7953\"],[0.7777777777777778,\"#fb9f3a\"],[0.8888888888888888,\"#fdca26\"],[1.0,\"#f0f921\"]],\"type\":\"contour\"}],\"heatmapgl\":[{\"colorbar\":{\"outlinewidth\":0,\"ticks\":\"\"},\"colorscale\":[[0.0,\"#0d0887\"],[0.1111111111111111,\"#46039f\"],[0.2222222222222222,\"#7201a8\"],[0.3333333333333333,\"#9c179e\"],[0.4444444444444444,\"#bd3786\"],[0.5555555555555556,\"#d8576b\"],[0.6666666666666666,\"#ed7953\"],[0.7777777777777778,\"#fb9f3a\"],[0.8888888888888888,\"#fdca26\"],[1.0,\"#f0f921\"]],\"type\":\"heatmapgl\"}],\"heatmap\":[{\"colorbar\":{\"outlinewidth\":0,\"ticks\":\"\"},\"colorscale\":[[0.0,\"#0d0887\"],[0.1111111111111111,\"#46039f\"],[0.2222222222222222,\"#7201a8\"],[0.3333333333333333,\"#9c179e\"],[0.4444444444444444,\"#bd3786\"],[0.5555555555555556,\"#d8576b\"],[0.6666666666666666,\"#ed7953\"],[0.7777777777777778,\"#fb9f3a\"],[0.8888888888888888,\"#fdca26\"],[1.0,\"#f0f921\"]],\"type\":\"heatmap\"}],\"histogram2dcontour\":[{\"colorbar\":{\"outlinewidth\":0,\"ticks\":\"\"},\"colorscale\":[[0.0,\"#0d0887\"],[0.1111111111111111,\"#46039f\"],[0.2222222222222222,\"#7201a8\"],[0.3333333333333333,\"#9c179e\"],[0.4444444444444444,\"#bd3786\"],[0.5555555555555556,\"#d8576b\"],[0.6666666666666666,\"#ed7953\"],[0.7777777777777778,\"#fb9f3a\"],[0.8888888888888888,\"#fdca26\"],[1.0,\"#f0f921\"]],\"type\":\"histogram2dcontour\"}],\"histogram2d\":[{\"colorbar\":{\"outlinewidth\":0,\"ticks\":\"\"},\"colorscale\":[[0.0,\"#0d0887\"],[0.1111111111111111,\"#46039f\"],[0.2222222222222222,\"#7201a8\"],[0.3333333333333333,\"#9c179e\"],[0.4444444444444444,\"#bd3786\"],[0.5555555555555556,\"#d8576b\"],[0.6666666666666666,\"#ed7953\"],[0.7777777777777778,\"#fb9f3a\"],[0.8888888888888888,\"#fdca26\"],[1.0,\"#f0f921\"]],\"type\":\"histogram2d\"}],\"histogram\":[{\"marker\":{\"pattern\":{\"fillmode\":\"overlay\",\"size\":10,\"solidity\":0.2}},\"type\":\"histogram\"}],\"mesh3d\":[{\"colorbar\":{\"outlinewidth\":0,\"ticks\":\"\"},\"type\":\"mesh3d\"}],\"parcoords\":[{\"line\":{\"colorbar\":{\"outlinewidth\":0,\"ticks\":\"\"}},\"type\":\"parcoords\"}],\"pie\":[{\"automargin\":true,\"type\":\"pie\"}],\"scatter3d\":[{\"line\":{\"colorbar\":{\"outlinewidth\":0,\"ticks\":\"\"}},\"marker\":{\"colorbar\":{\"outlinewidth\":0,\"ticks\":\"\"}},\"type\":\"scatter3d\"}],\"scattercarpet\":[{\"marker\":{\"colorbar\":{\"outlinewidth\":0,\"ticks\":\"\"}},\"type\":\"scattercarpet\"}],\"scattergeo\":[{\"marker\":{\"colorbar\":{\"outlinewidth\":0,\"ticks\":\"\"}},\"type\":\"scattergeo\"}],\"scattergl\":[{\"marker\":{\"colorbar\":{\"outlinewidth\":0,\"ticks\":\"\"}},\"type\":\"scattergl\"}],\"scattermapbox\":[{\"marker\":{\"colorbar\":{\"outlinewidth\":0,\"ticks\":\"\"}},\"type\":\"scattermapbox\"}],\"scatterpolargl\":[{\"marker\":{\"colorbar\":{\"outlinewidth\":0,\"ticks\":\"\"}},\"type\":\"scatterpolargl\"}],\"scatterpolar\":[{\"marker\":{\"colorbar\":{\"outlinewidth\":0,\"ticks\":\"\"}},\"type\":\"scatterpolar\"}],\"scatter\":[{\"marker\":{\"colorbar\":{\"outlinewidth\":0,\"ticks\":\"\"}},\"type\":\"scatter\"}],\"scatterternary\":[{\"marker\":{\"colorbar\":{\"outlinewidth\":0,\"ticks\":\"\"}},\"type\":\"scatterternary\"}],\"surface\":[{\"colorbar\":{\"outlinewidth\":0,\"ticks\":\"\"},\"colorscale\":[[0.0,\"#0d0887\"],[0.1111111111111111,\"#46039f\"],[0.2222222222222222,\"#7201a8\"],[0.3333333333333333,\"#9c179e\"],[0.4444444444444444,\"#bd3786\"],[0.5555555555555556,\"#d8576b\"],[0.6666666666666666,\"#ed7953\"],[0.7777777777777778,\"#fb9f3a\"],[0.8888888888888888,\"#fdca26\"],[1.0,\"#f0f921\"]],\"type\":\"surface\"}],\"table\":[{\"cells\":{\"fill\":{\"color\":\"#EBF0F8\"},\"line\":{\"color\":\"white\"}},\"header\":{\"fill\":{\"color\":\"#C8D4E3\"},\"line\":{\"color\":\"white\"}},\"type\":\"table\"}]},\"layout\":{\"annotationdefaults\":{\"arrowcolor\":\"#2a3f5f\",\"arrowhead\":0,\"arrowwidth\":1},\"autotypenumbers\":\"strict\",\"coloraxis\":{\"colorbar\":{\"outlinewidth\":0,\"ticks\":\"\"}},\"colorscale\":{\"diverging\":[[0,\"#8e0152\"],[0.1,\"#c51b7d\"],[0.2,\"#de77ae\"],[0.3,\"#f1b6da\"],[0.4,\"#fde0ef\"],[0.5,\"#f7f7f7\"],[0.6,\"#e6f5d0\"],[0.7,\"#b8e186\"],[0.8,\"#7fbc41\"],[0.9,\"#4d9221\"],[1,\"#276419\"]],\"sequential\":[[0.0,\"#0d0887\"],[0.1111111111111111,\"#46039f\"],[0.2222222222222222,\"#7201a8\"],[0.3333333333333333,\"#9c179e\"],[0.4444444444444444,\"#bd3786\"],[0.5555555555555556,\"#d8576b\"],[0.6666666666666666,\"#ed7953\"],[0.7777777777777778,\"#fb9f3a\"],[0.8888888888888888,\"#fdca26\"],[1.0,\"#f0f921\"]],\"sequentialminus\":[[0.0,\"#0d0887\"],[0.1111111111111111,\"#46039f\"],[0.2222222222222222,\"#7201a8\"],[0.3333333333333333,\"#9c179e\"],[0.4444444444444444,\"#bd3786\"],[0.5555555555555556,\"#d8576b\"],[0.6666666666666666,\"#ed7953\"],[0.7777777777777778,\"#fb9f3a\"],[0.8888888888888888,\"#fdca26\"],[1.0,\"#f0f921\"]]},\"colorway\":[\"#636efa\",\"#EF553B\",\"#00cc96\",\"#ab63fa\",\"#FFA15A\",\"#19d3f3\",\"#FF6692\",\"#B6E880\",\"#FF97FF\",\"#FECB52\"],\"font\":{\"color\":\"#2a3f5f\"},\"geo\":{\"bgcolor\":\"white\",\"lakecolor\":\"white\",\"landcolor\":\"#E5ECF6\",\"showlakes\":true,\"showland\":true,\"subunitcolor\":\"white\"},\"hoverlabel\":{\"align\":\"left\"},\"hovermode\":\"closest\",\"mapbox\":{\"style\":\"light\"},\"paper_bgcolor\":\"white\",\"plot_bgcolor\":\"#E5ECF6\",\"polar\":{\"angularaxis\":{\"gridcolor\":\"white\",\"linecolor\":\"white\",\"ticks\":\"\"},\"bgcolor\":\"#E5ECF6\",\"radialaxis\":{\"gridcolor\":\"white\",\"linecolor\":\"white\",\"ticks\":\"\"}},\"scene\":{\"xaxis\":{\"backgroundcolor\":\"#E5ECF6\",\"gridcolor\":\"white\",\"gridwidth\":2,\"linecolor\":\"white\",\"showbackground\":true,\"ticks\":\"\",\"zerolinecolor\":\"white\"},\"yaxis\":{\"backgroundcolor\":\"#E5ECF6\",\"gridcolor\":\"white\",\"gridwidth\":2,\"linecolor\":\"white\",\"showbackground\":true,\"ticks\":\"\",\"zerolinecolor\":\"white\"},\"zaxis\":{\"backgroundcolor\":\"#E5ECF6\",\"gridcolor\":\"white\",\"gridwidth\":2,\"linecolor\":\"white\",\"showbackground\":true,\"ticks\":\"\",\"zerolinecolor\":\"white\"}},\"shapedefaults\":{\"line\":{\"color\":\"#2a3f5f\"}},\"ternary\":{\"aaxis\":{\"gridcolor\":\"white\",\"linecolor\":\"white\",\"ticks\":\"\"},\"baxis\":{\"gridcolor\":\"white\",\"linecolor\":\"white\",\"ticks\":\"\"},\"bgcolor\":\"#E5ECF6\",\"caxis\":{\"gridcolor\":\"white\",\"linecolor\":\"white\",\"ticks\":\"\"}},\"title\":{\"x\":0.05},\"xaxis\":{\"automargin\":true,\"gridcolor\":\"white\",\"linecolor\":\"white\",\"ticks\":\"\",\"title\":{\"standoff\":15},\"zerolinecolor\":\"white\",\"zerolinewidth\":2},\"yaxis\":{\"automargin\":true,\"gridcolor\":\"white\",\"linecolor\":\"white\",\"ticks\":\"\",\"title\":{\"standoff\":15},\"zerolinecolor\":\"white\",\"zerolinewidth\":2}}},\"title\":{\"font\":{\"color\":\"#4D5663\"}},\"xaxis\":{\"gridcolor\":\"#E1E5ED\",\"showgrid\":true,\"tickfont\":{\"color\":\"#4D5663\"},\"title\":{\"font\":{\"color\":\"#4D5663\"},\"text\":\"\"},\"zerolinecolor\":\"#E1E5ED\"},\"yaxis\":{\"gridcolor\":\"#E1E5ED\",\"showgrid\":true,\"tickfont\":{\"color\":\"#4D5663\"},\"title\":{\"font\":{\"color\":\"#4D5663\"},\"text\":\"\"},\"zerolinecolor\":\"#E1E5ED\"}},                        {\"showLink\": true, \"linkText\": \"Export to plot.ly\", \"plotlyServerURL\": \"https://plot.ly\", \"responsive\": true}                    ).then(function(){\n",
       "                            \n",
       "var gd = document.getElementById('1770a482-77d3-4fb4-b5c5-0ebd152539f3');\n",
       "var x = new MutationObserver(function (mutations, observer) {{\n",
       "        var display = window.getComputedStyle(gd).display;\n",
       "        if (!display || display === 'none') {{\n",
       "            console.log([gd, 'removed!']);\n",
       "            Plotly.purge(gd);\n",
       "            observer.disconnect();\n",
       "        }}\n",
       "}});\n",
       "\n",
       "// Listen for the removal of the full notebook cells\n",
       "var notebookContainer = gd.closest('#notebook-container');\n",
       "if (notebookContainer) {{\n",
       "    x.observe(notebookContainer, {childList: true});\n",
       "}}\n",
       "\n",
       "// Listen for the clearing of the current output cell\n",
       "var outputEl = gd.closest('.output');\n",
       "if (outputEl) {{\n",
       "    x.observe(outputEl, {childList: true});\n",
       "}}\n",
       "\n",
       "                        })                };                });            </script>        </div>"
      ]
     },
     "metadata": {},
     "output_type": "display_data"
    }
   ],
   "source": [
    "# 3D Surface Plot DataFrame\n",
    "df3 = pd.DataFrame({\n",
    "    'x': [1,2,3,4,5],\n",
    "    'y': [10,20,30,20,10],\n",
    "    'z': [5,4,3,2,1]\n",
    "})\n",
    "\n",
    "df3.iplot(kind='surface',colorscale='rdylbu')"
   ]
  },
  {
   "cell_type": "code",
   "execution_count": 22,
   "id": "bdfa586b",
   "metadata": {},
   "outputs": [
    {
     "data": {
      "application/vnd.plotly.v1+json": {
       "config": {
        "linkText": "Export to plot.ly",
        "plotlyServerURL": "https://plot.ly",
        "showLink": true
       },
       "data": [
        {
         "histfunc": "count",
         "histnorm": "",
         "marker": {
          "color": "rgba(255, 153, 51, 1.0)",
          "line": {
           "color": "#4D5663",
           "width": 1.3
          }
         },
         "name": "A",
         "nbinsx": 50,
         "opacity": 0.8,
         "orientation": "v",
         "type": "histogram",
         "x": [
          0.42834336660048555,
          -0.5431130343751923,
          -1.1089003168660925,
          -0.9310734812179945,
          0.7009672118351541,
          0.8814470474168713,
          -0.8407399793698521,
          -0.576893294052475,
          -0.8080703354235872,
          -0.845685394146627,
          1.0546390088298483,
          -1.2167789452198259,
          -0.5793894576537396,
          0.6531820902565525,
          1.1852687270905453,
          2.179059607997261,
          -0.916752595388181,
          0.5616215793465428,
          0.6378222152443052,
          -0.4644285971201103,
          -0.26443495004037043,
          1.2197910519981685,
          -0.09646466921168612,
          -0.13577844238819872,
          -0.3196361512921841,
          -2.3138191266271706,
          1.8776670994205429,
          0.7405974885272778,
          -3.142074285106367,
          -1.472470555300087,
          -0.16340487140345647,
          -0.14795883993457962,
          0.4002683275186483,
          1.2623093249244404,
          -0.13729696811807196,
          -0.4103419566810211,
          0.6309401297310346,
          -2.554433216510306,
          -1.8136787861246852,
          -1.5971638470617107,
          -0.04727848987271,
          -0.9859271975667138,
          -0.5200134096541108,
          -0.1496386173536915,
          -1.692708236163166,
          -0.9861515241881423,
          1.8566766289766876,
          -0.6426894805921634,
          1.3684446007506572,
          1.0303287829607057,
          0.15816602375477531,
          0.6029637904815115,
          0.7020121929344575,
          -0.6534446453808141,
          -0.8819822613338307,
          -0.3725294111302389,
          0.917844776303251,
          2.952904715090055,
          0.563570403972607,
          0.34163541591459934,
          0.24760279926901188,
          0.6853429334592762,
          -0.8871213125118289,
          -0.62447480201159,
          -1.1435009277849852,
          1.3423559897981243,
          -0.6885983903751369,
          -0.6327941965193481,
          1.1382967585537072,
          1.6535942818207383,
          -0.49473872348892395,
          -0.2213077371949228,
          -1.7441809868780074,
          0.33503514683285246,
          1.457920342236441,
          1.1942547194581565,
          1.6048350491365895,
          0.6834991629924438,
          0.5449683729052708,
          -0.09354422620876975,
          -0.7332514853887435,
          -1.2858330647452987,
          -1.6144516726215936,
          0.5491139981272396,
          0.3988004780816497,
          1.1415368511791262,
          0.9103446674267672,
          -0.4302964462779966,
          0.34100207998563,
          1.0883510241965397,
          0.9003232980148024,
          1.0445905659847246,
          0.4609394941132174,
          2.059739333522352,
          -0.8652132010214949,
          0.4132656940423574,
          0.1597976827062007,
          0.8959245972573175,
          0.19935532667623881,
          -1.2631555290890033
         ]
        },
        {
         "histfunc": "count",
         "histnorm": "",
         "marker": {
          "color": "rgba(55, 128, 191, 1.0)",
          "line": {
           "color": "#4D5663",
           "width": 1.3
          }
         },
         "name": "B",
         "nbinsx": 50,
         "opacity": 0.8,
         "orientation": "v",
         "type": "histogram",
         "x": [
          -1.5110962441514955,
          -1.3421231187988822,
          -0.8218709717794145,
          -0.5629676527933162,
          -0.0939803421434012,
          -1.0281015513104197,
          0.3995284548028364,
          0.9763755222555714,
          0.04671111034541469,
          -1.9765101574433694,
          -1.0786291236002599,
          -1.1370525638047173,
          0.6234717853349546,
          0.22736963902127702,
          0.6312271068437805,
          1.898722835344093,
          -1.1841566347480224,
          0.6706380460640187,
          0.46705903160036005,
          0.865784386057344,
          -0.48600102296393116,
          -1.087364794658521,
          -0.46493281327929764,
          0.6645474925732094,
          -0.16064904501671742,
          0.10420018730006272,
          1.3088379168204136,
          0.1421960429541945,
          0.021540205979291894,
          -1.696360096304541,
          0.1020244225904697,
          -1.4488401608216697,
          -0.8435275097409567,
          -0.4903190344160185,
          -0.6167726979776068,
          1.516273713443217,
          -0.8504127889940435,
          -0.6817747858776013,
          1.1428523434547717,
          0.6038809943697726,
          -0.19543354794411882,
          0.05964263107473625,
          0.9886081091818062,
          -1.6851781394957248,
          -0.5385704399566267,
          0.4992709096890342,
          0.8523579261540218,
          -0.036804283670902514,
          0.6753618291437835,
          -0.5658997632303835,
          0.08053411107930569,
          0.46914129922192865,
          -0.14822017594795173,
          0.48477839501296927,
          -2.7740379594780014,
          -0.057824947331366054,
          0.007855445306867293,
          -1.037584910585149,
          -0.234403782400521,
          -0.10043071393199138,
          0.24141096042409843,
          -0.6761136267213637,
          -1.3153681866336913,
          -0.11340787951362206,
          -1.5068080162253386,
          -1.3266258407333442,
          0.008007313205507259,
          -1.4753921403733459,
          0.25353596911295373,
          -0.5618230070321575,
          -0.051296848284010335,
          -1.1064574503295967,
          0.451924472091387,
          0.41623143210306596,
          -0.4126695523135965,
          -0.9246281429196028,
          -1.4234046222503718,
          0.08949143437347688,
          -1.1257961613100143,
          -0.45495471958497263,
          -2.2203979818443966,
          -1.1725235534576335,
          0.7847230953515638,
          1.7650003621711998,
          1.2096931205010761,
          -0.46025502320418904,
          -0.04675734436156397,
          2.2850252000751903,
          0.19569106889942578,
          1.9644722028091561,
          0.3203399145813591,
          0.5512007112953003,
          -0.01795135166725152,
          1.8309718907211967,
          -1.2484429434786146,
          0.8173605905207877,
          -0.11453463647031444,
          1.055310864976655,
          -0.6305387854690183,
          -1.4593607886493545
         ]
        },
        {
         "histfunc": "count",
         "histnorm": "",
         "marker": {
          "color": "rgba(50, 171, 96, 1.0)",
          "line": {
           "color": "#4D5663",
           "width": 1.3
          }
         },
         "name": "C",
         "nbinsx": 50,
         "opacity": 0.8,
         "orientation": "v",
         "type": "histogram",
         "x": [
          0.5818959601613439,
          0.6635389007014588,
          -0.4650326002158927,
          -0.49563769496187016,
          0.3544326149014103,
          0.032280422153337845,
          1.500194598749117,
          2.0078251618293383,
          1.250331560859558,
          -1.5210260565593223,
          -0.9083896727413385,
          0.09343621622137635,
          1.0770523647661714,
          0.4135650963652773,
          0.18243023661373478,
          1.6017575628860965,
          -0.531874639863994,
          0.7386088731874443,
          -1.299442569668759,
          0.09061907544395652,
          1.3048100282856383,
          0.38363698324233875,
          2.1600291784329193,
          -0.17890225991828895,
          -0.3928507318555888,
          0.5077203804001711,
          -0.17890260246201345,
          0.5325204521149169,
          0.5552064558546723,
          0.9466377884787205,
          -0.5537834734751812,
          -0.9225931378437296,
          -0.8501838556832638,
          -0.31102566975449314,
          0.9836054884214205,
          -0.3681798942114995,
          -0.00361292480589936,
          0.8445803413494956,
          -1.1030888295997967,
          0.741470274969195,
          0.13470395027236978,
          1.2105372702387485,
          1.4510247336250213,
          -0.06799667679769193,
          1.0439059032051308,
          1.2758152618645142,
          -0.28913163689038773,
          0.6403403697547831,
          -0.8382254017862524,
          1.267166140113422,
          -0.19196802549214645,
          1.031205035151707,
          0.26130592536366737,
          0.290049450665771,
          0.3923595253989978,
          -0.07066390600572733,
          -0.13411773124013696,
          -0.5112963030506134,
          0.1523938664586009,
          -0.256666308707275,
          1.9500314401460428,
          0.4451779747728889,
          1.20667494512559,
          1.415453883503099,
          0.4802923215144708,
          -1.5154210487797841,
          -1.1689118109720538,
          -0.855788531435531,
          0.6967714727613341,
          0.13185186209408195,
          1.2545075600604296,
          0.46671735728806,
          1.251738898788601,
          -1.6904602024294255,
          -0.15933874899631892,
          -0.6107249632052028,
          1.0151109662635478,
          -0.4640549522669946,
          -1.3094379739157134,
          -0.1696620985632722,
          0.7264314214654054,
          -0.26821860589869123,
          0.21535758945565767,
          0.2479765322304549,
          0.1635268472902467,
          -0.40118535164143926,
          0.41818817348398535,
          -0.5432858902884837,
          1.2661463403142534,
          0.9221931103564391,
          0.077976495849599,
          0.22879419075920301,
          0.8708459862581537,
          1.369969887640816,
          0.33033096281090457,
          -0.08613149023670989,
          -0.10332444940811221,
          -1.503708056123339,
          0.46157906034337454,
          -0.035597229327674916
         ]
        },
        {
         "histfunc": "count",
         "histnorm": "",
         "marker": {
          "color": "rgba(128, 0, 128, 1.0)",
          "line": {
           "color": "#4D5663",
           "width": 1.3
          }
         },
         "name": "D",
         "nbinsx": 50,
         "opacity": 0.8,
         "orientation": "v",
         "type": "histogram",
         "x": [
          -1.643043088882501,
          -0.041942842179661495,
          -1.4168472589893575,
          0.846324115048115,
          -1.4454782178892902,
          1.1981126822062262,
          1.1880877809175365,
          -0.9437983238027401,
          0.2791052304301366,
          0.22472421792598693,
          -0.23818077146965422,
          -0.8134865720507752,
          -0.6539235206125001,
          -0.18812153427793674,
          0.10483840484201919,
          -1.1463715001592154,
          0.1525511335932151,
          -0.3333660303849316,
          0.2231423843314657,
          -0.642924646210681,
          1.3868811907592602,
          2.4775413247661118,
          -0.9824378868441533,
          -0.7478323374420225,
          0.1196298646787779,
          0.7584231001525484,
          0.3450095684343771,
          -0.1364555859070283,
          0.031593327237034556,
          0.06416794091502054,
          -1.0314204223621934,
          -0.5880114985436802,
          -0.9309105252363903,
          1.2080624637488204,
          -0.4826883216009362,
          -1.4083635352576558,
          1.9770423094719052,
          -1.1996284585164145,
          0.9825311817596672,
          -1.6455070177339404,
          0.295062994963841,
          -0.7998034733980933,
          -0.15005896232938026,
          -0.6656461269471731,
          0.9465387241306563,
          -0.3621644533838506,
          1.154497360028402,
          0.6355561375336649,
          1.0729479908496042,
          -0.946186348362365,
          0.8035070464021923,
          0.2299619066818497,
          0.2677428976486297,
          0.5441540505336642,
          2.520355422492496,
          -1.8362024335707192,
          0.0752844292503327,
          -0.8217503084813561,
          -0.24059727542653545,
          0.9384132798466748,
          0.5277873135643862,
          -1.515812553399073,
          -0.6654393564758576,
          2.399854029533553,
          -0.34779887432418227,
          0.5360350503453412,
          -0.18810820561818842,
          -0.037994786223414116,
          -0.6004312975798658,
          -1.5865829760206287,
          0.9135093073916315,
          -0.14112121519870538,
          -1.562180258411497,
          0.922870786879138,
          -0.5186716211333601,
          -1.0691183637534747,
          -1.4560288756640534,
          1.8245452402134126,
          -0.07371980105621495,
          -0.24864570933300026,
          0.5080437212536183,
          -1.323997543405784,
          1.9888833530466878,
          -0.9616846288567427,
          0.8399558727218465,
          -0.3521507877335014,
          0.18631604806527377,
          -0.7852573923852917,
          0.09450621074434322,
          -0.25880019016887773,
          1.1923201907397027,
          0.2651753312425627,
          -0.858845471114797,
          -0.6219850919551331,
          0.3507993237467051,
          -1.5098459118210705,
          1.913013961119211,
          0.09978487723239408,
          0.009576411491057068,
          -0.11720616987445373
         ]
        }
       ],
       "layout": {
        "barmode": "overlay",
        "legend": {
         "bgcolor": "#F5F6F9",
         "font": {
          "color": "#4D5663"
         }
        },
        "paper_bgcolor": "#F5F6F9",
        "plot_bgcolor": "#F5F6F9",
        "template": {
         "data": {
          "bar": [
           {
            "error_x": {
             "color": "#2a3f5f"
            },
            "error_y": {
             "color": "#2a3f5f"
            },
            "marker": {
             "line": {
              "color": "#E5ECF6",
              "width": 0.5
             },
             "pattern": {
              "fillmode": "overlay",
              "size": 10,
              "solidity": 0.2
             }
            },
            "type": "bar"
           }
          ],
          "barpolar": [
           {
            "marker": {
             "line": {
              "color": "#E5ECF6",
              "width": 0.5
             },
             "pattern": {
              "fillmode": "overlay",
              "size": 10,
              "solidity": 0.2
             }
            },
            "type": "barpolar"
           }
          ],
          "carpet": [
           {
            "aaxis": {
             "endlinecolor": "#2a3f5f",
             "gridcolor": "white",
             "linecolor": "white",
             "minorgridcolor": "white",
             "startlinecolor": "#2a3f5f"
            },
            "baxis": {
             "endlinecolor": "#2a3f5f",
             "gridcolor": "white",
             "linecolor": "white",
             "minorgridcolor": "white",
             "startlinecolor": "#2a3f5f"
            },
            "type": "carpet"
           }
          ],
          "choropleth": [
           {
            "colorbar": {
             "outlinewidth": 0,
             "ticks": ""
            },
            "type": "choropleth"
           }
          ],
          "contour": [
           {
            "colorbar": {
             "outlinewidth": 0,
             "ticks": ""
            },
            "colorscale": [
             [
              0,
              "#0d0887"
             ],
             [
              0.1111111111111111,
              "#46039f"
             ],
             [
              0.2222222222222222,
              "#7201a8"
             ],
             [
              0.3333333333333333,
              "#9c179e"
             ],
             [
              0.4444444444444444,
              "#bd3786"
             ],
             [
              0.5555555555555556,
              "#d8576b"
             ],
             [
              0.6666666666666666,
              "#ed7953"
             ],
             [
              0.7777777777777778,
              "#fb9f3a"
             ],
             [
              0.8888888888888888,
              "#fdca26"
             ],
             [
              1,
              "#f0f921"
             ]
            ],
            "type": "contour"
           }
          ],
          "contourcarpet": [
           {
            "colorbar": {
             "outlinewidth": 0,
             "ticks": ""
            },
            "type": "contourcarpet"
           }
          ],
          "heatmap": [
           {
            "colorbar": {
             "outlinewidth": 0,
             "ticks": ""
            },
            "colorscale": [
             [
              0,
              "#0d0887"
             ],
             [
              0.1111111111111111,
              "#46039f"
             ],
             [
              0.2222222222222222,
              "#7201a8"
             ],
             [
              0.3333333333333333,
              "#9c179e"
             ],
             [
              0.4444444444444444,
              "#bd3786"
             ],
             [
              0.5555555555555556,
              "#d8576b"
             ],
             [
              0.6666666666666666,
              "#ed7953"
             ],
             [
              0.7777777777777778,
              "#fb9f3a"
             ],
             [
              0.8888888888888888,
              "#fdca26"
             ],
             [
              1,
              "#f0f921"
             ]
            ],
            "type": "heatmap"
           }
          ],
          "heatmapgl": [
           {
            "colorbar": {
             "outlinewidth": 0,
             "ticks": ""
            },
            "colorscale": [
             [
              0,
              "#0d0887"
             ],
             [
              0.1111111111111111,
              "#46039f"
             ],
             [
              0.2222222222222222,
              "#7201a8"
             ],
             [
              0.3333333333333333,
              "#9c179e"
             ],
             [
              0.4444444444444444,
              "#bd3786"
             ],
             [
              0.5555555555555556,
              "#d8576b"
             ],
             [
              0.6666666666666666,
              "#ed7953"
             ],
             [
              0.7777777777777778,
              "#fb9f3a"
             ],
             [
              0.8888888888888888,
              "#fdca26"
             ],
             [
              1,
              "#f0f921"
             ]
            ],
            "type": "heatmapgl"
           }
          ],
          "histogram": [
           {
            "marker": {
             "pattern": {
              "fillmode": "overlay",
              "size": 10,
              "solidity": 0.2
             }
            },
            "type": "histogram"
           }
          ],
          "histogram2d": [
           {
            "colorbar": {
             "outlinewidth": 0,
             "ticks": ""
            },
            "colorscale": [
             [
              0,
              "#0d0887"
             ],
             [
              0.1111111111111111,
              "#46039f"
             ],
             [
              0.2222222222222222,
              "#7201a8"
             ],
             [
              0.3333333333333333,
              "#9c179e"
             ],
             [
              0.4444444444444444,
              "#bd3786"
             ],
             [
              0.5555555555555556,
              "#d8576b"
             ],
             [
              0.6666666666666666,
              "#ed7953"
             ],
             [
              0.7777777777777778,
              "#fb9f3a"
             ],
             [
              0.8888888888888888,
              "#fdca26"
             ],
             [
              1,
              "#f0f921"
             ]
            ],
            "type": "histogram2d"
           }
          ],
          "histogram2dcontour": [
           {
            "colorbar": {
             "outlinewidth": 0,
             "ticks": ""
            },
            "colorscale": [
             [
              0,
              "#0d0887"
             ],
             [
              0.1111111111111111,
              "#46039f"
             ],
             [
              0.2222222222222222,
              "#7201a8"
             ],
             [
              0.3333333333333333,
              "#9c179e"
             ],
             [
              0.4444444444444444,
              "#bd3786"
             ],
             [
              0.5555555555555556,
              "#d8576b"
             ],
             [
              0.6666666666666666,
              "#ed7953"
             ],
             [
              0.7777777777777778,
              "#fb9f3a"
             ],
             [
              0.8888888888888888,
              "#fdca26"
             ],
             [
              1,
              "#f0f921"
             ]
            ],
            "type": "histogram2dcontour"
           }
          ],
          "mesh3d": [
           {
            "colorbar": {
             "outlinewidth": 0,
             "ticks": ""
            },
            "type": "mesh3d"
           }
          ],
          "parcoords": [
           {
            "line": {
             "colorbar": {
              "outlinewidth": 0,
              "ticks": ""
             }
            },
            "type": "parcoords"
           }
          ],
          "pie": [
           {
            "automargin": true,
            "type": "pie"
           }
          ],
          "scatter": [
           {
            "marker": {
             "colorbar": {
              "outlinewidth": 0,
              "ticks": ""
             }
            },
            "type": "scatter"
           }
          ],
          "scatter3d": [
           {
            "line": {
             "colorbar": {
              "outlinewidth": 0,
              "ticks": ""
             }
            },
            "marker": {
             "colorbar": {
              "outlinewidth": 0,
              "ticks": ""
             }
            },
            "type": "scatter3d"
           }
          ],
          "scattercarpet": [
           {
            "marker": {
             "colorbar": {
              "outlinewidth": 0,
              "ticks": ""
             }
            },
            "type": "scattercarpet"
           }
          ],
          "scattergeo": [
           {
            "marker": {
             "colorbar": {
              "outlinewidth": 0,
              "ticks": ""
             }
            },
            "type": "scattergeo"
           }
          ],
          "scattergl": [
           {
            "marker": {
             "colorbar": {
              "outlinewidth": 0,
              "ticks": ""
             }
            },
            "type": "scattergl"
           }
          ],
          "scattermapbox": [
           {
            "marker": {
             "colorbar": {
              "outlinewidth": 0,
              "ticks": ""
             }
            },
            "type": "scattermapbox"
           }
          ],
          "scatterpolar": [
           {
            "marker": {
             "colorbar": {
              "outlinewidth": 0,
              "ticks": ""
             }
            },
            "type": "scatterpolar"
           }
          ],
          "scatterpolargl": [
           {
            "marker": {
             "colorbar": {
              "outlinewidth": 0,
              "ticks": ""
             }
            },
            "type": "scatterpolargl"
           }
          ],
          "scatterternary": [
           {
            "marker": {
             "colorbar": {
              "outlinewidth": 0,
              "ticks": ""
             }
            },
            "type": "scatterternary"
           }
          ],
          "surface": [
           {
            "colorbar": {
             "outlinewidth": 0,
             "ticks": ""
            },
            "colorscale": [
             [
              0,
              "#0d0887"
             ],
             [
              0.1111111111111111,
              "#46039f"
             ],
             [
              0.2222222222222222,
              "#7201a8"
             ],
             [
              0.3333333333333333,
              "#9c179e"
             ],
             [
              0.4444444444444444,
              "#bd3786"
             ],
             [
              0.5555555555555556,
              "#d8576b"
             ],
             [
              0.6666666666666666,
              "#ed7953"
             ],
             [
              0.7777777777777778,
              "#fb9f3a"
             ],
             [
              0.8888888888888888,
              "#fdca26"
             ],
             [
              1,
              "#f0f921"
             ]
            ],
            "type": "surface"
           }
          ],
          "table": [
           {
            "cells": {
             "fill": {
              "color": "#EBF0F8"
             },
             "line": {
              "color": "white"
             }
            },
            "header": {
             "fill": {
              "color": "#C8D4E3"
             },
             "line": {
              "color": "white"
             }
            },
            "type": "table"
           }
          ]
         },
         "layout": {
          "annotationdefaults": {
           "arrowcolor": "#2a3f5f",
           "arrowhead": 0,
           "arrowwidth": 1
          },
          "autotypenumbers": "strict",
          "coloraxis": {
           "colorbar": {
            "outlinewidth": 0,
            "ticks": ""
           }
          },
          "colorscale": {
           "diverging": [
            [
             0,
             "#8e0152"
            ],
            [
             0.1,
             "#c51b7d"
            ],
            [
             0.2,
             "#de77ae"
            ],
            [
             0.3,
             "#f1b6da"
            ],
            [
             0.4,
             "#fde0ef"
            ],
            [
             0.5,
             "#f7f7f7"
            ],
            [
             0.6,
             "#e6f5d0"
            ],
            [
             0.7,
             "#b8e186"
            ],
            [
             0.8,
             "#7fbc41"
            ],
            [
             0.9,
             "#4d9221"
            ],
            [
             1,
             "#276419"
            ]
           ],
           "sequential": [
            [
             0,
             "#0d0887"
            ],
            [
             0.1111111111111111,
             "#46039f"
            ],
            [
             0.2222222222222222,
             "#7201a8"
            ],
            [
             0.3333333333333333,
             "#9c179e"
            ],
            [
             0.4444444444444444,
             "#bd3786"
            ],
            [
             0.5555555555555556,
             "#d8576b"
            ],
            [
             0.6666666666666666,
             "#ed7953"
            ],
            [
             0.7777777777777778,
             "#fb9f3a"
            ],
            [
             0.8888888888888888,
             "#fdca26"
            ],
            [
             1,
             "#f0f921"
            ]
           ],
           "sequentialminus": [
            [
             0,
             "#0d0887"
            ],
            [
             0.1111111111111111,
             "#46039f"
            ],
            [
             0.2222222222222222,
             "#7201a8"
            ],
            [
             0.3333333333333333,
             "#9c179e"
            ],
            [
             0.4444444444444444,
             "#bd3786"
            ],
            [
             0.5555555555555556,
             "#d8576b"
            ],
            [
             0.6666666666666666,
             "#ed7953"
            ],
            [
             0.7777777777777778,
             "#fb9f3a"
            ],
            [
             0.8888888888888888,
             "#fdca26"
            ],
            [
             1,
             "#f0f921"
            ]
           ]
          },
          "colorway": [
           "#636efa",
           "#EF553B",
           "#00cc96",
           "#ab63fa",
           "#FFA15A",
           "#19d3f3",
           "#FF6692",
           "#B6E880",
           "#FF97FF",
           "#FECB52"
          ],
          "font": {
           "color": "#2a3f5f"
          },
          "geo": {
           "bgcolor": "white",
           "lakecolor": "white",
           "landcolor": "#E5ECF6",
           "showlakes": true,
           "showland": true,
           "subunitcolor": "white"
          },
          "hoverlabel": {
           "align": "left"
          },
          "hovermode": "closest",
          "mapbox": {
           "style": "light"
          },
          "paper_bgcolor": "white",
          "plot_bgcolor": "#E5ECF6",
          "polar": {
           "angularaxis": {
            "gridcolor": "white",
            "linecolor": "white",
            "ticks": ""
           },
           "bgcolor": "#E5ECF6",
           "radialaxis": {
            "gridcolor": "white",
            "linecolor": "white",
            "ticks": ""
           }
          },
          "scene": {
           "xaxis": {
            "backgroundcolor": "#E5ECF6",
            "gridcolor": "white",
            "gridwidth": 2,
            "linecolor": "white",
            "showbackground": true,
            "ticks": "",
            "zerolinecolor": "white"
           },
           "yaxis": {
            "backgroundcolor": "#E5ECF6",
            "gridcolor": "white",
            "gridwidth": 2,
            "linecolor": "white",
            "showbackground": true,
            "ticks": "",
            "zerolinecolor": "white"
           },
           "zaxis": {
            "backgroundcolor": "#E5ECF6",
            "gridcolor": "white",
            "gridwidth": 2,
            "linecolor": "white",
            "showbackground": true,
            "ticks": "",
            "zerolinecolor": "white"
           }
          },
          "shapedefaults": {
           "line": {
            "color": "#2a3f5f"
           }
          },
          "ternary": {
           "aaxis": {
            "gridcolor": "white",
            "linecolor": "white",
            "ticks": ""
           },
           "baxis": {
            "gridcolor": "white",
            "linecolor": "white",
            "ticks": ""
           },
           "bgcolor": "#E5ECF6",
           "caxis": {
            "gridcolor": "white",
            "linecolor": "white",
            "ticks": ""
           }
          },
          "title": {
           "x": 0.05
          },
          "xaxis": {
           "automargin": true,
           "gridcolor": "white",
           "linecolor": "white",
           "ticks": "",
           "title": {
            "standoff": 15
           },
           "zerolinecolor": "white",
           "zerolinewidth": 2
          },
          "yaxis": {
           "automargin": true,
           "gridcolor": "white",
           "linecolor": "white",
           "ticks": "",
           "title": {
            "standoff": 15
           },
           "zerolinecolor": "white",
           "zerolinewidth": 2
          }
         }
        },
        "title": {
         "font": {
          "color": "#4D5663"
         }
        },
        "xaxis": {
         "gridcolor": "#E1E5ED",
         "showgrid": true,
         "tickfont": {
          "color": "#4D5663"
         },
         "title": {
          "font": {
           "color": "#4D5663"
          },
          "text": ""
         },
         "zerolinecolor": "#E1E5ED"
        },
        "yaxis": {
         "gridcolor": "#E1E5ED",
         "showgrid": true,
         "tickfont": {
          "color": "#4D5663"
         },
         "title": {
          "font": {
           "color": "#4D5663"
          },
          "text": ""
         },
         "zerolinecolor": "#E1E5ED"
        }
       }
      },
      "text/html": [
       "<div>                            <div id=\"0af0630e-2e6e-46a5-b8c5-b15835aba808\" class=\"plotly-graph-div\" style=\"height:525px; width:100%;\"></div>            <script type=\"text/javascript\">                require([\"plotly\"], function(Plotly) {                    window.PLOTLYENV=window.PLOTLYENV || {};\n",
       "                    window.PLOTLYENV.BASE_URL='https://plot.ly';                                    if (document.getElementById(\"0af0630e-2e6e-46a5-b8c5-b15835aba808\")) {                    Plotly.newPlot(                        \"0af0630e-2e6e-46a5-b8c5-b15835aba808\",                        [{\"histfunc\":\"count\",\"histnorm\":\"\",\"marker\":{\"color\":\"rgba(255, 153, 51, 1.0)\",\"line\":{\"color\":\"#4D5663\",\"width\":1.3}},\"name\":\"A\",\"nbinsx\":50,\"opacity\":0.8,\"orientation\":\"v\",\"x\":[0.42834336660048555,-0.5431130343751923,-1.1089003168660925,-0.9310734812179945,0.7009672118351541,0.8814470474168713,-0.8407399793698521,-0.576893294052475,-0.8080703354235872,-0.845685394146627,1.0546390088298483,-1.2167789452198259,-0.5793894576537396,0.6531820902565525,1.1852687270905453,2.179059607997261,-0.916752595388181,0.5616215793465428,0.6378222152443052,-0.4644285971201103,-0.26443495004037043,1.2197910519981685,-0.09646466921168612,-0.13577844238819872,-0.3196361512921841,-2.3138191266271706,1.8776670994205429,0.7405974885272778,-3.142074285106367,-1.472470555300087,-0.16340487140345647,-0.14795883993457962,0.4002683275186483,1.2623093249244404,-0.13729696811807196,-0.4103419566810211,0.6309401297310346,-2.554433216510306,-1.8136787861246852,-1.5971638470617107,-0.04727848987271,-0.9859271975667138,-0.5200134096541108,-0.1496386173536915,-1.692708236163166,-0.9861515241881423,1.8566766289766876,-0.6426894805921634,1.3684446007506572,1.0303287829607057,0.15816602375477531,0.6029637904815115,0.7020121929344575,-0.6534446453808141,-0.8819822613338307,-0.3725294111302389,0.917844776303251,2.952904715090055,0.563570403972607,0.34163541591459934,0.24760279926901188,0.6853429334592762,-0.8871213125118289,-0.62447480201159,-1.1435009277849852,1.3423559897981243,-0.6885983903751369,-0.6327941965193481,1.1382967585537072,1.6535942818207383,-0.49473872348892395,-0.2213077371949228,-1.7441809868780074,0.33503514683285246,1.457920342236441,1.1942547194581565,1.6048350491365895,0.6834991629924438,0.5449683729052708,-0.09354422620876975,-0.7332514853887435,-1.2858330647452987,-1.6144516726215936,0.5491139981272396,0.3988004780816497,1.1415368511791262,0.9103446674267672,-0.4302964462779966,0.34100207998563,1.0883510241965397,0.9003232980148024,1.0445905659847246,0.4609394941132174,2.059739333522352,-0.8652132010214949,0.4132656940423574,0.1597976827062007,0.8959245972573175,0.19935532667623881,-1.2631555290890033],\"type\":\"histogram\"},{\"histfunc\":\"count\",\"histnorm\":\"\",\"marker\":{\"color\":\"rgba(55, 128, 191, 1.0)\",\"line\":{\"color\":\"#4D5663\",\"width\":1.3}},\"name\":\"B\",\"nbinsx\":50,\"opacity\":0.8,\"orientation\":\"v\",\"x\":[-1.5110962441514955,-1.3421231187988822,-0.8218709717794145,-0.5629676527933162,-0.0939803421434012,-1.0281015513104197,0.3995284548028364,0.9763755222555714,0.04671111034541469,-1.9765101574433694,-1.0786291236002599,-1.1370525638047173,0.6234717853349546,0.22736963902127702,0.6312271068437805,1.898722835344093,-1.1841566347480224,0.6706380460640187,0.46705903160036005,0.865784386057344,-0.48600102296393116,-1.087364794658521,-0.46493281327929764,0.6645474925732094,-0.16064904501671742,0.10420018730006272,1.3088379168204136,0.1421960429541945,0.021540205979291894,-1.696360096304541,0.1020244225904697,-1.4488401608216697,-0.8435275097409567,-0.4903190344160185,-0.6167726979776068,1.516273713443217,-0.8504127889940435,-0.6817747858776013,1.1428523434547717,0.6038809943697726,-0.19543354794411882,0.05964263107473625,0.9886081091818062,-1.6851781394957248,-0.5385704399566267,0.4992709096890342,0.8523579261540218,-0.036804283670902514,0.6753618291437835,-0.5658997632303835,0.08053411107930569,0.46914129922192865,-0.14822017594795173,0.48477839501296927,-2.7740379594780014,-0.057824947331366054,0.007855445306867293,-1.037584910585149,-0.234403782400521,-0.10043071393199138,0.24141096042409843,-0.6761136267213637,-1.3153681866336913,-0.11340787951362206,-1.5068080162253386,-1.3266258407333442,0.008007313205507259,-1.4753921403733459,0.25353596911295373,-0.5618230070321575,-0.051296848284010335,-1.1064574503295967,0.451924472091387,0.41623143210306596,-0.4126695523135965,-0.9246281429196028,-1.4234046222503718,0.08949143437347688,-1.1257961613100143,-0.45495471958497263,-2.2203979818443966,-1.1725235534576335,0.7847230953515638,1.7650003621711998,1.2096931205010761,-0.46025502320418904,-0.04675734436156397,2.2850252000751903,0.19569106889942578,1.9644722028091561,0.3203399145813591,0.5512007112953003,-0.01795135166725152,1.8309718907211967,-1.2484429434786146,0.8173605905207877,-0.11453463647031444,1.055310864976655,-0.6305387854690183,-1.4593607886493545],\"type\":\"histogram\"},{\"histfunc\":\"count\",\"histnorm\":\"\",\"marker\":{\"color\":\"rgba(50, 171, 96, 1.0)\",\"line\":{\"color\":\"#4D5663\",\"width\":1.3}},\"name\":\"C\",\"nbinsx\":50,\"opacity\":0.8,\"orientation\":\"v\",\"x\":[0.5818959601613439,0.6635389007014588,-0.4650326002158927,-0.49563769496187016,0.3544326149014103,0.032280422153337845,1.500194598749117,2.0078251618293383,1.250331560859558,-1.5210260565593223,-0.9083896727413385,0.09343621622137635,1.0770523647661714,0.4135650963652773,0.18243023661373478,1.6017575628860965,-0.531874639863994,0.7386088731874443,-1.299442569668759,0.09061907544395652,1.3048100282856383,0.38363698324233875,2.1600291784329193,-0.17890225991828895,-0.3928507318555888,0.5077203804001711,-0.17890260246201345,0.5325204521149169,0.5552064558546723,0.9466377884787205,-0.5537834734751812,-0.9225931378437296,-0.8501838556832638,-0.31102566975449314,0.9836054884214205,-0.3681798942114995,-0.00361292480589936,0.8445803413494956,-1.1030888295997967,0.741470274969195,0.13470395027236978,1.2105372702387485,1.4510247336250213,-0.06799667679769193,1.0439059032051308,1.2758152618645142,-0.28913163689038773,0.6403403697547831,-0.8382254017862524,1.267166140113422,-0.19196802549214645,1.031205035151707,0.26130592536366737,0.290049450665771,0.3923595253989978,-0.07066390600572733,-0.13411773124013696,-0.5112963030506134,0.1523938664586009,-0.256666308707275,1.9500314401460428,0.4451779747728889,1.20667494512559,1.415453883503099,0.4802923215144708,-1.5154210487797841,-1.1689118109720538,-0.855788531435531,0.6967714727613341,0.13185186209408195,1.2545075600604296,0.46671735728806,1.251738898788601,-1.6904602024294255,-0.15933874899631892,-0.6107249632052028,1.0151109662635478,-0.4640549522669946,-1.3094379739157134,-0.1696620985632722,0.7264314214654054,-0.26821860589869123,0.21535758945565767,0.2479765322304549,0.1635268472902467,-0.40118535164143926,0.41818817348398535,-0.5432858902884837,1.2661463403142534,0.9221931103564391,0.077976495849599,0.22879419075920301,0.8708459862581537,1.369969887640816,0.33033096281090457,-0.08613149023670989,-0.10332444940811221,-1.503708056123339,0.46157906034337454,-0.035597229327674916],\"type\":\"histogram\"},{\"histfunc\":\"count\",\"histnorm\":\"\",\"marker\":{\"color\":\"rgba(128, 0, 128, 1.0)\",\"line\":{\"color\":\"#4D5663\",\"width\":1.3}},\"name\":\"D\",\"nbinsx\":50,\"opacity\":0.8,\"orientation\":\"v\",\"x\":[-1.643043088882501,-0.041942842179661495,-1.4168472589893575,0.846324115048115,-1.4454782178892902,1.1981126822062262,1.1880877809175365,-0.9437983238027401,0.2791052304301366,0.22472421792598693,-0.23818077146965422,-0.8134865720507752,-0.6539235206125001,-0.18812153427793674,0.10483840484201919,-1.1463715001592154,0.1525511335932151,-0.3333660303849316,0.2231423843314657,-0.642924646210681,1.3868811907592602,2.4775413247661118,-0.9824378868441533,-0.7478323374420225,0.1196298646787779,0.7584231001525484,0.3450095684343771,-0.1364555859070283,0.031593327237034556,0.06416794091502054,-1.0314204223621934,-0.5880114985436802,-0.9309105252363903,1.2080624637488204,-0.4826883216009362,-1.4083635352576558,1.9770423094719052,-1.1996284585164145,0.9825311817596672,-1.6455070177339404,0.295062994963841,-0.7998034733980933,-0.15005896232938026,-0.6656461269471731,0.9465387241306563,-0.3621644533838506,1.154497360028402,0.6355561375336649,1.0729479908496042,-0.946186348362365,0.8035070464021923,0.2299619066818497,0.2677428976486297,0.5441540505336642,2.520355422492496,-1.8362024335707192,0.0752844292503327,-0.8217503084813561,-0.24059727542653545,0.9384132798466748,0.5277873135643862,-1.515812553399073,-0.6654393564758576,2.399854029533553,-0.34779887432418227,0.5360350503453412,-0.18810820561818842,-0.037994786223414116,-0.6004312975798658,-1.5865829760206287,0.9135093073916315,-0.14112121519870538,-1.562180258411497,0.922870786879138,-0.5186716211333601,-1.0691183637534747,-1.4560288756640534,1.8245452402134126,-0.07371980105621495,-0.24864570933300026,0.5080437212536183,-1.323997543405784,1.9888833530466878,-0.9616846288567427,0.8399558727218465,-0.3521507877335014,0.18631604806527377,-0.7852573923852917,0.09450621074434322,-0.25880019016887773,1.1923201907397027,0.2651753312425627,-0.858845471114797,-0.6219850919551331,0.3507993237467051,-1.5098459118210705,1.913013961119211,0.09978487723239408,0.009576411491057068,-0.11720616987445373],\"type\":\"histogram\"}],                        {\"barmode\":\"overlay\",\"legend\":{\"bgcolor\":\"#F5F6F9\",\"font\":{\"color\":\"#4D5663\"}},\"paper_bgcolor\":\"#F5F6F9\",\"plot_bgcolor\":\"#F5F6F9\",\"template\":{\"data\":{\"barpolar\":[{\"marker\":{\"line\":{\"color\":\"#E5ECF6\",\"width\":0.5},\"pattern\":{\"fillmode\":\"overlay\",\"size\":10,\"solidity\":0.2}},\"type\":\"barpolar\"}],\"bar\":[{\"error_x\":{\"color\":\"#2a3f5f\"},\"error_y\":{\"color\":\"#2a3f5f\"},\"marker\":{\"line\":{\"color\":\"#E5ECF6\",\"width\":0.5},\"pattern\":{\"fillmode\":\"overlay\",\"size\":10,\"solidity\":0.2}},\"type\":\"bar\"}],\"carpet\":[{\"aaxis\":{\"endlinecolor\":\"#2a3f5f\",\"gridcolor\":\"white\",\"linecolor\":\"white\",\"minorgridcolor\":\"white\",\"startlinecolor\":\"#2a3f5f\"},\"baxis\":{\"endlinecolor\":\"#2a3f5f\",\"gridcolor\":\"white\",\"linecolor\":\"white\",\"minorgridcolor\":\"white\",\"startlinecolor\":\"#2a3f5f\"},\"type\":\"carpet\"}],\"choropleth\":[{\"colorbar\":{\"outlinewidth\":0,\"ticks\":\"\"},\"type\":\"choropleth\"}],\"contourcarpet\":[{\"colorbar\":{\"outlinewidth\":0,\"ticks\":\"\"},\"type\":\"contourcarpet\"}],\"contour\":[{\"colorbar\":{\"outlinewidth\":0,\"ticks\":\"\"},\"colorscale\":[[0.0,\"#0d0887\"],[0.1111111111111111,\"#46039f\"],[0.2222222222222222,\"#7201a8\"],[0.3333333333333333,\"#9c179e\"],[0.4444444444444444,\"#bd3786\"],[0.5555555555555556,\"#d8576b\"],[0.6666666666666666,\"#ed7953\"],[0.7777777777777778,\"#fb9f3a\"],[0.8888888888888888,\"#fdca26\"],[1.0,\"#f0f921\"]],\"type\":\"contour\"}],\"heatmapgl\":[{\"colorbar\":{\"outlinewidth\":0,\"ticks\":\"\"},\"colorscale\":[[0.0,\"#0d0887\"],[0.1111111111111111,\"#46039f\"],[0.2222222222222222,\"#7201a8\"],[0.3333333333333333,\"#9c179e\"],[0.4444444444444444,\"#bd3786\"],[0.5555555555555556,\"#d8576b\"],[0.6666666666666666,\"#ed7953\"],[0.7777777777777778,\"#fb9f3a\"],[0.8888888888888888,\"#fdca26\"],[1.0,\"#f0f921\"]],\"type\":\"heatmapgl\"}],\"heatmap\":[{\"colorbar\":{\"outlinewidth\":0,\"ticks\":\"\"},\"colorscale\":[[0.0,\"#0d0887\"],[0.1111111111111111,\"#46039f\"],[0.2222222222222222,\"#7201a8\"],[0.3333333333333333,\"#9c179e\"],[0.4444444444444444,\"#bd3786\"],[0.5555555555555556,\"#d8576b\"],[0.6666666666666666,\"#ed7953\"],[0.7777777777777778,\"#fb9f3a\"],[0.8888888888888888,\"#fdca26\"],[1.0,\"#f0f921\"]],\"type\":\"heatmap\"}],\"histogram2dcontour\":[{\"colorbar\":{\"outlinewidth\":0,\"ticks\":\"\"},\"colorscale\":[[0.0,\"#0d0887\"],[0.1111111111111111,\"#46039f\"],[0.2222222222222222,\"#7201a8\"],[0.3333333333333333,\"#9c179e\"],[0.4444444444444444,\"#bd3786\"],[0.5555555555555556,\"#d8576b\"],[0.6666666666666666,\"#ed7953\"],[0.7777777777777778,\"#fb9f3a\"],[0.8888888888888888,\"#fdca26\"],[1.0,\"#f0f921\"]],\"type\":\"histogram2dcontour\"}],\"histogram2d\":[{\"colorbar\":{\"outlinewidth\":0,\"ticks\":\"\"},\"colorscale\":[[0.0,\"#0d0887\"],[0.1111111111111111,\"#46039f\"],[0.2222222222222222,\"#7201a8\"],[0.3333333333333333,\"#9c179e\"],[0.4444444444444444,\"#bd3786\"],[0.5555555555555556,\"#d8576b\"],[0.6666666666666666,\"#ed7953\"],[0.7777777777777778,\"#fb9f3a\"],[0.8888888888888888,\"#fdca26\"],[1.0,\"#f0f921\"]],\"type\":\"histogram2d\"}],\"histogram\":[{\"marker\":{\"pattern\":{\"fillmode\":\"overlay\",\"size\":10,\"solidity\":0.2}},\"type\":\"histogram\"}],\"mesh3d\":[{\"colorbar\":{\"outlinewidth\":0,\"ticks\":\"\"},\"type\":\"mesh3d\"}],\"parcoords\":[{\"line\":{\"colorbar\":{\"outlinewidth\":0,\"ticks\":\"\"}},\"type\":\"parcoords\"}],\"pie\":[{\"automargin\":true,\"type\":\"pie\"}],\"scatter3d\":[{\"line\":{\"colorbar\":{\"outlinewidth\":0,\"ticks\":\"\"}},\"marker\":{\"colorbar\":{\"outlinewidth\":0,\"ticks\":\"\"}},\"type\":\"scatter3d\"}],\"scattercarpet\":[{\"marker\":{\"colorbar\":{\"outlinewidth\":0,\"ticks\":\"\"}},\"type\":\"scattercarpet\"}],\"scattergeo\":[{\"marker\":{\"colorbar\":{\"outlinewidth\":0,\"ticks\":\"\"}},\"type\":\"scattergeo\"}],\"scattergl\":[{\"marker\":{\"colorbar\":{\"outlinewidth\":0,\"ticks\":\"\"}},\"type\":\"scattergl\"}],\"scattermapbox\":[{\"marker\":{\"colorbar\":{\"outlinewidth\":0,\"ticks\":\"\"}},\"type\":\"scattermapbox\"}],\"scatterpolargl\":[{\"marker\":{\"colorbar\":{\"outlinewidth\":0,\"ticks\":\"\"}},\"type\":\"scatterpolargl\"}],\"scatterpolar\":[{\"marker\":{\"colorbar\":{\"outlinewidth\":0,\"ticks\":\"\"}},\"type\":\"scatterpolar\"}],\"scatter\":[{\"marker\":{\"colorbar\":{\"outlinewidth\":0,\"ticks\":\"\"}},\"type\":\"scatter\"}],\"scatterternary\":[{\"marker\":{\"colorbar\":{\"outlinewidth\":0,\"ticks\":\"\"}},\"type\":\"scatterternary\"}],\"surface\":[{\"colorbar\":{\"outlinewidth\":0,\"ticks\":\"\"},\"colorscale\":[[0.0,\"#0d0887\"],[0.1111111111111111,\"#46039f\"],[0.2222222222222222,\"#7201a8\"],[0.3333333333333333,\"#9c179e\"],[0.4444444444444444,\"#bd3786\"],[0.5555555555555556,\"#d8576b\"],[0.6666666666666666,\"#ed7953\"],[0.7777777777777778,\"#fb9f3a\"],[0.8888888888888888,\"#fdca26\"],[1.0,\"#f0f921\"]],\"type\":\"surface\"}],\"table\":[{\"cells\":{\"fill\":{\"color\":\"#EBF0F8\"},\"line\":{\"color\":\"white\"}},\"header\":{\"fill\":{\"color\":\"#C8D4E3\"},\"line\":{\"color\":\"white\"}},\"type\":\"table\"}]},\"layout\":{\"annotationdefaults\":{\"arrowcolor\":\"#2a3f5f\",\"arrowhead\":0,\"arrowwidth\":1},\"autotypenumbers\":\"strict\",\"coloraxis\":{\"colorbar\":{\"outlinewidth\":0,\"ticks\":\"\"}},\"colorscale\":{\"diverging\":[[0,\"#8e0152\"],[0.1,\"#c51b7d\"],[0.2,\"#de77ae\"],[0.3,\"#f1b6da\"],[0.4,\"#fde0ef\"],[0.5,\"#f7f7f7\"],[0.6,\"#e6f5d0\"],[0.7,\"#b8e186\"],[0.8,\"#7fbc41\"],[0.9,\"#4d9221\"],[1,\"#276419\"]],\"sequential\":[[0.0,\"#0d0887\"],[0.1111111111111111,\"#46039f\"],[0.2222222222222222,\"#7201a8\"],[0.3333333333333333,\"#9c179e\"],[0.4444444444444444,\"#bd3786\"],[0.5555555555555556,\"#d8576b\"],[0.6666666666666666,\"#ed7953\"],[0.7777777777777778,\"#fb9f3a\"],[0.8888888888888888,\"#fdca26\"],[1.0,\"#f0f921\"]],\"sequentialminus\":[[0.0,\"#0d0887\"],[0.1111111111111111,\"#46039f\"],[0.2222222222222222,\"#7201a8\"],[0.3333333333333333,\"#9c179e\"],[0.4444444444444444,\"#bd3786\"],[0.5555555555555556,\"#d8576b\"],[0.6666666666666666,\"#ed7953\"],[0.7777777777777778,\"#fb9f3a\"],[0.8888888888888888,\"#fdca26\"],[1.0,\"#f0f921\"]]},\"colorway\":[\"#636efa\",\"#EF553B\",\"#00cc96\",\"#ab63fa\",\"#FFA15A\",\"#19d3f3\",\"#FF6692\",\"#B6E880\",\"#FF97FF\",\"#FECB52\"],\"font\":{\"color\":\"#2a3f5f\"},\"geo\":{\"bgcolor\":\"white\",\"lakecolor\":\"white\",\"landcolor\":\"#E5ECF6\",\"showlakes\":true,\"showland\":true,\"subunitcolor\":\"white\"},\"hoverlabel\":{\"align\":\"left\"},\"hovermode\":\"closest\",\"mapbox\":{\"style\":\"light\"},\"paper_bgcolor\":\"white\",\"plot_bgcolor\":\"#E5ECF6\",\"polar\":{\"angularaxis\":{\"gridcolor\":\"white\",\"linecolor\":\"white\",\"ticks\":\"\"},\"bgcolor\":\"#E5ECF6\",\"radialaxis\":{\"gridcolor\":\"white\",\"linecolor\":\"white\",\"ticks\":\"\"}},\"scene\":{\"xaxis\":{\"backgroundcolor\":\"#E5ECF6\",\"gridcolor\":\"white\",\"gridwidth\":2,\"linecolor\":\"white\",\"showbackground\":true,\"ticks\":\"\",\"zerolinecolor\":\"white\"},\"yaxis\":{\"backgroundcolor\":\"#E5ECF6\",\"gridcolor\":\"white\",\"gridwidth\":2,\"linecolor\":\"white\",\"showbackground\":true,\"ticks\":\"\",\"zerolinecolor\":\"white\"},\"zaxis\":{\"backgroundcolor\":\"#E5ECF6\",\"gridcolor\":\"white\",\"gridwidth\":2,\"linecolor\":\"white\",\"showbackground\":true,\"ticks\":\"\",\"zerolinecolor\":\"white\"}},\"shapedefaults\":{\"line\":{\"color\":\"#2a3f5f\"}},\"ternary\":{\"aaxis\":{\"gridcolor\":\"white\",\"linecolor\":\"white\",\"ticks\":\"\"},\"baxis\":{\"gridcolor\":\"white\",\"linecolor\":\"white\",\"ticks\":\"\"},\"bgcolor\":\"#E5ECF6\",\"caxis\":{\"gridcolor\":\"white\",\"linecolor\":\"white\",\"ticks\":\"\"}},\"title\":{\"x\":0.05},\"xaxis\":{\"automargin\":true,\"gridcolor\":\"white\",\"linecolor\":\"white\",\"ticks\":\"\",\"title\":{\"standoff\":15},\"zerolinecolor\":\"white\",\"zerolinewidth\":2},\"yaxis\":{\"automargin\":true,\"gridcolor\":\"white\",\"linecolor\":\"white\",\"ticks\":\"\",\"title\":{\"standoff\":15},\"zerolinecolor\":\"white\",\"zerolinewidth\":2}}},\"title\":{\"font\":{\"color\":\"#4D5663\"}},\"xaxis\":{\"gridcolor\":\"#E1E5ED\",\"showgrid\":true,\"tickfont\":{\"color\":\"#4D5663\"},\"title\":{\"font\":{\"color\":\"#4D5663\"},\"text\":\"\"},\"zerolinecolor\":\"#E1E5ED\"},\"yaxis\":{\"gridcolor\":\"#E1E5ED\",\"showgrid\":true,\"tickfont\":{\"color\":\"#4D5663\"},\"title\":{\"font\":{\"color\":\"#4D5663\"},\"text\":\"\"},\"zerolinecolor\":\"#E1E5ED\"}},                        {\"showLink\": true, \"linkText\": \"Export to plot.ly\", \"plotlyServerURL\": \"https://plot.ly\", \"responsive\": true}                    ).then(function(){\n",
       "                            \n",
       "var gd = document.getElementById('0af0630e-2e6e-46a5-b8c5-b15835aba808');\n",
       "var x = new MutationObserver(function (mutations, observer) {{\n",
       "        var display = window.getComputedStyle(gd).display;\n",
       "        if (!display || display === 'none') {{\n",
       "            console.log([gd, 'removed!']);\n",
       "            Plotly.purge(gd);\n",
       "            observer.disconnect();\n",
       "        }}\n",
       "}});\n",
       "\n",
       "// Listen for the removal of the full notebook cells\n",
       "var notebookContainer = gd.closest('#notebook-container');\n",
       "if (notebookContainer) {{\n",
       "    x.observe(notebookContainer, {childList: true});\n",
       "}}\n",
       "\n",
       "// Listen for the clearing of the current output cell\n",
       "var outputEl = gd.closest('.output');\n",
       "if (outputEl) {{\n",
       "    x.observe(outputEl, {childList: true});\n",
       "}}\n",
       "\n",
       "                        })                };                });            </script>        </div>"
      ]
     },
     "metadata": {},
     "output_type": "display_data"
    }
   ],
   "source": [
    "# Histogram Plot\n",
    "df.iplot(kind='hist',bins=50)"
   ]
  },
  {
   "cell_type": "code",
   "execution_count": 23,
   "id": "3d50ae5b",
   "metadata": {},
   "outputs": [
    {
     "name": "stderr",
     "output_type": "stream",
     "text": [
      "/Users/chriskhoo/opt/anaconda3/lib/python3.8/site-packages/cufflinks/plotlytools.py:849: FutureWarning:\n",
      "\n",
      "The pandas.np module is deprecated and will be removed from pandas in a future version. Import numpy directly instead\n",
      "\n",
      "/Users/chriskhoo/opt/anaconda3/lib/python3.8/site-packages/cufflinks/plotlytools.py:850: FutureWarning:\n",
      "\n",
      "The pandas.np module is deprecated and will be removed from pandas in a future version. Import numpy directly instead\n",
      "\n"
     ]
    },
    {
     "data": {
      "application/vnd.plotly.v1+json": {
       "config": {
        "linkText": "Export to plot.ly",
        "plotlyServerURL": "https://plot.ly",
        "showLink": true
       },
       "data": [
        {
         "line": {
          "color": "rgba(255, 153, 51, 1.0)",
          "dash": "solid",
          "shape": "linear",
          "width": 1.3
         },
         "mode": "lines",
         "name": "A",
         "text": "",
         "type": "scatter",
         "x": [
          0,
          1,
          2,
          3,
          4,
          5,
          6,
          7,
          8,
          9,
          10,
          11,
          12,
          13,
          14,
          15,
          16,
          17,
          18,
          19,
          20,
          21,
          22,
          23,
          24,
          25,
          26,
          27,
          28,
          29,
          30,
          31,
          32,
          33,
          34,
          35,
          36,
          37,
          38,
          39,
          40,
          41,
          42,
          43,
          44,
          45,
          46,
          47,
          48,
          49,
          50,
          51,
          52,
          53,
          54,
          55,
          56,
          57,
          58,
          59,
          60,
          61,
          62,
          63,
          64,
          65,
          66,
          67,
          68,
          69,
          70,
          71,
          72,
          73,
          74,
          75,
          76,
          77,
          78,
          79,
          80,
          81,
          82,
          83,
          84,
          85,
          86,
          87,
          88,
          89,
          90,
          91,
          92,
          93,
          94,
          95,
          96,
          97,
          98,
          99
         ],
         "y": [
          0.42834336660048555,
          -0.5431130343751923,
          -1.1089003168660925,
          -0.9310734812179945,
          0.7009672118351541,
          0.8814470474168713,
          -0.8407399793698521,
          -0.576893294052475,
          -0.8080703354235872,
          -0.845685394146627,
          1.0546390088298483,
          -1.2167789452198259,
          -0.5793894576537396,
          0.6531820902565525,
          1.1852687270905453,
          2.179059607997261,
          -0.916752595388181,
          0.5616215793465428,
          0.6378222152443052,
          -0.4644285971201103,
          -0.26443495004037043,
          1.2197910519981685,
          -0.09646466921168612,
          -0.13577844238819872,
          -0.3196361512921841,
          -2.3138191266271706,
          1.8776670994205429,
          0.7405974885272778,
          -3.142074285106367,
          -1.472470555300087,
          -0.16340487140345647,
          -0.14795883993457962,
          0.4002683275186483,
          1.2623093249244404,
          -0.13729696811807196,
          -0.4103419566810211,
          0.6309401297310346,
          -2.554433216510306,
          -1.8136787861246852,
          -1.5971638470617107,
          -0.04727848987271,
          -0.9859271975667138,
          -0.5200134096541108,
          -0.1496386173536915,
          -1.692708236163166,
          -0.9861515241881423,
          1.8566766289766876,
          -0.6426894805921634,
          1.3684446007506572,
          1.0303287829607057,
          0.15816602375477531,
          0.6029637904815115,
          0.7020121929344575,
          -0.6534446453808141,
          -0.8819822613338307,
          -0.3725294111302389,
          0.917844776303251,
          2.952904715090055,
          0.563570403972607,
          0.34163541591459934,
          0.24760279926901188,
          0.6853429334592762,
          -0.8871213125118289,
          -0.62447480201159,
          -1.1435009277849852,
          1.3423559897981243,
          -0.6885983903751369,
          -0.6327941965193481,
          1.1382967585537072,
          1.6535942818207383,
          -0.49473872348892395,
          -0.2213077371949228,
          -1.7441809868780074,
          0.33503514683285246,
          1.457920342236441,
          1.1942547194581565,
          1.6048350491365895,
          0.6834991629924438,
          0.5449683729052708,
          -0.09354422620876975,
          -0.7332514853887435,
          -1.2858330647452987,
          -1.6144516726215936,
          0.5491139981272396,
          0.3988004780816497,
          1.1415368511791262,
          0.9103446674267672,
          -0.4302964462779966,
          0.34100207998563,
          1.0883510241965397,
          0.9003232980148024,
          1.0445905659847246,
          0.4609394941132174,
          2.059739333522352,
          -0.8652132010214949,
          0.4132656940423574,
          0.1597976827062007,
          0.8959245972573175,
          0.19935532667623881,
          -1.2631555290890033
         ]
        },
        {
         "line": {
          "color": "rgba(55, 128, 191, 1.0)",
          "dash": "solid",
          "shape": "linear",
          "width": 1.3
         },
         "mode": "lines",
         "name": "B",
         "text": "",
         "type": "scatter",
         "x": [
          0,
          1,
          2,
          3,
          4,
          5,
          6,
          7,
          8,
          9,
          10,
          11,
          12,
          13,
          14,
          15,
          16,
          17,
          18,
          19,
          20,
          21,
          22,
          23,
          24,
          25,
          26,
          27,
          28,
          29,
          30,
          31,
          32,
          33,
          34,
          35,
          36,
          37,
          38,
          39,
          40,
          41,
          42,
          43,
          44,
          45,
          46,
          47,
          48,
          49,
          50,
          51,
          52,
          53,
          54,
          55,
          56,
          57,
          58,
          59,
          60,
          61,
          62,
          63,
          64,
          65,
          66,
          67,
          68,
          69,
          70,
          71,
          72,
          73,
          74,
          75,
          76,
          77,
          78,
          79,
          80,
          81,
          82,
          83,
          84,
          85,
          86,
          87,
          88,
          89,
          90,
          91,
          92,
          93,
          94,
          95,
          96,
          97,
          98,
          99
         ],
         "y": [
          -1.5110962441514955,
          -1.3421231187988822,
          -0.8218709717794145,
          -0.5629676527933162,
          -0.0939803421434012,
          -1.0281015513104197,
          0.3995284548028364,
          0.9763755222555714,
          0.04671111034541469,
          -1.9765101574433694,
          -1.0786291236002599,
          -1.1370525638047173,
          0.6234717853349546,
          0.22736963902127702,
          0.6312271068437805,
          1.898722835344093,
          -1.1841566347480224,
          0.6706380460640187,
          0.46705903160036005,
          0.865784386057344,
          -0.48600102296393116,
          -1.087364794658521,
          -0.46493281327929764,
          0.6645474925732094,
          -0.16064904501671742,
          0.10420018730006272,
          1.3088379168204136,
          0.1421960429541945,
          0.021540205979291894,
          -1.696360096304541,
          0.1020244225904697,
          -1.4488401608216697,
          -0.8435275097409567,
          -0.4903190344160185,
          -0.6167726979776068,
          1.516273713443217,
          -0.8504127889940435,
          -0.6817747858776013,
          1.1428523434547717,
          0.6038809943697726,
          -0.19543354794411882,
          0.05964263107473625,
          0.9886081091818062,
          -1.6851781394957248,
          -0.5385704399566267,
          0.4992709096890342,
          0.8523579261540218,
          -0.036804283670902514,
          0.6753618291437835,
          -0.5658997632303835,
          0.08053411107930569,
          0.46914129922192865,
          -0.14822017594795173,
          0.48477839501296927,
          -2.7740379594780014,
          -0.057824947331366054,
          0.007855445306867293,
          -1.037584910585149,
          -0.234403782400521,
          -0.10043071393199138,
          0.24141096042409843,
          -0.6761136267213637,
          -1.3153681866336913,
          -0.11340787951362206,
          -1.5068080162253386,
          -1.3266258407333442,
          0.008007313205507259,
          -1.4753921403733459,
          0.25353596911295373,
          -0.5618230070321575,
          -0.051296848284010335,
          -1.1064574503295967,
          0.451924472091387,
          0.41623143210306596,
          -0.4126695523135965,
          -0.9246281429196028,
          -1.4234046222503718,
          0.08949143437347688,
          -1.1257961613100143,
          -0.45495471958497263,
          -2.2203979818443966,
          -1.1725235534576335,
          0.7847230953515638,
          1.7650003621711998,
          1.2096931205010761,
          -0.46025502320418904,
          -0.04675734436156397,
          2.2850252000751903,
          0.19569106889942578,
          1.9644722028091561,
          0.3203399145813591,
          0.5512007112953003,
          -0.01795135166725152,
          1.8309718907211967,
          -1.2484429434786146,
          0.8173605905207877,
          -0.11453463647031444,
          1.055310864976655,
          -0.6305387854690183,
          -1.4593607886493545
         ]
        },
        {
         "connectgaps": false,
         "fill": "tozeroy",
         "line": {
          "color": "green",
          "dash": "solid",
          "shape": "linear",
          "width": 0.5
         },
         "mode": "lines",
         "name": "Spread",
         "showlegend": false,
         "type": "scatter",
         "x": [
          0,
          1,
          2,
          3,
          4,
          5,
          6,
          7,
          8,
          9,
          10,
          11,
          12,
          13,
          14,
          15,
          16,
          17,
          18,
          19,
          20,
          21,
          22,
          23,
          24,
          25,
          26,
          27,
          28,
          29,
          30,
          31,
          32,
          33,
          34,
          35,
          36,
          37,
          38,
          39,
          40,
          41,
          42,
          43,
          44,
          45,
          46,
          47,
          48,
          49,
          50,
          51,
          52,
          53,
          54,
          55,
          56,
          57,
          58,
          59,
          60,
          61,
          62,
          63,
          64,
          65,
          66,
          67,
          68,
          69,
          70,
          71,
          72,
          73,
          74,
          75,
          76,
          77,
          78,
          79,
          80,
          81,
          82,
          83,
          84,
          85,
          86,
          87,
          88,
          89,
          90,
          91,
          92,
          93,
          94,
          95,
          96,
          97,
          98,
          99
         ],
         "xaxis": "x2",
         "y": [
          1.9394396107519811,
          0.7990100844236899,
          "",
          "",
          0.7949475539785553,
          1.9095485987272909,
          "",
          "",
          "",
          1.1308247632967423,
          2.133268132430108,
          "",
          "",
          0.42581245123527545,
          0.5540416202467648,
          0.28033677265316803,
          0.26740403935984136,
          "",
          0.1707631836439451,
          "",
          0.22156607292356073,
          2.3071558466566895,
          0.3684681440676115,
          "",
          "",
          "",
          0.5688291826001293,
          0.5984014455730833,
          "",
          0.22388954100445413,
          "",
          1.30088132088709,
          1.243795837259605,
          1.7526283593404588,
          0.47947572985953485,
          "",
          1.481352918725078,
          "",
          "",
          "",
          0.14815505807140883,
          "",
          "",
          1.5355395221420334,
          "",
          "",
          1.0043187028226659,
          "",
          0.6930827716068737,
          1.5962285461910892,
          0.07763191267546962,
          0.13382249125958284,
          0.8502323688824092,
          "",
          1.8920556981441705,
          "",
          0.9099893309963837,
          3.990489625675204,
          0.797974186373128,
          0.4420661298465907,
          0.00619183884491345,
          1.3614565601806399,
          0.42824687412186235,
          "",
          0.3633070884403533,
          2.6689818305314685,
          "",
          0.8425979438539978,
          0.8847607894407534,
          2.215417288852896,
          "",
          0.8851497131346739,
          "",
          "",
          1.8705898945500374,
          2.1188828623777596,
          3.0282396713869613,
          0.594007728618967,
          1.670764534215285,
          0.3614104933762029,
          1.487146496455653,
          "",
          "",
          "",
          "",
          1.6017918743833153,
          0.9571020117883312,
          "",
          0.1453110110862042,
          "",
          0.5799833834334434,
          0.4933898546894242,
          0.4788908457804689,
          0.22876744280115524,
          0.3832297424571197,
          "",
          0.2743323191765151,
          "",
          0.8298941121452571,
          0.19620525956035118
         ],
         "yaxis": "y2"
        },
        {
         "connectgaps": false,
         "fill": "tozeroy",
         "line": {
          "color": "red",
          "dash": "solid",
          "shape": "linear",
          "width": 0.5
         },
         "mode": "lines",
         "name": "Spread",
         "showlegend": false,
         "type": "scatter",
         "x": [
          0,
          1,
          2,
          3,
          4,
          5,
          6,
          7,
          8,
          9,
          10,
          11,
          12,
          13,
          14,
          15,
          16,
          17,
          18,
          19,
          20,
          21,
          22,
          23,
          24,
          25,
          26,
          27,
          28,
          29,
          30,
          31,
          32,
          33,
          34,
          35,
          36,
          37,
          38,
          39,
          40,
          41,
          42,
          43,
          44,
          45,
          46,
          47,
          48,
          49,
          50,
          51,
          52,
          53,
          54,
          55,
          56,
          57,
          58,
          59,
          60,
          61,
          62,
          63,
          64,
          65,
          66,
          67,
          68,
          69,
          70,
          71,
          72,
          73,
          74,
          75,
          76,
          77,
          78,
          79,
          80,
          81,
          82,
          83,
          84,
          85,
          86,
          87,
          88,
          89,
          90,
          91,
          92,
          93,
          94,
          95,
          96,
          97,
          98,
          99
         ],
         "xaxis": "x2",
         "y": [
          "",
          "",
          -0.287029345086678,
          -0.3681058284246783,
          "",
          "",
          -1.2402684341726884,
          -1.5532688163080466,
          -0.8547814457690018,
          "",
          "",
          -0.07972638141510857,
          -1.2028612429886942,
          "",
          "",
          "",
          "",
          -0.10901646671747589,
          "",
          -1.3302129831774543,
          "",
          "",
          "",
          -0.8003259349614081,
          -0.15898710627546667,
          -2.4180193139272332,
          "",
          "",
          -3.1636144910856587,
          "",
          -0.2654292939939262,
          "",
          "",
          "",
          "",
          -1.926615670124238,
          "",
          -1.8726584306327048,
          -2.956531129579457,
          -2.201044841431483,
          "",
          -1.04556982864145,
          -1.508621518835917,
          "",
          -1.1541377962065393,
          -1.4854224338771767,
          "",
          -0.6058851969212609,
          "",
          "",
          "",
          "",
          "",
          -1.1382230403937834,
          "",
          -0.31470446379887285,
          "",
          "",
          "",
          "",
          "",
          "",
          "",
          -0.5110669224979679,
          "",
          "",
          -0.6966057035806442,
          "",
          "",
          "",
          -0.4434418752049136,
          "",
          -2.1961054589693942,
          -0.0811962852702135,
          "",
          "",
          "",
          "",
          "",
          "",
          "",
          -0.1133095112876652,
          -2.3991747679731574,
          -1.21588636404396,
          -0.8108926424194265,
          "",
          "",
          -2.715321646353187,
          "",
          -0.8761211786126164,
          "",
          "",
          "",
          "",
          "",
          -0.4040948964784303,
          "",
          -0.1593862677193374,
          "",
          ""
         ],
         "yaxis": "y2"
        }
       ],
       "layout": {
        "hovermode": "x",
        "legend": {
         "bgcolor": "#F5F6F9",
         "font": {
          "color": "#4D5663"
         }
        },
        "paper_bgcolor": "#F5F6F9",
        "plot_bgcolor": "#F5F6F9",
        "template": {
         "data": {
          "bar": [
           {
            "error_x": {
             "color": "#2a3f5f"
            },
            "error_y": {
             "color": "#2a3f5f"
            },
            "marker": {
             "line": {
              "color": "#E5ECF6",
              "width": 0.5
             },
             "pattern": {
              "fillmode": "overlay",
              "size": 10,
              "solidity": 0.2
             }
            },
            "type": "bar"
           }
          ],
          "barpolar": [
           {
            "marker": {
             "line": {
              "color": "#E5ECF6",
              "width": 0.5
             },
             "pattern": {
              "fillmode": "overlay",
              "size": 10,
              "solidity": 0.2
             }
            },
            "type": "barpolar"
           }
          ],
          "carpet": [
           {
            "aaxis": {
             "endlinecolor": "#2a3f5f",
             "gridcolor": "white",
             "linecolor": "white",
             "minorgridcolor": "white",
             "startlinecolor": "#2a3f5f"
            },
            "baxis": {
             "endlinecolor": "#2a3f5f",
             "gridcolor": "white",
             "linecolor": "white",
             "minorgridcolor": "white",
             "startlinecolor": "#2a3f5f"
            },
            "type": "carpet"
           }
          ],
          "choropleth": [
           {
            "colorbar": {
             "outlinewidth": 0,
             "ticks": ""
            },
            "type": "choropleth"
           }
          ],
          "contour": [
           {
            "colorbar": {
             "outlinewidth": 0,
             "ticks": ""
            },
            "colorscale": [
             [
              0,
              "#0d0887"
             ],
             [
              0.1111111111111111,
              "#46039f"
             ],
             [
              0.2222222222222222,
              "#7201a8"
             ],
             [
              0.3333333333333333,
              "#9c179e"
             ],
             [
              0.4444444444444444,
              "#bd3786"
             ],
             [
              0.5555555555555556,
              "#d8576b"
             ],
             [
              0.6666666666666666,
              "#ed7953"
             ],
             [
              0.7777777777777778,
              "#fb9f3a"
             ],
             [
              0.8888888888888888,
              "#fdca26"
             ],
             [
              1,
              "#f0f921"
             ]
            ],
            "type": "contour"
           }
          ],
          "contourcarpet": [
           {
            "colorbar": {
             "outlinewidth": 0,
             "ticks": ""
            },
            "type": "contourcarpet"
           }
          ],
          "heatmap": [
           {
            "colorbar": {
             "outlinewidth": 0,
             "ticks": ""
            },
            "colorscale": [
             [
              0,
              "#0d0887"
             ],
             [
              0.1111111111111111,
              "#46039f"
             ],
             [
              0.2222222222222222,
              "#7201a8"
             ],
             [
              0.3333333333333333,
              "#9c179e"
             ],
             [
              0.4444444444444444,
              "#bd3786"
             ],
             [
              0.5555555555555556,
              "#d8576b"
             ],
             [
              0.6666666666666666,
              "#ed7953"
             ],
             [
              0.7777777777777778,
              "#fb9f3a"
             ],
             [
              0.8888888888888888,
              "#fdca26"
             ],
             [
              1,
              "#f0f921"
             ]
            ],
            "type": "heatmap"
           }
          ],
          "heatmapgl": [
           {
            "colorbar": {
             "outlinewidth": 0,
             "ticks": ""
            },
            "colorscale": [
             [
              0,
              "#0d0887"
             ],
             [
              0.1111111111111111,
              "#46039f"
             ],
             [
              0.2222222222222222,
              "#7201a8"
             ],
             [
              0.3333333333333333,
              "#9c179e"
             ],
             [
              0.4444444444444444,
              "#bd3786"
             ],
             [
              0.5555555555555556,
              "#d8576b"
             ],
             [
              0.6666666666666666,
              "#ed7953"
             ],
             [
              0.7777777777777778,
              "#fb9f3a"
             ],
             [
              0.8888888888888888,
              "#fdca26"
             ],
             [
              1,
              "#f0f921"
             ]
            ],
            "type": "heatmapgl"
           }
          ],
          "histogram": [
           {
            "marker": {
             "pattern": {
              "fillmode": "overlay",
              "size": 10,
              "solidity": 0.2
             }
            },
            "type": "histogram"
           }
          ],
          "histogram2d": [
           {
            "colorbar": {
             "outlinewidth": 0,
             "ticks": ""
            },
            "colorscale": [
             [
              0,
              "#0d0887"
             ],
             [
              0.1111111111111111,
              "#46039f"
             ],
             [
              0.2222222222222222,
              "#7201a8"
             ],
             [
              0.3333333333333333,
              "#9c179e"
             ],
             [
              0.4444444444444444,
              "#bd3786"
             ],
             [
              0.5555555555555556,
              "#d8576b"
             ],
             [
              0.6666666666666666,
              "#ed7953"
             ],
             [
              0.7777777777777778,
              "#fb9f3a"
             ],
             [
              0.8888888888888888,
              "#fdca26"
             ],
             [
              1,
              "#f0f921"
             ]
            ],
            "type": "histogram2d"
           }
          ],
          "histogram2dcontour": [
           {
            "colorbar": {
             "outlinewidth": 0,
             "ticks": ""
            },
            "colorscale": [
             [
              0,
              "#0d0887"
             ],
             [
              0.1111111111111111,
              "#46039f"
             ],
             [
              0.2222222222222222,
              "#7201a8"
             ],
             [
              0.3333333333333333,
              "#9c179e"
             ],
             [
              0.4444444444444444,
              "#bd3786"
             ],
             [
              0.5555555555555556,
              "#d8576b"
             ],
             [
              0.6666666666666666,
              "#ed7953"
             ],
             [
              0.7777777777777778,
              "#fb9f3a"
             ],
             [
              0.8888888888888888,
              "#fdca26"
             ],
             [
              1,
              "#f0f921"
             ]
            ],
            "type": "histogram2dcontour"
           }
          ],
          "mesh3d": [
           {
            "colorbar": {
             "outlinewidth": 0,
             "ticks": ""
            },
            "type": "mesh3d"
           }
          ],
          "parcoords": [
           {
            "line": {
             "colorbar": {
              "outlinewidth": 0,
              "ticks": ""
             }
            },
            "type": "parcoords"
           }
          ],
          "pie": [
           {
            "automargin": true,
            "type": "pie"
           }
          ],
          "scatter": [
           {
            "marker": {
             "colorbar": {
              "outlinewidth": 0,
              "ticks": ""
             }
            },
            "type": "scatter"
           }
          ],
          "scatter3d": [
           {
            "line": {
             "colorbar": {
              "outlinewidth": 0,
              "ticks": ""
             }
            },
            "marker": {
             "colorbar": {
              "outlinewidth": 0,
              "ticks": ""
             }
            },
            "type": "scatter3d"
           }
          ],
          "scattercarpet": [
           {
            "marker": {
             "colorbar": {
              "outlinewidth": 0,
              "ticks": ""
             }
            },
            "type": "scattercarpet"
           }
          ],
          "scattergeo": [
           {
            "marker": {
             "colorbar": {
              "outlinewidth": 0,
              "ticks": ""
             }
            },
            "type": "scattergeo"
           }
          ],
          "scattergl": [
           {
            "marker": {
             "colorbar": {
              "outlinewidth": 0,
              "ticks": ""
             }
            },
            "type": "scattergl"
           }
          ],
          "scattermapbox": [
           {
            "marker": {
             "colorbar": {
              "outlinewidth": 0,
              "ticks": ""
             }
            },
            "type": "scattermapbox"
           }
          ],
          "scatterpolar": [
           {
            "marker": {
             "colorbar": {
              "outlinewidth": 0,
              "ticks": ""
             }
            },
            "type": "scatterpolar"
           }
          ],
          "scatterpolargl": [
           {
            "marker": {
             "colorbar": {
              "outlinewidth": 0,
              "ticks": ""
             }
            },
            "type": "scatterpolargl"
           }
          ],
          "scatterternary": [
           {
            "marker": {
             "colorbar": {
              "outlinewidth": 0,
              "ticks": ""
             }
            },
            "type": "scatterternary"
           }
          ],
          "surface": [
           {
            "colorbar": {
             "outlinewidth": 0,
             "ticks": ""
            },
            "colorscale": [
             [
              0,
              "#0d0887"
             ],
             [
              0.1111111111111111,
              "#46039f"
             ],
             [
              0.2222222222222222,
              "#7201a8"
             ],
             [
              0.3333333333333333,
              "#9c179e"
             ],
             [
              0.4444444444444444,
              "#bd3786"
             ],
             [
              0.5555555555555556,
              "#d8576b"
             ],
             [
              0.6666666666666666,
              "#ed7953"
             ],
             [
              0.7777777777777778,
              "#fb9f3a"
             ],
             [
              0.8888888888888888,
              "#fdca26"
             ],
             [
              1,
              "#f0f921"
             ]
            ],
            "type": "surface"
           }
          ],
          "table": [
           {
            "cells": {
             "fill": {
              "color": "#EBF0F8"
             },
             "line": {
              "color": "white"
             }
            },
            "header": {
             "fill": {
              "color": "#C8D4E3"
             },
             "line": {
              "color": "white"
             }
            },
            "type": "table"
           }
          ]
         },
         "layout": {
          "annotationdefaults": {
           "arrowcolor": "#2a3f5f",
           "arrowhead": 0,
           "arrowwidth": 1
          },
          "autotypenumbers": "strict",
          "coloraxis": {
           "colorbar": {
            "outlinewidth": 0,
            "ticks": ""
           }
          },
          "colorscale": {
           "diverging": [
            [
             0,
             "#8e0152"
            ],
            [
             0.1,
             "#c51b7d"
            ],
            [
             0.2,
             "#de77ae"
            ],
            [
             0.3,
             "#f1b6da"
            ],
            [
             0.4,
             "#fde0ef"
            ],
            [
             0.5,
             "#f7f7f7"
            ],
            [
             0.6,
             "#e6f5d0"
            ],
            [
             0.7,
             "#b8e186"
            ],
            [
             0.8,
             "#7fbc41"
            ],
            [
             0.9,
             "#4d9221"
            ],
            [
             1,
             "#276419"
            ]
           ],
           "sequential": [
            [
             0,
             "#0d0887"
            ],
            [
             0.1111111111111111,
             "#46039f"
            ],
            [
             0.2222222222222222,
             "#7201a8"
            ],
            [
             0.3333333333333333,
             "#9c179e"
            ],
            [
             0.4444444444444444,
             "#bd3786"
            ],
            [
             0.5555555555555556,
             "#d8576b"
            ],
            [
             0.6666666666666666,
             "#ed7953"
            ],
            [
             0.7777777777777778,
             "#fb9f3a"
            ],
            [
             0.8888888888888888,
             "#fdca26"
            ],
            [
             1,
             "#f0f921"
            ]
           ],
           "sequentialminus": [
            [
             0,
             "#0d0887"
            ],
            [
             0.1111111111111111,
             "#46039f"
            ],
            [
             0.2222222222222222,
             "#7201a8"
            ],
            [
             0.3333333333333333,
             "#9c179e"
            ],
            [
             0.4444444444444444,
             "#bd3786"
            ],
            [
             0.5555555555555556,
             "#d8576b"
            ],
            [
             0.6666666666666666,
             "#ed7953"
            ],
            [
             0.7777777777777778,
             "#fb9f3a"
            ],
            [
             0.8888888888888888,
             "#fdca26"
            ],
            [
             1,
             "#f0f921"
            ]
           ]
          },
          "colorway": [
           "#636efa",
           "#EF553B",
           "#00cc96",
           "#ab63fa",
           "#FFA15A",
           "#19d3f3",
           "#FF6692",
           "#B6E880",
           "#FF97FF",
           "#FECB52"
          ],
          "font": {
           "color": "#2a3f5f"
          },
          "geo": {
           "bgcolor": "white",
           "lakecolor": "white",
           "landcolor": "#E5ECF6",
           "showlakes": true,
           "showland": true,
           "subunitcolor": "white"
          },
          "hoverlabel": {
           "align": "left"
          },
          "hovermode": "closest",
          "mapbox": {
           "style": "light"
          },
          "paper_bgcolor": "white",
          "plot_bgcolor": "#E5ECF6",
          "polar": {
           "angularaxis": {
            "gridcolor": "white",
            "linecolor": "white",
            "ticks": ""
           },
           "bgcolor": "#E5ECF6",
           "radialaxis": {
            "gridcolor": "white",
            "linecolor": "white",
            "ticks": ""
           }
          },
          "scene": {
           "xaxis": {
            "backgroundcolor": "#E5ECF6",
            "gridcolor": "white",
            "gridwidth": 2,
            "linecolor": "white",
            "showbackground": true,
            "ticks": "",
            "zerolinecolor": "white"
           },
           "yaxis": {
            "backgroundcolor": "#E5ECF6",
            "gridcolor": "white",
            "gridwidth": 2,
            "linecolor": "white",
            "showbackground": true,
            "ticks": "",
            "zerolinecolor": "white"
           },
           "zaxis": {
            "backgroundcolor": "#E5ECF6",
            "gridcolor": "white",
            "gridwidth": 2,
            "linecolor": "white",
            "showbackground": true,
            "ticks": "",
            "zerolinecolor": "white"
           }
          },
          "shapedefaults": {
           "line": {
            "color": "#2a3f5f"
           }
          },
          "ternary": {
           "aaxis": {
            "gridcolor": "white",
            "linecolor": "white",
            "ticks": ""
           },
           "baxis": {
            "gridcolor": "white",
            "linecolor": "white",
            "ticks": ""
           },
           "bgcolor": "#E5ECF6",
           "caxis": {
            "gridcolor": "white",
            "linecolor": "white",
            "ticks": ""
           }
          },
          "title": {
           "x": 0.05
          },
          "xaxis": {
           "automargin": true,
           "gridcolor": "white",
           "linecolor": "white",
           "ticks": "",
           "title": {
            "standoff": 15
           },
           "zerolinecolor": "white",
           "zerolinewidth": 2
          },
          "yaxis": {
           "automargin": true,
           "gridcolor": "white",
           "linecolor": "white",
           "ticks": "",
           "title": {
            "standoff": 15
           },
           "zerolinecolor": "white",
           "zerolinewidth": 2
          }
         }
        },
        "title": {
         "font": {
          "color": "#4D5663"
         }
        },
        "xaxis": {
         "gridcolor": "#E1E5ED",
         "showgrid": true,
         "tickfont": {
          "color": "#4D5663"
         },
         "title": {
          "font": {
           "color": "#4D5663"
          },
          "text": ""
         },
         "zerolinecolor": "#E1E5ED"
        },
        "xaxis2": {
         "anchor": "y2",
         "gridcolor": "#E1E5ED",
         "showgrid": true,
         "showticklabels": false,
         "tickfont": {
          "color": "#4D5663"
         },
         "title": {
          "font": {
           "color": "#4D5663"
          },
          "text": ""
         },
         "zerolinecolor": "#E1E5ED"
        },
        "yaxis": {
         "domain": [
          0.3,
          1
         ],
         "gridcolor": "#E1E5ED",
         "showgrid": true,
         "tickfont": {
          "color": "#4D5663"
         },
         "title": {
          "font": {
           "color": "#4D5663"
          },
          "text": ""
         },
         "zerolinecolor": "#E1E5ED"
        },
        "yaxis2": {
         "domain": [
          0,
          0.25
         ],
         "gridcolor": "#E1E5ED",
         "showgrid": true,
         "tickfont": {
          "color": "#4D5663"
         },
         "title": {
          "font": {
           "color": "#4D5663"
          },
          "text": "Spread"
         },
         "zerolinecolor": "#E1E5ED"
        }
       }
      },
      "text/html": [
       "<div>                            <div id=\"485cbeff-8c84-438c-a98f-aab0c405594d\" class=\"plotly-graph-div\" style=\"height:525px; width:100%;\"></div>            <script type=\"text/javascript\">                require([\"plotly\"], function(Plotly) {                    window.PLOTLYENV=window.PLOTLYENV || {};\n",
       "                    window.PLOTLYENV.BASE_URL='https://plot.ly';                                    if (document.getElementById(\"485cbeff-8c84-438c-a98f-aab0c405594d\")) {                    Plotly.newPlot(                        \"485cbeff-8c84-438c-a98f-aab0c405594d\",                        [{\"line\":{\"color\":\"rgba(255, 153, 51, 1.0)\",\"dash\":\"solid\",\"shape\":\"linear\",\"width\":1.3},\"mode\":\"lines\",\"name\":\"A\",\"text\":\"\",\"x\":[0,1,2,3,4,5,6,7,8,9,10,11,12,13,14,15,16,17,18,19,20,21,22,23,24,25,26,27,28,29,30,31,32,33,34,35,36,37,38,39,40,41,42,43,44,45,46,47,48,49,50,51,52,53,54,55,56,57,58,59,60,61,62,63,64,65,66,67,68,69,70,71,72,73,74,75,76,77,78,79,80,81,82,83,84,85,86,87,88,89,90,91,92,93,94,95,96,97,98,99],\"y\":[0.42834336660048555,-0.5431130343751923,-1.1089003168660925,-0.9310734812179945,0.7009672118351541,0.8814470474168713,-0.8407399793698521,-0.576893294052475,-0.8080703354235872,-0.845685394146627,1.0546390088298483,-1.2167789452198259,-0.5793894576537396,0.6531820902565525,1.1852687270905453,2.179059607997261,-0.916752595388181,0.5616215793465428,0.6378222152443052,-0.4644285971201103,-0.26443495004037043,1.2197910519981685,-0.09646466921168612,-0.13577844238819872,-0.3196361512921841,-2.3138191266271706,1.8776670994205429,0.7405974885272778,-3.142074285106367,-1.472470555300087,-0.16340487140345647,-0.14795883993457962,0.4002683275186483,1.2623093249244404,-0.13729696811807196,-0.4103419566810211,0.6309401297310346,-2.554433216510306,-1.8136787861246852,-1.5971638470617107,-0.04727848987271,-0.9859271975667138,-0.5200134096541108,-0.1496386173536915,-1.692708236163166,-0.9861515241881423,1.8566766289766876,-0.6426894805921634,1.3684446007506572,1.0303287829607057,0.15816602375477531,0.6029637904815115,0.7020121929344575,-0.6534446453808141,-0.8819822613338307,-0.3725294111302389,0.917844776303251,2.952904715090055,0.563570403972607,0.34163541591459934,0.24760279926901188,0.6853429334592762,-0.8871213125118289,-0.62447480201159,-1.1435009277849852,1.3423559897981243,-0.6885983903751369,-0.6327941965193481,1.1382967585537072,1.6535942818207383,-0.49473872348892395,-0.2213077371949228,-1.7441809868780074,0.33503514683285246,1.457920342236441,1.1942547194581565,1.6048350491365895,0.6834991629924438,0.5449683729052708,-0.09354422620876975,-0.7332514853887435,-1.2858330647452987,-1.6144516726215936,0.5491139981272396,0.3988004780816497,1.1415368511791262,0.9103446674267672,-0.4302964462779966,0.34100207998563,1.0883510241965397,0.9003232980148024,1.0445905659847246,0.4609394941132174,2.059739333522352,-0.8652132010214949,0.4132656940423574,0.1597976827062007,0.8959245972573175,0.19935532667623881,-1.2631555290890033],\"type\":\"scatter\"},{\"line\":{\"color\":\"rgba(55, 128, 191, 1.0)\",\"dash\":\"solid\",\"shape\":\"linear\",\"width\":1.3},\"mode\":\"lines\",\"name\":\"B\",\"text\":\"\",\"x\":[0,1,2,3,4,5,6,7,8,9,10,11,12,13,14,15,16,17,18,19,20,21,22,23,24,25,26,27,28,29,30,31,32,33,34,35,36,37,38,39,40,41,42,43,44,45,46,47,48,49,50,51,52,53,54,55,56,57,58,59,60,61,62,63,64,65,66,67,68,69,70,71,72,73,74,75,76,77,78,79,80,81,82,83,84,85,86,87,88,89,90,91,92,93,94,95,96,97,98,99],\"y\":[-1.5110962441514955,-1.3421231187988822,-0.8218709717794145,-0.5629676527933162,-0.0939803421434012,-1.0281015513104197,0.3995284548028364,0.9763755222555714,0.04671111034541469,-1.9765101574433694,-1.0786291236002599,-1.1370525638047173,0.6234717853349546,0.22736963902127702,0.6312271068437805,1.898722835344093,-1.1841566347480224,0.6706380460640187,0.46705903160036005,0.865784386057344,-0.48600102296393116,-1.087364794658521,-0.46493281327929764,0.6645474925732094,-0.16064904501671742,0.10420018730006272,1.3088379168204136,0.1421960429541945,0.021540205979291894,-1.696360096304541,0.1020244225904697,-1.4488401608216697,-0.8435275097409567,-0.4903190344160185,-0.6167726979776068,1.516273713443217,-0.8504127889940435,-0.6817747858776013,1.1428523434547717,0.6038809943697726,-0.19543354794411882,0.05964263107473625,0.9886081091818062,-1.6851781394957248,-0.5385704399566267,0.4992709096890342,0.8523579261540218,-0.036804283670902514,0.6753618291437835,-0.5658997632303835,0.08053411107930569,0.46914129922192865,-0.14822017594795173,0.48477839501296927,-2.7740379594780014,-0.057824947331366054,0.007855445306867293,-1.037584910585149,-0.234403782400521,-0.10043071393199138,0.24141096042409843,-0.6761136267213637,-1.3153681866336913,-0.11340787951362206,-1.5068080162253386,-1.3266258407333442,0.008007313205507259,-1.4753921403733459,0.25353596911295373,-0.5618230070321575,-0.051296848284010335,-1.1064574503295967,0.451924472091387,0.41623143210306596,-0.4126695523135965,-0.9246281429196028,-1.4234046222503718,0.08949143437347688,-1.1257961613100143,-0.45495471958497263,-2.2203979818443966,-1.1725235534576335,0.7847230953515638,1.7650003621711998,1.2096931205010761,-0.46025502320418904,-0.04675734436156397,2.2850252000751903,0.19569106889942578,1.9644722028091561,0.3203399145813591,0.5512007112953003,-0.01795135166725152,1.8309718907211967,-1.2484429434786146,0.8173605905207877,-0.11453463647031444,1.055310864976655,-0.6305387854690183,-1.4593607886493545],\"type\":\"scatter\"},{\"connectgaps\":false,\"fill\":\"tozeroy\",\"line\":{\"color\":\"green\",\"dash\":\"solid\",\"shape\":\"linear\",\"width\":0.5},\"mode\":\"lines\",\"name\":\"Spread\",\"showlegend\":false,\"x\":[0,1,2,3,4,5,6,7,8,9,10,11,12,13,14,15,16,17,18,19,20,21,22,23,24,25,26,27,28,29,30,31,32,33,34,35,36,37,38,39,40,41,42,43,44,45,46,47,48,49,50,51,52,53,54,55,56,57,58,59,60,61,62,63,64,65,66,67,68,69,70,71,72,73,74,75,76,77,78,79,80,81,82,83,84,85,86,87,88,89,90,91,92,93,94,95,96,97,98,99],\"xaxis\":\"x2\",\"y\":[1.9394396107519811,0.7990100844236899,\"\",\"\",0.7949475539785553,1.9095485987272909,\"\",\"\",\"\",1.1308247632967423,2.133268132430108,\"\",\"\",0.42581245123527545,0.5540416202467648,0.28033677265316803,0.26740403935984136,\"\",0.1707631836439451,\"\",0.22156607292356073,2.3071558466566895,0.3684681440676115,\"\",\"\",\"\",0.5688291826001293,0.5984014455730833,\"\",0.22388954100445413,\"\",1.30088132088709,1.243795837259605,1.7526283593404588,0.47947572985953485,\"\",1.481352918725078,\"\",\"\",\"\",0.14815505807140883,\"\",\"\",1.5355395221420334,\"\",\"\",1.0043187028226659,\"\",0.6930827716068737,1.5962285461910892,0.07763191267546962,0.13382249125958284,0.8502323688824092,\"\",1.8920556981441705,\"\",0.9099893309963837,3.990489625675204,0.797974186373128,0.4420661298465907,0.00619183884491345,1.3614565601806399,0.42824687412186235,\"\",0.3633070884403533,2.6689818305314685,\"\",0.8425979438539978,0.8847607894407534,2.215417288852896,\"\",0.8851497131346739,\"\",\"\",1.8705898945500374,2.1188828623777596,3.0282396713869613,0.594007728618967,1.670764534215285,0.3614104933762029,1.487146496455653,\"\",\"\",\"\",\"\",1.6017918743833153,0.9571020117883312,\"\",0.1453110110862042,\"\",0.5799833834334434,0.4933898546894242,0.4788908457804689,0.22876744280115524,0.3832297424571197,\"\",0.2743323191765151,\"\",0.8298941121452571,0.19620525956035118],\"yaxis\":\"y2\",\"type\":\"scatter\"},{\"connectgaps\":false,\"fill\":\"tozeroy\",\"line\":{\"color\":\"red\",\"dash\":\"solid\",\"shape\":\"linear\",\"width\":0.5},\"mode\":\"lines\",\"name\":\"Spread\",\"showlegend\":false,\"x\":[0,1,2,3,4,5,6,7,8,9,10,11,12,13,14,15,16,17,18,19,20,21,22,23,24,25,26,27,28,29,30,31,32,33,34,35,36,37,38,39,40,41,42,43,44,45,46,47,48,49,50,51,52,53,54,55,56,57,58,59,60,61,62,63,64,65,66,67,68,69,70,71,72,73,74,75,76,77,78,79,80,81,82,83,84,85,86,87,88,89,90,91,92,93,94,95,96,97,98,99],\"xaxis\":\"x2\",\"y\":[\"\",\"\",-0.287029345086678,-0.3681058284246783,\"\",\"\",-1.2402684341726884,-1.5532688163080466,-0.8547814457690018,\"\",\"\",-0.07972638141510857,-1.2028612429886942,\"\",\"\",\"\",\"\",-0.10901646671747589,\"\",-1.3302129831774543,\"\",\"\",\"\",-0.8003259349614081,-0.15898710627546667,-2.4180193139272332,\"\",\"\",-3.1636144910856587,\"\",-0.2654292939939262,\"\",\"\",\"\",\"\",-1.926615670124238,\"\",-1.8726584306327048,-2.956531129579457,-2.201044841431483,\"\",-1.04556982864145,-1.508621518835917,\"\",-1.1541377962065393,-1.4854224338771767,\"\",-0.6058851969212609,\"\",\"\",\"\",\"\",\"\",-1.1382230403937834,\"\",-0.31470446379887285,\"\",\"\",\"\",\"\",\"\",\"\",\"\",-0.5110669224979679,\"\",\"\",-0.6966057035806442,\"\",\"\",\"\",-0.4434418752049136,\"\",-2.1961054589693942,-0.0811962852702135,\"\",\"\",\"\",\"\",\"\",\"\",\"\",-0.1133095112876652,-2.3991747679731574,-1.21588636404396,-0.8108926424194265,\"\",\"\",-2.715321646353187,\"\",-0.8761211786126164,\"\",\"\",\"\",\"\",\"\",-0.4040948964784303,\"\",-0.1593862677193374,\"\",\"\"],\"yaxis\":\"y2\",\"type\":\"scatter\"}],                        {\"hovermode\":\"x\",\"legend\":{\"bgcolor\":\"#F5F6F9\",\"font\":{\"color\":\"#4D5663\"}},\"paper_bgcolor\":\"#F5F6F9\",\"plot_bgcolor\":\"#F5F6F9\",\"template\":{\"data\":{\"barpolar\":[{\"marker\":{\"line\":{\"color\":\"#E5ECF6\",\"width\":0.5},\"pattern\":{\"fillmode\":\"overlay\",\"size\":10,\"solidity\":0.2}},\"type\":\"barpolar\"}],\"bar\":[{\"error_x\":{\"color\":\"#2a3f5f\"},\"error_y\":{\"color\":\"#2a3f5f\"},\"marker\":{\"line\":{\"color\":\"#E5ECF6\",\"width\":0.5},\"pattern\":{\"fillmode\":\"overlay\",\"size\":10,\"solidity\":0.2}},\"type\":\"bar\"}],\"carpet\":[{\"aaxis\":{\"endlinecolor\":\"#2a3f5f\",\"gridcolor\":\"white\",\"linecolor\":\"white\",\"minorgridcolor\":\"white\",\"startlinecolor\":\"#2a3f5f\"},\"baxis\":{\"endlinecolor\":\"#2a3f5f\",\"gridcolor\":\"white\",\"linecolor\":\"white\",\"minorgridcolor\":\"white\",\"startlinecolor\":\"#2a3f5f\"},\"type\":\"carpet\"}],\"choropleth\":[{\"colorbar\":{\"outlinewidth\":0,\"ticks\":\"\"},\"type\":\"choropleth\"}],\"contourcarpet\":[{\"colorbar\":{\"outlinewidth\":0,\"ticks\":\"\"},\"type\":\"contourcarpet\"}],\"contour\":[{\"colorbar\":{\"outlinewidth\":0,\"ticks\":\"\"},\"colorscale\":[[0.0,\"#0d0887\"],[0.1111111111111111,\"#46039f\"],[0.2222222222222222,\"#7201a8\"],[0.3333333333333333,\"#9c179e\"],[0.4444444444444444,\"#bd3786\"],[0.5555555555555556,\"#d8576b\"],[0.6666666666666666,\"#ed7953\"],[0.7777777777777778,\"#fb9f3a\"],[0.8888888888888888,\"#fdca26\"],[1.0,\"#f0f921\"]],\"type\":\"contour\"}],\"heatmapgl\":[{\"colorbar\":{\"outlinewidth\":0,\"ticks\":\"\"},\"colorscale\":[[0.0,\"#0d0887\"],[0.1111111111111111,\"#46039f\"],[0.2222222222222222,\"#7201a8\"],[0.3333333333333333,\"#9c179e\"],[0.4444444444444444,\"#bd3786\"],[0.5555555555555556,\"#d8576b\"],[0.6666666666666666,\"#ed7953\"],[0.7777777777777778,\"#fb9f3a\"],[0.8888888888888888,\"#fdca26\"],[1.0,\"#f0f921\"]],\"type\":\"heatmapgl\"}],\"heatmap\":[{\"colorbar\":{\"outlinewidth\":0,\"ticks\":\"\"},\"colorscale\":[[0.0,\"#0d0887\"],[0.1111111111111111,\"#46039f\"],[0.2222222222222222,\"#7201a8\"],[0.3333333333333333,\"#9c179e\"],[0.4444444444444444,\"#bd3786\"],[0.5555555555555556,\"#d8576b\"],[0.6666666666666666,\"#ed7953\"],[0.7777777777777778,\"#fb9f3a\"],[0.8888888888888888,\"#fdca26\"],[1.0,\"#f0f921\"]],\"type\":\"heatmap\"}],\"histogram2dcontour\":[{\"colorbar\":{\"outlinewidth\":0,\"ticks\":\"\"},\"colorscale\":[[0.0,\"#0d0887\"],[0.1111111111111111,\"#46039f\"],[0.2222222222222222,\"#7201a8\"],[0.3333333333333333,\"#9c179e\"],[0.4444444444444444,\"#bd3786\"],[0.5555555555555556,\"#d8576b\"],[0.6666666666666666,\"#ed7953\"],[0.7777777777777778,\"#fb9f3a\"],[0.8888888888888888,\"#fdca26\"],[1.0,\"#f0f921\"]],\"type\":\"histogram2dcontour\"}],\"histogram2d\":[{\"colorbar\":{\"outlinewidth\":0,\"ticks\":\"\"},\"colorscale\":[[0.0,\"#0d0887\"],[0.1111111111111111,\"#46039f\"],[0.2222222222222222,\"#7201a8\"],[0.3333333333333333,\"#9c179e\"],[0.4444444444444444,\"#bd3786\"],[0.5555555555555556,\"#d8576b\"],[0.6666666666666666,\"#ed7953\"],[0.7777777777777778,\"#fb9f3a\"],[0.8888888888888888,\"#fdca26\"],[1.0,\"#f0f921\"]],\"type\":\"histogram2d\"}],\"histogram\":[{\"marker\":{\"pattern\":{\"fillmode\":\"overlay\",\"size\":10,\"solidity\":0.2}},\"type\":\"histogram\"}],\"mesh3d\":[{\"colorbar\":{\"outlinewidth\":0,\"ticks\":\"\"},\"type\":\"mesh3d\"}],\"parcoords\":[{\"line\":{\"colorbar\":{\"outlinewidth\":0,\"ticks\":\"\"}},\"type\":\"parcoords\"}],\"pie\":[{\"automargin\":true,\"type\":\"pie\"}],\"scatter3d\":[{\"line\":{\"colorbar\":{\"outlinewidth\":0,\"ticks\":\"\"}},\"marker\":{\"colorbar\":{\"outlinewidth\":0,\"ticks\":\"\"}},\"type\":\"scatter3d\"}],\"scattercarpet\":[{\"marker\":{\"colorbar\":{\"outlinewidth\":0,\"ticks\":\"\"}},\"type\":\"scattercarpet\"}],\"scattergeo\":[{\"marker\":{\"colorbar\":{\"outlinewidth\":0,\"ticks\":\"\"}},\"type\":\"scattergeo\"}],\"scattergl\":[{\"marker\":{\"colorbar\":{\"outlinewidth\":0,\"ticks\":\"\"}},\"type\":\"scattergl\"}],\"scattermapbox\":[{\"marker\":{\"colorbar\":{\"outlinewidth\":0,\"ticks\":\"\"}},\"type\":\"scattermapbox\"}],\"scatterpolargl\":[{\"marker\":{\"colorbar\":{\"outlinewidth\":0,\"ticks\":\"\"}},\"type\":\"scatterpolargl\"}],\"scatterpolar\":[{\"marker\":{\"colorbar\":{\"outlinewidth\":0,\"ticks\":\"\"}},\"type\":\"scatterpolar\"}],\"scatter\":[{\"marker\":{\"colorbar\":{\"outlinewidth\":0,\"ticks\":\"\"}},\"type\":\"scatter\"}],\"scatterternary\":[{\"marker\":{\"colorbar\":{\"outlinewidth\":0,\"ticks\":\"\"}},\"type\":\"scatterternary\"}],\"surface\":[{\"colorbar\":{\"outlinewidth\":0,\"ticks\":\"\"},\"colorscale\":[[0.0,\"#0d0887\"],[0.1111111111111111,\"#46039f\"],[0.2222222222222222,\"#7201a8\"],[0.3333333333333333,\"#9c179e\"],[0.4444444444444444,\"#bd3786\"],[0.5555555555555556,\"#d8576b\"],[0.6666666666666666,\"#ed7953\"],[0.7777777777777778,\"#fb9f3a\"],[0.8888888888888888,\"#fdca26\"],[1.0,\"#f0f921\"]],\"type\":\"surface\"}],\"table\":[{\"cells\":{\"fill\":{\"color\":\"#EBF0F8\"},\"line\":{\"color\":\"white\"}},\"header\":{\"fill\":{\"color\":\"#C8D4E3\"},\"line\":{\"color\":\"white\"}},\"type\":\"table\"}]},\"layout\":{\"annotationdefaults\":{\"arrowcolor\":\"#2a3f5f\",\"arrowhead\":0,\"arrowwidth\":1},\"autotypenumbers\":\"strict\",\"coloraxis\":{\"colorbar\":{\"outlinewidth\":0,\"ticks\":\"\"}},\"colorscale\":{\"diverging\":[[0,\"#8e0152\"],[0.1,\"#c51b7d\"],[0.2,\"#de77ae\"],[0.3,\"#f1b6da\"],[0.4,\"#fde0ef\"],[0.5,\"#f7f7f7\"],[0.6,\"#e6f5d0\"],[0.7,\"#b8e186\"],[0.8,\"#7fbc41\"],[0.9,\"#4d9221\"],[1,\"#276419\"]],\"sequential\":[[0.0,\"#0d0887\"],[0.1111111111111111,\"#46039f\"],[0.2222222222222222,\"#7201a8\"],[0.3333333333333333,\"#9c179e\"],[0.4444444444444444,\"#bd3786\"],[0.5555555555555556,\"#d8576b\"],[0.6666666666666666,\"#ed7953\"],[0.7777777777777778,\"#fb9f3a\"],[0.8888888888888888,\"#fdca26\"],[1.0,\"#f0f921\"]],\"sequentialminus\":[[0.0,\"#0d0887\"],[0.1111111111111111,\"#46039f\"],[0.2222222222222222,\"#7201a8\"],[0.3333333333333333,\"#9c179e\"],[0.4444444444444444,\"#bd3786\"],[0.5555555555555556,\"#d8576b\"],[0.6666666666666666,\"#ed7953\"],[0.7777777777777778,\"#fb9f3a\"],[0.8888888888888888,\"#fdca26\"],[1.0,\"#f0f921\"]]},\"colorway\":[\"#636efa\",\"#EF553B\",\"#00cc96\",\"#ab63fa\",\"#FFA15A\",\"#19d3f3\",\"#FF6692\",\"#B6E880\",\"#FF97FF\",\"#FECB52\"],\"font\":{\"color\":\"#2a3f5f\"},\"geo\":{\"bgcolor\":\"white\",\"lakecolor\":\"white\",\"landcolor\":\"#E5ECF6\",\"showlakes\":true,\"showland\":true,\"subunitcolor\":\"white\"},\"hoverlabel\":{\"align\":\"left\"},\"hovermode\":\"closest\",\"mapbox\":{\"style\":\"light\"},\"paper_bgcolor\":\"white\",\"plot_bgcolor\":\"#E5ECF6\",\"polar\":{\"angularaxis\":{\"gridcolor\":\"white\",\"linecolor\":\"white\",\"ticks\":\"\"},\"bgcolor\":\"#E5ECF6\",\"radialaxis\":{\"gridcolor\":\"white\",\"linecolor\":\"white\",\"ticks\":\"\"}},\"scene\":{\"xaxis\":{\"backgroundcolor\":\"#E5ECF6\",\"gridcolor\":\"white\",\"gridwidth\":2,\"linecolor\":\"white\",\"showbackground\":true,\"ticks\":\"\",\"zerolinecolor\":\"white\"},\"yaxis\":{\"backgroundcolor\":\"#E5ECF6\",\"gridcolor\":\"white\",\"gridwidth\":2,\"linecolor\":\"white\",\"showbackground\":true,\"ticks\":\"\",\"zerolinecolor\":\"white\"},\"zaxis\":{\"backgroundcolor\":\"#E5ECF6\",\"gridcolor\":\"white\",\"gridwidth\":2,\"linecolor\":\"white\",\"showbackground\":true,\"ticks\":\"\",\"zerolinecolor\":\"white\"}},\"shapedefaults\":{\"line\":{\"color\":\"#2a3f5f\"}},\"ternary\":{\"aaxis\":{\"gridcolor\":\"white\",\"linecolor\":\"white\",\"ticks\":\"\"},\"baxis\":{\"gridcolor\":\"white\",\"linecolor\":\"white\",\"ticks\":\"\"},\"bgcolor\":\"#E5ECF6\",\"caxis\":{\"gridcolor\":\"white\",\"linecolor\":\"white\",\"ticks\":\"\"}},\"title\":{\"x\":0.05},\"xaxis\":{\"automargin\":true,\"gridcolor\":\"white\",\"linecolor\":\"white\",\"ticks\":\"\",\"title\":{\"standoff\":15},\"zerolinecolor\":\"white\",\"zerolinewidth\":2},\"yaxis\":{\"automargin\":true,\"gridcolor\":\"white\",\"linecolor\":\"white\",\"ticks\":\"\",\"title\":{\"standoff\":15},\"zerolinecolor\":\"white\",\"zerolinewidth\":2}}},\"title\":{\"font\":{\"color\":\"#4D5663\"}},\"xaxis\":{\"gridcolor\":\"#E1E5ED\",\"showgrid\":true,\"tickfont\":{\"color\":\"#4D5663\"},\"title\":{\"font\":{\"color\":\"#4D5663\"},\"text\":\"\"},\"zerolinecolor\":\"#E1E5ED\"},\"yaxis\":{\"domain\":[0.3,1],\"gridcolor\":\"#E1E5ED\",\"showgrid\":true,\"tickfont\":{\"color\":\"#4D5663\"},\"title\":{\"font\":{\"color\":\"#4D5663\"},\"text\":\"\"},\"zerolinecolor\":\"#E1E5ED\"},\"yaxis2\":{\"domain\":[0,0.25],\"gridcolor\":\"#E1E5ED\",\"showgrid\":true,\"tickfont\":{\"color\":\"#4D5663\"},\"title\":{\"font\":{\"color\":\"#4D5663\"},\"text\":\"Spread\"},\"zerolinecolor\":\"#E1E5ED\"},\"xaxis2\":{\"anchor\":\"y2\",\"gridcolor\":\"#E1E5ED\",\"showgrid\":true,\"showticklabels\":false,\"tickfont\":{\"color\":\"#4D5663\"},\"title\":{\"font\":{\"color\":\"#4D5663\"},\"text\":\"\"},\"zerolinecolor\":\"#E1E5ED\"}},                        {\"showLink\": true, \"linkText\": \"Export to plot.ly\", \"plotlyServerURL\": \"https://plot.ly\", \"responsive\": true}                    ).then(function(){\n",
       "                            \n",
       "var gd = document.getElementById('485cbeff-8c84-438c-a98f-aab0c405594d');\n",
       "var x = new MutationObserver(function (mutations, observer) {{\n",
       "        var display = window.getComputedStyle(gd).display;\n",
       "        if (!display || display === 'none') {{\n",
       "            console.log([gd, 'removed!']);\n",
       "            Plotly.purge(gd);\n",
       "            observer.disconnect();\n",
       "        }}\n",
       "}});\n",
       "\n",
       "// Listen for the removal of the full notebook cells\n",
       "var notebookContainer = gd.closest('#notebook-container');\n",
       "if (notebookContainer) {{\n",
       "    x.observe(notebookContainer, {childList: true});\n",
       "}}\n",
       "\n",
       "// Listen for the clearing of the current output cell\n",
       "var outputEl = gd.closest('.output');\n",
       "if (outputEl) {{\n",
       "    x.observe(outputEl, {childList: true});\n",
       "}}\n",
       "\n",
       "                        })                };                });            </script>        </div>"
      ]
     },
     "metadata": {},
     "output_type": "display_data"
    }
   ],
   "source": [
    "# Spread Visualisations\n",
    "df[['A','B']].iplot(kind='spread')"
   ]
  },
  {
   "cell_type": "code",
   "execution_count": 24,
   "id": "9de3d4eb",
   "metadata": {},
   "outputs": [
    {
     "data": {
      "application/vnd.plotly.v1+json": {
       "config": {
        "linkText": "Export to plot.ly",
        "plotlyServerURL": "https://plot.ly",
        "showLink": true
       },
       "data": [
        {
         "marker": {
          "color": [
           "rgb(255, 153, 51)",
           "rgb(55, 128, 191)",
           "rgb(50, 171, 96)",
           "rgb(128, 0, 128)",
           "rgb(219, 64, 82)",
           "rgb(0, 128, 128)",
           "rgb(255, 255, 51)",
           "rgb(128, 128, 0)",
           "rgb(251, 128, 114)",
           "rgb(128, 177, 211)"
          ],
          "line": {
           "width": 1.3
          },
          "size": [
           71,
           73,
           43,
           43,
           65,
           56,
           94,
           108,
           88,
           16,
           32,
           58,
           83,
           66,
           60,
           97,
           42,
           75,
           22,
           58,
           89,
           65,
           112,
           51,
           45,
           69,
           51,
           69,
           70,
           80,
           41,
           31,
           33,
           47,
           81,
           46,
           55,
           77,
           27,
           75,
           59,
           87,
           93,
           54,
           83,
           89,
           48,
           72,
           34,
           88,
           50,
           82,
           62,
           63,
           66,
           54,
           52,
           42,
           59,
           49,
           106,
           67,
           87,
           92,
           68,
           16,
           25,
           33,
           73,
           59,
           88,
           68,
           88,
           12,
           51,
           40,
           82,
           43,
           21,
           51,
           74,
           48,
           61,
           62,
           60,
           45,
           66,
           41,
           88,
           79,
           57,
           61,
           78,
           91,
           64,
           53,
           53,
           16,
           67,
           54
          ],
          "symbol": "circle"
         },
         "mode": "markers",
         "text": "",
         "type": "scatter",
         "x": [
          0.42834336660048555,
          -0.5431130343751923,
          -1.1089003168660925,
          -0.9310734812179945,
          0.7009672118351541,
          0.8814470474168713,
          -0.8407399793698521,
          -0.576893294052475,
          -0.8080703354235872,
          -0.845685394146627,
          1.0546390088298483,
          -1.2167789452198259,
          -0.5793894576537396,
          0.6531820902565525,
          1.1852687270905453,
          2.179059607997261,
          -0.916752595388181,
          0.5616215793465428,
          0.6378222152443052,
          -0.4644285971201103,
          -0.26443495004037043,
          1.2197910519981685,
          -0.09646466921168612,
          -0.13577844238819872,
          -0.3196361512921841,
          -2.3138191266271706,
          1.8776670994205429,
          0.7405974885272778,
          -3.142074285106367,
          -1.472470555300087,
          -0.16340487140345647,
          -0.14795883993457962,
          0.4002683275186483,
          1.2623093249244404,
          -0.13729696811807196,
          -0.4103419566810211,
          0.6309401297310346,
          -2.554433216510306,
          -1.8136787861246852,
          -1.5971638470617107,
          -0.04727848987271,
          -0.9859271975667138,
          -0.5200134096541108,
          -0.1496386173536915,
          -1.692708236163166,
          -0.9861515241881423,
          1.8566766289766876,
          -0.6426894805921634,
          1.3684446007506572,
          1.0303287829607057,
          0.15816602375477531,
          0.6029637904815115,
          0.7020121929344575,
          -0.6534446453808141,
          -0.8819822613338307,
          -0.3725294111302389,
          0.917844776303251,
          2.952904715090055,
          0.563570403972607,
          0.34163541591459934,
          0.24760279926901188,
          0.6853429334592762,
          -0.8871213125118289,
          -0.62447480201159,
          -1.1435009277849852,
          1.3423559897981243,
          -0.6885983903751369,
          -0.6327941965193481,
          1.1382967585537072,
          1.6535942818207383,
          -0.49473872348892395,
          -0.2213077371949228,
          -1.7441809868780074,
          0.33503514683285246,
          1.457920342236441,
          1.1942547194581565,
          1.6048350491365895,
          0.6834991629924438,
          0.5449683729052708,
          -0.09354422620876975,
          -0.7332514853887435,
          -1.2858330647452987,
          -1.6144516726215936,
          0.5491139981272396,
          0.3988004780816497,
          1.1415368511791262,
          0.9103446674267672,
          -0.4302964462779966,
          0.34100207998563,
          1.0883510241965397,
          0.9003232980148024,
          1.0445905659847246,
          0.4609394941132174,
          2.059739333522352,
          -0.8652132010214949,
          0.4132656940423574,
          0.1597976827062007,
          0.8959245972573175,
          0.19935532667623881,
          -1.2631555290890033
         ],
         "y": [
          -1.5110962441514955,
          -1.3421231187988822,
          -0.8218709717794145,
          -0.5629676527933162,
          -0.0939803421434012,
          -1.0281015513104197,
          0.3995284548028364,
          0.9763755222555714,
          0.04671111034541469,
          -1.9765101574433694,
          -1.0786291236002599,
          -1.1370525638047173,
          0.6234717853349546,
          0.22736963902127702,
          0.6312271068437805,
          1.898722835344093,
          -1.1841566347480224,
          0.6706380460640187,
          0.46705903160036005,
          0.865784386057344,
          -0.48600102296393116,
          -1.087364794658521,
          -0.46493281327929764,
          0.6645474925732094,
          -0.16064904501671742,
          0.10420018730006272,
          1.3088379168204136,
          0.1421960429541945,
          0.021540205979291894,
          -1.696360096304541,
          0.1020244225904697,
          -1.4488401608216697,
          -0.8435275097409567,
          -0.4903190344160185,
          -0.6167726979776068,
          1.516273713443217,
          -0.8504127889940435,
          -0.6817747858776013,
          1.1428523434547717,
          0.6038809943697726,
          -0.19543354794411882,
          0.05964263107473625,
          0.9886081091818062,
          -1.6851781394957248,
          -0.5385704399566267,
          0.4992709096890342,
          0.8523579261540218,
          -0.036804283670902514,
          0.6753618291437835,
          -0.5658997632303835,
          0.08053411107930569,
          0.46914129922192865,
          -0.14822017594795173,
          0.48477839501296927,
          -2.7740379594780014,
          -0.057824947331366054,
          0.007855445306867293,
          -1.037584910585149,
          -0.234403782400521,
          -0.10043071393199138,
          0.24141096042409843,
          -0.6761136267213637,
          -1.3153681866336913,
          -0.11340787951362206,
          -1.5068080162253386,
          -1.3266258407333442,
          0.008007313205507259,
          -1.4753921403733459,
          0.25353596911295373,
          -0.5618230070321575,
          -0.051296848284010335,
          -1.1064574503295967,
          0.451924472091387,
          0.41623143210306596,
          -0.4126695523135965,
          -0.9246281429196028,
          -1.4234046222503718,
          0.08949143437347688,
          -1.1257961613100143,
          -0.45495471958497263,
          -2.2203979818443966,
          -1.1725235534576335,
          0.7847230953515638,
          1.7650003621711998,
          1.2096931205010761,
          -0.46025502320418904,
          -0.04675734436156397,
          2.2850252000751903,
          0.19569106889942578,
          1.9644722028091561,
          0.3203399145813591,
          0.5512007112953003,
          -0.01795135166725152,
          1.8309718907211967,
          -1.2484429434786146,
          0.8173605905207877,
          -0.11453463647031444,
          1.055310864976655,
          -0.6305387854690183,
          -1.4593607886493545
         ]
        }
       ],
       "layout": {
        "legend": {
         "bgcolor": "#F5F6F9",
         "font": {
          "color": "#4D5663"
         }
        },
        "paper_bgcolor": "#F5F6F9",
        "plot_bgcolor": "#F5F6F9",
        "template": {
         "data": {
          "bar": [
           {
            "error_x": {
             "color": "#2a3f5f"
            },
            "error_y": {
             "color": "#2a3f5f"
            },
            "marker": {
             "line": {
              "color": "#E5ECF6",
              "width": 0.5
             },
             "pattern": {
              "fillmode": "overlay",
              "size": 10,
              "solidity": 0.2
             }
            },
            "type": "bar"
           }
          ],
          "barpolar": [
           {
            "marker": {
             "line": {
              "color": "#E5ECF6",
              "width": 0.5
             },
             "pattern": {
              "fillmode": "overlay",
              "size": 10,
              "solidity": 0.2
             }
            },
            "type": "barpolar"
           }
          ],
          "carpet": [
           {
            "aaxis": {
             "endlinecolor": "#2a3f5f",
             "gridcolor": "white",
             "linecolor": "white",
             "minorgridcolor": "white",
             "startlinecolor": "#2a3f5f"
            },
            "baxis": {
             "endlinecolor": "#2a3f5f",
             "gridcolor": "white",
             "linecolor": "white",
             "minorgridcolor": "white",
             "startlinecolor": "#2a3f5f"
            },
            "type": "carpet"
           }
          ],
          "choropleth": [
           {
            "colorbar": {
             "outlinewidth": 0,
             "ticks": ""
            },
            "type": "choropleth"
           }
          ],
          "contour": [
           {
            "colorbar": {
             "outlinewidth": 0,
             "ticks": ""
            },
            "colorscale": [
             [
              0,
              "#0d0887"
             ],
             [
              0.1111111111111111,
              "#46039f"
             ],
             [
              0.2222222222222222,
              "#7201a8"
             ],
             [
              0.3333333333333333,
              "#9c179e"
             ],
             [
              0.4444444444444444,
              "#bd3786"
             ],
             [
              0.5555555555555556,
              "#d8576b"
             ],
             [
              0.6666666666666666,
              "#ed7953"
             ],
             [
              0.7777777777777778,
              "#fb9f3a"
             ],
             [
              0.8888888888888888,
              "#fdca26"
             ],
             [
              1,
              "#f0f921"
             ]
            ],
            "type": "contour"
           }
          ],
          "contourcarpet": [
           {
            "colorbar": {
             "outlinewidth": 0,
             "ticks": ""
            },
            "type": "contourcarpet"
           }
          ],
          "heatmap": [
           {
            "colorbar": {
             "outlinewidth": 0,
             "ticks": ""
            },
            "colorscale": [
             [
              0,
              "#0d0887"
             ],
             [
              0.1111111111111111,
              "#46039f"
             ],
             [
              0.2222222222222222,
              "#7201a8"
             ],
             [
              0.3333333333333333,
              "#9c179e"
             ],
             [
              0.4444444444444444,
              "#bd3786"
             ],
             [
              0.5555555555555556,
              "#d8576b"
             ],
             [
              0.6666666666666666,
              "#ed7953"
             ],
             [
              0.7777777777777778,
              "#fb9f3a"
             ],
             [
              0.8888888888888888,
              "#fdca26"
             ],
             [
              1,
              "#f0f921"
             ]
            ],
            "type": "heatmap"
           }
          ],
          "heatmapgl": [
           {
            "colorbar": {
             "outlinewidth": 0,
             "ticks": ""
            },
            "colorscale": [
             [
              0,
              "#0d0887"
             ],
             [
              0.1111111111111111,
              "#46039f"
             ],
             [
              0.2222222222222222,
              "#7201a8"
             ],
             [
              0.3333333333333333,
              "#9c179e"
             ],
             [
              0.4444444444444444,
              "#bd3786"
             ],
             [
              0.5555555555555556,
              "#d8576b"
             ],
             [
              0.6666666666666666,
              "#ed7953"
             ],
             [
              0.7777777777777778,
              "#fb9f3a"
             ],
             [
              0.8888888888888888,
              "#fdca26"
             ],
             [
              1,
              "#f0f921"
             ]
            ],
            "type": "heatmapgl"
           }
          ],
          "histogram": [
           {
            "marker": {
             "pattern": {
              "fillmode": "overlay",
              "size": 10,
              "solidity": 0.2
             }
            },
            "type": "histogram"
           }
          ],
          "histogram2d": [
           {
            "colorbar": {
             "outlinewidth": 0,
             "ticks": ""
            },
            "colorscale": [
             [
              0,
              "#0d0887"
             ],
             [
              0.1111111111111111,
              "#46039f"
             ],
             [
              0.2222222222222222,
              "#7201a8"
             ],
             [
              0.3333333333333333,
              "#9c179e"
             ],
             [
              0.4444444444444444,
              "#bd3786"
             ],
             [
              0.5555555555555556,
              "#d8576b"
             ],
             [
              0.6666666666666666,
              "#ed7953"
             ],
             [
              0.7777777777777778,
              "#fb9f3a"
             ],
             [
              0.8888888888888888,
              "#fdca26"
             ],
             [
              1,
              "#f0f921"
             ]
            ],
            "type": "histogram2d"
           }
          ],
          "histogram2dcontour": [
           {
            "colorbar": {
             "outlinewidth": 0,
             "ticks": ""
            },
            "colorscale": [
             [
              0,
              "#0d0887"
             ],
             [
              0.1111111111111111,
              "#46039f"
             ],
             [
              0.2222222222222222,
              "#7201a8"
             ],
             [
              0.3333333333333333,
              "#9c179e"
             ],
             [
              0.4444444444444444,
              "#bd3786"
             ],
             [
              0.5555555555555556,
              "#d8576b"
             ],
             [
              0.6666666666666666,
              "#ed7953"
             ],
             [
              0.7777777777777778,
              "#fb9f3a"
             ],
             [
              0.8888888888888888,
              "#fdca26"
             ],
             [
              1,
              "#f0f921"
             ]
            ],
            "type": "histogram2dcontour"
           }
          ],
          "mesh3d": [
           {
            "colorbar": {
             "outlinewidth": 0,
             "ticks": ""
            },
            "type": "mesh3d"
           }
          ],
          "parcoords": [
           {
            "line": {
             "colorbar": {
              "outlinewidth": 0,
              "ticks": ""
             }
            },
            "type": "parcoords"
           }
          ],
          "pie": [
           {
            "automargin": true,
            "type": "pie"
           }
          ],
          "scatter": [
           {
            "marker": {
             "colorbar": {
              "outlinewidth": 0,
              "ticks": ""
             }
            },
            "type": "scatter"
           }
          ],
          "scatter3d": [
           {
            "line": {
             "colorbar": {
              "outlinewidth": 0,
              "ticks": ""
             }
            },
            "marker": {
             "colorbar": {
              "outlinewidth": 0,
              "ticks": ""
             }
            },
            "type": "scatter3d"
           }
          ],
          "scattercarpet": [
           {
            "marker": {
             "colorbar": {
              "outlinewidth": 0,
              "ticks": ""
             }
            },
            "type": "scattercarpet"
           }
          ],
          "scattergeo": [
           {
            "marker": {
             "colorbar": {
              "outlinewidth": 0,
              "ticks": ""
             }
            },
            "type": "scattergeo"
           }
          ],
          "scattergl": [
           {
            "marker": {
             "colorbar": {
              "outlinewidth": 0,
              "ticks": ""
             }
            },
            "type": "scattergl"
           }
          ],
          "scattermapbox": [
           {
            "marker": {
             "colorbar": {
              "outlinewidth": 0,
              "ticks": ""
             }
            },
            "type": "scattermapbox"
           }
          ],
          "scatterpolar": [
           {
            "marker": {
             "colorbar": {
              "outlinewidth": 0,
              "ticks": ""
             }
            },
            "type": "scatterpolar"
           }
          ],
          "scatterpolargl": [
           {
            "marker": {
             "colorbar": {
              "outlinewidth": 0,
              "ticks": ""
             }
            },
            "type": "scatterpolargl"
           }
          ],
          "scatterternary": [
           {
            "marker": {
             "colorbar": {
              "outlinewidth": 0,
              "ticks": ""
             }
            },
            "type": "scatterternary"
           }
          ],
          "surface": [
           {
            "colorbar": {
             "outlinewidth": 0,
             "ticks": ""
            },
            "colorscale": [
             [
              0,
              "#0d0887"
             ],
             [
              0.1111111111111111,
              "#46039f"
             ],
             [
              0.2222222222222222,
              "#7201a8"
             ],
             [
              0.3333333333333333,
              "#9c179e"
             ],
             [
              0.4444444444444444,
              "#bd3786"
             ],
             [
              0.5555555555555556,
              "#d8576b"
             ],
             [
              0.6666666666666666,
              "#ed7953"
             ],
             [
              0.7777777777777778,
              "#fb9f3a"
             ],
             [
              0.8888888888888888,
              "#fdca26"
             ],
             [
              1,
              "#f0f921"
             ]
            ],
            "type": "surface"
           }
          ],
          "table": [
           {
            "cells": {
             "fill": {
              "color": "#EBF0F8"
             },
             "line": {
              "color": "white"
             }
            },
            "header": {
             "fill": {
              "color": "#C8D4E3"
             },
             "line": {
              "color": "white"
             }
            },
            "type": "table"
           }
          ]
         },
         "layout": {
          "annotationdefaults": {
           "arrowcolor": "#2a3f5f",
           "arrowhead": 0,
           "arrowwidth": 1
          },
          "autotypenumbers": "strict",
          "coloraxis": {
           "colorbar": {
            "outlinewidth": 0,
            "ticks": ""
           }
          },
          "colorscale": {
           "diverging": [
            [
             0,
             "#8e0152"
            ],
            [
             0.1,
             "#c51b7d"
            ],
            [
             0.2,
             "#de77ae"
            ],
            [
             0.3,
             "#f1b6da"
            ],
            [
             0.4,
             "#fde0ef"
            ],
            [
             0.5,
             "#f7f7f7"
            ],
            [
             0.6,
             "#e6f5d0"
            ],
            [
             0.7,
             "#b8e186"
            ],
            [
             0.8,
             "#7fbc41"
            ],
            [
             0.9,
             "#4d9221"
            ],
            [
             1,
             "#276419"
            ]
           ],
           "sequential": [
            [
             0,
             "#0d0887"
            ],
            [
             0.1111111111111111,
             "#46039f"
            ],
            [
             0.2222222222222222,
             "#7201a8"
            ],
            [
             0.3333333333333333,
             "#9c179e"
            ],
            [
             0.4444444444444444,
             "#bd3786"
            ],
            [
             0.5555555555555556,
             "#d8576b"
            ],
            [
             0.6666666666666666,
             "#ed7953"
            ],
            [
             0.7777777777777778,
             "#fb9f3a"
            ],
            [
             0.8888888888888888,
             "#fdca26"
            ],
            [
             1,
             "#f0f921"
            ]
           ],
           "sequentialminus": [
            [
             0,
             "#0d0887"
            ],
            [
             0.1111111111111111,
             "#46039f"
            ],
            [
             0.2222222222222222,
             "#7201a8"
            ],
            [
             0.3333333333333333,
             "#9c179e"
            ],
            [
             0.4444444444444444,
             "#bd3786"
            ],
            [
             0.5555555555555556,
             "#d8576b"
            ],
            [
             0.6666666666666666,
             "#ed7953"
            ],
            [
             0.7777777777777778,
             "#fb9f3a"
            ],
            [
             0.8888888888888888,
             "#fdca26"
            ],
            [
             1,
             "#f0f921"
            ]
           ]
          },
          "colorway": [
           "#636efa",
           "#EF553B",
           "#00cc96",
           "#ab63fa",
           "#FFA15A",
           "#19d3f3",
           "#FF6692",
           "#B6E880",
           "#FF97FF",
           "#FECB52"
          ],
          "font": {
           "color": "#2a3f5f"
          },
          "geo": {
           "bgcolor": "white",
           "lakecolor": "white",
           "landcolor": "#E5ECF6",
           "showlakes": true,
           "showland": true,
           "subunitcolor": "white"
          },
          "hoverlabel": {
           "align": "left"
          },
          "hovermode": "closest",
          "mapbox": {
           "style": "light"
          },
          "paper_bgcolor": "white",
          "plot_bgcolor": "#E5ECF6",
          "polar": {
           "angularaxis": {
            "gridcolor": "white",
            "linecolor": "white",
            "ticks": ""
           },
           "bgcolor": "#E5ECF6",
           "radialaxis": {
            "gridcolor": "white",
            "linecolor": "white",
            "ticks": ""
           }
          },
          "scene": {
           "xaxis": {
            "backgroundcolor": "#E5ECF6",
            "gridcolor": "white",
            "gridwidth": 2,
            "linecolor": "white",
            "showbackground": true,
            "ticks": "",
            "zerolinecolor": "white"
           },
           "yaxis": {
            "backgroundcolor": "#E5ECF6",
            "gridcolor": "white",
            "gridwidth": 2,
            "linecolor": "white",
            "showbackground": true,
            "ticks": "",
            "zerolinecolor": "white"
           },
           "zaxis": {
            "backgroundcolor": "#E5ECF6",
            "gridcolor": "white",
            "gridwidth": 2,
            "linecolor": "white",
            "showbackground": true,
            "ticks": "",
            "zerolinecolor": "white"
           }
          },
          "shapedefaults": {
           "line": {
            "color": "#2a3f5f"
           }
          },
          "ternary": {
           "aaxis": {
            "gridcolor": "white",
            "linecolor": "white",
            "ticks": ""
           },
           "baxis": {
            "gridcolor": "white",
            "linecolor": "white",
            "ticks": ""
           },
           "bgcolor": "#E5ECF6",
           "caxis": {
            "gridcolor": "white",
            "linecolor": "white",
            "ticks": ""
           }
          },
          "title": {
           "x": 0.05
          },
          "xaxis": {
           "automargin": true,
           "gridcolor": "white",
           "linecolor": "white",
           "ticks": "",
           "title": {
            "standoff": 15
           },
           "zerolinecolor": "white",
           "zerolinewidth": 2
          },
          "yaxis": {
           "automargin": true,
           "gridcolor": "white",
           "linecolor": "white",
           "ticks": "",
           "title": {
            "standoff": 15
           },
           "zerolinecolor": "white",
           "zerolinewidth": 2
          }
         }
        },
        "title": {
         "font": {
          "color": "#4D5663"
         }
        },
        "xaxis": {
         "gridcolor": "#E1E5ED",
         "showgrid": true,
         "tickfont": {
          "color": "#4D5663"
         },
         "title": {
          "font": {
           "color": "#4D5663"
          },
          "text": ""
         },
         "zerolinecolor": "#E1E5ED"
        },
        "yaxis": {
         "gridcolor": "#E1E5ED",
         "showgrid": true,
         "tickfont": {
          "color": "#4D5663"
         },
         "title": {
          "font": {
           "color": "#4D5663"
          },
          "text": ""
         },
         "zerolinecolor": "#E1E5ED"
        }
       }
      },
      "text/html": [
       "<div>                            <div id=\"e0ae11e8-4eac-451c-a043-7904265a115f\" class=\"plotly-graph-div\" style=\"height:525px; width:100%;\"></div>            <script type=\"text/javascript\">                require([\"plotly\"], function(Plotly) {                    window.PLOTLYENV=window.PLOTLYENV || {};\n",
       "                    window.PLOTLYENV.BASE_URL='https://plot.ly';                                    if (document.getElementById(\"e0ae11e8-4eac-451c-a043-7904265a115f\")) {                    Plotly.newPlot(                        \"e0ae11e8-4eac-451c-a043-7904265a115f\",                        [{\"marker\":{\"color\":[\"rgb(255, 153, 51)\",\"rgb(55, 128, 191)\",\"rgb(50, 171, 96)\",\"rgb(128, 0, 128)\",\"rgb(219, 64, 82)\",\"rgb(0, 128, 128)\",\"rgb(255, 255, 51)\",\"rgb(128, 128, 0)\",\"rgb(251, 128, 114)\",\"rgb(128, 177, 211)\"],\"line\":{\"width\":1.3},\"size\":[71,73,43,43,65,56,94,108,88,16,32,58,83,66,60,97,42,75,22,58,89,65,112,51,45,69,51,69,70,80,41,31,33,47,81,46,55,77,27,75,59,87,93,54,83,89,48,72,34,88,50,82,62,63,66,54,52,42,59,49,106,67,87,92,68,16,25,33,73,59,88,68,88,12,51,40,82,43,21,51,74,48,61,62,60,45,66,41,88,79,57,61,78,91,64,53,53,16,67,54],\"symbol\":\"circle\"},\"mode\":\"markers\",\"text\":\"\",\"x\":[0.42834336660048555,-0.5431130343751923,-1.1089003168660925,-0.9310734812179945,0.7009672118351541,0.8814470474168713,-0.8407399793698521,-0.576893294052475,-0.8080703354235872,-0.845685394146627,1.0546390088298483,-1.2167789452198259,-0.5793894576537396,0.6531820902565525,1.1852687270905453,2.179059607997261,-0.916752595388181,0.5616215793465428,0.6378222152443052,-0.4644285971201103,-0.26443495004037043,1.2197910519981685,-0.09646466921168612,-0.13577844238819872,-0.3196361512921841,-2.3138191266271706,1.8776670994205429,0.7405974885272778,-3.142074285106367,-1.472470555300087,-0.16340487140345647,-0.14795883993457962,0.4002683275186483,1.2623093249244404,-0.13729696811807196,-0.4103419566810211,0.6309401297310346,-2.554433216510306,-1.8136787861246852,-1.5971638470617107,-0.04727848987271,-0.9859271975667138,-0.5200134096541108,-0.1496386173536915,-1.692708236163166,-0.9861515241881423,1.8566766289766876,-0.6426894805921634,1.3684446007506572,1.0303287829607057,0.15816602375477531,0.6029637904815115,0.7020121929344575,-0.6534446453808141,-0.8819822613338307,-0.3725294111302389,0.917844776303251,2.952904715090055,0.563570403972607,0.34163541591459934,0.24760279926901188,0.6853429334592762,-0.8871213125118289,-0.62447480201159,-1.1435009277849852,1.3423559897981243,-0.6885983903751369,-0.6327941965193481,1.1382967585537072,1.6535942818207383,-0.49473872348892395,-0.2213077371949228,-1.7441809868780074,0.33503514683285246,1.457920342236441,1.1942547194581565,1.6048350491365895,0.6834991629924438,0.5449683729052708,-0.09354422620876975,-0.7332514853887435,-1.2858330647452987,-1.6144516726215936,0.5491139981272396,0.3988004780816497,1.1415368511791262,0.9103446674267672,-0.4302964462779966,0.34100207998563,1.0883510241965397,0.9003232980148024,1.0445905659847246,0.4609394941132174,2.059739333522352,-0.8652132010214949,0.4132656940423574,0.1597976827062007,0.8959245972573175,0.19935532667623881,-1.2631555290890033],\"y\":[-1.5110962441514955,-1.3421231187988822,-0.8218709717794145,-0.5629676527933162,-0.0939803421434012,-1.0281015513104197,0.3995284548028364,0.9763755222555714,0.04671111034541469,-1.9765101574433694,-1.0786291236002599,-1.1370525638047173,0.6234717853349546,0.22736963902127702,0.6312271068437805,1.898722835344093,-1.1841566347480224,0.6706380460640187,0.46705903160036005,0.865784386057344,-0.48600102296393116,-1.087364794658521,-0.46493281327929764,0.6645474925732094,-0.16064904501671742,0.10420018730006272,1.3088379168204136,0.1421960429541945,0.021540205979291894,-1.696360096304541,0.1020244225904697,-1.4488401608216697,-0.8435275097409567,-0.4903190344160185,-0.6167726979776068,1.516273713443217,-0.8504127889940435,-0.6817747858776013,1.1428523434547717,0.6038809943697726,-0.19543354794411882,0.05964263107473625,0.9886081091818062,-1.6851781394957248,-0.5385704399566267,0.4992709096890342,0.8523579261540218,-0.036804283670902514,0.6753618291437835,-0.5658997632303835,0.08053411107930569,0.46914129922192865,-0.14822017594795173,0.48477839501296927,-2.7740379594780014,-0.057824947331366054,0.007855445306867293,-1.037584910585149,-0.234403782400521,-0.10043071393199138,0.24141096042409843,-0.6761136267213637,-1.3153681866336913,-0.11340787951362206,-1.5068080162253386,-1.3266258407333442,0.008007313205507259,-1.4753921403733459,0.25353596911295373,-0.5618230070321575,-0.051296848284010335,-1.1064574503295967,0.451924472091387,0.41623143210306596,-0.4126695523135965,-0.9246281429196028,-1.4234046222503718,0.08949143437347688,-1.1257961613100143,-0.45495471958497263,-2.2203979818443966,-1.1725235534576335,0.7847230953515638,1.7650003621711998,1.2096931205010761,-0.46025502320418904,-0.04675734436156397,2.2850252000751903,0.19569106889942578,1.9644722028091561,0.3203399145813591,0.5512007112953003,-0.01795135166725152,1.8309718907211967,-1.2484429434786146,0.8173605905207877,-0.11453463647031444,1.055310864976655,-0.6305387854690183,-1.4593607886493545],\"type\":\"scatter\"}],                        {\"legend\":{\"bgcolor\":\"#F5F6F9\",\"font\":{\"color\":\"#4D5663\"}},\"paper_bgcolor\":\"#F5F6F9\",\"plot_bgcolor\":\"#F5F6F9\",\"template\":{\"data\":{\"barpolar\":[{\"marker\":{\"line\":{\"color\":\"#E5ECF6\",\"width\":0.5},\"pattern\":{\"fillmode\":\"overlay\",\"size\":10,\"solidity\":0.2}},\"type\":\"barpolar\"}],\"bar\":[{\"error_x\":{\"color\":\"#2a3f5f\"},\"error_y\":{\"color\":\"#2a3f5f\"},\"marker\":{\"line\":{\"color\":\"#E5ECF6\",\"width\":0.5},\"pattern\":{\"fillmode\":\"overlay\",\"size\":10,\"solidity\":0.2}},\"type\":\"bar\"}],\"carpet\":[{\"aaxis\":{\"endlinecolor\":\"#2a3f5f\",\"gridcolor\":\"white\",\"linecolor\":\"white\",\"minorgridcolor\":\"white\",\"startlinecolor\":\"#2a3f5f\"},\"baxis\":{\"endlinecolor\":\"#2a3f5f\",\"gridcolor\":\"white\",\"linecolor\":\"white\",\"minorgridcolor\":\"white\",\"startlinecolor\":\"#2a3f5f\"},\"type\":\"carpet\"}],\"choropleth\":[{\"colorbar\":{\"outlinewidth\":0,\"ticks\":\"\"},\"type\":\"choropleth\"}],\"contourcarpet\":[{\"colorbar\":{\"outlinewidth\":0,\"ticks\":\"\"},\"type\":\"contourcarpet\"}],\"contour\":[{\"colorbar\":{\"outlinewidth\":0,\"ticks\":\"\"},\"colorscale\":[[0.0,\"#0d0887\"],[0.1111111111111111,\"#46039f\"],[0.2222222222222222,\"#7201a8\"],[0.3333333333333333,\"#9c179e\"],[0.4444444444444444,\"#bd3786\"],[0.5555555555555556,\"#d8576b\"],[0.6666666666666666,\"#ed7953\"],[0.7777777777777778,\"#fb9f3a\"],[0.8888888888888888,\"#fdca26\"],[1.0,\"#f0f921\"]],\"type\":\"contour\"}],\"heatmapgl\":[{\"colorbar\":{\"outlinewidth\":0,\"ticks\":\"\"},\"colorscale\":[[0.0,\"#0d0887\"],[0.1111111111111111,\"#46039f\"],[0.2222222222222222,\"#7201a8\"],[0.3333333333333333,\"#9c179e\"],[0.4444444444444444,\"#bd3786\"],[0.5555555555555556,\"#d8576b\"],[0.6666666666666666,\"#ed7953\"],[0.7777777777777778,\"#fb9f3a\"],[0.8888888888888888,\"#fdca26\"],[1.0,\"#f0f921\"]],\"type\":\"heatmapgl\"}],\"heatmap\":[{\"colorbar\":{\"outlinewidth\":0,\"ticks\":\"\"},\"colorscale\":[[0.0,\"#0d0887\"],[0.1111111111111111,\"#46039f\"],[0.2222222222222222,\"#7201a8\"],[0.3333333333333333,\"#9c179e\"],[0.4444444444444444,\"#bd3786\"],[0.5555555555555556,\"#d8576b\"],[0.6666666666666666,\"#ed7953\"],[0.7777777777777778,\"#fb9f3a\"],[0.8888888888888888,\"#fdca26\"],[1.0,\"#f0f921\"]],\"type\":\"heatmap\"}],\"histogram2dcontour\":[{\"colorbar\":{\"outlinewidth\":0,\"ticks\":\"\"},\"colorscale\":[[0.0,\"#0d0887\"],[0.1111111111111111,\"#46039f\"],[0.2222222222222222,\"#7201a8\"],[0.3333333333333333,\"#9c179e\"],[0.4444444444444444,\"#bd3786\"],[0.5555555555555556,\"#d8576b\"],[0.6666666666666666,\"#ed7953\"],[0.7777777777777778,\"#fb9f3a\"],[0.8888888888888888,\"#fdca26\"],[1.0,\"#f0f921\"]],\"type\":\"histogram2dcontour\"}],\"histogram2d\":[{\"colorbar\":{\"outlinewidth\":0,\"ticks\":\"\"},\"colorscale\":[[0.0,\"#0d0887\"],[0.1111111111111111,\"#46039f\"],[0.2222222222222222,\"#7201a8\"],[0.3333333333333333,\"#9c179e\"],[0.4444444444444444,\"#bd3786\"],[0.5555555555555556,\"#d8576b\"],[0.6666666666666666,\"#ed7953\"],[0.7777777777777778,\"#fb9f3a\"],[0.8888888888888888,\"#fdca26\"],[1.0,\"#f0f921\"]],\"type\":\"histogram2d\"}],\"histogram\":[{\"marker\":{\"pattern\":{\"fillmode\":\"overlay\",\"size\":10,\"solidity\":0.2}},\"type\":\"histogram\"}],\"mesh3d\":[{\"colorbar\":{\"outlinewidth\":0,\"ticks\":\"\"},\"type\":\"mesh3d\"}],\"parcoords\":[{\"line\":{\"colorbar\":{\"outlinewidth\":0,\"ticks\":\"\"}},\"type\":\"parcoords\"}],\"pie\":[{\"automargin\":true,\"type\":\"pie\"}],\"scatter3d\":[{\"line\":{\"colorbar\":{\"outlinewidth\":0,\"ticks\":\"\"}},\"marker\":{\"colorbar\":{\"outlinewidth\":0,\"ticks\":\"\"}},\"type\":\"scatter3d\"}],\"scattercarpet\":[{\"marker\":{\"colorbar\":{\"outlinewidth\":0,\"ticks\":\"\"}},\"type\":\"scattercarpet\"}],\"scattergeo\":[{\"marker\":{\"colorbar\":{\"outlinewidth\":0,\"ticks\":\"\"}},\"type\":\"scattergeo\"}],\"scattergl\":[{\"marker\":{\"colorbar\":{\"outlinewidth\":0,\"ticks\":\"\"}},\"type\":\"scattergl\"}],\"scattermapbox\":[{\"marker\":{\"colorbar\":{\"outlinewidth\":0,\"ticks\":\"\"}},\"type\":\"scattermapbox\"}],\"scatterpolargl\":[{\"marker\":{\"colorbar\":{\"outlinewidth\":0,\"ticks\":\"\"}},\"type\":\"scatterpolargl\"}],\"scatterpolar\":[{\"marker\":{\"colorbar\":{\"outlinewidth\":0,\"ticks\":\"\"}},\"type\":\"scatterpolar\"}],\"scatter\":[{\"marker\":{\"colorbar\":{\"outlinewidth\":0,\"ticks\":\"\"}},\"type\":\"scatter\"}],\"scatterternary\":[{\"marker\":{\"colorbar\":{\"outlinewidth\":0,\"ticks\":\"\"}},\"type\":\"scatterternary\"}],\"surface\":[{\"colorbar\":{\"outlinewidth\":0,\"ticks\":\"\"},\"colorscale\":[[0.0,\"#0d0887\"],[0.1111111111111111,\"#46039f\"],[0.2222222222222222,\"#7201a8\"],[0.3333333333333333,\"#9c179e\"],[0.4444444444444444,\"#bd3786\"],[0.5555555555555556,\"#d8576b\"],[0.6666666666666666,\"#ed7953\"],[0.7777777777777778,\"#fb9f3a\"],[0.8888888888888888,\"#fdca26\"],[1.0,\"#f0f921\"]],\"type\":\"surface\"}],\"table\":[{\"cells\":{\"fill\":{\"color\":\"#EBF0F8\"},\"line\":{\"color\":\"white\"}},\"header\":{\"fill\":{\"color\":\"#C8D4E3\"},\"line\":{\"color\":\"white\"}},\"type\":\"table\"}]},\"layout\":{\"annotationdefaults\":{\"arrowcolor\":\"#2a3f5f\",\"arrowhead\":0,\"arrowwidth\":1},\"autotypenumbers\":\"strict\",\"coloraxis\":{\"colorbar\":{\"outlinewidth\":0,\"ticks\":\"\"}},\"colorscale\":{\"diverging\":[[0,\"#8e0152\"],[0.1,\"#c51b7d\"],[0.2,\"#de77ae\"],[0.3,\"#f1b6da\"],[0.4,\"#fde0ef\"],[0.5,\"#f7f7f7\"],[0.6,\"#e6f5d0\"],[0.7,\"#b8e186\"],[0.8,\"#7fbc41\"],[0.9,\"#4d9221\"],[1,\"#276419\"]],\"sequential\":[[0.0,\"#0d0887\"],[0.1111111111111111,\"#46039f\"],[0.2222222222222222,\"#7201a8\"],[0.3333333333333333,\"#9c179e\"],[0.4444444444444444,\"#bd3786\"],[0.5555555555555556,\"#d8576b\"],[0.6666666666666666,\"#ed7953\"],[0.7777777777777778,\"#fb9f3a\"],[0.8888888888888888,\"#fdca26\"],[1.0,\"#f0f921\"]],\"sequentialminus\":[[0.0,\"#0d0887\"],[0.1111111111111111,\"#46039f\"],[0.2222222222222222,\"#7201a8\"],[0.3333333333333333,\"#9c179e\"],[0.4444444444444444,\"#bd3786\"],[0.5555555555555556,\"#d8576b\"],[0.6666666666666666,\"#ed7953\"],[0.7777777777777778,\"#fb9f3a\"],[0.8888888888888888,\"#fdca26\"],[1.0,\"#f0f921\"]]},\"colorway\":[\"#636efa\",\"#EF553B\",\"#00cc96\",\"#ab63fa\",\"#FFA15A\",\"#19d3f3\",\"#FF6692\",\"#B6E880\",\"#FF97FF\",\"#FECB52\"],\"font\":{\"color\":\"#2a3f5f\"},\"geo\":{\"bgcolor\":\"white\",\"lakecolor\":\"white\",\"landcolor\":\"#E5ECF6\",\"showlakes\":true,\"showland\":true,\"subunitcolor\":\"white\"},\"hoverlabel\":{\"align\":\"left\"},\"hovermode\":\"closest\",\"mapbox\":{\"style\":\"light\"},\"paper_bgcolor\":\"white\",\"plot_bgcolor\":\"#E5ECF6\",\"polar\":{\"angularaxis\":{\"gridcolor\":\"white\",\"linecolor\":\"white\",\"ticks\":\"\"},\"bgcolor\":\"#E5ECF6\",\"radialaxis\":{\"gridcolor\":\"white\",\"linecolor\":\"white\",\"ticks\":\"\"}},\"scene\":{\"xaxis\":{\"backgroundcolor\":\"#E5ECF6\",\"gridcolor\":\"white\",\"gridwidth\":2,\"linecolor\":\"white\",\"showbackground\":true,\"ticks\":\"\",\"zerolinecolor\":\"white\"},\"yaxis\":{\"backgroundcolor\":\"#E5ECF6\",\"gridcolor\":\"white\",\"gridwidth\":2,\"linecolor\":\"white\",\"showbackground\":true,\"ticks\":\"\",\"zerolinecolor\":\"white\"},\"zaxis\":{\"backgroundcolor\":\"#E5ECF6\",\"gridcolor\":\"white\",\"gridwidth\":2,\"linecolor\":\"white\",\"showbackground\":true,\"ticks\":\"\",\"zerolinecolor\":\"white\"}},\"shapedefaults\":{\"line\":{\"color\":\"#2a3f5f\"}},\"ternary\":{\"aaxis\":{\"gridcolor\":\"white\",\"linecolor\":\"white\",\"ticks\":\"\"},\"baxis\":{\"gridcolor\":\"white\",\"linecolor\":\"white\",\"ticks\":\"\"},\"bgcolor\":\"#E5ECF6\",\"caxis\":{\"gridcolor\":\"white\",\"linecolor\":\"white\",\"ticks\":\"\"}},\"title\":{\"x\":0.05},\"xaxis\":{\"automargin\":true,\"gridcolor\":\"white\",\"linecolor\":\"white\",\"ticks\":\"\",\"title\":{\"standoff\":15},\"zerolinecolor\":\"white\",\"zerolinewidth\":2},\"yaxis\":{\"automargin\":true,\"gridcolor\":\"white\",\"linecolor\":\"white\",\"ticks\":\"\",\"title\":{\"standoff\":15},\"zerolinecolor\":\"white\",\"zerolinewidth\":2}}},\"title\":{\"font\":{\"color\":\"#4D5663\"}},\"xaxis\":{\"gridcolor\":\"#E1E5ED\",\"showgrid\":true,\"tickfont\":{\"color\":\"#4D5663\"},\"title\":{\"font\":{\"color\":\"#4D5663\"},\"text\":\"\"},\"zerolinecolor\":\"#E1E5ED\"},\"yaxis\":{\"gridcolor\":\"#E1E5ED\",\"showgrid\":true,\"tickfont\":{\"color\":\"#4D5663\"},\"title\":{\"font\":{\"color\":\"#4D5663\"},\"text\":\"\"},\"zerolinecolor\":\"#E1E5ED\"}},                        {\"showLink\": true, \"linkText\": \"Export to plot.ly\", \"plotlyServerURL\": \"https://plot.ly\", \"responsive\": true}                    ).then(function(){\n",
       "                            \n",
       "var gd = document.getElementById('e0ae11e8-4eac-451c-a043-7904265a115f');\n",
       "var x = new MutationObserver(function (mutations, observer) {{\n",
       "        var display = window.getComputedStyle(gd).display;\n",
       "        if (!display || display === 'none') {{\n",
       "            console.log([gd, 'removed!']);\n",
       "            Plotly.purge(gd);\n",
       "            observer.disconnect();\n",
       "        }}\n",
       "}});\n",
       "\n",
       "// Listen for the removal of the full notebook cells\n",
       "var notebookContainer = gd.closest('#notebook-container');\n",
       "if (notebookContainer) {{\n",
       "    x.observe(notebookContainer, {childList: true});\n",
       "}}\n",
       "\n",
       "// Listen for the clearing of the current output cell\n",
       "var outputEl = gd.closest('.output');\n",
       "if (outputEl) {{\n",
       "    x.observe(outputEl, {childList: true});\n",
       "}}\n",
       "\n",
       "                        })                };                });            </script>        </div>"
      ]
     },
     "metadata": {},
     "output_type": "display_data"
    }
   ],
   "source": [
    "# Bubble Plot\n",
    "df.iplot(kind='bubble',x='A',y='B',size='C')"
   ]
  },
  {
   "cell_type": "code",
   "execution_count": 25,
   "id": "0b228842",
   "metadata": {},
   "outputs": [
    {
     "data": {
      "application/vnd.plotly.v1+json": {
       "config": {
        "linkText": "Export to plot.ly",
        "plotlyServerURL": "https://plot.ly",
        "showLink": true
       },
       "data": [
        {
         "histfunc": "count",
         "histnorm": "",
         "marker": {
          "color": "rgba(255, 153, 51, 1.0)",
          "line": {
           "color": "#4D5663",
           "width": 1.3
          }
         },
         "name": "A",
         "nbinsx": 10,
         "opacity": 0.8,
         "orientation": "v",
         "type": "histogram",
         "x": [
          0.42834336660048555,
          -0.5431130343751923,
          -1.1089003168660925,
          -0.9310734812179945,
          0.7009672118351541,
          0.8814470474168713,
          -0.8407399793698521,
          -0.576893294052475,
          -0.8080703354235872,
          -0.845685394146627,
          1.0546390088298483,
          -1.2167789452198259,
          -0.5793894576537396,
          0.6531820902565525,
          1.1852687270905453,
          2.179059607997261,
          -0.916752595388181,
          0.5616215793465428,
          0.6378222152443052,
          -0.4644285971201103,
          -0.26443495004037043,
          1.2197910519981685,
          -0.09646466921168612,
          -0.13577844238819872,
          -0.3196361512921841,
          -2.3138191266271706,
          1.8776670994205429,
          0.7405974885272778,
          -3.142074285106367,
          -1.472470555300087,
          -0.16340487140345647,
          -0.14795883993457962,
          0.4002683275186483,
          1.2623093249244404,
          -0.13729696811807196,
          -0.4103419566810211,
          0.6309401297310346,
          -2.554433216510306,
          -1.8136787861246852,
          -1.5971638470617107,
          -0.04727848987271,
          -0.9859271975667138,
          -0.5200134096541108,
          -0.1496386173536915,
          -1.692708236163166,
          -0.9861515241881423,
          1.8566766289766876,
          -0.6426894805921634,
          1.3684446007506572,
          1.0303287829607057,
          0.15816602375477531,
          0.6029637904815115,
          0.7020121929344575,
          -0.6534446453808141,
          -0.8819822613338307,
          -0.3725294111302389,
          0.917844776303251,
          2.952904715090055,
          0.563570403972607,
          0.34163541591459934,
          0.24760279926901188,
          0.6853429334592762,
          -0.8871213125118289,
          -0.62447480201159,
          -1.1435009277849852,
          1.3423559897981243,
          -0.6885983903751369,
          -0.6327941965193481,
          1.1382967585537072,
          1.6535942818207383,
          -0.49473872348892395,
          -0.2213077371949228,
          -1.7441809868780074,
          0.33503514683285246,
          1.457920342236441,
          1.1942547194581565,
          1.6048350491365895,
          0.6834991629924438,
          0.5449683729052708,
          -0.09354422620876975,
          -0.7332514853887435,
          -1.2858330647452987,
          -1.6144516726215936,
          0.5491139981272396,
          0.3988004780816497,
          1.1415368511791262,
          0.9103446674267672,
          -0.4302964462779966,
          0.34100207998563,
          1.0883510241965397,
          0.9003232980148024,
          1.0445905659847246,
          0.4609394941132174,
          2.059739333522352,
          -0.8652132010214949,
          0.4132656940423574,
          0.1597976827062007,
          0.8959245972573175,
          0.19935532667623881,
          -1.2631555290890033
         ],
         "xaxis": "x",
         "yaxis": "y"
        },
        {
         "line": {
          "color": "rgba(128, 128, 128, 1.0)",
          "dash": "solid",
          "shape": "linear",
          "width": 1.3
         },
         "marker": {
          "size": 2,
          "symbol": "circle"
         },
         "mode": "markers",
         "name": "A",
         "text": "",
         "type": "scatter",
         "x": [
          -1.5110962441514955,
          -1.3421231187988822,
          -0.8218709717794145,
          -0.5629676527933162,
          -0.0939803421434012,
          -1.0281015513104197,
          0.3995284548028364,
          0.9763755222555714,
          0.04671111034541469,
          -1.9765101574433694,
          -1.0786291236002599,
          -1.1370525638047173,
          0.6234717853349546,
          0.22736963902127702,
          0.6312271068437805,
          1.898722835344093,
          -1.1841566347480224,
          0.6706380460640187,
          0.46705903160036005,
          0.865784386057344,
          -0.48600102296393116,
          -1.087364794658521,
          -0.46493281327929764,
          0.6645474925732094,
          -0.16064904501671742,
          0.10420018730006272,
          1.3088379168204136,
          0.1421960429541945,
          0.021540205979291894,
          -1.696360096304541,
          0.1020244225904697,
          -1.4488401608216697,
          -0.8435275097409567,
          -0.4903190344160185,
          -0.6167726979776068,
          1.516273713443217,
          -0.8504127889940435,
          -0.6817747858776013,
          1.1428523434547717,
          0.6038809943697726,
          -0.19543354794411882,
          0.05964263107473625,
          0.9886081091818062,
          -1.6851781394957248,
          -0.5385704399566267,
          0.4992709096890342,
          0.8523579261540218,
          -0.036804283670902514,
          0.6753618291437835,
          -0.5658997632303835,
          0.08053411107930569,
          0.46914129922192865,
          -0.14822017594795173,
          0.48477839501296927,
          -2.7740379594780014,
          -0.057824947331366054,
          0.007855445306867293,
          -1.037584910585149,
          -0.234403782400521,
          -0.10043071393199138,
          0.24141096042409843,
          -0.6761136267213637,
          -1.3153681866336913,
          -0.11340787951362206,
          -1.5068080162253386,
          -1.3266258407333442,
          0.008007313205507259,
          -1.4753921403733459,
          0.25353596911295373,
          -0.5618230070321575,
          -0.051296848284010335,
          -1.1064574503295967,
          0.451924472091387,
          0.41623143210306596,
          -0.4126695523135965,
          -0.9246281429196028,
          -1.4234046222503718,
          0.08949143437347688,
          -1.1257961613100143,
          -0.45495471958497263,
          -2.2203979818443966,
          -1.1725235534576335,
          0.7847230953515638,
          1.7650003621711998,
          1.2096931205010761,
          -0.46025502320418904,
          -0.04675734436156397,
          2.2850252000751903,
          0.19569106889942578,
          1.9644722028091561,
          0.3203399145813591,
          0.5512007112953003,
          -0.01795135166725152,
          1.8309718907211967,
          -1.2484429434786146,
          0.8173605905207877,
          -0.11453463647031444,
          1.055310864976655,
          -0.6305387854690183,
          -1.4593607886493545
         ],
         "xaxis": "x2",
         "y": [
          0.42834336660048555,
          -0.5431130343751923,
          -1.1089003168660925,
          -0.9310734812179945,
          0.7009672118351541,
          0.8814470474168713,
          -0.8407399793698521,
          -0.576893294052475,
          -0.8080703354235872,
          -0.845685394146627,
          1.0546390088298483,
          -1.2167789452198259,
          -0.5793894576537396,
          0.6531820902565525,
          1.1852687270905453,
          2.179059607997261,
          -0.916752595388181,
          0.5616215793465428,
          0.6378222152443052,
          -0.4644285971201103,
          -0.26443495004037043,
          1.2197910519981685,
          -0.09646466921168612,
          -0.13577844238819872,
          -0.3196361512921841,
          -2.3138191266271706,
          1.8776670994205429,
          0.7405974885272778,
          -3.142074285106367,
          -1.472470555300087,
          -0.16340487140345647,
          -0.14795883993457962,
          0.4002683275186483,
          1.2623093249244404,
          -0.13729696811807196,
          -0.4103419566810211,
          0.6309401297310346,
          -2.554433216510306,
          -1.8136787861246852,
          -1.5971638470617107,
          -0.04727848987271,
          -0.9859271975667138,
          -0.5200134096541108,
          -0.1496386173536915,
          -1.692708236163166,
          -0.9861515241881423,
          1.8566766289766876,
          -0.6426894805921634,
          1.3684446007506572,
          1.0303287829607057,
          0.15816602375477531,
          0.6029637904815115,
          0.7020121929344575,
          -0.6534446453808141,
          -0.8819822613338307,
          -0.3725294111302389,
          0.917844776303251,
          2.952904715090055,
          0.563570403972607,
          0.34163541591459934,
          0.24760279926901188,
          0.6853429334592762,
          -0.8871213125118289,
          -0.62447480201159,
          -1.1435009277849852,
          1.3423559897981243,
          -0.6885983903751369,
          -0.6327941965193481,
          1.1382967585537072,
          1.6535942818207383,
          -0.49473872348892395,
          -0.2213077371949228,
          -1.7441809868780074,
          0.33503514683285246,
          1.457920342236441,
          1.1942547194581565,
          1.6048350491365895,
          0.6834991629924438,
          0.5449683729052708,
          -0.09354422620876975,
          -0.7332514853887435,
          -1.2858330647452987,
          -1.6144516726215936,
          0.5491139981272396,
          0.3988004780816497,
          1.1415368511791262,
          0.9103446674267672,
          -0.4302964462779966,
          0.34100207998563,
          1.0883510241965397,
          0.9003232980148024,
          1.0445905659847246,
          0.4609394941132174,
          2.059739333522352,
          -0.8652132010214949,
          0.4132656940423574,
          0.1597976827062007,
          0.8959245972573175,
          0.19935532667623881,
          -1.2631555290890033
         ],
         "yaxis": "y2"
        },
        {
         "line": {
          "color": "rgba(128, 128, 128, 1.0)",
          "dash": "solid",
          "shape": "linear",
          "width": 1.3
         },
         "marker": {
          "size": 2,
          "symbol": "circle"
         },
         "mode": "markers",
         "name": "A",
         "text": "",
         "type": "scatter",
         "x": [
          0.5818959601613439,
          0.6635389007014588,
          -0.4650326002158927,
          -0.49563769496187016,
          0.3544326149014103,
          0.032280422153337845,
          1.500194598749117,
          2.0078251618293383,
          1.250331560859558,
          -1.5210260565593223,
          -0.9083896727413385,
          0.09343621622137635,
          1.0770523647661714,
          0.4135650963652773,
          0.18243023661373478,
          1.6017575628860965,
          -0.531874639863994,
          0.7386088731874443,
          -1.299442569668759,
          0.09061907544395652,
          1.3048100282856383,
          0.38363698324233875,
          2.1600291784329193,
          -0.17890225991828895,
          -0.3928507318555888,
          0.5077203804001711,
          -0.17890260246201345,
          0.5325204521149169,
          0.5552064558546723,
          0.9466377884787205,
          -0.5537834734751812,
          -0.9225931378437296,
          -0.8501838556832638,
          -0.31102566975449314,
          0.9836054884214205,
          -0.3681798942114995,
          -0.00361292480589936,
          0.8445803413494956,
          -1.1030888295997967,
          0.741470274969195,
          0.13470395027236978,
          1.2105372702387485,
          1.4510247336250213,
          -0.06799667679769193,
          1.0439059032051308,
          1.2758152618645142,
          -0.28913163689038773,
          0.6403403697547831,
          -0.8382254017862524,
          1.267166140113422,
          -0.19196802549214645,
          1.031205035151707,
          0.26130592536366737,
          0.290049450665771,
          0.3923595253989978,
          -0.07066390600572733,
          -0.13411773124013696,
          -0.5112963030506134,
          0.1523938664586009,
          -0.256666308707275,
          1.9500314401460428,
          0.4451779747728889,
          1.20667494512559,
          1.415453883503099,
          0.4802923215144708,
          -1.5154210487797841,
          -1.1689118109720538,
          -0.855788531435531,
          0.6967714727613341,
          0.13185186209408195,
          1.2545075600604296,
          0.46671735728806,
          1.251738898788601,
          -1.6904602024294255,
          -0.15933874899631892,
          -0.6107249632052028,
          1.0151109662635478,
          -0.4640549522669946,
          -1.3094379739157134,
          -0.1696620985632722,
          0.7264314214654054,
          -0.26821860589869123,
          0.21535758945565767,
          0.2479765322304549,
          0.1635268472902467,
          -0.40118535164143926,
          0.41818817348398535,
          -0.5432858902884837,
          1.2661463403142534,
          0.9221931103564391,
          0.077976495849599,
          0.22879419075920301,
          0.8708459862581537,
          1.369969887640816,
          0.33033096281090457,
          -0.08613149023670989,
          -0.10332444940811221,
          -1.503708056123339,
          0.46157906034337454,
          -0.035597229327674916
         ],
         "xaxis": "x3",
         "y": [
          0.42834336660048555,
          -0.5431130343751923,
          -1.1089003168660925,
          -0.9310734812179945,
          0.7009672118351541,
          0.8814470474168713,
          -0.8407399793698521,
          -0.576893294052475,
          -0.8080703354235872,
          -0.845685394146627,
          1.0546390088298483,
          -1.2167789452198259,
          -0.5793894576537396,
          0.6531820902565525,
          1.1852687270905453,
          2.179059607997261,
          -0.916752595388181,
          0.5616215793465428,
          0.6378222152443052,
          -0.4644285971201103,
          -0.26443495004037043,
          1.2197910519981685,
          -0.09646466921168612,
          -0.13577844238819872,
          -0.3196361512921841,
          -2.3138191266271706,
          1.8776670994205429,
          0.7405974885272778,
          -3.142074285106367,
          -1.472470555300087,
          -0.16340487140345647,
          -0.14795883993457962,
          0.4002683275186483,
          1.2623093249244404,
          -0.13729696811807196,
          -0.4103419566810211,
          0.6309401297310346,
          -2.554433216510306,
          -1.8136787861246852,
          -1.5971638470617107,
          -0.04727848987271,
          -0.9859271975667138,
          -0.5200134096541108,
          -0.1496386173536915,
          -1.692708236163166,
          -0.9861515241881423,
          1.8566766289766876,
          -0.6426894805921634,
          1.3684446007506572,
          1.0303287829607057,
          0.15816602375477531,
          0.6029637904815115,
          0.7020121929344575,
          -0.6534446453808141,
          -0.8819822613338307,
          -0.3725294111302389,
          0.917844776303251,
          2.952904715090055,
          0.563570403972607,
          0.34163541591459934,
          0.24760279926901188,
          0.6853429334592762,
          -0.8871213125118289,
          -0.62447480201159,
          -1.1435009277849852,
          1.3423559897981243,
          -0.6885983903751369,
          -0.6327941965193481,
          1.1382967585537072,
          1.6535942818207383,
          -0.49473872348892395,
          -0.2213077371949228,
          -1.7441809868780074,
          0.33503514683285246,
          1.457920342236441,
          1.1942547194581565,
          1.6048350491365895,
          0.6834991629924438,
          0.5449683729052708,
          -0.09354422620876975,
          -0.7332514853887435,
          -1.2858330647452987,
          -1.6144516726215936,
          0.5491139981272396,
          0.3988004780816497,
          1.1415368511791262,
          0.9103446674267672,
          -0.4302964462779966,
          0.34100207998563,
          1.0883510241965397,
          0.9003232980148024,
          1.0445905659847246,
          0.4609394941132174,
          2.059739333522352,
          -0.8652132010214949,
          0.4132656940423574,
          0.1597976827062007,
          0.8959245972573175,
          0.19935532667623881,
          -1.2631555290890033
         ],
         "yaxis": "y3"
        },
        {
         "line": {
          "color": "rgba(128, 128, 128, 1.0)",
          "dash": "solid",
          "shape": "linear",
          "width": 1.3
         },
         "marker": {
          "size": 2,
          "symbol": "circle"
         },
         "mode": "markers",
         "name": "A",
         "text": "",
         "type": "scatter",
         "x": [
          -1.643043088882501,
          -0.041942842179661495,
          -1.4168472589893575,
          0.846324115048115,
          -1.4454782178892902,
          1.1981126822062262,
          1.1880877809175365,
          -0.9437983238027401,
          0.2791052304301366,
          0.22472421792598693,
          -0.23818077146965422,
          -0.8134865720507752,
          -0.6539235206125001,
          -0.18812153427793674,
          0.10483840484201919,
          -1.1463715001592154,
          0.1525511335932151,
          -0.3333660303849316,
          0.2231423843314657,
          -0.642924646210681,
          1.3868811907592602,
          2.4775413247661118,
          -0.9824378868441533,
          -0.7478323374420225,
          0.1196298646787779,
          0.7584231001525484,
          0.3450095684343771,
          -0.1364555859070283,
          0.031593327237034556,
          0.06416794091502054,
          -1.0314204223621934,
          -0.5880114985436802,
          -0.9309105252363903,
          1.2080624637488204,
          -0.4826883216009362,
          -1.4083635352576558,
          1.9770423094719052,
          -1.1996284585164145,
          0.9825311817596672,
          -1.6455070177339404,
          0.295062994963841,
          -0.7998034733980933,
          -0.15005896232938026,
          -0.6656461269471731,
          0.9465387241306563,
          -0.3621644533838506,
          1.154497360028402,
          0.6355561375336649,
          1.0729479908496042,
          -0.946186348362365,
          0.8035070464021923,
          0.2299619066818497,
          0.2677428976486297,
          0.5441540505336642,
          2.520355422492496,
          -1.8362024335707192,
          0.0752844292503327,
          -0.8217503084813561,
          -0.24059727542653545,
          0.9384132798466748,
          0.5277873135643862,
          -1.515812553399073,
          -0.6654393564758576,
          2.399854029533553,
          -0.34779887432418227,
          0.5360350503453412,
          -0.18810820561818842,
          -0.037994786223414116,
          -0.6004312975798658,
          -1.5865829760206287,
          0.9135093073916315,
          -0.14112121519870538,
          -1.562180258411497,
          0.922870786879138,
          -0.5186716211333601,
          -1.0691183637534747,
          -1.4560288756640534,
          1.8245452402134126,
          -0.07371980105621495,
          -0.24864570933300026,
          0.5080437212536183,
          -1.323997543405784,
          1.9888833530466878,
          -0.9616846288567427,
          0.8399558727218465,
          -0.3521507877335014,
          0.18631604806527377,
          -0.7852573923852917,
          0.09450621074434322,
          -0.25880019016887773,
          1.1923201907397027,
          0.2651753312425627,
          -0.858845471114797,
          -0.6219850919551331,
          0.3507993237467051,
          -1.5098459118210705,
          1.913013961119211,
          0.09978487723239408,
          0.009576411491057068,
          -0.11720616987445373
         ],
         "xaxis": "x4",
         "y": [
          0.42834336660048555,
          -0.5431130343751923,
          -1.1089003168660925,
          -0.9310734812179945,
          0.7009672118351541,
          0.8814470474168713,
          -0.8407399793698521,
          -0.576893294052475,
          -0.8080703354235872,
          -0.845685394146627,
          1.0546390088298483,
          -1.2167789452198259,
          -0.5793894576537396,
          0.6531820902565525,
          1.1852687270905453,
          2.179059607997261,
          -0.916752595388181,
          0.5616215793465428,
          0.6378222152443052,
          -0.4644285971201103,
          -0.26443495004037043,
          1.2197910519981685,
          -0.09646466921168612,
          -0.13577844238819872,
          -0.3196361512921841,
          -2.3138191266271706,
          1.8776670994205429,
          0.7405974885272778,
          -3.142074285106367,
          -1.472470555300087,
          -0.16340487140345647,
          -0.14795883993457962,
          0.4002683275186483,
          1.2623093249244404,
          -0.13729696811807196,
          -0.4103419566810211,
          0.6309401297310346,
          -2.554433216510306,
          -1.8136787861246852,
          -1.5971638470617107,
          -0.04727848987271,
          -0.9859271975667138,
          -0.5200134096541108,
          -0.1496386173536915,
          -1.692708236163166,
          -0.9861515241881423,
          1.8566766289766876,
          -0.6426894805921634,
          1.3684446007506572,
          1.0303287829607057,
          0.15816602375477531,
          0.6029637904815115,
          0.7020121929344575,
          -0.6534446453808141,
          -0.8819822613338307,
          -0.3725294111302389,
          0.917844776303251,
          2.952904715090055,
          0.563570403972607,
          0.34163541591459934,
          0.24760279926901188,
          0.6853429334592762,
          -0.8871213125118289,
          -0.62447480201159,
          -1.1435009277849852,
          1.3423559897981243,
          -0.6885983903751369,
          -0.6327941965193481,
          1.1382967585537072,
          1.6535942818207383,
          -0.49473872348892395,
          -0.2213077371949228,
          -1.7441809868780074,
          0.33503514683285246,
          1.457920342236441,
          1.1942547194581565,
          1.6048350491365895,
          0.6834991629924438,
          0.5449683729052708,
          -0.09354422620876975,
          -0.7332514853887435,
          -1.2858330647452987,
          -1.6144516726215936,
          0.5491139981272396,
          0.3988004780816497,
          1.1415368511791262,
          0.9103446674267672,
          -0.4302964462779966,
          0.34100207998563,
          1.0883510241965397,
          0.9003232980148024,
          1.0445905659847246,
          0.4609394941132174,
          2.059739333522352,
          -0.8652132010214949,
          0.4132656940423574,
          0.1597976827062007,
          0.8959245972573175,
          0.19935532667623881,
          -1.2631555290890033
         ],
         "yaxis": "y4"
        },
        {
         "line": {
          "color": "rgba(128, 128, 128, 1.0)",
          "dash": "solid",
          "shape": "linear",
          "width": 1.3
         },
         "marker": {
          "size": 2,
          "symbol": "circle"
         },
         "mode": "markers",
         "name": "B",
         "text": "",
         "type": "scatter",
         "x": [
          0.42834336660048555,
          -0.5431130343751923,
          -1.1089003168660925,
          -0.9310734812179945,
          0.7009672118351541,
          0.8814470474168713,
          -0.8407399793698521,
          -0.576893294052475,
          -0.8080703354235872,
          -0.845685394146627,
          1.0546390088298483,
          -1.2167789452198259,
          -0.5793894576537396,
          0.6531820902565525,
          1.1852687270905453,
          2.179059607997261,
          -0.916752595388181,
          0.5616215793465428,
          0.6378222152443052,
          -0.4644285971201103,
          -0.26443495004037043,
          1.2197910519981685,
          -0.09646466921168612,
          -0.13577844238819872,
          -0.3196361512921841,
          -2.3138191266271706,
          1.8776670994205429,
          0.7405974885272778,
          -3.142074285106367,
          -1.472470555300087,
          -0.16340487140345647,
          -0.14795883993457962,
          0.4002683275186483,
          1.2623093249244404,
          -0.13729696811807196,
          -0.4103419566810211,
          0.6309401297310346,
          -2.554433216510306,
          -1.8136787861246852,
          -1.5971638470617107,
          -0.04727848987271,
          -0.9859271975667138,
          -0.5200134096541108,
          -0.1496386173536915,
          -1.692708236163166,
          -0.9861515241881423,
          1.8566766289766876,
          -0.6426894805921634,
          1.3684446007506572,
          1.0303287829607057,
          0.15816602375477531,
          0.6029637904815115,
          0.7020121929344575,
          -0.6534446453808141,
          -0.8819822613338307,
          -0.3725294111302389,
          0.917844776303251,
          2.952904715090055,
          0.563570403972607,
          0.34163541591459934,
          0.24760279926901188,
          0.6853429334592762,
          -0.8871213125118289,
          -0.62447480201159,
          -1.1435009277849852,
          1.3423559897981243,
          -0.6885983903751369,
          -0.6327941965193481,
          1.1382967585537072,
          1.6535942818207383,
          -0.49473872348892395,
          -0.2213077371949228,
          -1.7441809868780074,
          0.33503514683285246,
          1.457920342236441,
          1.1942547194581565,
          1.6048350491365895,
          0.6834991629924438,
          0.5449683729052708,
          -0.09354422620876975,
          -0.7332514853887435,
          -1.2858330647452987,
          -1.6144516726215936,
          0.5491139981272396,
          0.3988004780816497,
          1.1415368511791262,
          0.9103446674267672,
          -0.4302964462779966,
          0.34100207998563,
          1.0883510241965397,
          0.9003232980148024,
          1.0445905659847246,
          0.4609394941132174,
          2.059739333522352,
          -0.8652132010214949,
          0.4132656940423574,
          0.1597976827062007,
          0.8959245972573175,
          0.19935532667623881,
          -1.2631555290890033
         ],
         "xaxis": "x5",
         "y": [
          -1.5110962441514955,
          -1.3421231187988822,
          -0.8218709717794145,
          -0.5629676527933162,
          -0.0939803421434012,
          -1.0281015513104197,
          0.3995284548028364,
          0.9763755222555714,
          0.04671111034541469,
          -1.9765101574433694,
          -1.0786291236002599,
          -1.1370525638047173,
          0.6234717853349546,
          0.22736963902127702,
          0.6312271068437805,
          1.898722835344093,
          -1.1841566347480224,
          0.6706380460640187,
          0.46705903160036005,
          0.865784386057344,
          -0.48600102296393116,
          -1.087364794658521,
          -0.46493281327929764,
          0.6645474925732094,
          -0.16064904501671742,
          0.10420018730006272,
          1.3088379168204136,
          0.1421960429541945,
          0.021540205979291894,
          -1.696360096304541,
          0.1020244225904697,
          -1.4488401608216697,
          -0.8435275097409567,
          -0.4903190344160185,
          -0.6167726979776068,
          1.516273713443217,
          -0.8504127889940435,
          -0.6817747858776013,
          1.1428523434547717,
          0.6038809943697726,
          -0.19543354794411882,
          0.05964263107473625,
          0.9886081091818062,
          -1.6851781394957248,
          -0.5385704399566267,
          0.4992709096890342,
          0.8523579261540218,
          -0.036804283670902514,
          0.6753618291437835,
          -0.5658997632303835,
          0.08053411107930569,
          0.46914129922192865,
          -0.14822017594795173,
          0.48477839501296927,
          -2.7740379594780014,
          -0.057824947331366054,
          0.007855445306867293,
          -1.037584910585149,
          -0.234403782400521,
          -0.10043071393199138,
          0.24141096042409843,
          -0.6761136267213637,
          -1.3153681866336913,
          -0.11340787951362206,
          -1.5068080162253386,
          -1.3266258407333442,
          0.008007313205507259,
          -1.4753921403733459,
          0.25353596911295373,
          -0.5618230070321575,
          -0.051296848284010335,
          -1.1064574503295967,
          0.451924472091387,
          0.41623143210306596,
          -0.4126695523135965,
          -0.9246281429196028,
          -1.4234046222503718,
          0.08949143437347688,
          -1.1257961613100143,
          -0.45495471958497263,
          -2.2203979818443966,
          -1.1725235534576335,
          0.7847230953515638,
          1.7650003621711998,
          1.2096931205010761,
          -0.46025502320418904,
          -0.04675734436156397,
          2.2850252000751903,
          0.19569106889942578,
          1.9644722028091561,
          0.3203399145813591,
          0.5512007112953003,
          -0.01795135166725152,
          1.8309718907211967,
          -1.2484429434786146,
          0.8173605905207877,
          -0.11453463647031444,
          1.055310864976655,
          -0.6305387854690183,
          -1.4593607886493545
         ],
         "yaxis": "y5"
        },
        {
         "histfunc": "count",
         "histnorm": "",
         "marker": {
          "color": "rgba(55, 128, 191, 1.0)",
          "line": {
           "color": "#4D5663",
           "width": 1.3
          }
         },
         "name": "B",
         "nbinsx": 10,
         "opacity": 0.8,
         "orientation": "v",
         "type": "histogram",
         "x": [
          -1.5110962441514955,
          -1.3421231187988822,
          -0.8218709717794145,
          -0.5629676527933162,
          -0.0939803421434012,
          -1.0281015513104197,
          0.3995284548028364,
          0.9763755222555714,
          0.04671111034541469,
          -1.9765101574433694,
          -1.0786291236002599,
          -1.1370525638047173,
          0.6234717853349546,
          0.22736963902127702,
          0.6312271068437805,
          1.898722835344093,
          -1.1841566347480224,
          0.6706380460640187,
          0.46705903160036005,
          0.865784386057344,
          -0.48600102296393116,
          -1.087364794658521,
          -0.46493281327929764,
          0.6645474925732094,
          -0.16064904501671742,
          0.10420018730006272,
          1.3088379168204136,
          0.1421960429541945,
          0.021540205979291894,
          -1.696360096304541,
          0.1020244225904697,
          -1.4488401608216697,
          -0.8435275097409567,
          -0.4903190344160185,
          -0.6167726979776068,
          1.516273713443217,
          -0.8504127889940435,
          -0.6817747858776013,
          1.1428523434547717,
          0.6038809943697726,
          -0.19543354794411882,
          0.05964263107473625,
          0.9886081091818062,
          -1.6851781394957248,
          -0.5385704399566267,
          0.4992709096890342,
          0.8523579261540218,
          -0.036804283670902514,
          0.6753618291437835,
          -0.5658997632303835,
          0.08053411107930569,
          0.46914129922192865,
          -0.14822017594795173,
          0.48477839501296927,
          -2.7740379594780014,
          -0.057824947331366054,
          0.007855445306867293,
          -1.037584910585149,
          -0.234403782400521,
          -0.10043071393199138,
          0.24141096042409843,
          -0.6761136267213637,
          -1.3153681866336913,
          -0.11340787951362206,
          -1.5068080162253386,
          -1.3266258407333442,
          0.008007313205507259,
          -1.4753921403733459,
          0.25353596911295373,
          -0.5618230070321575,
          -0.051296848284010335,
          -1.1064574503295967,
          0.451924472091387,
          0.41623143210306596,
          -0.4126695523135965,
          -0.9246281429196028,
          -1.4234046222503718,
          0.08949143437347688,
          -1.1257961613100143,
          -0.45495471958497263,
          -2.2203979818443966,
          -1.1725235534576335,
          0.7847230953515638,
          1.7650003621711998,
          1.2096931205010761,
          -0.46025502320418904,
          -0.04675734436156397,
          2.2850252000751903,
          0.19569106889942578,
          1.9644722028091561,
          0.3203399145813591,
          0.5512007112953003,
          -0.01795135166725152,
          1.8309718907211967,
          -1.2484429434786146,
          0.8173605905207877,
          -0.11453463647031444,
          1.055310864976655,
          -0.6305387854690183,
          -1.4593607886493545
         ],
         "xaxis": "x6",
         "yaxis": "y6"
        },
        {
         "line": {
          "color": "rgba(128, 128, 128, 1.0)",
          "dash": "solid",
          "shape": "linear",
          "width": 1.3
         },
         "marker": {
          "size": 2,
          "symbol": "circle"
         },
         "mode": "markers",
         "name": "B",
         "text": "",
         "type": "scatter",
         "x": [
          0.5818959601613439,
          0.6635389007014588,
          -0.4650326002158927,
          -0.49563769496187016,
          0.3544326149014103,
          0.032280422153337845,
          1.500194598749117,
          2.0078251618293383,
          1.250331560859558,
          -1.5210260565593223,
          -0.9083896727413385,
          0.09343621622137635,
          1.0770523647661714,
          0.4135650963652773,
          0.18243023661373478,
          1.6017575628860965,
          -0.531874639863994,
          0.7386088731874443,
          -1.299442569668759,
          0.09061907544395652,
          1.3048100282856383,
          0.38363698324233875,
          2.1600291784329193,
          -0.17890225991828895,
          -0.3928507318555888,
          0.5077203804001711,
          -0.17890260246201345,
          0.5325204521149169,
          0.5552064558546723,
          0.9466377884787205,
          -0.5537834734751812,
          -0.9225931378437296,
          -0.8501838556832638,
          -0.31102566975449314,
          0.9836054884214205,
          -0.3681798942114995,
          -0.00361292480589936,
          0.8445803413494956,
          -1.1030888295997967,
          0.741470274969195,
          0.13470395027236978,
          1.2105372702387485,
          1.4510247336250213,
          -0.06799667679769193,
          1.0439059032051308,
          1.2758152618645142,
          -0.28913163689038773,
          0.6403403697547831,
          -0.8382254017862524,
          1.267166140113422,
          -0.19196802549214645,
          1.031205035151707,
          0.26130592536366737,
          0.290049450665771,
          0.3923595253989978,
          -0.07066390600572733,
          -0.13411773124013696,
          -0.5112963030506134,
          0.1523938664586009,
          -0.256666308707275,
          1.9500314401460428,
          0.4451779747728889,
          1.20667494512559,
          1.415453883503099,
          0.4802923215144708,
          -1.5154210487797841,
          -1.1689118109720538,
          -0.855788531435531,
          0.6967714727613341,
          0.13185186209408195,
          1.2545075600604296,
          0.46671735728806,
          1.251738898788601,
          -1.6904602024294255,
          -0.15933874899631892,
          -0.6107249632052028,
          1.0151109662635478,
          -0.4640549522669946,
          -1.3094379739157134,
          -0.1696620985632722,
          0.7264314214654054,
          -0.26821860589869123,
          0.21535758945565767,
          0.2479765322304549,
          0.1635268472902467,
          -0.40118535164143926,
          0.41818817348398535,
          -0.5432858902884837,
          1.2661463403142534,
          0.9221931103564391,
          0.077976495849599,
          0.22879419075920301,
          0.8708459862581537,
          1.369969887640816,
          0.33033096281090457,
          -0.08613149023670989,
          -0.10332444940811221,
          -1.503708056123339,
          0.46157906034337454,
          -0.035597229327674916
         ],
         "xaxis": "x7",
         "y": [
          -1.5110962441514955,
          -1.3421231187988822,
          -0.8218709717794145,
          -0.5629676527933162,
          -0.0939803421434012,
          -1.0281015513104197,
          0.3995284548028364,
          0.9763755222555714,
          0.04671111034541469,
          -1.9765101574433694,
          -1.0786291236002599,
          -1.1370525638047173,
          0.6234717853349546,
          0.22736963902127702,
          0.6312271068437805,
          1.898722835344093,
          -1.1841566347480224,
          0.6706380460640187,
          0.46705903160036005,
          0.865784386057344,
          -0.48600102296393116,
          -1.087364794658521,
          -0.46493281327929764,
          0.6645474925732094,
          -0.16064904501671742,
          0.10420018730006272,
          1.3088379168204136,
          0.1421960429541945,
          0.021540205979291894,
          -1.696360096304541,
          0.1020244225904697,
          -1.4488401608216697,
          -0.8435275097409567,
          -0.4903190344160185,
          -0.6167726979776068,
          1.516273713443217,
          -0.8504127889940435,
          -0.6817747858776013,
          1.1428523434547717,
          0.6038809943697726,
          -0.19543354794411882,
          0.05964263107473625,
          0.9886081091818062,
          -1.6851781394957248,
          -0.5385704399566267,
          0.4992709096890342,
          0.8523579261540218,
          -0.036804283670902514,
          0.6753618291437835,
          -0.5658997632303835,
          0.08053411107930569,
          0.46914129922192865,
          -0.14822017594795173,
          0.48477839501296927,
          -2.7740379594780014,
          -0.057824947331366054,
          0.007855445306867293,
          -1.037584910585149,
          -0.234403782400521,
          -0.10043071393199138,
          0.24141096042409843,
          -0.6761136267213637,
          -1.3153681866336913,
          -0.11340787951362206,
          -1.5068080162253386,
          -1.3266258407333442,
          0.008007313205507259,
          -1.4753921403733459,
          0.25353596911295373,
          -0.5618230070321575,
          -0.051296848284010335,
          -1.1064574503295967,
          0.451924472091387,
          0.41623143210306596,
          -0.4126695523135965,
          -0.9246281429196028,
          -1.4234046222503718,
          0.08949143437347688,
          -1.1257961613100143,
          -0.45495471958497263,
          -2.2203979818443966,
          -1.1725235534576335,
          0.7847230953515638,
          1.7650003621711998,
          1.2096931205010761,
          -0.46025502320418904,
          -0.04675734436156397,
          2.2850252000751903,
          0.19569106889942578,
          1.9644722028091561,
          0.3203399145813591,
          0.5512007112953003,
          -0.01795135166725152,
          1.8309718907211967,
          -1.2484429434786146,
          0.8173605905207877,
          -0.11453463647031444,
          1.055310864976655,
          -0.6305387854690183,
          -1.4593607886493545
         ],
         "yaxis": "y7"
        },
        {
         "line": {
          "color": "rgba(128, 128, 128, 1.0)",
          "dash": "solid",
          "shape": "linear",
          "width": 1.3
         },
         "marker": {
          "size": 2,
          "symbol": "circle"
         },
         "mode": "markers",
         "name": "B",
         "text": "",
         "type": "scatter",
         "x": [
          -1.643043088882501,
          -0.041942842179661495,
          -1.4168472589893575,
          0.846324115048115,
          -1.4454782178892902,
          1.1981126822062262,
          1.1880877809175365,
          -0.9437983238027401,
          0.2791052304301366,
          0.22472421792598693,
          -0.23818077146965422,
          -0.8134865720507752,
          -0.6539235206125001,
          -0.18812153427793674,
          0.10483840484201919,
          -1.1463715001592154,
          0.1525511335932151,
          -0.3333660303849316,
          0.2231423843314657,
          -0.642924646210681,
          1.3868811907592602,
          2.4775413247661118,
          -0.9824378868441533,
          -0.7478323374420225,
          0.1196298646787779,
          0.7584231001525484,
          0.3450095684343771,
          -0.1364555859070283,
          0.031593327237034556,
          0.06416794091502054,
          -1.0314204223621934,
          -0.5880114985436802,
          -0.9309105252363903,
          1.2080624637488204,
          -0.4826883216009362,
          -1.4083635352576558,
          1.9770423094719052,
          -1.1996284585164145,
          0.9825311817596672,
          -1.6455070177339404,
          0.295062994963841,
          -0.7998034733980933,
          -0.15005896232938026,
          -0.6656461269471731,
          0.9465387241306563,
          -0.3621644533838506,
          1.154497360028402,
          0.6355561375336649,
          1.0729479908496042,
          -0.946186348362365,
          0.8035070464021923,
          0.2299619066818497,
          0.2677428976486297,
          0.5441540505336642,
          2.520355422492496,
          -1.8362024335707192,
          0.0752844292503327,
          -0.8217503084813561,
          -0.24059727542653545,
          0.9384132798466748,
          0.5277873135643862,
          -1.515812553399073,
          -0.6654393564758576,
          2.399854029533553,
          -0.34779887432418227,
          0.5360350503453412,
          -0.18810820561818842,
          -0.037994786223414116,
          -0.6004312975798658,
          -1.5865829760206287,
          0.9135093073916315,
          -0.14112121519870538,
          -1.562180258411497,
          0.922870786879138,
          -0.5186716211333601,
          -1.0691183637534747,
          -1.4560288756640534,
          1.8245452402134126,
          -0.07371980105621495,
          -0.24864570933300026,
          0.5080437212536183,
          -1.323997543405784,
          1.9888833530466878,
          -0.9616846288567427,
          0.8399558727218465,
          -0.3521507877335014,
          0.18631604806527377,
          -0.7852573923852917,
          0.09450621074434322,
          -0.25880019016887773,
          1.1923201907397027,
          0.2651753312425627,
          -0.858845471114797,
          -0.6219850919551331,
          0.3507993237467051,
          -1.5098459118210705,
          1.913013961119211,
          0.09978487723239408,
          0.009576411491057068,
          -0.11720616987445373
         ],
         "xaxis": "x8",
         "y": [
          -1.5110962441514955,
          -1.3421231187988822,
          -0.8218709717794145,
          -0.5629676527933162,
          -0.0939803421434012,
          -1.0281015513104197,
          0.3995284548028364,
          0.9763755222555714,
          0.04671111034541469,
          -1.9765101574433694,
          -1.0786291236002599,
          -1.1370525638047173,
          0.6234717853349546,
          0.22736963902127702,
          0.6312271068437805,
          1.898722835344093,
          -1.1841566347480224,
          0.6706380460640187,
          0.46705903160036005,
          0.865784386057344,
          -0.48600102296393116,
          -1.087364794658521,
          -0.46493281327929764,
          0.6645474925732094,
          -0.16064904501671742,
          0.10420018730006272,
          1.3088379168204136,
          0.1421960429541945,
          0.021540205979291894,
          -1.696360096304541,
          0.1020244225904697,
          -1.4488401608216697,
          -0.8435275097409567,
          -0.4903190344160185,
          -0.6167726979776068,
          1.516273713443217,
          -0.8504127889940435,
          -0.6817747858776013,
          1.1428523434547717,
          0.6038809943697726,
          -0.19543354794411882,
          0.05964263107473625,
          0.9886081091818062,
          -1.6851781394957248,
          -0.5385704399566267,
          0.4992709096890342,
          0.8523579261540218,
          -0.036804283670902514,
          0.6753618291437835,
          -0.5658997632303835,
          0.08053411107930569,
          0.46914129922192865,
          -0.14822017594795173,
          0.48477839501296927,
          -2.7740379594780014,
          -0.057824947331366054,
          0.007855445306867293,
          -1.037584910585149,
          -0.234403782400521,
          -0.10043071393199138,
          0.24141096042409843,
          -0.6761136267213637,
          -1.3153681866336913,
          -0.11340787951362206,
          -1.5068080162253386,
          -1.3266258407333442,
          0.008007313205507259,
          -1.4753921403733459,
          0.25353596911295373,
          -0.5618230070321575,
          -0.051296848284010335,
          -1.1064574503295967,
          0.451924472091387,
          0.41623143210306596,
          -0.4126695523135965,
          -0.9246281429196028,
          -1.4234046222503718,
          0.08949143437347688,
          -1.1257961613100143,
          -0.45495471958497263,
          -2.2203979818443966,
          -1.1725235534576335,
          0.7847230953515638,
          1.7650003621711998,
          1.2096931205010761,
          -0.46025502320418904,
          -0.04675734436156397,
          2.2850252000751903,
          0.19569106889942578,
          1.9644722028091561,
          0.3203399145813591,
          0.5512007112953003,
          -0.01795135166725152,
          1.8309718907211967,
          -1.2484429434786146,
          0.8173605905207877,
          -0.11453463647031444,
          1.055310864976655,
          -0.6305387854690183,
          -1.4593607886493545
         ],
         "yaxis": "y8"
        },
        {
         "line": {
          "color": "rgba(128, 128, 128, 1.0)",
          "dash": "solid",
          "shape": "linear",
          "width": 1.3
         },
         "marker": {
          "size": 2,
          "symbol": "circle"
         },
         "mode": "markers",
         "name": "C",
         "text": "",
         "type": "scatter",
         "x": [
          0.42834336660048555,
          -0.5431130343751923,
          -1.1089003168660925,
          -0.9310734812179945,
          0.7009672118351541,
          0.8814470474168713,
          -0.8407399793698521,
          -0.576893294052475,
          -0.8080703354235872,
          -0.845685394146627,
          1.0546390088298483,
          -1.2167789452198259,
          -0.5793894576537396,
          0.6531820902565525,
          1.1852687270905453,
          2.179059607997261,
          -0.916752595388181,
          0.5616215793465428,
          0.6378222152443052,
          -0.4644285971201103,
          -0.26443495004037043,
          1.2197910519981685,
          -0.09646466921168612,
          -0.13577844238819872,
          -0.3196361512921841,
          -2.3138191266271706,
          1.8776670994205429,
          0.7405974885272778,
          -3.142074285106367,
          -1.472470555300087,
          -0.16340487140345647,
          -0.14795883993457962,
          0.4002683275186483,
          1.2623093249244404,
          -0.13729696811807196,
          -0.4103419566810211,
          0.6309401297310346,
          -2.554433216510306,
          -1.8136787861246852,
          -1.5971638470617107,
          -0.04727848987271,
          -0.9859271975667138,
          -0.5200134096541108,
          -0.1496386173536915,
          -1.692708236163166,
          -0.9861515241881423,
          1.8566766289766876,
          -0.6426894805921634,
          1.3684446007506572,
          1.0303287829607057,
          0.15816602375477531,
          0.6029637904815115,
          0.7020121929344575,
          -0.6534446453808141,
          -0.8819822613338307,
          -0.3725294111302389,
          0.917844776303251,
          2.952904715090055,
          0.563570403972607,
          0.34163541591459934,
          0.24760279926901188,
          0.6853429334592762,
          -0.8871213125118289,
          -0.62447480201159,
          -1.1435009277849852,
          1.3423559897981243,
          -0.6885983903751369,
          -0.6327941965193481,
          1.1382967585537072,
          1.6535942818207383,
          -0.49473872348892395,
          -0.2213077371949228,
          -1.7441809868780074,
          0.33503514683285246,
          1.457920342236441,
          1.1942547194581565,
          1.6048350491365895,
          0.6834991629924438,
          0.5449683729052708,
          -0.09354422620876975,
          -0.7332514853887435,
          -1.2858330647452987,
          -1.6144516726215936,
          0.5491139981272396,
          0.3988004780816497,
          1.1415368511791262,
          0.9103446674267672,
          -0.4302964462779966,
          0.34100207998563,
          1.0883510241965397,
          0.9003232980148024,
          1.0445905659847246,
          0.4609394941132174,
          2.059739333522352,
          -0.8652132010214949,
          0.4132656940423574,
          0.1597976827062007,
          0.8959245972573175,
          0.19935532667623881,
          -1.2631555290890033
         ],
         "xaxis": "x9",
         "y": [
          0.5818959601613439,
          0.6635389007014588,
          -0.4650326002158927,
          -0.49563769496187016,
          0.3544326149014103,
          0.032280422153337845,
          1.500194598749117,
          2.0078251618293383,
          1.250331560859558,
          -1.5210260565593223,
          -0.9083896727413385,
          0.09343621622137635,
          1.0770523647661714,
          0.4135650963652773,
          0.18243023661373478,
          1.6017575628860965,
          -0.531874639863994,
          0.7386088731874443,
          -1.299442569668759,
          0.09061907544395652,
          1.3048100282856383,
          0.38363698324233875,
          2.1600291784329193,
          -0.17890225991828895,
          -0.3928507318555888,
          0.5077203804001711,
          -0.17890260246201345,
          0.5325204521149169,
          0.5552064558546723,
          0.9466377884787205,
          -0.5537834734751812,
          -0.9225931378437296,
          -0.8501838556832638,
          -0.31102566975449314,
          0.9836054884214205,
          -0.3681798942114995,
          -0.00361292480589936,
          0.8445803413494956,
          -1.1030888295997967,
          0.741470274969195,
          0.13470395027236978,
          1.2105372702387485,
          1.4510247336250213,
          -0.06799667679769193,
          1.0439059032051308,
          1.2758152618645142,
          -0.28913163689038773,
          0.6403403697547831,
          -0.8382254017862524,
          1.267166140113422,
          -0.19196802549214645,
          1.031205035151707,
          0.26130592536366737,
          0.290049450665771,
          0.3923595253989978,
          -0.07066390600572733,
          -0.13411773124013696,
          -0.5112963030506134,
          0.1523938664586009,
          -0.256666308707275,
          1.9500314401460428,
          0.4451779747728889,
          1.20667494512559,
          1.415453883503099,
          0.4802923215144708,
          -1.5154210487797841,
          -1.1689118109720538,
          -0.855788531435531,
          0.6967714727613341,
          0.13185186209408195,
          1.2545075600604296,
          0.46671735728806,
          1.251738898788601,
          -1.6904602024294255,
          -0.15933874899631892,
          -0.6107249632052028,
          1.0151109662635478,
          -0.4640549522669946,
          -1.3094379739157134,
          -0.1696620985632722,
          0.7264314214654054,
          -0.26821860589869123,
          0.21535758945565767,
          0.2479765322304549,
          0.1635268472902467,
          -0.40118535164143926,
          0.41818817348398535,
          -0.5432858902884837,
          1.2661463403142534,
          0.9221931103564391,
          0.077976495849599,
          0.22879419075920301,
          0.8708459862581537,
          1.369969887640816,
          0.33033096281090457,
          -0.08613149023670989,
          -0.10332444940811221,
          -1.503708056123339,
          0.46157906034337454,
          -0.035597229327674916
         ],
         "yaxis": "y9"
        },
        {
         "line": {
          "color": "rgba(128, 128, 128, 1.0)",
          "dash": "solid",
          "shape": "linear",
          "width": 1.3
         },
         "marker": {
          "size": 2,
          "symbol": "circle"
         },
         "mode": "markers",
         "name": "C",
         "text": "",
         "type": "scatter",
         "x": [
          -1.5110962441514955,
          -1.3421231187988822,
          -0.8218709717794145,
          -0.5629676527933162,
          -0.0939803421434012,
          -1.0281015513104197,
          0.3995284548028364,
          0.9763755222555714,
          0.04671111034541469,
          -1.9765101574433694,
          -1.0786291236002599,
          -1.1370525638047173,
          0.6234717853349546,
          0.22736963902127702,
          0.6312271068437805,
          1.898722835344093,
          -1.1841566347480224,
          0.6706380460640187,
          0.46705903160036005,
          0.865784386057344,
          -0.48600102296393116,
          -1.087364794658521,
          -0.46493281327929764,
          0.6645474925732094,
          -0.16064904501671742,
          0.10420018730006272,
          1.3088379168204136,
          0.1421960429541945,
          0.021540205979291894,
          -1.696360096304541,
          0.1020244225904697,
          -1.4488401608216697,
          -0.8435275097409567,
          -0.4903190344160185,
          -0.6167726979776068,
          1.516273713443217,
          -0.8504127889940435,
          -0.6817747858776013,
          1.1428523434547717,
          0.6038809943697726,
          -0.19543354794411882,
          0.05964263107473625,
          0.9886081091818062,
          -1.6851781394957248,
          -0.5385704399566267,
          0.4992709096890342,
          0.8523579261540218,
          -0.036804283670902514,
          0.6753618291437835,
          -0.5658997632303835,
          0.08053411107930569,
          0.46914129922192865,
          -0.14822017594795173,
          0.48477839501296927,
          -2.7740379594780014,
          -0.057824947331366054,
          0.007855445306867293,
          -1.037584910585149,
          -0.234403782400521,
          -0.10043071393199138,
          0.24141096042409843,
          -0.6761136267213637,
          -1.3153681866336913,
          -0.11340787951362206,
          -1.5068080162253386,
          -1.3266258407333442,
          0.008007313205507259,
          -1.4753921403733459,
          0.25353596911295373,
          -0.5618230070321575,
          -0.051296848284010335,
          -1.1064574503295967,
          0.451924472091387,
          0.41623143210306596,
          -0.4126695523135965,
          -0.9246281429196028,
          -1.4234046222503718,
          0.08949143437347688,
          -1.1257961613100143,
          -0.45495471958497263,
          -2.2203979818443966,
          -1.1725235534576335,
          0.7847230953515638,
          1.7650003621711998,
          1.2096931205010761,
          -0.46025502320418904,
          -0.04675734436156397,
          2.2850252000751903,
          0.19569106889942578,
          1.9644722028091561,
          0.3203399145813591,
          0.5512007112953003,
          -0.01795135166725152,
          1.8309718907211967,
          -1.2484429434786146,
          0.8173605905207877,
          -0.11453463647031444,
          1.055310864976655,
          -0.6305387854690183,
          -1.4593607886493545
         ],
         "xaxis": "x10",
         "y": [
          0.5818959601613439,
          0.6635389007014588,
          -0.4650326002158927,
          -0.49563769496187016,
          0.3544326149014103,
          0.032280422153337845,
          1.500194598749117,
          2.0078251618293383,
          1.250331560859558,
          -1.5210260565593223,
          -0.9083896727413385,
          0.09343621622137635,
          1.0770523647661714,
          0.4135650963652773,
          0.18243023661373478,
          1.6017575628860965,
          -0.531874639863994,
          0.7386088731874443,
          -1.299442569668759,
          0.09061907544395652,
          1.3048100282856383,
          0.38363698324233875,
          2.1600291784329193,
          -0.17890225991828895,
          -0.3928507318555888,
          0.5077203804001711,
          -0.17890260246201345,
          0.5325204521149169,
          0.5552064558546723,
          0.9466377884787205,
          -0.5537834734751812,
          -0.9225931378437296,
          -0.8501838556832638,
          -0.31102566975449314,
          0.9836054884214205,
          -0.3681798942114995,
          -0.00361292480589936,
          0.8445803413494956,
          -1.1030888295997967,
          0.741470274969195,
          0.13470395027236978,
          1.2105372702387485,
          1.4510247336250213,
          -0.06799667679769193,
          1.0439059032051308,
          1.2758152618645142,
          -0.28913163689038773,
          0.6403403697547831,
          -0.8382254017862524,
          1.267166140113422,
          -0.19196802549214645,
          1.031205035151707,
          0.26130592536366737,
          0.290049450665771,
          0.3923595253989978,
          -0.07066390600572733,
          -0.13411773124013696,
          -0.5112963030506134,
          0.1523938664586009,
          -0.256666308707275,
          1.9500314401460428,
          0.4451779747728889,
          1.20667494512559,
          1.415453883503099,
          0.4802923215144708,
          -1.5154210487797841,
          -1.1689118109720538,
          -0.855788531435531,
          0.6967714727613341,
          0.13185186209408195,
          1.2545075600604296,
          0.46671735728806,
          1.251738898788601,
          -1.6904602024294255,
          -0.15933874899631892,
          -0.6107249632052028,
          1.0151109662635478,
          -0.4640549522669946,
          -1.3094379739157134,
          -0.1696620985632722,
          0.7264314214654054,
          -0.26821860589869123,
          0.21535758945565767,
          0.2479765322304549,
          0.1635268472902467,
          -0.40118535164143926,
          0.41818817348398535,
          -0.5432858902884837,
          1.2661463403142534,
          0.9221931103564391,
          0.077976495849599,
          0.22879419075920301,
          0.8708459862581537,
          1.369969887640816,
          0.33033096281090457,
          -0.08613149023670989,
          -0.10332444940811221,
          -1.503708056123339,
          0.46157906034337454,
          -0.035597229327674916
         ],
         "yaxis": "y10"
        },
        {
         "histfunc": "count",
         "histnorm": "",
         "marker": {
          "color": "rgba(50, 171, 96, 1.0)",
          "line": {
           "color": "#4D5663",
           "width": 1.3
          }
         },
         "name": "C",
         "nbinsx": 10,
         "opacity": 0.8,
         "orientation": "v",
         "type": "histogram",
         "x": [
          0.5818959601613439,
          0.6635389007014588,
          -0.4650326002158927,
          -0.49563769496187016,
          0.3544326149014103,
          0.032280422153337845,
          1.500194598749117,
          2.0078251618293383,
          1.250331560859558,
          -1.5210260565593223,
          -0.9083896727413385,
          0.09343621622137635,
          1.0770523647661714,
          0.4135650963652773,
          0.18243023661373478,
          1.6017575628860965,
          -0.531874639863994,
          0.7386088731874443,
          -1.299442569668759,
          0.09061907544395652,
          1.3048100282856383,
          0.38363698324233875,
          2.1600291784329193,
          -0.17890225991828895,
          -0.3928507318555888,
          0.5077203804001711,
          -0.17890260246201345,
          0.5325204521149169,
          0.5552064558546723,
          0.9466377884787205,
          -0.5537834734751812,
          -0.9225931378437296,
          -0.8501838556832638,
          -0.31102566975449314,
          0.9836054884214205,
          -0.3681798942114995,
          -0.00361292480589936,
          0.8445803413494956,
          -1.1030888295997967,
          0.741470274969195,
          0.13470395027236978,
          1.2105372702387485,
          1.4510247336250213,
          -0.06799667679769193,
          1.0439059032051308,
          1.2758152618645142,
          -0.28913163689038773,
          0.6403403697547831,
          -0.8382254017862524,
          1.267166140113422,
          -0.19196802549214645,
          1.031205035151707,
          0.26130592536366737,
          0.290049450665771,
          0.3923595253989978,
          -0.07066390600572733,
          -0.13411773124013696,
          -0.5112963030506134,
          0.1523938664586009,
          -0.256666308707275,
          1.9500314401460428,
          0.4451779747728889,
          1.20667494512559,
          1.415453883503099,
          0.4802923215144708,
          -1.5154210487797841,
          -1.1689118109720538,
          -0.855788531435531,
          0.6967714727613341,
          0.13185186209408195,
          1.2545075600604296,
          0.46671735728806,
          1.251738898788601,
          -1.6904602024294255,
          -0.15933874899631892,
          -0.6107249632052028,
          1.0151109662635478,
          -0.4640549522669946,
          -1.3094379739157134,
          -0.1696620985632722,
          0.7264314214654054,
          -0.26821860589869123,
          0.21535758945565767,
          0.2479765322304549,
          0.1635268472902467,
          -0.40118535164143926,
          0.41818817348398535,
          -0.5432858902884837,
          1.2661463403142534,
          0.9221931103564391,
          0.077976495849599,
          0.22879419075920301,
          0.8708459862581537,
          1.369969887640816,
          0.33033096281090457,
          -0.08613149023670989,
          -0.10332444940811221,
          -1.503708056123339,
          0.46157906034337454,
          -0.035597229327674916
         ],
         "xaxis": "x11",
         "yaxis": "y11"
        },
        {
         "line": {
          "color": "rgba(128, 128, 128, 1.0)",
          "dash": "solid",
          "shape": "linear",
          "width": 1.3
         },
         "marker": {
          "size": 2,
          "symbol": "circle"
         },
         "mode": "markers",
         "name": "C",
         "text": "",
         "type": "scatter",
         "x": [
          -1.643043088882501,
          -0.041942842179661495,
          -1.4168472589893575,
          0.846324115048115,
          -1.4454782178892902,
          1.1981126822062262,
          1.1880877809175365,
          -0.9437983238027401,
          0.2791052304301366,
          0.22472421792598693,
          -0.23818077146965422,
          -0.8134865720507752,
          -0.6539235206125001,
          -0.18812153427793674,
          0.10483840484201919,
          -1.1463715001592154,
          0.1525511335932151,
          -0.3333660303849316,
          0.2231423843314657,
          -0.642924646210681,
          1.3868811907592602,
          2.4775413247661118,
          -0.9824378868441533,
          -0.7478323374420225,
          0.1196298646787779,
          0.7584231001525484,
          0.3450095684343771,
          -0.1364555859070283,
          0.031593327237034556,
          0.06416794091502054,
          -1.0314204223621934,
          -0.5880114985436802,
          -0.9309105252363903,
          1.2080624637488204,
          -0.4826883216009362,
          -1.4083635352576558,
          1.9770423094719052,
          -1.1996284585164145,
          0.9825311817596672,
          -1.6455070177339404,
          0.295062994963841,
          -0.7998034733980933,
          -0.15005896232938026,
          -0.6656461269471731,
          0.9465387241306563,
          -0.3621644533838506,
          1.154497360028402,
          0.6355561375336649,
          1.0729479908496042,
          -0.946186348362365,
          0.8035070464021923,
          0.2299619066818497,
          0.2677428976486297,
          0.5441540505336642,
          2.520355422492496,
          -1.8362024335707192,
          0.0752844292503327,
          -0.8217503084813561,
          -0.24059727542653545,
          0.9384132798466748,
          0.5277873135643862,
          -1.515812553399073,
          -0.6654393564758576,
          2.399854029533553,
          -0.34779887432418227,
          0.5360350503453412,
          -0.18810820561818842,
          -0.037994786223414116,
          -0.6004312975798658,
          -1.5865829760206287,
          0.9135093073916315,
          -0.14112121519870538,
          -1.562180258411497,
          0.922870786879138,
          -0.5186716211333601,
          -1.0691183637534747,
          -1.4560288756640534,
          1.8245452402134126,
          -0.07371980105621495,
          -0.24864570933300026,
          0.5080437212536183,
          -1.323997543405784,
          1.9888833530466878,
          -0.9616846288567427,
          0.8399558727218465,
          -0.3521507877335014,
          0.18631604806527377,
          -0.7852573923852917,
          0.09450621074434322,
          -0.25880019016887773,
          1.1923201907397027,
          0.2651753312425627,
          -0.858845471114797,
          -0.6219850919551331,
          0.3507993237467051,
          -1.5098459118210705,
          1.913013961119211,
          0.09978487723239408,
          0.009576411491057068,
          -0.11720616987445373
         ],
         "xaxis": "x12",
         "y": [
          0.5818959601613439,
          0.6635389007014588,
          -0.4650326002158927,
          -0.49563769496187016,
          0.3544326149014103,
          0.032280422153337845,
          1.500194598749117,
          2.0078251618293383,
          1.250331560859558,
          -1.5210260565593223,
          -0.9083896727413385,
          0.09343621622137635,
          1.0770523647661714,
          0.4135650963652773,
          0.18243023661373478,
          1.6017575628860965,
          -0.531874639863994,
          0.7386088731874443,
          -1.299442569668759,
          0.09061907544395652,
          1.3048100282856383,
          0.38363698324233875,
          2.1600291784329193,
          -0.17890225991828895,
          -0.3928507318555888,
          0.5077203804001711,
          -0.17890260246201345,
          0.5325204521149169,
          0.5552064558546723,
          0.9466377884787205,
          -0.5537834734751812,
          -0.9225931378437296,
          -0.8501838556832638,
          -0.31102566975449314,
          0.9836054884214205,
          -0.3681798942114995,
          -0.00361292480589936,
          0.8445803413494956,
          -1.1030888295997967,
          0.741470274969195,
          0.13470395027236978,
          1.2105372702387485,
          1.4510247336250213,
          -0.06799667679769193,
          1.0439059032051308,
          1.2758152618645142,
          -0.28913163689038773,
          0.6403403697547831,
          -0.8382254017862524,
          1.267166140113422,
          -0.19196802549214645,
          1.031205035151707,
          0.26130592536366737,
          0.290049450665771,
          0.3923595253989978,
          -0.07066390600572733,
          -0.13411773124013696,
          -0.5112963030506134,
          0.1523938664586009,
          -0.256666308707275,
          1.9500314401460428,
          0.4451779747728889,
          1.20667494512559,
          1.415453883503099,
          0.4802923215144708,
          -1.5154210487797841,
          -1.1689118109720538,
          -0.855788531435531,
          0.6967714727613341,
          0.13185186209408195,
          1.2545075600604296,
          0.46671735728806,
          1.251738898788601,
          -1.6904602024294255,
          -0.15933874899631892,
          -0.6107249632052028,
          1.0151109662635478,
          -0.4640549522669946,
          -1.3094379739157134,
          -0.1696620985632722,
          0.7264314214654054,
          -0.26821860589869123,
          0.21535758945565767,
          0.2479765322304549,
          0.1635268472902467,
          -0.40118535164143926,
          0.41818817348398535,
          -0.5432858902884837,
          1.2661463403142534,
          0.9221931103564391,
          0.077976495849599,
          0.22879419075920301,
          0.8708459862581537,
          1.369969887640816,
          0.33033096281090457,
          -0.08613149023670989,
          -0.10332444940811221,
          -1.503708056123339,
          0.46157906034337454,
          -0.035597229327674916
         ],
         "yaxis": "y12"
        },
        {
         "line": {
          "color": "rgba(128, 128, 128, 1.0)",
          "dash": "solid",
          "shape": "linear",
          "width": 1.3
         },
         "marker": {
          "size": 2,
          "symbol": "circle"
         },
         "mode": "markers",
         "name": "D",
         "text": "",
         "type": "scatter",
         "x": [
          0.42834336660048555,
          -0.5431130343751923,
          -1.1089003168660925,
          -0.9310734812179945,
          0.7009672118351541,
          0.8814470474168713,
          -0.8407399793698521,
          -0.576893294052475,
          -0.8080703354235872,
          -0.845685394146627,
          1.0546390088298483,
          -1.2167789452198259,
          -0.5793894576537396,
          0.6531820902565525,
          1.1852687270905453,
          2.179059607997261,
          -0.916752595388181,
          0.5616215793465428,
          0.6378222152443052,
          -0.4644285971201103,
          -0.26443495004037043,
          1.2197910519981685,
          -0.09646466921168612,
          -0.13577844238819872,
          -0.3196361512921841,
          -2.3138191266271706,
          1.8776670994205429,
          0.7405974885272778,
          -3.142074285106367,
          -1.472470555300087,
          -0.16340487140345647,
          -0.14795883993457962,
          0.4002683275186483,
          1.2623093249244404,
          -0.13729696811807196,
          -0.4103419566810211,
          0.6309401297310346,
          -2.554433216510306,
          -1.8136787861246852,
          -1.5971638470617107,
          -0.04727848987271,
          -0.9859271975667138,
          -0.5200134096541108,
          -0.1496386173536915,
          -1.692708236163166,
          -0.9861515241881423,
          1.8566766289766876,
          -0.6426894805921634,
          1.3684446007506572,
          1.0303287829607057,
          0.15816602375477531,
          0.6029637904815115,
          0.7020121929344575,
          -0.6534446453808141,
          -0.8819822613338307,
          -0.3725294111302389,
          0.917844776303251,
          2.952904715090055,
          0.563570403972607,
          0.34163541591459934,
          0.24760279926901188,
          0.6853429334592762,
          -0.8871213125118289,
          -0.62447480201159,
          -1.1435009277849852,
          1.3423559897981243,
          -0.6885983903751369,
          -0.6327941965193481,
          1.1382967585537072,
          1.6535942818207383,
          -0.49473872348892395,
          -0.2213077371949228,
          -1.7441809868780074,
          0.33503514683285246,
          1.457920342236441,
          1.1942547194581565,
          1.6048350491365895,
          0.6834991629924438,
          0.5449683729052708,
          -0.09354422620876975,
          -0.7332514853887435,
          -1.2858330647452987,
          -1.6144516726215936,
          0.5491139981272396,
          0.3988004780816497,
          1.1415368511791262,
          0.9103446674267672,
          -0.4302964462779966,
          0.34100207998563,
          1.0883510241965397,
          0.9003232980148024,
          1.0445905659847246,
          0.4609394941132174,
          2.059739333522352,
          -0.8652132010214949,
          0.4132656940423574,
          0.1597976827062007,
          0.8959245972573175,
          0.19935532667623881,
          -1.2631555290890033
         ],
         "xaxis": "x13",
         "y": [
          -1.643043088882501,
          -0.041942842179661495,
          -1.4168472589893575,
          0.846324115048115,
          -1.4454782178892902,
          1.1981126822062262,
          1.1880877809175365,
          -0.9437983238027401,
          0.2791052304301366,
          0.22472421792598693,
          -0.23818077146965422,
          -0.8134865720507752,
          -0.6539235206125001,
          -0.18812153427793674,
          0.10483840484201919,
          -1.1463715001592154,
          0.1525511335932151,
          -0.3333660303849316,
          0.2231423843314657,
          -0.642924646210681,
          1.3868811907592602,
          2.4775413247661118,
          -0.9824378868441533,
          -0.7478323374420225,
          0.1196298646787779,
          0.7584231001525484,
          0.3450095684343771,
          -0.1364555859070283,
          0.031593327237034556,
          0.06416794091502054,
          -1.0314204223621934,
          -0.5880114985436802,
          -0.9309105252363903,
          1.2080624637488204,
          -0.4826883216009362,
          -1.4083635352576558,
          1.9770423094719052,
          -1.1996284585164145,
          0.9825311817596672,
          -1.6455070177339404,
          0.295062994963841,
          -0.7998034733980933,
          -0.15005896232938026,
          -0.6656461269471731,
          0.9465387241306563,
          -0.3621644533838506,
          1.154497360028402,
          0.6355561375336649,
          1.0729479908496042,
          -0.946186348362365,
          0.8035070464021923,
          0.2299619066818497,
          0.2677428976486297,
          0.5441540505336642,
          2.520355422492496,
          -1.8362024335707192,
          0.0752844292503327,
          -0.8217503084813561,
          -0.24059727542653545,
          0.9384132798466748,
          0.5277873135643862,
          -1.515812553399073,
          -0.6654393564758576,
          2.399854029533553,
          -0.34779887432418227,
          0.5360350503453412,
          -0.18810820561818842,
          -0.037994786223414116,
          -0.6004312975798658,
          -1.5865829760206287,
          0.9135093073916315,
          -0.14112121519870538,
          -1.562180258411497,
          0.922870786879138,
          -0.5186716211333601,
          -1.0691183637534747,
          -1.4560288756640534,
          1.8245452402134126,
          -0.07371980105621495,
          -0.24864570933300026,
          0.5080437212536183,
          -1.323997543405784,
          1.9888833530466878,
          -0.9616846288567427,
          0.8399558727218465,
          -0.3521507877335014,
          0.18631604806527377,
          -0.7852573923852917,
          0.09450621074434322,
          -0.25880019016887773,
          1.1923201907397027,
          0.2651753312425627,
          -0.858845471114797,
          -0.6219850919551331,
          0.3507993237467051,
          -1.5098459118210705,
          1.913013961119211,
          0.09978487723239408,
          0.009576411491057068,
          -0.11720616987445373
         ],
         "yaxis": "y13"
        },
        {
         "line": {
          "color": "rgba(128, 128, 128, 1.0)",
          "dash": "solid",
          "shape": "linear",
          "width": 1.3
         },
         "marker": {
          "size": 2,
          "symbol": "circle"
         },
         "mode": "markers",
         "name": "D",
         "text": "",
         "type": "scatter",
         "x": [
          -1.5110962441514955,
          -1.3421231187988822,
          -0.8218709717794145,
          -0.5629676527933162,
          -0.0939803421434012,
          -1.0281015513104197,
          0.3995284548028364,
          0.9763755222555714,
          0.04671111034541469,
          -1.9765101574433694,
          -1.0786291236002599,
          -1.1370525638047173,
          0.6234717853349546,
          0.22736963902127702,
          0.6312271068437805,
          1.898722835344093,
          -1.1841566347480224,
          0.6706380460640187,
          0.46705903160036005,
          0.865784386057344,
          -0.48600102296393116,
          -1.087364794658521,
          -0.46493281327929764,
          0.6645474925732094,
          -0.16064904501671742,
          0.10420018730006272,
          1.3088379168204136,
          0.1421960429541945,
          0.021540205979291894,
          -1.696360096304541,
          0.1020244225904697,
          -1.4488401608216697,
          -0.8435275097409567,
          -0.4903190344160185,
          -0.6167726979776068,
          1.516273713443217,
          -0.8504127889940435,
          -0.6817747858776013,
          1.1428523434547717,
          0.6038809943697726,
          -0.19543354794411882,
          0.05964263107473625,
          0.9886081091818062,
          -1.6851781394957248,
          -0.5385704399566267,
          0.4992709096890342,
          0.8523579261540218,
          -0.036804283670902514,
          0.6753618291437835,
          -0.5658997632303835,
          0.08053411107930569,
          0.46914129922192865,
          -0.14822017594795173,
          0.48477839501296927,
          -2.7740379594780014,
          -0.057824947331366054,
          0.007855445306867293,
          -1.037584910585149,
          -0.234403782400521,
          -0.10043071393199138,
          0.24141096042409843,
          -0.6761136267213637,
          -1.3153681866336913,
          -0.11340787951362206,
          -1.5068080162253386,
          -1.3266258407333442,
          0.008007313205507259,
          -1.4753921403733459,
          0.25353596911295373,
          -0.5618230070321575,
          -0.051296848284010335,
          -1.1064574503295967,
          0.451924472091387,
          0.41623143210306596,
          -0.4126695523135965,
          -0.9246281429196028,
          -1.4234046222503718,
          0.08949143437347688,
          -1.1257961613100143,
          -0.45495471958497263,
          -2.2203979818443966,
          -1.1725235534576335,
          0.7847230953515638,
          1.7650003621711998,
          1.2096931205010761,
          -0.46025502320418904,
          -0.04675734436156397,
          2.2850252000751903,
          0.19569106889942578,
          1.9644722028091561,
          0.3203399145813591,
          0.5512007112953003,
          -0.01795135166725152,
          1.8309718907211967,
          -1.2484429434786146,
          0.8173605905207877,
          -0.11453463647031444,
          1.055310864976655,
          -0.6305387854690183,
          -1.4593607886493545
         ],
         "xaxis": "x14",
         "y": [
          -1.643043088882501,
          -0.041942842179661495,
          -1.4168472589893575,
          0.846324115048115,
          -1.4454782178892902,
          1.1981126822062262,
          1.1880877809175365,
          -0.9437983238027401,
          0.2791052304301366,
          0.22472421792598693,
          -0.23818077146965422,
          -0.8134865720507752,
          -0.6539235206125001,
          -0.18812153427793674,
          0.10483840484201919,
          -1.1463715001592154,
          0.1525511335932151,
          -0.3333660303849316,
          0.2231423843314657,
          -0.642924646210681,
          1.3868811907592602,
          2.4775413247661118,
          -0.9824378868441533,
          -0.7478323374420225,
          0.1196298646787779,
          0.7584231001525484,
          0.3450095684343771,
          -0.1364555859070283,
          0.031593327237034556,
          0.06416794091502054,
          -1.0314204223621934,
          -0.5880114985436802,
          -0.9309105252363903,
          1.2080624637488204,
          -0.4826883216009362,
          -1.4083635352576558,
          1.9770423094719052,
          -1.1996284585164145,
          0.9825311817596672,
          -1.6455070177339404,
          0.295062994963841,
          -0.7998034733980933,
          -0.15005896232938026,
          -0.6656461269471731,
          0.9465387241306563,
          -0.3621644533838506,
          1.154497360028402,
          0.6355561375336649,
          1.0729479908496042,
          -0.946186348362365,
          0.8035070464021923,
          0.2299619066818497,
          0.2677428976486297,
          0.5441540505336642,
          2.520355422492496,
          -1.8362024335707192,
          0.0752844292503327,
          -0.8217503084813561,
          -0.24059727542653545,
          0.9384132798466748,
          0.5277873135643862,
          -1.515812553399073,
          -0.6654393564758576,
          2.399854029533553,
          -0.34779887432418227,
          0.5360350503453412,
          -0.18810820561818842,
          -0.037994786223414116,
          -0.6004312975798658,
          -1.5865829760206287,
          0.9135093073916315,
          -0.14112121519870538,
          -1.562180258411497,
          0.922870786879138,
          -0.5186716211333601,
          -1.0691183637534747,
          -1.4560288756640534,
          1.8245452402134126,
          -0.07371980105621495,
          -0.24864570933300026,
          0.5080437212536183,
          -1.323997543405784,
          1.9888833530466878,
          -0.9616846288567427,
          0.8399558727218465,
          -0.3521507877335014,
          0.18631604806527377,
          -0.7852573923852917,
          0.09450621074434322,
          -0.25880019016887773,
          1.1923201907397027,
          0.2651753312425627,
          -0.858845471114797,
          -0.6219850919551331,
          0.3507993237467051,
          -1.5098459118210705,
          1.913013961119211,
          0.09978487723239408,
          0.009576411491057068,
          -0.11720616987445373
         ],
         "yaxis": "y14"
        },
        {
         "line": {
          "color": "rgba(128, 128, 128, 1.0)",
          "dash": "solid",
          "shape": "linear",
          "width": 1.3
         },
         "marker": {
          "size": 2,
          "symbol": "circle"
         },
         "mode": "markers",
         "name": "D",
         "text": "",
         "type": "scatter",
         "x": [
          0.5818959601613439,
          0.6635389007014588,
          -0.4650326002158927,
          -0.49563769496187016,
          0.3544326149014103,
          0.032280422153337845,
          1.500194598749117,
          2.0078251618293383,
          1.250331560859558,
          -1.5210260565593223,
          -0.9083896727413385,
          0.09343621622137635,
          1.0770523647661714,
          0.4135650963652773,
          0.18243023661373478,
          1.6017575628860965,
          -0.531874639863994,
          0.7386088731874443,
          -1.299442569668759,
          0.09061907544395652,
          1.3048100282856383,
          0.38363698324233875,
          2.1600291784329193,
          -0.17890225991828895,
          -0.3928507318555888,
          0.5077203804001711,
          -0.17890260246201345,
          0.5325204521149169,
          0.5552064558546723,
          0.9466377884787205,
          -0.5537834734751812,
          -0.9225931378437296,
          -0.8501838556832638,
          -0.31102566975449314,
          0.9836054884214205,
          -0.3681798942114995,
          -0.00361292480589936,
          0.8445803413494956,
          -1.1030888295997967,
          0.741470274969195,
          0.13470395027236978,
          1.2105372702387485,
          1.4510247336250213,
          -0.06799667679769193,
          1.0439059032051308,
          1.2758152618645142,
          -0.28913163689038773,
          0.6403403697547831,
          -0.8382254017862524,
          1.267166140113422,
          -0.19196802549214645,
          1.031205035151707,
          0.26130592536366737,
          0.290049450665771,
          0.3923595253989978,
          -0.07066390600572733,
          -0.13411773124013696,
          -0.5112963030506134,
          0.1523938664586009,
          -0.256666308707275,
          1.9500314401460428,
          0.4451779747728889,
          1.20667494512559,
          1.415453883503099,
          0.4802923215144708,
          -1.5154210487797841,
          -1.1689118109720538,
          -0.855788531435531,
          0.6967714727613341,
          0.13185186209408195,
          1.2545075600604296,
          0.46671735728806,
          1.251738898788601,
          -1.6904602024294255,
          -0.15933874899631892,
          -0.6107249632052028,
          1.0151109662635478,
          -0.4640549522669946,
          -1.3094379739157134,
          -0.1696620985632722,
          0.7264314214654054,
          -0.26821860589869123,
          0.21535758945565767,
          0.2479765322304549,
          0.1635268472902467,
          -0.40118535164143926,
          0.41818817348398535,
          -0.5432858902884837,
          1.2661463403142534,
          0.9221931103564391,
          0.077976495849599,
          0.22879419075920301,
          0.8708459862581537,
          1.369969887640816,
          0.33033096281090457,
          -0.08613149023670989,
          -0.10332444940811221,
          -1.503708056123339,
          0.46157906034337454,
          -0.035597229327674916
         ],
         "xaxis": "x15",
         "y": [
          -1.643043088882501,
          -0.041942842179661495,
          -1.4168472589893575,
          0.846324115048115,
          -1.4454782178892902,
          1.1981126822062262,
          1.1880877809175365,
          -0.9437983238027401,
          0.2791052304301366,
          0.22472421792598693,
          -0.23818077146965422,
          -0.8134865720507752,
          -0.6539235206125001,
          -0.18812153427793674,
          0.10483840484201919,
          -1.1463715001592154,
          0.1525511335932151,
          -0.3333660303849316,
          0.2231423843314657,
          -0.642924646210681,
          1.3868811907592602,
          2.4775413247661118,
          -0.9824378868441533,
          -0.7478323374420225,
          0.1196298646787779,
          0.7584231001525484,
          0.3450095684343771,
          -0.1364555859070283,
          0.031593327237034556,
          0.06416794091502054,
          -1.0314204223621934,
          -0.5880114985436802,
          -0.9309105252363903,
          1.2080624637488204,
          -0.4826883216009362,
          -1.4083635352576558,
          1.9770423094719052,
          -1.1996284585164145,
          0.9825311817596672,
          -1.6455070177339404,
          0.295062994963841,
          -0.7998034733980933,
          -0.15005896232938026,
          -0.6656461269471731,
          0.9465387241306563,
          -0.3621644533838506,
          1.154497360028402,
          0.6355561375336649,
          1.0729479908496042,
          -0.946186348362365,
          0.8035070464021923,
          0.2299619066818497,
          0.2677428976486297,
          0.5441540505336642,
          2.520355422492496,
          -1.8362024335707192,
          0.0752844292503327,
          -0.8217503084813561,
          -0.24059727542653545,
          0.9384132798466748,
          0.5277873135643862,
          -1.515812553399073,
          -0.6654393564758576,
          2.399854029533553,
          -0.34779887432418227,
          0.5360350503453412,
          -0.18810820561818842,
          -0.037994786223414116,
          -0.6004312975798658,
          -1.5865829760206287,
          0.9135093073916315,
          -0.14112121519870538,
          -1.562180258411497,
          0.922870786879138,
          -0.5186716211333601,
          -1.0691183637534747,
          -1.4560288756640534,
          1.8245452402134126,
          -0.07371980105621495,
          -0.24864570933300026,
          0.5080437212536183,
          -1.323997543405784,
          1.9888833530466878,
          -0.9616846288567427,
          0.8399558727218465,
          -0.3521507877335014,
          0.18631604806527377,
          -0.7852573923852917,
          0.09450621074434322,
          -0.25880019016887773,
          1.1923201907397027,
          0.2651753312425627,
          -0.858845471114797,
          -0.6219850919551331,
          0.3507993237467051,
          -1.5098459118210705,
          1.913013961119211,
          0.09978487723239408,
          0.009576411491057068,
          -0.11720616987445373
         ],
         "yaxis": "y15"
        },
        {
         "histfunc": "count",
         "histnorm": "",
         "marker": {
          "color": "rgba(128, 0, 128, 1.0)",
          "line": {
           "color": "#4D5663",
           "width": 1.3
          }
         },
         "name": "D",
         "nbinsx": 10,
         "opacity": 0.8,
         "orientation": "v",
         "type": "histogram",
         "x": [
          -1.643043088882501,
          -0.041942842179661495,
          -1.4168472589893575,
          0.846324115048115,
          -1.4454782178892902,
          1.1981126822062262,
          1.1880877809175365,
          -0.9437983238027401,
          0.2791052304301366,
          0.22472421792598693,
          -0.23818077146965422,
          -0.8134865720507752,
          -0.6539235206125001,
          -0.18812153427793674,
          0.10483840484201919,
          -1.1463715001592154,
          0.1525511335932151,
          -0.3333660303849316,
          0.2231423843314657,
          -0.642924646210681,
          1.3868811907592602,
          2.4775413247661118,
          -0.9824378868441533,
          -0.7478323374420225,
          0.1196298646787779,
          0.7584231001525484,
          0.3450095684343771,
          -0.1364555859070283,
          0.031593327237034556,
          0.06416794091502054,
          -1.0314204223621934,
          -0.5880114985436802,
          -0.9309105252363903,
          1.2080624637488204,
          -0.4826883216009362,
          -1.4083635352576558,
          1.9770423094719052,
          -1.1996284585164145,
          0.9825311817596672,
          -1.6455070177339404,
          0.295062994963841,
          -0.7998034733980933,
          -0.15005896232938026,
          -0.6656461269471731,
          0.9465387241306563,
          -0.3621644533838506,
          1.154497360028402,
          0.6355561375336649,
          1.0729479908496042,
          -0.946186348362365,
          0.8035070464021923,
          0.2299619066818497,
          0.2677428976486297,
          0.5441540505336642,
          2.520355422492496,
          -1.8362024335707192,
          0.0752844292503327,
          -0.8217503084813561,
          -0.24059727542653545,
          0.9384132798466748,
          0.5277873135643862,
          -1.515812553399073,
          -0.6654393564758576,
          2.399854029533553,
          -0.34779887432418227,
          0.5360350503453412,
          -0.18810820561818842,
          -0.037994786223414116,
          -0.6004312975798658,
          -1.5865829760206287,
          0.9135093073916315,
          -0.14112121519870538,
          -1.562180258411497,
          0.922870786879138,
          -0.5186716211333601,
          -1.0691183637534747,
          -1.4560288756640534,
          1.8245452402134126,
          -0.07371980105621495,
          -0.24864570933300026,
          0.5080437212536183,
          -1.323997543405784,
          1.9888833530466878,
          -0.9616846288567427,
          0.8399558727218465,
          -0.3521507877335014,
          0.18631604806527377,
          -0.7852573923852917,
          0.09450621074434322,
          -0.25880019016887773,
          1.1923201907397027,
          0.2651753312425627,
          -0.858845471114797,
          -0.6219850919551331,
          0.3507993237467051,
          -1.5098459118210705,
          1.913013961119211,
          0.09978487723239408,
          0.009576411491057068,
          -0.11720616987445373
         ],
         "xaxis": "x16",
         "yaxis": "y16"
        }
       ],
       "layout": {
        "bargap": 0.02,
        "legend": {
         "bgcolor": "#F5F6F9",
         "font": {
          "color": "#4D5663"
         }
        },
        "paper_bgcolor": "#F5F6F9",
        "plot_bgcolor": "#F5F6F9",
        "showlegend": false,
        "template": {
         "data": {
          "bar": [
           {
            "error_x": {
             "color": "#2a3f5f"
            },
            "error_y": {
             "color": "#2a3f5f"
            },
            "marker": {
             "line": {
              "color": "#E5ECF6",
              "width": 0.5
             },
             "pattern": {
              "fillmode": "overlay",
              "size": 10,
              "solidity": 0.2
             }
            },
            "type": "bar"
           }
          ],
          "barpolar": [
           {
            "marker": {
             "line": {
              "color": "#E5ECF6",
              "width": 0.5
             },
             "pattern": {
              "fillmode": "overlay",
              "size": 10,
              "solidity": 0.2
             }
            },
            "type": "barpolar"
           }
          ],
          "carpet": [
           {
            "aaxis": {
             "endlinecolor": "#2a3f5f",
             "gridcolor": "white",
             "linecolor": "white",
             "minorgridcolor": "white",
             "startlinecolor": "#2a3f5f"
            },
            "baxis": {
             "endlinecolor": "#2a3f5f",
             "gridcolor": "white",
             "linecolor": "white",
             "minorgridcolor": "white",
             "startlinecolor": "#2a3f5f"
            },
            "type": "carpet"
           }
          ],
          "choropleth": [
           {
            "colorbar": {
             "outlinewidth": 0,
             "ticks": ""
            },
            "type": "choropleth"
           }
          ],
          "contour": [
           {
            "colorbar": {
             "outlinewidth": 0,
             "ticks": ""
            },
            "colorscale": [
             [
              0,
              "#0d0887"
             ],
             [
              0.1111111111111111,
              "#46039f"
             ],
             [
              0.2222222222222222,
              "#7201a8"
             ],
             [
              0.3333333333333333,
              "#9c179e"
             ],
             [
              0.4444444444444444,
              "#bd3786"
             ],
             [
              0.5555555555555556,
              "#d8576b"
             ],
             [
              0.6666666666666666,
              "#ed7953"
             ],
             [
              0.7777777777777778,
              "#fb9f3a"
             ],
             [
              0.8888888888888888,
              "#fdca26"
             ],
             [
              1,
              "#f0f921"
             ]
            ],
            "type": "contour"
           }
          ],
          "contourcarpet": [
           {
            "colorbar": {
             "outlinewidth": 0,
             "ticks": ""
            },
            "type": "contourcarpet"
           }
          ],
          "heatmap": [
           {
            "colorbar": {
             "outlinewidth": 0,
             "ticks": ""
            },
            "colorscale": [
             [
              0,
              "#0d0887"
             ],
             [
              0.1111111111111111,
              "#46039f"
             ],
             [
              0.2222222222222222,
              "#7201a8"
             ],
             [
              0.3333333333333333,
              "#9c179e"
             ],
             [
              0.4444444444444444,
              "#bd3786"
             ],
             [
              0.5555555555555556,
              "#d8576b"
             ],
             [
              0.6666666666666666,
              "#ed7953"
             ],
             [
              0.7777777777777778,
              "#fb9f3a"
             ],
             [
              0.8888888888888888,
              "#fdca26"
             ],
             [
              1,
              "#f0f921"
             ]
            ],
            "type": "heatmap"
           }
          ],
          "heatmapgl": [
           {
            "colorbar": {
             "outlinewidth": 0,
             "ticks": ""
            },
            "colorscale": [
             [
              0,
              "#0d0887"
             ],
             [
              0.1111111111111111,
              "#46039f"
             ],
             [
              0.2222222222222222,
              "#7201a8"
             ],
             [
              0.3333333333333333,
              "#9c179e"
             ],
             [
              0.4444444444444444,
              "#bd3786"
             ],
             [
              0.5555555555555556,
              "#d8576b"
             ],
             [
              0.6666666666666666,
              "#ed7953"
             ],
             [
              0.7777777777777778,
              "#fb9f3a"
             ],
             [
              0.8888888888888888,
              "#fdca26"
             ],
             [
              1,
              "#f0f921"
             ]
            ],
            "type": "heatmapgl"
           }
          ],
          "histogram": [
           {
            "marker": {
             "pattern": {
              "fillmode": "overlay",
              "size": 10,
              "solidity": 0.2
             }
            },
            "type": "histogram"
           }
          ],
          "histogram2d": [
           {
            "colorbar": {
             "outlinewidth": 0,
             "ticks": ""
            },
            "colorscale": [
             [
              0,
              "#0d0887"
             ],
             [
              0.1111111111111111,
              "#46039f"
             ],
             [
              0.2222222222222222,
              "#7201a8"
             ],
             [
              0.3333333333333333,
              "#9c179e"
             ],
             [
              0.4444444444444444,
              "#bd3786"
             ],
             [
              0.5555555555555556,
              "#d8576b"
             ],
             [
              0.6666666666666666,
              "#ed7953"
             ],
             [
              0.7777777777777778,
              "#fb9f3a"
             ],
             [
              0.8888888888888888,
              "#fdca26"
             ],
             [
              1,
              "#f0f921"
             ]
            ],
            "type": "histogram2d"
           }
          ],
          "histogram2dcontour": [
           {
            "colorbar": {
             "outlinewidth": 0,
             "ticks": ""
            },
            "colorscale": [
             [
              0,
              "#0d0887"
             ],
             [
              0.1111111111111111,
              "#46039f"
             ],
             [
              0.2222222222222222,
              "#7201a8"
             ],
             [
              0.3333333333333333,
              "#9c179e"
             ],
             [
              0.4444444444444444,
              "#bd3786"
             ],
             [
              0.5555555555555556,
              "#d8576b"
             ],
             [
              0.6666666666666666,
              "#ed7953"
             ],
             [
              0.7777777777777778,
              "#fb9f3a"
             ],
             [
              0.8888888888888888,
              "#fdca26"
             ],
             [
              1,
              "#f0f921"
             ]
            ],
            "type": "histogram2dcontour"
           }
          ],
          "mesh3d": [
           {
            "colorbar": {
             "outlinewidth": 0,
             "ticks": ""
            },
            "type": "mesh3d"
           }
          ],
          "parcoords": [
           {
            "line": {
             "colorbar": {
              "outlinewidth": 0,
              "ticks": ""
             }
            },
            "type": "parcoords"
           }
          ],
          "pie": [
           {
            "automargin": true,
            "type": "pie"
           }
          ],
          "scatter": [
           {
            "marker": {
             "colorbar": {
              "outlinewidth": 0,
              "ticks": ""
             }
            },
            "type": "scatter"
           }
          ],
          "scatter3d": [
           {
            "line": {
             "colorbar": {
              "outlinewidth": 0,
              "ticks": ""
             }
            },
            "marker": {
             "colorbar": {
              "outlinewidth": 0,
              "ticks": ""
             }
            },
            "type": "scatter3d"
           }
          ],
          "scattercarpet": [
           {
            "marker": {
             "colorbar": {
              "outlinewidth": 0,
              "ticks": ""
             }
            },
            "type": "scattercarpet"
           }
          ],
          "scattergeo": [
           {
            "marker": {
             "colorbar": {
              "outlinewidth": 0,
              "ticks": ""
             }
            },
            "type": "scattergeo"
           }
          ],
          "scattergl": [
           {
            "marker": {
             "colorbar": {
              "outlinewidth": 0,
              "ticks": ""
             }
            },
            "type": "scattergl"
           }
          ],
          "scattermapbox": [
           {
            "marker": {
             "colorbar": {
              "outlinewidth": 0,
              "ticks": ""
             }
            },
            "type": "scattermapbox"
           }
          ],
          "scatterpolar": [
           {
            "marker": {
             "colorbar": {
              "outlinewidth": 0,
              "ticks": ""
             }
            },
            "type": "scatterpolar"
           }
          ],
          "scatterpolargl": [
           {
            "marker": {
             "colorbar": {
              "outlinewidth": 0,
              "ticks": ""
             }
            },
            "type": "scatterpolargl"
           }
          ],
          "scatterternary": [
           {
            "marker": {
             "colorbar": {
              "outlinewidth": 0,
              "ticks": ""
             }
            },
            "type": "scatterternary"
           }
          ],
          "surface": [
           {
            "colorbar": {
             "outlinewidth": 0,
             "ticks": ""
            },
            "colorscale": [
             [
              0,
              "#0d0887"
             ],
             [
              0.1111111111111111,
              "#46039f"
             ],
             [
              0.2222222222222222,
              "#7201a8"
             ],
             [
              0.3333333333333333,
              "#9c179e"
             ],
             [
              0.4444444444444444,
              "#bd3786"
             ],
             [
              0.5555555555555556,
              "#d8576b"
             ],
             [
              0.6666666666666666,
              "#ed7953"
             ],
             [
              0.7777777777777778,
              "#fb9f3a"
             ],
             [
              0.8888888888888888,
              "#fdca26"
             ],
             [
              1,
              "#f0f921"
             ]
            ],
            "type": "surface"
           }
          ],
          "table": [
           {
            "cells": {
             "fill": {
              "color": "#EBF0F8"
             },
             "line": {
              "color": "white"
             }
            },
            "header": {
             "fill": {
              "color": "#C8D4E3"
             },
             "line": {
              "color": "white"
             }
            },
            "type": "table"
           }
          ]
         },
         "layout": {
          "annotationdefaults": {
           "arrowcolor": "#2a3f5f",
           "arrowhead": 0,
           "arrowwidth": 1
          },
          "autotypenumbers": "strict",
          "coloraxis": {
           "colorbar": {
            "outlinewidth": 0,
            "ticks": ""
           }
          },
          "colorscale": {
           "diverging": [
            [
             0,
             "#8e0152"
            ],
            [
             0.1,
             "#c51b7d"
            ],
            [
             0.2,
             "#de77ae"
            ],
            [
             0.3,
             "#f1b6da"
            ],
            [
             0.4,
             "#fde0ef"
            ],
            [
             0.5,
             "#f7f7f7"
            ],
            [
             0.6,
             "#e6f5d0"
            ],
            [
             0.7,
             "#b8e186"
            ],
            [
             0.8,
             "#7fbc41"
            ],
            [
             0.9,
             "#4d9221"
            ],
            [
             1,
             "#276419"
            ]
           ],
           "sequential": [
            [
             0,
             "#0d0887"
            ],
            [
             0.1111111111111111,
             "#46039f"
            ],
            [
             0.2222222222222222,
             "#7201a8"
            ],
            [
             0.3333333333333333,
             "#9c179e"
            ],
            [
             0.4444444444444444,
             "#bd3786"
            ],
            [
             0.5555555555555556,
             "#d8576b"
            ],
            [
             0.6666666666666666,
             "#ed7953"
            ],
            [
             0.7777777777777778,
             "#fb9f3a"
            ],
            [
             0.8888888888888888,
             "#fdca26"
            ],
            [
             1,
             "#f0f921"
            ]
           ],
           "sequentialminus": [
            [
             0,
             "#0d0887"
            ],
            [
             0.1111111111111111,
             "#46039f"
            ],
            [
             0.2222222222222222,
             "#7201a8"
            ],
            [
             0.3333333333333333,
             "#9c179e"
            ],
            [
             0.4444444444444444,
             "#bd3786"
            ],
            [
             0.5555555555555556,
             "#d8576b"
            ],
            [
             0.6666666666666666,
             "#ed7953"
            ],
            [
             0.7777777777777778,
             "#fb9f3a"
            ],
            [
             0.8888888888888888,
             "#fdca26"
            ],
            [
             1,
             "#f0f921"
            ]
           ]
          },
          "colorway": [
           "#636efa",
           "#EF553B",
           "#00cc96",
           "#ab63fa",
           "#FFA15A",
           "#19d3f3",
           "#FF6692",
           "#B6E880",
           "#FF97FF",
           "#FECB52"
          ],
          "font": {
           "color": "#2a3f5f"
          },
          "geo": {
           "bgcolor": "white",
           "lakecolor": "white",
           "landcolor": "#E5ECF6",
           "showlakes": true,
           "showland": true,
           "subunitcolor": "white"
          },
          "hoverlabel": {
           "align": "left"
          },
          "hovermode": "closest",
          "mapbox": {
           "style": "light"
          },
          "paper_bgcolor": "white",
          "plot_bgcolor": "#E5ECF6",
          "polar": {
           "angularaxis": {
            "gridcolor": "white",
            "linecolor": "white",
            "ticks": ""
           },
           "bgcolor": "#E5ECF6",
           "radialaxis": {
            "gridcolor": "white",
            "linecolor": "white",
            "ticks": ""
           }
          },
          "scene": {
           "xaxis": {
            "backgroundcolor": "#E5ECF6",
            "gridcolor": "white",
            "gridwidth": 2,
            "linecolor": "white",
            "showbackground": true,
            "ticks": "",
            "zerolinecolor": "white"
           },
           "yaxis": {
            "backgroundcolor": "#E5ECF6",
            "gridcolor": "white",
            "gridwidth": 2,
            "linecolor": "white",
            "showbackground": true,
            "ticks": "",
            "zerolinecolor": "white"
           },
           "zaxis": {
            "backgroundcolor": "#E5ECF6",
            "gridcolor": "white",
            "gridwidth": 2,
            "linecolor": "white",
            "showbackground": true,
            "ticks": "",
            "zerolinecolor": "white"
           }
          },
          "shapedefaults": {
           "line": {
            "color": "#2a3f5f"
           }
          },
          "ternary": {
           "aaxis": {
            "gridcolor": "white",
            "linecolor": "white",
            "ticks": ""
           },
           "baxis": {
            "gridcolor": "white",
            "linecolor": "white",
            "ticks": ""
           },
           "bgcolor": "#E5ECF6",
           "caxis": {
            "gridcolor": "white",
            "linecolor": "white",
            "ticks": ""
           }
          },
          "title": {
           "x": 0.05
          },
          "xaxis": {
           "automargin": true,
           "gridcolor": "white",
           "linecolor": "white",
           "ticks": "",
           "title": {
            "standoff": 15
           },
           "zerolinecolor": "white",
           "zerolinewidth": 2
          },
          "yaxis": {
           "automargin": true,
           "gridcolor": "white",
           "linecolor": "white",
           "ticks": "",
           "title": {
            "standoff": 15
           },
           "zerolinecolor": "white",
           "zerolinewidth": 2
          }
         }
        },
        "title": {
         "font": {
          "color": "#4D5663"
         }
        },
        "xaxis": {
         "anchor": "y",
         "domain": [
          0,
          0.2125
         ],
         "gridcolor": "#E1E5ED",
         "showgrid": false,
         "tickfont": {
          "color": "#4D5663"
         },
         "title": {
          "font": {
           "color": "#4D5663"
          },
          "text": ""
         },
         "zerolinecolor": "#E1E5ED"
        },
        "xaxis10": {
         "anchor": "y10",
         "domain": [
          0.2625,
          0.475
         ],
         "gridcolor": "#E1E5ED",
         "showgrid": false,
         "tickfont": {
          "color": "#4D5663"
         },
         "title": {
          "font": {
           "color": "#4D5663"
          },
          "text": ""
         },
         "zerolinecolor": "#E1E5ED"
        },
        "xaxis11": {
         "anchor": "y11",
         "domain": [
          0.525,
          0.7375
         ],
         "gridcolor": "#E1E5ED",
         "showgrid": false,
         "tickfont": {
          "color": "#4D5663"
         },
         "title": {
          "font": {
           "color": "#4D5663"
          },
          "text": ""
         },
         "zerolinecolor": "#E1E5ED"
        },
        "xaxis12": {
         "anchor": "y12",
         "domain": [
          0.7875,
          1
         ],
         "gridcolor": "#E1E5ED",
         "showgrid": false,
         "tickfont": {
          "color": "#4D5663"
         },
         "title": {
          "font": {
           "color": "#4D5663"
          },
          "text": ""
         },
         "zerolinecolor": "#E1E5ED"
        },
        "xaxis13": {
         "anchor": "y13",
         "domain": [
          0,
          0.2125
         ],
         "gridcolor": "#E1E5ED",
         "showgrid": false,
         "tickfont": {
          "color": "#4D5663"
         },
         "title": {
          "font": {
           "color": "#4D5663"
          },
          "text": ""
         },
         "zerolinecolor": "#E1E5ED"
        },
        "xaxis14": {
         "anchor": "y14",
         "domain": [
          0.2625,
          0.475
         ],
         "gridcolor": "#E1E5ED",
         "showgrid": false,
         "tickfont": {
          "color": "#4D5663"
         },
         "title": {
          "font": {
           "color": "#4D5663"
          },
          "text": ""
         },
         "zerolinecolor": "#E1E5ED"
        },
        "xaxis15": {
         "anchor": "y15",
         "domain": [
          0.525,
          0.7375
         ],
         "gridcolor": "#E1E5ED",
         "showgrid": false,
         "tickfont": {
          "color": "#4D5663"
         },
         "title": {
          "font": {
           "color": "#4D5663"
          },
          "text": ""
         },
         "zerolinecolor": "#E1E5ED"
        },
        "xaxis16": {
         "anchor": "y16",
         "domain": [
          0.7875,
          1
         ],
         "gridcolor": "#E1E5ED",
         "showgrid": false,
         "tickfont": {
          "color": "#4D5663"
         },
         "title": {
          "font": {
           "color": "#4D5663"
          },
          "text": ""
         },
         "zerolinecolor": "#E1E5ED"
        },
        "xaxis2": {
         "anchor": "y2",
         "domain": [
          0.2625,
          0.475
         ],
         "gridcolor": "#E1E5ED",
         "showgrid": false,
         "tickfont": {
          "color": "#4D5663"
         },
         "title": {
          "font": {
           "color": "#4D5663"
          },
          "text": ""
         },
         "zerolinecolor": "#E1E5ED"
        },
        "xaxis3": {
         "anchor": "y3",
         "domain": [
          0.525,
          0.7375
         ],
         "gridcolor": "#E1E5ED",
         "showgrid": false,
         "tickfont": {
          "color": "#4D5663"
         },
         "title": {
          "font": {
           "color": "#4D5663"
          },
          "text": ""
         },
         "zerolinecolor": "#E1E5ED"
        },
        "xaxis4": {
         "anchor": "y4",
         "domain": [
          0.7875,
          1
         ],
         "gridcolor": "#E1E5ED",
         "showgrid": false,
         "tickfont": {
          "color": "#4D5663"
         },
         "title": {
          "font": {
           "color": "#4D5663"
          },
          "text": ""
         },
         "zerolinecolor": "#E1E5ED"
        },
        "xaxis5": {
         "anchor": "y5",
         "domain": [
          0,
          0.2125
         ],
         "gridcolor": "#E1E5ED",
         "showgrid": false,
         "tickfont": {
          "color": "#4D5663"
         },
         "title": {
          "font": {
           "color": "#4D5663"
          },
          "text": ""
         },
         "zerolinecolor": "#E1E5ED"
        },
        "xaxis6": {
         "anchor": "y6",
         "domain": [
          0.2625,
          0.475
         ],
         "gridcolor": "#E1E5ED",
         "showgrid": false,
         "tickfont": {
          "color": "#4D5663"
         },
         "title": {
          "font": {
           "color": "#4D5663"
          },
          "text": ""
         },
         "zerolinecolor": "#E1E5ED"
        },
        "xaxis7": {
         "anchor": "y7",
         "domain": [
          0.525,
          0.7375
         ],
         "gridcolor": "#E1E5ED",
         "showgrid": false,
         "tickfont": {
          "color": "#4D5663"
         },
         "title": {
          "font": {
           "color": "#4D5663"
          },
          "text": ""
         },
         "zerolinecolor": "#E1E5ED"
        },
        "xaxis8": {
         "anchor": "y8",
         "domain": [
          0.7875,
          1
         ],
         "gridcolor": "#E1E5ED",
         "showgrid": false,
         "tickfont": {
          "color": "#4D5663"
         },
         "title": {
          "font": {
           "color": "#4D5663"
          },
          "text": ""
         },
         "zerolinecolor": "#E1E5ED"
        },
        "xaxis9": {
         "anchor": "y9",
         "domain": [
          0,
          0.2125
         ],
         "gridcolor": "#E1E5ED",
         "showgrid": false,
         "tickfont": {
          "color": "#4D5663"
         },
         "title": {
          "font": {
           "color": "#4D5663"
          },
          "text": ""
         },
         "zerolinecolor": "#E1E5ED"
        },
        "yaxis": {
         "anchor": "x",
         "domain": [
          0.8025,
          1
         ],
         "gridcolor": "#E1E5ED",
         "showgrid": false,
         "tickfont": {
          "color": "#4D5663"
         },
         "title": {
          "font": {
           "color": "#4D5663"
          },
          "text": ""
         },
         "zerolinecolor": "#E1E5ED"
        },
        "yaxis10": {
         "anchor": "x10",
         "domain": [
          0.2675,
          0.465
         ],
         "gridcolor": "#E1E5ED",
         "showgrid": false,
         "tickfont": {
          "color": "#4D5663"
         },
         "title": {
          "font": {
           "color": "#4D5663"
          },
          "text": ""
         },
         "zerolinecolor": "#E1E5ED"
        },
        "yaxis11": {
         "anchor": "x11",
         "domain": [
          0.2675,
          0.465
         ],
         "gridcolor": "#E1E5ED",
         "showgrid": false,
         "tickfont": {
          "color": "#4D5663"
         },
         "title": {
          "font": {
           "color": "#4D5663"
          },
          "text": ""
         },
         "zerolinecolor": "#E1E5ED"
        },
        "yaxis12": {
         "anchor": "x12",
         "domain": [
          0.2675,
          0.465
         ],
         "gridcolor": "#E1E5ED",
         "showgrid": false,
         "tickfont": {
          "color": "#4D5663"
         },
         "title": {
          "font": {
           "color": "#4D5663"
          },
          "text": ""
         },
         "zerolinecolor": "#E1E5ED"
        },
        "yaxis13": {
         "anchor": "x13",
         "domain": [
          0,
          0.1975
         ],
         "gridcolor": "#E1E5ED",
         "showgrid": false,
         "tickfont": {
          "color": "#4D5663"
         },
         "title": {
          "font": {
           "color": "#4D5663"
          },
          "text": ""
         },
         "zerolinecolor": "#E1E5ED"
        },
        "yaxis14": {
         "anchor": "x14",
         "domain": [
          0,
          0.1975
         ],
         "gridcolor": "#E1E5ED",
         "showgrid": false,
         "tickfont": {
          "color": "#4D5663"
         },
         "title": {
          "font": {
           "color": "#4D5663"
          },
          "text": ""
         },
         "zerolinecolor": "#E1E5ED"
        },
        "yaxis15": {
         "anchor": "x15",
         "domain": [
          0,
          0.1975
         ],
         "gridcolor": "#E1E5ED",
         "showgrid": false,
         "tickfont": {
          "color": "#4D5663"
         },
         "title": {
          "font": {
           "color": "#4D5663"
          },
          "text": ""
         },
         "zerolinecolor": "#E1E5ED"
        },
        "yaxis16": {
         "anchor": "x16",
         "domain": [
          0,
          0.1975
         ],
         "gridcolor": "#E1E5ED",
         "showgrid": false,
         "tickfont": {
          "color": "#4D5663"
         },
         "title": {
          "font": {
           "color": "#4D5663"
          },
          "text": ""
         },
         "zerolinecolor": "#E1E5ED"
        },
        "yaxis2": {
         "anchor": "x2",
         "domain": [
          0.8025,
          1
         ],
         "gridcolor": "#E1E5ED",
         "showgrid": false,
         "tickfont": {
          "color": "#4D5663"
         },
         "title": {
          "font": {
           "color": "#4D5663"
          },
          "text": ""
         },
         "zerolinecolor": "#E1E5ED"
        },
        "yaxis3": {
         "anchor": "x3",
         "domain": [
          0.8025,
          1
         ],
         "gridcolor": "#E1E5ED",
         "showgrid": false,
         "tickfont": {
          "color": "#4D5663"
         },
         "title": {
          "font": {
           "color": "#4D5663"
          },
          "text": ""
         },
         "zerolinecolor": "#E1E5ED"
        },
        "yaxis4": {
         "anchor": "x4",
         "domain": [
          0.8025,
          1
         ],
         "gridcolor": "#E1E5ED",
         "showgrid": false,
         "tickfont": {
          "color": "#4D5663"
         },
         "title": {
          "font": {
           "color": "#4D5663"
          },
          "text": ""
         },
         "zerolinecolor": "#E1E5ED"
        },
        "yaxis5": {
         "anchor": "x5",
         "domain": [
          0.535,
          0.7325
         ],
         "gridcolor": "#E1E5ED",
         "showgrid": false,
         "tickfont": {
          "color": "#4D5663"
         },
         "title": {
          "font": {
           "color": "#4D5663"
          },
          "text": ""
         },
         "zerolinecolor": "#E1E5ED"
        },
        "yaxis6": {
         "anchor": "x6",
         "domain": [
          0.535,
          0.7325
         ],
         "gridcolor": "#E1E5ED",
         "showgrid": false,
         "tickfont": {
          "color": "#4D5663"
         },
         "title": {
          "font": {
           "color": "#4D5663"
          },
          "text": ""
         },
         "zerolinecolor": "#E1E5ED"
        },
        "yaxis7": {
         "anchor": "x7",
         "domain": [
          0.535,
          0.7325
         ],
         "gridcolor": "#E1E5ED",
         "showgrid": false,
         "tickfont": {
          "color": "#4D5663"
         },
         "title": {
          "font": {
           "color": "#4D5663"
          },
          "text": ""
         },
         "zerolinecolor": "#E1E5ED"
        },
        "yaxis8": {
         "anchor": "x8",
         "domain": [
          0.535,
          0.7325
         ],
         "gridcolor": "#E1E5ED",
         "showgrid": false,
         "tickfont": {
          "color": "#4D5663"
         },
         "title": {
          "font": {
           "color": "#4D5663"
          },
          "text": ""
         },
         "zerolinecolor": "#E1E5ED"
        },
        "yaxis9": {
         "anchor": "x9",
         "domain": [
          0.2675,
          0.465
         ],
         "gridcolor": "#E1E5ED",
         "showgrid": false,
         "tickfont": {
          "color": "#4D5663"
         },
         "title": {
          "font": {
           "color": "#4D5663"
          },
          "text": ""
         },
         "zerolinecolor": "#E1E5ED"
        }
       }
      },
      "text/html": [
       "<div>                            <div id=\"88dd300a-6b67-40d4-8b2f-3229c236bec9\" class=\"plotly-graph-div\" style=\"height:525px; width:100%;\"></div>            <script type=\"text/javascript\">                require([\"plotly\"], function(Plotly) {                    window.PLOTLYENV=window.PLOTLYENV || {};\n",
       "                    window.PLOTLYENV.BASE_URL='https://plot.ly';                                    if (document.getElementById(\"88dd300a-6b67-40d4-8b2f-3229c236bec9\")) {                    Plotly.newPlot(                        \"88dd300a-6b67-40d4-8b2f-3229c236bec9\",                        [{\"histfunc\":\"count\",\"histnorm\":\"\",\"marker\":{\"color\":\"rgba(255, 153, 51, 1.0)\",\"line\":{\"color\":\"#4D5663\",\"width\":1.3}},\"name\":\"A\",\"nbinsx\":10,\"opacity\":0.8,\"orientation\":\"v\",\"x\":[0.42834336660048555,-0.5431130343751923,-1.1089003168660925,-0.9310734812179945,0.7009672118351541,0.8814470474168713,-0.8407399793698521,-0.576893294052475,-0.8080703354235872,-0.845685394146627,1.0546390088298483,-1.2167789452198259,-0.5793894576537396,0.6531820902565525,1.1852687270905453,2.179059607997261,-0.916752595388181,0.5616215793465428,0.6378222152443052,-0.4644285971201103,-0.26443495004037043,1.2197910519981685,-0.09646466921168612,-0.13577844238819872,-0.3196361512921841,-2.3138191266271706,1.8776670994205429,0.7405974885272778,-3.142074285106367,-1.472470555300087,-0.16340487140345647,-0.14795883993457962,0.4002683275186483,1.2623093249244404,-0.13729696811807196,-0.4103419566810211,0.6309401297310346,-2.554433216510306,-1.8136787861246852,-1.5971638470617107,-0.04727848987271,-0.9859271975667138,-0.5200134096541108,-0.1496386173536915,-1.692708236163166,-0.9861515241881423,1.8566766289766876,-0.6426894805921634,1.3684446007506572,1.0303287829607057,0.15816602375477531,0.6029637904815115,0.7020121929344575,-0.6534446453808141,-0.8819822613338307,-0.3725294111302389,0.917844776303251,2.952904715090055,0.563570403972607,0.34163541591459934,0.24760279926901188,0.6853429334592762,-0.8871213125118289,-0.62447480201159,-1.1435009277849852,1.3423559897981243,-0.6885983903751369,-0.6327941965193481,1.1382967585537072,1.6535942818207383,-0.49473872348892395,-0.2213077371949228,-1.7441809868780074,0.33503514683285246,1.457920342236441,1.1942547194581565,1.6048350491365895,0.6834991629924438,0.5449683729052708,-0.09354422620876975,-0.7332514853887435,-1.2858330647452987,-1.6144516726215936,0.5491139981272396,0.3988004780816497,1.1415368511791262,0.9103446674267672,-0.4302964462779966,0.34100207998563,1.0883510241965397,0.9003232980148024,1.0445905659847246,0.4609394941132174,2.059739333522352,-0.8652132010214949,0.4132656940423574,0.1597976827062007,0.8959245972573175,0.19935532667623881,-1.2631555290890033],\"xaxis\":\"x\",\"yaxis\":\"y\",\"type\":\"histogram\"},{\"line\":{\"color\":\"rgba(128, 128, 128, 1.0)\",\"dash\":\"solid\",\"shape\":\"linear\",\"width\":1.3},\"marker\":{\"size\":2,\"symbol\":\"circle\"},\"mode\":\"markers\",\"name\":\"A\",\"text\":\"\",\"x\":[-1.5110962441514955,-1.3421231187988822,-0.8218709717794145,-0.5629676527933162,-0.0939803421434012,-1.0281015513104197,0.3995284548028364,0.9763755222555714,0.04671111034541469,-1.9765101574433694,-1.0786291236002599,-1.1370525638047173,0.6234717853349546,0.22736963902127702,0.6312271068437805,1.898722835344093,-1.1841566347480224,0.6706380460640187,0.46705903160036005,0.865784386057344,-0.48600102296393116,-1.087364794658521,-0.46493281327929764,0.6645474925732094,-0.16064904501671742,0.10420018730006272,1.3088379168204136,0.1421960429541945,0.021540205979291894,-1.696360096304541,0.1020244225904697,-1.4488401608216697,-0.8435275097409567,-0.4903190344160185,-0.6167726979776068,1.516273713443217,-0.8504127889940435,-0.6817747858776013,1.1428523434547717,0.6038809943697726,-0.19543354794411882,0.05964263107473625,0.9886081091818062,-1.6851781394957248,-0.5385704399566267,0.4992709096890342,0.8523579261540218,-0.036804283670902514,0.6753618291437835,-0.5658997632303835,0.08053411107930569,0.46914129922192865,-0.14822017594795173,0.48477839501296927,-2.7740379594780014,-0.057824947331366054,0.007855445306867293,-1.037584910585149,-0.234403782400521,-0.10043071393199138,0.24141096042409843,-0.6761136267213637,-1.3153681866336913,-0.11340787951362206,-1.5068080162253386,-1.3266258407333442,0.008007313205507259,-1.4753921403733459,0.25353596911295373,-0.5618230070321575,-0.051296848284010335,-1.1064574503295967,0.451924472091387,0.41623143210306596,-0.4126695523135965,-0.9246281429196028,-1.4234046222503718,0.08949143437347688,-1.1257961613100143,-0.45495471958497263,-2.2203979818443966,-1.1725235534576335,0.7847230953515638,1.7650003621711998,1.2096931205010761,-0.46025502320418904,-0.04675734436156397,2.2850252000751903,0.19569106889942578,1.9644722028091561,0.3203399145813591,0.5512007112953003,-0.01795135166725152,1.8309718907211967,-1.2484429434786146,0.8173605905207877,-0.11453463647031444,1.055310864976655,-0.6305387854690183,-1.4593607886493545],\"xaxis\":\"x2\",\"y\":[0.42834336660048555,-0.5431130343751923,-1.1089003168660925,-0.9310734812179945,0.7009672118351541,0.8814470474168713,-0.8407399793698521,-0.576893294052475,-0.8080703354235872,-0.845685394146627,1.0546390088298483,-1.2167789452198259,-0.5793894576537396,0.6531820902565525,1.1852687270905453,2.179059607997261,-0.916752595388181,0.5616215793465428,0.6378222152443052,-0.4644285971201103,-0.26443495004037043,1.2197910519981685,-0.09646466921168612,-0.13577844238819872,-0.3196361512921841,-2.3138191266271706,1.8776670994205429,0.7405974885272778,-3.142074285106367,-1.472470555300087,-0.16340487140345647,-0.14795883993457962,0.4002683275186483,1.2623093249244404,-0.13729696811807196,-0.4103419566810211,0.6309401297310346,-2.554433216510306,-1.8136787861246852,-1.5971638470617107,-0.04727848987271,-0.9859271975667138,-0.5200134096541108,-0.1496386173536915,-1.692708236163166,-0.9861515241881423,1.8566766289766876,-0.6426894805921634,1.3684446007506572,1.0303287829607057,0.15816602375477531,0.6029637904815115,0.7020121929344575,-0.6534446453808141,-0.8819822613338307,-0.3725294111302389,0.917844776303251,2.952904715090055,0.563570403972607,0.34163541591459934,0.24760279926901188,0.6853429334592762,-0.8871213125118289,-0.62447480201159,-1.1435009277849852,1.3423559897981243,-0.6885983903751369,-0.6327941965193481,1.1382967585537072,1.6535942818207383,-0.49473872348892395,-0.2213077371949228,-1.7441809868780074,0.33503514683285246,1.457920342236441,1.1942547194581565,1.6048350491365895,0.6834991629924438,0.5449683729052708,-0.09354422620876975,-0.7332514853887435,-1.2858330647452987,-1.6144516726215936,0.5491139981272396,0.3988004780816497,1.1415368511791262,0.9103446674267672,-0.4302964462779966,0.34100207998563,1.0883510241965397,0.9003232980148024,1.0445905659847246,0.4609394941132174,2.059739333522352,-0.8652132010214949,0.4132656940423574,0.1597976827062007,0.8959245972573175,0.19935532667623881,-1.2631555290890033],\"yaxis\":\"y2\",\"type\":\"scatter\"},{\"line\":{\"color\":\"rgba(128, 128, 128, 1.0)\",\"dash\":\"solid\",\"shape\":\"linear\",\"width\":1.3},\"marker\":{\"size\":2,\"symbol\":\"circle\"},\"mode\":\"markers\",\"name\":\"A\",\"text\":\"\",\"x\":[0.5818959601613439,0.6635389007014588,-0.4650326002158927,-0.49563769496187016,0.3544326149014103,0.032280422153337845,1.500194598749117,2.0078251618293383,1.250331560859558,-1.5210260565593223,-0.9083896727413385,0.09343621622137635,1.0770523647661714,0.4135650963652773,0.18243023661373478,1.6017575628860965,-0.531874639863994,0.7386088731874443,-1.299442569668759,0.09061907544395652,1.3048100282856383,0.38363698324233875,2.1600291784329193,-0.17890225991828895,-0.3928507318555888,0.5077203804001711,-0.17890260246201345,0.5325204521149169,0.5552064558546723,0.9466377884787205,-0.5537834734751812,-0.9225931378437296,-0.8501838556832638,-0.31102566975449314,0.9836054884214205,-0.3681798942114995,-0.00361292480589936,0.8445803413494956,-1.1030888295997967,0.741470274969195,0.13470395027236978,1.2105372702387485,1.4510247336250213,-0.06799667679769193,1.0439059032051308,1.2758152618645142,-0.28913163689038773,0.6403403697547831,-0.8382254017862524,1.267166140113422,-0.19196802549214645,1.031205035151707,0.26130592536366737,0.290049450665771,0.3923595253989978,-0.07066390600572733,-0.13411773124013696,-0.5112963030506134,0.1523938664586009,-0.256666308707275,1.9500314401460428,0.4451779747728889,1.20667494512559,1.415453883503099,0.4802923215144708,-1.5154210487797841,-1.1689118109720538,-0.855788531435531,0.6967714727613341,0.13185186209408195,1.2545075600604296,0.46671735728806,1.251738898788601,-1.6904602024294255,-0.15933874899631892,-0.6107249632052028,1.0151109662635478,-0.4640549522669946,-1.3094379739157134,-0.1696620985632722,0.7264314214654054,-0.26821860589869123,0.21535758945565767,0.2479765322304549,0.1635268472902467,-0.40118535164143926,0.41818817348398535,-0.5432858902884837,1.2661463403142534,0.9221931103564391,0.077976495849599,0.22879419075920301,0.8708459862581537,1.369969887640816,0.33033096281090457,-0.08613149023670989,-0.10332444940811221,-1.503708056123339,0.46157906034337454,-0.035597229327674916],\"xaxis\":\"x3\",\"y\":[0.42834336660048555,-0.5431130343751923,-1.1089003168660925,-0.9310734812179945,0.7009672118351541,0.8814470474168713,-0.8407399793698521,-0.576893294052475,-0.8080703354235872,-0.845685394146627,1.0546390088298483,-1.2167789452198259,-0.5793894576537396,0.6531820902565525,1.1852687270905453,2.179059607997261,-0.916752595388181,0.5616215793465428,0.6378222152443052,-0.4644285971201103,-0.26443495004037043,1.2197910519981685,-0.09646466921168612,-0.13577844238819872,-0.3196361512921841,-2.3138191266271706,1.8776670994205429,0.7405974885272778,-3.142074285106367,-1.472470555300087,-0.16340487140345647,-0.14795883993457962,0.4002683275186483,1.2623093249244404,-0.13729696811807196,-0.4103419566810211,0.6309401297310346,-2.554433216510306,-1.8136787861246852,-1.5971638470617107,-0.04727848987271,-0.9859271975667138,-0.5200134096541108,-0.1496386173536915,-1.692708236163166,-0.9861515241881423,1.8566766289766876,-0.6426894805921634,1.3684446007506572,1.0303287829607057,0.15816602375477531,0.6029637904815115,0.7020121929344575,-0.6534446453808141,-0.8819822613338307,-0.3725294111302389,0.917844776303251,2.952904715090055,0.563570403972607,0.34163541591459934,0.24760279926901188,0.6853429334592762,-0.8871213125118289,-0.62447480201159,-1.1435009277849852,1.3423559897981243,-0.6885983903751369,-0.6327941965193481,1.1382967585537072,1.6535942818207383,-0.49473872348892395,-0.2213077371949228,-1.7441809868780074,0.33503514683285246,1.457920342236441,1.1942547194581565,1.6048350491365895,0.6834991629924438,0.5449683729052708,-0.09354422620876975,-0.7332514853887435,-1.2858330647452987,-1.6144516726215936,0.5491139981272396,0.3988004780816497,1.1415368511791262,0.9103446674267672,-0.4302964462779966,0.34100207998563,1.0883510241965397,0.9003232980148024,1.0445905659847246,0.4609394941132174,2.059739333522352,-0.8652132010214949,0.4132656940423574,0.1597976827062007,0.8959245972573175,0.19935532667623881,-1.2631555290890033],\"yaxis\":\"y3\",\"type\":\"scatter\"},{\"line\":{\"color\":\"rgba(128, 128, 128, 1.0)\",\"dash\":\"solid\",\"shape\":\"linear\",\"width\":1.3},\"marker\":{\"size\":2,\"symbol\":\"circle\"},\"mode\":\"markers\",\"name\":\"A\",\"text\":\"\",\"x\":[-1.643043088882501,-0.041942842179661495,-1.4168472589893575,0.846324115048115,-1.4454782178892902,1.1981126822062262,1.1880877809175365,-0.9437983238027401,0.2791052304301366,0.22472421792598693,-0.23818077146965422,-0.8134865720507752,-0.6539235206125001,-0.18812153427793674,0.10483840484201919,-1.1463715001592154,0.1525511335932151,-0.3333660303849316,0.2231423843314657,-0.642924646210681,1.3868811907592602,2.4775413247661118,-0.9824378868441533,-0.7478323374420225,0.1196298646787779,0.7584231001525484,0.3450095684343771,-0.1364555859070283,0.031593327237034556,0.06416794091502054,-1.0314204223621934,-0.5880114985436802,-0.9309105252363903,1.2080624637488204,-0.4826883216009362,-1.4083635352576558,1.9770423094719052,-1.1996284585164145,0.9825311817596672,-1.6455070177339404,0.295062994963841,-0.7998034733980933,-0.15005896232938026,-0.6656461269471731,0.9465387241306563,-0.3621644533838506,1.154497360028402,0.6355561375336649,1.0729479908496042,-0.946186348362365,0.8035070464021923,0.2299619066818497,0.2677428976486297,0.5441540505336642,2.520355422492496,-1.8362024335707192,0.0752844292503327,-0.8217503084813561,-0.24059727542653545,0.9384132798466748,0.5277873135643862,-1.515812553399073,-0.6654393564758576,2.399854029533553,-0.34779887432418227,0.5360350503453412,-0.18810820561818842,-0.037994786223414116,-0.6004312975798658,-1.5865829760206287,0.9135093073916315,-0.14112121519870538,-1.562180258411497,0.922870786879138,-0.5186716211333601,-1.0691183637534747,-1.4560288756640534,1.8245452402134126,-0.07371980105621495,-0.24864570933300026,0.5080437212536183,-1.323997543405784,1.9888833530466878,-0.9616846288567427,0.8399558727218465,-0.3521507877335014,0.18631604806527377,-0.7852573923852917,0.09450621074434322,-0.25880019016887773,1.1923201907397027,0.2651753312425627,-0.858845471114797,-0.6219850919551331,0.3507993237467051,-1.5098459118210705,1.913013961119211,0.09978487723239408,0.009576411491057068,-0.11720616987445373],\"xaxis\":\"x4\",\"y\":[0.42834336660048555,-0.5431130343751923,-1.1089003168660925,-0.9310734812179945,0.7009672118351541,0.8814470474168713,-0.8407399793698521,-0.576893294052475,-0.8080703354235872,-0.845685394146627,1.0546390088298483,-1.2167789452198259,-0.5793894576537396,0.6531820902565525,1.1852687270905453,2.179059607997261,-0.916752595388181,0.5616215793465428,0.6378222152443052,-0.4644285971201103,-0.26443495004037043,1.2197910519981685,-0.09646466921168612,-0.13577844238819872,-0.3196361512921841,-2.3138191266271706,1.8776670994205429,0.7405974885272778,-3.142074285106367,-1.472470555300087,-0.16340487140345647,-0.14795883993457962,0.4002683275186483,1.2623093249244404,-0.13729696811807196,-0.4103419566810211,0.6309401297310346,-2.554433216510306,-1.8136787861246852,-1.5971638470617107,-0.04727848987271,-0.9859271975667138,-0.5200134096541108,-0.1496386173536915,-1.692708236163166,-0.9861515241881423,1.8566766289766876,-0.6426894805921634,1.3684446007506572,1.0303287829607057,0.15816602375477531,0.6029637904815115,0.7020121929344575,-0.6534446453808141,-0.8819822613338307,-0.3725294111302389,0.917844776303251,2.952904715090055,0.563570403972607,0.34163541591459934,0.24760279926901188,0.6853429334592762,-0.8871213125118289,-0.62447480201159,-1.1435009277849852,1.3423559897981243,-0.6885983903751369,-0.6327941965193481,1.1382967585537072,1.6535942818207383,-0.49473872348892395,-0.2213077371949228,-1.7441809868780074,0.33503514683285246,1.457920342236441,1.1942547194581565,1.6048350491365895,0.6834991629924438,0.5449683729052708,-0.09354422620876975,-0.7332514853887435,-1.2858330647452987,-1.6144516726215936,0.5491139981272396,0.3988004780816497,1.1415368511791262,0.9103446674267672,-0.4302964462779966,0.34100207998563,1.0883510241965397,0.9003232980148024,1.0445905659847246,0.4609394941132174,2.059739333522352,-0.8652132010214949,0.4132656940423574,0.1597976827062007,0.8959245972573175,0.19935532667623881,-1.2631555290890033],\"yaxis\":\"y4\",\"type\":\"scatter\"},{\"line\":{\"color\":\"rgba(128, 128, 128, 1.0)\",\"dash\":\"solid\",\"shape\":\"linear\",\"width\":1.3},\"marker\":{\"size\":2,\"symbol\":\"circle\"},\"mode\":\"markers\",\"name\":\"B\",\"text\":\"\",\"x\":[0.42834336660048555,-0.5431130343751923,-1.1089003168660925,-0.9310734812179945,0.7009672118351541,0.8814470474168713,-0.8407399793698521,-0.576893294052475,-0.8080703354235872,-0.845685394146627,1.0546390088298483,-1.2167789452198259,-0.5793894576537396,0.6531820902565525,1.1852687270905453,2.179059607997261,-0.916752595388181,0.5616215793465428,0.6378222152443052,-0.4644285971201103,-0.26443495004037043,1.2197910519981685,-0.09646466921168612,-0.13577844238819872,-0.3196361512921841,-2.3138191266271706,1.8776670994205429,0.7405974885272778,-3.142074285106367,-1.472470555300087,-0.16340487140345647,-0.14795883993457962,0.4002683275186483,1.2623093249244404,-0.13729696811807196,-0.4103419566810211,0.6309401297310346,-2.554433216510306,-1.8136787861246852,-1.5971638470617107,-0.04727848987271,-0.9859271975667138,-0.5200134096541108,-0.1496386173536915,-1.692708236163166,-0.9861515241881423,1.8566766289766876,-0.6426894805921634,1.3684446007506572,1.0303287829607057,0.15816602375477531,0.6029637904815115,0.7020121929344575,-0.6534446453808141,-0.8819822613338307,-0.3725294111302389,0.917844776303251,2.952904715090055,0.563570403972607,0.34163541591459934,0.24760279926901188,0.6853429334592762,-0.8871213125118289,-0.62447480201159,-1.1435009277849852,1.3423559897981243,-0.6885983903751369,-0.6327941965193481,1.1382967585537072,1.6535942818207383,-0.49473872348892395,-0.2213077371949228,-1.7441809868780074,0.33503514683285246,1.457920342236441,1.1942547194581565,1.6048350491365895,0.6834991629924438,0.5449683729052708,-0.09354422620876975,-0.7332514853887435,-1.2858330647452987,-1.6144516726215936,0.5491139981272396,0.3988004780816497,1.1415368511791262,0.9103446674267672,-0.4302964462779966,0.34100207998563,1.0883510241965397,0.9003232980148024,1.0445905659847246,0.4609394941132174,2.059739333522352,-0.8652132010214949,0.4132656940423574,0.1597976827062007,0.8959245972573175,0.19935532667623881,-1.2631555290890033],\"xaxis\":\"x5\",\"y\":[-1.5110962441514955,-1.3421231187988822,-0.8218709717794145,-0.5629676527933162,-0.0939803421434012,-1.0281015513104197,0.3995284548028364,0.9763755222555714,0.04671111034541469,-1.9765101574433694,-1.0786291236002599,-1.1370525638047173,0.6234717853349546,0.22736963902127702,0.6312271068437805,1.898722835344093,-1.1841566347480224,0.6706380460640187,0.46705903160036005,0.865784386057344,-0.48600102296393116,-1.087364794658521,-0.46493281327929764,0.6645474925732094,-0.16064904501671742,0.10420018730006272,1.3088379168204136,0.1421960429541945,0.021540205979291894,-1.696360096304541,0.1020244225904697,-1.4488401608216697,-0.8435275097409567,-0.4903190344160185,-0.6167726979776068,1.516273713443217,-0.8504127889940435,-0.6817747858776013,1.1428523434547717,0.6038809943697726,-0.19543354794411882,0.05964263107473625,0.9886081091818062,-1.6851781394957248,-0.5385704399566267,0.4992709096890342,0.8523579261540218,-0.036804283670902514,0.6753618291437835,-0.5658997632303835,0.08053411107930569,0.46914129922192865,-0.14822017594795173,0.48477839501296927,-2.7740379594780014,-0.057824947331366054,0.007855445306867293,-1.037584910585149,-0.234403782400521,-0.10043071393199138,0.24141096042409843,-0.6761136267213637,-1.3153681866336913,-0.11340787951362206,-1.5068080162253386,-1.3266258407333442,0.008007313205507259,-1.4753921403733459,0.25353596911295373,-0.5618230070321575,-0.051296848284010335,-1.1064574503295967,0.451924472091387,0.41623143210306596,-0.4126695523135965,-0.9246281429196028,-1.4234046222503718,0.08949143437347688,-1.1257961613100143,-0.45495471958497263,-2.2203979818443966,-1.1725235534576335,0.7847230953515638,1.7650003621711998,1.2096931205010761,-0.46025502320418904,-0.04675734436156397,2.2850252000751903,0.19569106889942578,1.9644722028091561,0.3203399145813591,0.5512007112953003,-0.01795135166725152,1.8309718907211967,-1.2484429434786146,0.8173605905207877,-0.11453463647031444,1.055310864976655,-0.6305387854690183,-1.4593607886493545],\"yaxis\":\"y5\",\"type\":\"scatter\"},{\"histfunc\":\"count\",\"histnorm\":\"\",\"marker\":{\"color\":\"rgba(55, 128, 191, 1.0)\",\"line\":{\"color\":\"#4D5663\",\"width\":1.3}},\"name\":\"B\",\"nbinsx\":10,\"opacity\":0.8,\"orientation\":\"v\",\"x\":[-1.5110962441514955,-1.3421231187988822,-0.8218709717794145,-0.5629676527933162,-0.0939803421434012,-1.0281015513104197,0.3995284548028364,0.9763755222555714,0.04671111034541469,-1.9765101574433694,-1.0786291236002599,-1.1370525638047173,0.6234717853349546,0.22736963902127702,0.6312271068437805,1.898722835344093,-1.1841566347480224,0.6706380460640187,0.46705903160036005,0.865784386057344,-0.48600102296393116,-1.087364794658521,-0.46493281327929764,0.6645474925732094,-0.16064904501671742,0.10420018730006272,1.3088379168204136,0.1421960429541945,0.021540205979291894,-1.696360096304541,0.1020244225904697,-1.4488401608216697,-0.8435275097409567,-0.4903190344160185,-0.6167726979776068,1.516273713443217,-0.8504127889940435,-0.6817747858776013,1.1428523434547717,0.6038809943697726,-0.19543354794411882,0.05964263107473625,0.9886081091818062,-1.6851781394957248,-0.5385704399566267,0.4992709096890342,0.8523579261540218,-0.036804283670902514,0.6753618291437835,-0.5658997632303835,0.08053411107930569,0.46914129922192865,-0.14822017594795173,0.48477839501296927,-2.7740379594780014,-0.057824947331366054,0.007855445306867293,-1.037584910585149,-0.234403782400521,-0.10043071393199138,0.24141096042409843,-0.6761136267213637,-1.3153681866336913,-0.11340787951362206,-1.5068080162253386,-1.3266258407333442,0.008007313205507259,-1.4753921403733459,0.25353596911295373,-0.5618230070321575,-0.051296848284010335,-1.1064574503295967,0.451924472091387,0.41623143210306596,-0.4126695523135965,-0.9246281429196028,-1.4234046222503718,0.08949143437347688,-1.1257961613100143,-0.45495471958497263,-2.2203979818443966,-1.1725235534576335,0.7847230953515638,1.7650003621711998,1.2096931205010761,-0.46025502320418904,-0.04675734436156397,2.2850252000751903,0.19569106889942578,1.9644722028091561,0.3203399145813591,0.5512007112953003,-0.01795135166725152,1.8309718907211967,-1.2484429434786146,0.8173605905207877,-0.11453463647031444,1.055310864976655,-0.6305387854690183,-1.4593607886493545],\"xaxis\":\"x6\",\"yaxis\":\"y6\",\"type\":\"histogram\"},{\"line\":{\"color\":\"rgba(128, 128, 128, 1.0)\",\"dash\":\"solid\",\"shape\":\"linear\",\"width\":1.3},\"marker\":{\"size\":2,\"symbol\":\"circle\"},\"mode\":\"markers\",\"name\":\"B\",\"text\":\"\",\"x\":[0.5818959601613439,0.6635389007014588,-0.4650326002158927,-0.49563769496187016,0.3544326149014103,0.032280422153337845,1.500194598749117,2.0078251618293383,1.250331560859558,-1.5210260565593223,-0.9083896727413385,0.09343621622137635,1.0770523647661714,0.4135650963652773,0.18243023661373478,1.6017575628860965,-0.531874639863994,0.7386088731874443,-1.299442569668759,0.09061907544395652,1.3048100282856383,0.38363698324233875,2.1600291784329193,-0.17890225991828895,-0.3928507318555888,0.5077203804001711,-0.17890260246201345,0.5325204521149169,0.5552064558546723,0.9466377884787205,-0.5537834734751812,-0.9225931378437296,-0.8501838556832638,-0.31102566975449314,0.9836054884214205,-0.3681798942114995,-0.00361292480589936,0.8445803413494956,-1.1030888295997967,0.741470274969195,0.13470395027236978,1.2105372702387485,1.4510247336250213,-0.06799667679769193,1.0439059032051308,1.2758152618645142,-0.28913163689038773,0.6403403697547831,-0.8382254017862524,1.267166140113422,-0.19196802549214645,1.031205035151707,0.26130592536366737,0.290049450665771,0.3923595253989978,-0.07066390600572733,-0.13411773124013696,-0.5112963030506134,0.1523938664586009,-0.256666308707275,1.9500314401460428,0.4451779747728889,1.20667494512559,1.415453883503099,0.4802923215144708,-1.5154210487797841,-1.1689118109720538,-0.855788531435531,0.6967714727613341,0.13185186209408195,1.2545075600604296,0.46671735728806,1.251738898788601,-1.6904602024294255,-0.15933874899631892,-0.6107249632052028,1.0151109662635478,-0.4640549522669946,-1.3094379739157134,-0.1696620985632722,0.7264314214654054,-0.26821860589869123,0.21535758945565767,0.2479765322304549,0.1635268472902467,-0.40118535164143926,0.41818817348398535,-0.5432858902884837,1.2661463403142534,0.9221931103564391,0.077976495849599,0.22879419075920301,0.8708459862581537,1.369969887640816,0.33033096281090457,-0.08613149023670989,-0.10332444940811221,-1.503708056123339,0.46157906034337454,-0.035597229327674916],\"xaxis\":\"x7\",\"y\":[-1.5110962441514955,-1.3421231187988822,-0.8218709717794145,-0.5629676527933162,-0.0939803421434012,-1.0281015513104197,0.3995284548028364,0.9763755222555714,0.04671111034541469,-1.9765101574433694,-1.0786291236002599,-1.1370525638047173,0.6234717853349546,0.22736963902127702,0.6312271068437805,1.898722835344093,-1.1841566347480224,0.6706380460640187,0.46705903160036005,0.865784386057344,-0.48600102296393116,-1.087364794658521,-0.46493281327929764,0.6645474925732094,-0.16064904501671742,0.10420018730006272,1.3088379168204136,0.1421960429541945,0.021540205979291894,-1.696360096304541,0.1020244225904697,-1.4488401608216697,-0.8435275097409567,-0.4903190344160185,-0.6167726979776068,1.516273713443217,-0.8504127889940435,-0.6817747858776013,1.1428523434547717,0.6038809943697726,-0.19543354794411882,0.05964263107473625,0.9886081091818062,-1.6851781394957248,-0.5385704399566267,0.4992709096890342,0.8523579261540218,-0.036804283670902514,0.6753618291437835,-0.5658997632303835,0.08053411107930569,0.46914129922192865,-0.14822017594795173,0.48477839501296927,-2.7740379594780014,-0.057824947331366054,0.007855445306867293,-1.037584910585149,-0.234403782400521,-0.10043071393199138,0.24141096042409843,-0.6761136267213637,-1.3153681866336913,-0.11340787951362206,-1.5068080162253386,-1.3266258407333442,0.008007313205507259,-1.4753921403733459,0.25353596911295373,-0.5618230070321575,-0.051296848284010335,-1.1064574503295967,0.451924472091387,0.41623143210306596,-0.4126695523135965,-0.9246281429196028,-1.4234046222503718,0.08949143437347688,-1.1257961613100143,-0.45495471958497263,-2.2203979818443966,-1.1725235534576335,0.7847230953515638,1.7650003621711998,1.2096931205010761,-0.46025502320418904,-0.04675734436156397,2.2850252000751903,0.19569106889942578,1.9644722028091561,0.3203399145813591,0.5512007112953003,-0.01795135166725152,1.8309718907211967,-1.2484429434786146,0.8173605905207877,-0.11453463647031444,1.055310864976655,-0.6305387854690183,-1.4593607886493545],\"yaxis\":\"y7\",\"type\":\"scatter\"},{\"line\":{\"color\":\"rgba(128, 128, 128, 1.0)\",\"dash\":\"solid\",\"shape\":\"linear\",\"width\":1.3},\"marker\":{\"size\":2,\"symbol\":\"circle\"},\"mode\":\"markers\",\"name\":\"B\",\"text\":\"\",\"x\":[-1.643043088882501,-0.041942842179661495,-1.4168472589893575,0.846324115048115,-1.4454782178892902,1.1981126822062262,1.1880877809175365,-0.9437983238027401,0.2791052304301366,0.22472421792598693,-0.23818077146965422,-0.8134865720507752,-0.6539235206125001,-0.18812153427793674,0.10483840484201919,-1.1463715001592154,0.1525511335932151,-0.3333660303849316,0.2231423843314657,-0.642924646210681,1.3868811907592602,2.4775413247661118,-0.9824378868441533,-0.7478323374420225,0.1196298646787779,0.7584231001525484,0.3450095684343771,-0.1364555859070283,0.031593327237034556,0.06416794091502054,-1.0314204223621934,-0.5880114985436802,-0.9309105252363903,1.2080624637488204,-0.4826883216009362,-1.4083635352576558,1.9770423094719052,-1.1996284585164145,0.9825311817596672,-1.6455070177339404,0.295062994963841,-0.7998034733980933,-0.15005896232938026,-0.6656461269471731,0.9465387241306563,-0.3621644533838506,1.154497360028402,0.6355561375336649,1.0729479908496042,-0.946186348362365,0.8035070464021923,0.2299619066818497,0.2677428976486297,0.5441540505336642,2.520355422492496,-1.8362024335707192,0.0752844292503327,-0.8217503084813561,-0.24059727542653545,0.9384132798466748,0.5277873135643862,-1.515812553399073,-0.6654393564758576,2.399854029533553,-0.34779887432418227,0.5360350503453412,-0.18810820561818842,-0.037994786223414116,-0.6004312975798658,-1.5865829760206287,0.9135093073916315,-0.14112121519870538,-1.562180258411497,0.922870786879138,-0.5186716211333601,-1.0691183637534747,-1.4560288756640534,1.8245452402134126,-0.07371980105621495,-0.24864570933300026,0.5080437212536183,-1.323997543405784,1.9888833530466878,-0.9616846288567427,0.8399558727218465,-0.3521507877335014,0.18631604806527377,-0.7852573923852917,0.09450621074434322,-0.25880019016887773,1.1923201907397027,0.2651753312425627,-0.858845471114797,-0.6219850919551331,0.3507993237467051,-1.5098459118210705,1.913013961119211,0.09978487723239408,0.009576411491057068,-0.11720616987445373],\"xaxis\":\"x8\",\"y\":[-1.5110962441514955,-1.3421231187988822,-0.8218709717794145,-0.5629676527933162,-0.0939803421434012,-1.0281015513104197,0.3995284548028364,0.9763755222555714,0.04671111034541469,-1.9765101574433694,-1.0786291236002599,-1.1370525638047173,0.6234717853349546,0.22736963902127702,0.6312271068437805,1.898722835344093,-1.1841566347480224,0.6706380460640187,0.46705903160036005,0.865784386057344,-0.48600102296393116,-1.087364794658521,-0.46493281327929764,0.6645474925732094,-0.16064904501671742,0.10420018730006272,1.3088379168204136,0.1421960429541945,0.021540205979291894,-1.696360096304541,0.1020244225904697,-1.4488401608216697,-0.8435275097409567,-0.4903190344160185,-0.6167726979776068,1.516273713443217,-0.8504127889940435,-0.6817747858776013,1.1428523434547717,0.6038809943697726,-0.19543354794411882,0.05964263107473625,0.9886081091818062,-1.6851781394957248,-0.5385704399566267,0.4992709096890342,0.8523579261540218,-0.036804283670902514,0.6753618291437835,-0.5658997632303835,0.08053411107930569,0.46914129922192865,-0.14822017594795173,0.48477839501296927,-2.7740379594780014,-0.057824947331366054,0.007855445306867293,-1.037584910585149,-0.234403782400521,-0.10043071393199138,0.24141096042409843,-0.6761136267213637,-1.3153681866336913,-0.11340787951362206,-1.5068080162253386,-1.3266258407333442,0.008007313205507259,-1.4753921403733459,0.25353596911295373,-0.5618230070321575,-0.051296848284010335,-1.1064574503295967,0.451924472091387,0.41623143210306596,-0.4126695523135965,-0.9246281429196028,-1.4234046222503718,0.08949143437347688,-1.1257961613100143,-0.45495471958497263,-2.2203979818443966,-1.1725235534576335,0.7847230953515638,1.7650003621711998,1.2096931205010761,-0.46025502320418904,-0.04675734436156397,2.2850252000751903,0.19569106889942578,1.9644722028091561,0.3203399145813591,0.5512007112953003,-0.01795135166725152,1.8309718907211967,-1.2484429434786146,0.8173605905207877,-0.11453463647031444,1.055310864976655,-0.6305387854690183,-1.4593607886493545],\"yaxis\":\"y8\",\"type\":\"scatter\"},{\"line\":{\"color\":\"rgba(128, 128, 128, 1.0)\",\"dash\":\"solid\",\"shape\":\"linear\",\"width\":1.3},\"marker\":{\"size\":2,\"symbol\":\"circle\"},\"mode\":\"markers\",\"name\":\"C\",\"text\":\"\",\"x\":[0.42834336660048555,-0.5431130343751923,-1.1089003168660925,-0.9310734812179945,0.7009672118351541,0.8814470474168713,-0.8407399793698521,-0.576893294052475,-0.8080703354235872,-0.845685394146627,1.0546390088298483,-1.2167789452198259,-0.5793894576537396,0.6531820902565525,1.1852687270905453,2.179059607997261,-0.916752595388181,0.5616215793465428,0.6378222152443052,-0.4644285971201103,-0.26443495004037043,1.2197910519981685,-0.09646466921168612,-0.13577844238819872,-0.3196361512921841,-2.3138191266271706,1.8776670994205429,0.7405974885272778,-3.142074285106367,-1.472470555300087,-0.16340487140345647,-0.14795883993457962,0.4002683275186483,1.2623093249244404,-0.13729696811807196,-0.4103419566810211,0.6309401297310346,-2.554433216510306,-1.8136787861246852,-1.5971638470617107,-0.04727848987271,-0.9859271975667138,-0.5200134096541108,-0.1496386173536915,-1.692708236163166,-0.9861515241881423,1.8566766289766876,-0.6426894805921634,1.3684446007506572,1.0303287829607057,0.15816602375477531,0.6029637904815115,0.7020121929344575,-0.6534446453808141,-0.8819822613338307,-0.3725294111302389,0.917844776303251,2.952904715090055,0.563570403972607,0.34163541591459934,0.24760279926901188,0.6853429334592762,-0.8871213125118289,-0.62447480201159,-1.1435009277849852,1.3423559897981243,-0.6885983903751369,-0.6327941965193481,1.1382967585537072,1.6535942818207383,-0.49473872348892395,-0.2213077371949228,-1.7441809868780074,0.33503514683285246,1.457920342236441,1.1942547194581565,1.6048350491365895,0.6834991629924438,0.5449683729052708,-0.09354422620876975,-0.7332514853887435,-1.2858330647452987,-1.6144516726215936,0.5491139981272396,0.3988004780816497,1.1415368511791262,0.9103446674267672,-0.4302964462779966,0.34100207998563,1.0883510241965397,0.9003232980148024,1.0445905659847246,0.4609394941132174,2.059739333522352,-0.8652132010214949,0.4132656940423574,0.1597976827062007,0.8959245972573175,0.19935532667623881,-1.2631555290890033],\"xaxis\":\"x9\",\"y\":[0.5818959601613439,0.6635389007014588,-0.4650326002158927,-0.49563769496187016,0.3544326149014103,0.032280422153337845,1.500194598749117,2.0078251618293383,1.250331560859558,-1.5210260565593223,-0.9083896727413385,0.09343621622137635,1.0770523647661714,0.4135650963652773,0.18243023661373478,1.6017575628860965,-0.531874639863994,0.7386088731874443,-1.299442569668759,0.09061907544395652,1.3048100282856383,0.38363698324233875,2.1600291784329193,-0.17890225991828895,-0.3928507318555888,0.5077203804001711,-0.17890260246201345,0.5325204521149169,0.5552064558546723,0.9466377884787205,-0.5537834734751812,-0.9225931378437296,-0.8501838556832638,-0.31102566975449314,0.9836054884214205,-0.3681798942114995,-0.00361292480589936,0.8445803413494956,-1.1030888295997967,0.741470274969195,0.13470395027236978,1.2105372702387485,1.4510247336250213,-0.06799667679769193,1.0439059032051308,1.2758152618645142,-0.28913163689038773,0.6403403697547831,-0.8382254017862524,1.267166140113422,-0.19196802549214645,1.031205035151707,0.26130592536366737,0.290049450665771,0.3923595253989978,-0.07066390600572733,-0.13411773124013696,-0.5112963030506134,0.1523938664586009,-0.256666308707275,1.9500314401460428,0.4451779747728889,1.20667494512559,1.415453883503099,0.4802923215144708,-1.5154210487797841,-1.1689118109720538,-0.855788531435531,0.6967714727613341,0.13185186209408195,1.2545075600604296,0.46671735728806,1.251738898788601,-1.6904602024294255,-0.15933874899631892,-0.6107249632052028,1.0151109662635478,-0.4640549522669946,-1.3094379739157134,-0.1696620985632722,0.7264314214654054,-0.26821860589869123,0.21535758945565767,0.2479765322304549,0.1635268472902467,-0.40118535164143926,0.41818817348398535,-0.5432858902884837,1.2661463403142534,0.9221931103564391,0.077976495849599,0.22879419075920301,0.8708459862581537,1.369969887640816,0.33033096281090457,-0.08613149023670989,-0.10332444940811221,-1.503708056123339,0.46157906034337454,-0.035597229327674916],\"yaxis\":\"y9\",\"type\":\"scatter\"},{\"line\":{\"color\":\"rgba(128, 128, 128, 1.0)\",\"dash\":\"solid\",\"shape\":\"linear\",\"width\":1.3},\"marker\":{\"size\":2,\"symbol\":\"circle\"},\"mode\":\"markers\",\"name\":\"C\",\"text\":\"\",\"x\":[-1.5110962441514955,-1.3421231187988822,-0.8218709717794145,-0.5629676527933162,-0.0939803421434012,-1.0281015513104197,0.3995284548028364,0.9763755222555714,0.04671111034541469,-1.9765101574433694,-1.0786291236002599,-1.1370525638047173,0.6234717853349546,0.22736963902127702,0.6312271068437805,1.898722835344093,-1.1841566347480224,0.6706380460640187,0.46705903160036005,0.865784386057344,-0.48600102296393116,-1.087364794658521,-0.46493281327929764,0.6645474925732094,-0.16064904501671742,0.10420018730006272,1.3088379168204136,0.1421960429541945,0.021540205979291894,-1.696360096304541,0.1020244225904697,-1.4488401608216697,-0.8435275097409567,-0.4903190344160185,-0.6167726979776068,1.516273713443217,-0.8504127889940435,-0.6817747858776013,1.1428523434547717,0.6038809943697726,-0.19543354794411882,0.05964263107473625,0.9886081091818062,-1.6851781394957248,-0.5385704399566267,0.4992709096890342,0.8523579261540218,-0.036804283670902514,0.6753618291437835,-0.5658997632303835,0.08053411107930569,0.46914129922192865,-0.14822017594795173,0.48477839501296927,-2.7740379594780014,-0.057824947331366054,0.007855445306867293,-1.037584910585149,-0.234403782400521,-0.10043071393199138,0.24141096042409843,-0.6761136267213637,-1.3153681866336913,-0.11340787951362206,-1.5068080162253386,-1.3266258407333442,0.008007313205507259,-1.4753921403733459,0.25353596911295373,-0.5618230070321575,-0.051296848284010335,-1.1064574503295967,0.451924472091387,0.41623143210306596,-0.4126695523135965,-0.9246281429196028,-1.4234046222503718,0.08949143437347688,-1.1257961613100143,-0.45495471958497263,-2.2203979818443966,-1.1725235534576335,0.7847230953515638,1.7650003621711998,1.2096931205010761,-0.46025502320418904,-0.04675734436156397,2.2850252000751903,0.19569106889942578,1.9644722028091561,0.3203399145813591,0.5512007112953003,-0.01795135166725152,1.8309718907211967,-1.2484429434786146,0.8173605905207877,-0.11453463647031444,1.055310864976655,-0.6305387854690183,-1.4593607886493545],\"xaxis\":\"x10\",\"y\":[0.5818959601613439,0.6635389007014588,-0.4650326002158927,-0.49563769496187016,0.3544326149014103,0.032280422153337845,1.500194598749117,2.0078251618293383,1.250331560859558,-1.5210260565593223,-0.9083896727413385,0.09343621622137635,1.0770523647661714,0.4135650963652773,0.18243023661373478,1.6017575628860965,-0.531874639863994,0.7386088731874443,-1.299442569668759,0.09061907544395652,1.3048100282856383,0.38363698324233875,2.1600291784329193,-0.17890225991828895,-0.3928507318555888,0.5077203804001711,-0.17890260246201345,0.5325204521149169,0.5552064558546723,0.9466377884787205,-0.5537834734751812,-0.9225931378437296,-0.8501838556832638,-0.31102566975449314,0.9836054884214205,-0.3681798942114995,-0.00361292480589936,0.8445803413494956,-1.1030888295997967,0.741470274969195,0.13470395027236978,1.2105372702387485,1.4510247336250213,-0.06799667679769193,1.0439059032051308,1.2758152618645142,-0.28913163689038773,0.6403403697547831,-0.8382254017862524,1.267166140113422,-0.19196802549214645,1.031205035151707,0.26130592536366737,0.290049450665771,0.3923595253989978,-0.07066390600572733,-0.13411773124013696,-0.5112963030506134,0.1523938664586009,-0.256666308707275,1.9500314401460428,0.4451779747728889,1.20667494512559,1.415453883503099,0.4802923215144708,-1.5154210487797841,-1.1689118109720538,-0.855788531435531,0.6967714727613341,0.13185186209408195,1.2545075600604296,0.46671735728806,1.251738898788601,-1.6904602024294255,-0.15933874899631892,-0.6107249632052028,1.0151109662635478,-0.4640549522669946,-1.3094379739157134,-0.1696620985632722,0.7264314214654054,-0.26821860589869123,0.21535758945565767,0.2479765322304549,0.1635268472902467,-0.40118535164143926,0.41818817348398535,-0.5432858902884837,1.2661463403142534,0.9221931103564391,0.077976495849599,0.22879419075920301,0.8708459862581537,1.369969887640816,0.33033096281090457,-0.08613149023670989,-0.10332444940811221,-1.503708056123339,0.46157906034337454,-0.035597229327674916],\"yaxis\":\"y10\",\"type\":\"scatter\"},{\"histfunc\":\"count\",\"histnorm\":\"\",\"marker\":{\"color\":\"rgba(50, 171, 96, 1.0)\",\"line\":{\"color\":\"#4D5663\",\"width\":1.3}},\"name\":\"C\",\"nbinsx\":10,\"opacity\":0.8,\"orientation\":\"v\",\"x\":[0.5818959601613439,0.6635389007014588,-0.4650326002158927,-0.49563769496187016,0.3544326149014103,0.032280422153337845,1.500194598749117,2.0078251618293383,1.250331560859558,-1.5210260565593223,-0.9083896727413385,0.09343621622137635,1.0770523647661714,0.4135650963652773,0.18243023661373478,1.6017575628860965,-0.531874639863994,0.7386088731874443,-1.299442569668759,0.09061907544395652,1.3048100282856383,0.38363698324233875,2.1600291784329193,-0.17890225991828895,-0.3928507318555888,0.5077203804001711,-0.17890260246201345,0.5325204521149169,0.5552064558546723,0.9466377884787205,-0.5537834734751812,-0.9225931378437296,-0.8501838556832638,-0.31102566975449314,0.9836054884214205,-0.3681798942114995,-0.00361292480589936,0.8445803413494956,-1.1030888295997967,0.741470274969195,0.13470395027236978,1.2105372702387485,1.4510247336250213,-0.06799667679769193,1.0439059032051308,1.2758152618645142,-0.28913163689038773,0.6403403697547831,-0.8382254017862524,1.267166140113422,-0.19196802549214645,1.031205035151707,0.26130592536366737,0.290049450665771,0.3923595253989978,-0.07066390600572733,-0.13411773124013696,-0.5112963030506134,0.1523938664586009,-0.256666308707275,1.9500314401460428,0.4451779747728889,1.20667494512559,1.415453883503099,0.4802923215144708,-1.5154210487797841,-1.1689118109720538,-0.855788531435531,0.6967714727613341,0.13185186209408195,1.2545075600604296,0.46671735728806,1.251738898788601,-1.6904602024294255,-0.15933874899631892,-0.6107249632052028,1.0151109662635478,-0.4640549522669946,-1.3094379739157134,-0.1696620985632722,0.7264314214654054,-0.26821860589869123,0.21535758945565767,0.2479765322304549,0.1635268472902467,-0.40118535164143926,0.41818817348398535,-0.5432858902884837,1.2661463403142534,0.9221931103564391,0.077976495849599,0.22879419075920301,0.8708459862581537,1.369969887640816,0.33033096281090457,-0.08613149023670989,-0.10332444940811221,-1.503708056123339,0.46157906034337454,-0.035597229327674916],\"xaxis\":\"x11\",\"yaxis\":\"y11\",\"type\":\"histogram\"},{\"line\":{\"color\":\"rgba(128, 128, 128, 1.0)\",\"dash\":\"solid\",\"shape\":\"linear\",\"width\":1.3},\"marker\":{\"size\":2,\"symbol\":\"circle\"},\"mode\":\"markers\",\"name\":\"C\",\"text\":\"\",\"x\":[-1.643043088882501,-0.041942842179661495,-1.4168472589893575,0.846324115048115,-1.4454782178892902,1.1981126822062262,1.1880877809175365,-0.9437983238027401,0.2791052304301366,0.22472421792598693,-0.23818077146965422,-0.8134865720507752,-0.6539235206125001,-0.18812153427793674,0.10483840484201919,-1.1463715001592154,0.1525511335932151,-0.3333660303849316,0.2231423843314657,-0.642924646210681,1.3868811907592602,2.4775413247661118,-0.9824378868441533,-0.7478323374420225,0.1196298646787779,0.7584231001525484,0.3450095684343771,-0.1364555859070283,0.031593327237034556,0.06416794091502054,-1.0314204223621934,-0.5880114985436802,-0.9309105252363903,1.2080624637488204,-0.4826883216009362,-1.4083635352576558,1.9770423094719052,-1.1996284585164145,0.9825311817596672,-1.6455070177339404,0.295062994963841,-0.7998034733980933,-0.15005896232938026,-0.6656461269471731,0.9465387241306563,-0.3621644533838506,1.154497360028402,0.6355561375336649,1.0729479908496042,-0.946186348362365,0.8035070464021923,0.2299619066818497,0.2677428976486297,0.5441540505336642,2.520355422492496,-1.8362024335707192,0.0752844292503327,-0.8217503084813561,-0.24059727542653545,0.9384132798466748,0.5277873135643862,-1.515812553399073,-0.6654393564758576,2.399854029533553,-0.34779887432418227,0.5360350503453412,-0.18810820561818842,-0.037994786223414116,-0.6004312975798658,-1.5865829760206287,0.9135093073916315,-0.14112121519870538,-1.562180258411497,0.922870786879138,-0.5186716211333601,-1.0691183637534747,-1.4560288756640534,1.8245452402134126,-0.07371980105621495,-0.24864570933300026,0.5080437212536183,-1.323997543405784,1.9888833530466878,-0.9616846288567427,0.8399558727218465,-0.3521507877335014,0.18631604806527377,-0.7852573923852917,0.09450621074434322,-0.25880019016887773,1.1923201907397027,0.2651753312425627,-0.858845471114797,-0.6219850919551331,0.3507993237467051,-1.5098459118210705,1.913013961119211,0.09978487723239408,0.009576411491057068,-0.11720616987445373],\"xaxis\":\"x12\",\"y\":[0.5818959601613439,0.6635389007014588,-0.4650326002158927,-0.49563769496187016,0.3544326149014103,0.032280422153337845,1.500194598749117,2.0078251618293383,1.250331560859558,-1.5210260565593223,-0.9083896727413385,0.09343621622137635,1.0770523647661714,0.4135650963652773,0.18243023661373478,1.6017575628860965,-0.531874639863994,0.7386088731874443,-1.299442569668759,0.09061907544395652,1.3048100282856383,0.38363698324233875,2.1600291784329193,-0.17890225991828895,-0.3928507318555888,0.5077203804001711,-0.17890260246201345,0.5325204521149169,0.5552064558546723,0.9466377884787205,-0.5537834734751812,-0.9225931378437296,-0.8501838556832638,-0.31102566975449314,0.9836054884214205,-0.3681798942114995,-0.00361292480589936,0.8445803413494956,-1.1030888295997967,0.741470274969195,0.13470395027236978,1.2105372702387485,1.4510247336250213,-0.06799667679769193,1.0439059032051308,1.2758152618645142,-0.28913163689038773,0.6403403697547831,-0.8382254017862524,1.267166140113422,-0.19196802549214645,1.031205035151707,0.26130592536366737,0.290049450665771,0.3923595253989978,-0.07066390600572733,-0.13411773124013696,-0.5112963030506134,0.1523938664586009,-0.256666308707275,1.9500314401460428,0.4451779747728889,1.20667494512559,1.415453883503099,0.4802923215144708,-1.5154210487797841,-1.1689118109720538,-0.855788531435531,0.6967714727613341,0.13185186209408195,1.2545075600604296,0.46671735728806,1.251738898788601,-1.6904602024294255,-0.15933874899631892,-0.6107249632052028,1.0151109662635478,-0.4640549522669946,-1.3094379739157134,-0.1696620985632722,0.7264314214654054,-0.26821860589869123,0.21535758945565767,0.2479765322304549,0.1635268472902467,-0.40118535164143926,0.41818817348398535,-0.5432858902884837,1.2661463403142534,0.9221931103564391,0.077976495849599,0.22879419075920301,0.8708459862581537,1.369969887640816,0.33033096281090457,-0.08613149023670989,-0.10332444940811221,-1.503708056123339,0.46157906034337454,-0.035597229327674916],\"yaxis\":\"y12\",\"type\":\"scatter\"},{\"line\":{\"color\":\"rgba(128, 128, 128, 1.0)\",\"dash\":\"solid\",\"shape\":\"linear\",\"width\":1.3},\"marker\":{\"size\":2,\"symbol\":\"circle\"},\"mode\":\"markers\",\"name\":\"D\",\"text\":\"\",\"x\":[0.42834336660048555,-0.5431130343751923,-1.1089003168660925,-0.9310734812179945,0.7009672118351541,0.8814470474168713,-0.8407399793698521,-0.576893294052475,-0.8080703354235872,-0.845685394146627,1.0546390088298483,-1.2167789452198259,-0.5793894576537396,0.6531820902565525,1.1852687270905453,2.179059607997261,-0.916752595388181,0.5616215793465428,0.6378222152443052,-0.4644285971201103,-0.26443495004037043,1.2197910519981685,-0.09646466921168612,-0.13577844238819872,-0.3196361512921841,-2.3138191266271706,1.8776670994205429,0.7405974885272778,-3.142074285106367,-1.472470555300087,-0.16340487140345647,-0.14795883993457962,0.4002683275186483,1.2623093249244404,-0.13729696811807196,-0.4103419566810211,0.6309401297310346,-2.554433216510306,-1.8136787861246852,-1.5971638470617107,-0.04727848987271,-0.9859271975667138,-0.5200134096541108,-0.1496386173536915,-1.692708236163166,-0.9861515241881423,1.8566766289766876,-0.6426894805921634,1.3684446007506572,1.0303287829607057,0.15816602375477531,0.6029637904815115,0.7020121929344575,-0.6534446453808141,-0.8819822613338307,-0.3725294111302389,0.917844776303251,2.952904715090055,0.563570403972607,0.34163541591459934,0.24760279926901188,0.6853429334592762,-0.8871213125118289,-0.62447480201159,-1.1435009277849852,1.3423559897981243,-0.6885983903751369,-0.6327941965193481,1.1382967585537072,1.6535942818207383,-0.49473872348892395,-0.2213077371949228,-1.7441809868780074,0.33503514683285246,1.457920342236441,1.1942547194581565,1.6048350491365895,0.6834991629924438,0.5449683729052708,-0.09354422620876975,-0.7332514853887435,-1.2858330647452987,-1.6144516726215936,0.5491139981272396,0.3988004780816497,1.1415368511791262,0.9103446674267672,-0.4302964462779966,0.34100207998563,1.0883510241965397,0.9003232980148024,1.0445905659847246,0.4609394941132174,2.059739333522352,-0.8652132010214949,0.4132656940423574,0.1597976827062007,0.8959245972573175,0.19935532667623881,-1.2631555290890033],\"xaxis\":\"x13\",\"y\":[-1.643043088882501,-0.041942842179661495,-1.4168472589893575,0.846324115048115,-1.4454782178892902,1.1981126822062262,1.1880877809175365,-0.9437983238027401,0.2791052304301366,0.22472421792598693,-0.23818077146965422,-0.8134865720507752,-0.6539235206125001,-0.18812153427793674,0.10483840484201919,-1.1463715001592154,0.1525511335932151,-0.3333660303849316,0.2231423843314657,-0.642924646210681,1.3868811907592602,2.4775413247661118,-0.9824378868441533,-0.7478323374420225,0.1196298646787779,0.7584231001525484,0.3450095684343771,-0.1364555859070283,0.031593327237034556,0.06416794091502054,-1.0314204223621934,-0.5880114985436802,-0.9309105252363903,1.2080624637488204,-0.4826883216009362,-1.4083635352576558,1.9770423094719052,-1.1996284585164145,0.9825311817596672,-1.6455070177339404,0.295062994963841,-0.7998034733980933,-0.15005896232938026,-0.6656461269471731,0.9465387241306563,-0.3621644533838506,1.154497360028402,0.6355561375336649,1.0729479908496042,-0.946186348362365,0.8035070464021923,0.2299619066818497,0.2677428976486297,0.5441540505336642,2.520355422492496,-1.8362024335707192,0.0752844292503327,-0.8217503084813561,-0.24059727542653545,0.9384132798466748,0.5277873135643862,-1.515812553399073,-0.6654393564758576,2.399854029533553,-0.34779887432418227,0.5360350503453412,-0.18810820561818842,-0.037994786223414116,-0.6004312975798658,-1.5865829760206287,0.9135093073916315,-0.14112121519870538,-1.562180258411497,0.922870786879138,-0.5186716211333601,-1.0691183637534747,-1.4560288756640534,1.8245452402134126,-0.07371980105621495,-0.24864570933300026,0.5080437212536183,-1.323997543405784,1.9888833530466878,-0.9616846288567427,0.8399558727218465,-0.3521507877335014,0.18631604806527377,-0.7852573923852917,0.09450621074434322,-0.25880019016887773,1.1923201907397027,0.2651753312425627,-0.858845471114797,-0.6219850919551331,0.3507993237467051,-1.5098459118210705,1.913013961119211,0.09978487723239408,0.009576411491057068,-0.11720616987445373],\"yaxis\":\"y13\",\"type\":\"scatter\"},{\"line\":{\"color\":\"rgba(128, 128, 128, 1.0)\",\"dash\":\"solid\",\"shape\":\"linear\",\"width\":1.3},\"marker\":{\"size\":2,\"symbol\":\"circle\"},\"mode\":\"markers\",\"name\":\"D\",\"text\":\"\",\"x\":[-1.5110962441514955,-1.3421231187988822,-0.8218709717794145,-0.5629676527933162,-0.0939803421434012,-1.0281015513104197,0.3995284548028364,0.9763755222555714,0.04671111034541469,-1.9765101574433694,-1.0786291236002599,-1.1370525638047173,0.6234717853349546,0.22736963902127702,0.6312271068437805,1.898722835344093,-1.1841566347480224,0.6706380460640187,0.46705903160036005,0.865784386057344,-0.48600102296393116,-1.087364794658521,-0.46493281327929764,0.6645474925732094,-0.16064904501671742,0.10420018730006272,1.3088379168204136,0.1421960429541945,0.021540205979291894,-1.696360096304541,0.1020244225904697,-1.4488401608216697,-0.8435275097409567,-0.4903190344160185,-0.6167726979776068,1.516273713443217,-0.8504127889940435,-0.6817747858776013,1.1428523434547717,0.6038809943697726,-0.19543354794411882,0.05964263107473625,0.9886081091818062,-1.6851781394957248,-0.5385704399566267,0.4992709096890342,0.8523579261540218,-0.036804283670902514,0.6753618291437835,-0.5658997632303835,0.08053411107930569,0.46914129922192865,-0.14822017594795173,0.48477839501296927,-2.7740379594780014,-0.057824947331366054,0.007855445306867293,-1.037584910585149,-0.234403782400521,-0.10043071393199138,0.24141096042409843,-0.6761136267213637,-1.3153681866336913,-0.11340787951362206,-1.5068080162253386,-1.3266258407333442,0.008007313205507259,-1.4753921403733459,0.25353596911295373,-0.5618230070321575,-0.051296848284010335,-1.1064574503295967,0.451924472091387,0.41623143210306596,-0.4126695523135965,-0.9246281429196028,-1.4234046222503718,0.08949143437347688,-1.1257961613100143,-0.45495471958497263,-2.2203979818443966,-1.1725235534576335,0.7847230953515638,1.7650003621711998,1.2096931205010761,-0.46025502320418904,-0.04675734436156397,2.2850252000751903,0.19569106889942578,1.9644722028091561,0.3203399145813591,0.5512007112953003,-0.01795135166725152,1.8309718907211967,-1.2484429434786146,0.8173605905207877,-0.11453463647031444,1.055310864976655,-0.6305387854690183,-1.4593607886493545],\"xaxis\":\"x14\",\"y\":[-1.643043088882501,-0.041942842179661495,-1.4168472589893575,0.846324115048115,-1.4454782178892902,1.1981126822062262,1.1880877809175365,-0.9437983238027401,0.2791052304301366,0.22472421792598693,-0.23818077146965422,-0.8134865720507752,-0.6539235206125001,-0.18812153427793674,0.10483840484201919,-1.1463715001592154,0.1525511335932151,-0.3333660303849316,0.2231423843314657,-0.642924646210681,1.3868811907592602,2.4775413247661118,-0.9824378868441533,-0.7478323374420225,0.1196298646787779,0.7584231001525484,0.3450095684343771,-0.1364555859070283,0.031593327237034556,0.06416794091502054,-1.0314204223621934,-0.5880114985436802,-0.9309105252363903,1.2080624637488204,-0.4826883216009362,-1.4083635352576558,1.9770423094719052,-1.1996284585164145,0.9825311817596672,-1.6455070177339404,0.295062994963841,-0.7998034733980933,-0.15005896232938026,-0.6656461269471731,0.9465387241306563,-0.3621644533838506,1.154497360028402,0.6355561375336649,1.0729479908496042,-0.946186348362365,0.8035070464021923,0.2299619066818497,0.2677428976486297,0.5441540505336642,2.520355422492496,-1.8362024335707192,0.0752844292503327,-0.8217503084813561,-0.24059727542653545,0.9384132798466748,0.5277873135643862,-1.515812553399073,-0.6654393564758576,2.399854029533553,-0.34779887432418227,0.5360350503453412,-0.18810820561818842,-0.037994786223414116,-0.6004312975798658,-1.5865829760206287,0.9135093073916315,-0.14112121519870538,-1.562180258411497,0.922870786879138,-0.5186716211333601,-1.0691183637534747,-1.4560288756640534,1.8245452402134126,-0.07371980105621495,-0.24864570933300026,0.5080437212536183,-1.323997543405784,1.9888833530466878,-0.9616846288567427,0.8399558727218465,-0.3521507877335014,0.18631604806527377,-0.7852573923852917,0.09450621074434322,-0.25880019016887773,1.1923201907397027,0.2651753312425627,-0.858845471114797,-0.6219850919551331,0.3507993237467051,-1.5098459118210705,1.913013961119211,0.09978487723239408,0.009576411491057068,-0.11720616987445373],\"yaxis\":\"y14\",\"type\":\"scatter\"},{\"line\":{\"color\":\"rgba(128, 128, 128, 1.0)\",\"dash\":\"solid\",\"shape\":\"linear\",\"width\":1.3},\"marker\":{\"size\":2,\"symbol\":\"circle\"},\"mode\":\"markers\",\"name\":\"D\",\"text\":\"\",\"x\":[0.5818959601613439,0.6635389007014588,-0.4650326002158927,-0.49563769496187016,0.3544326149014103,0.032280422153337845,1.500194598749117,2.0078251618293383,1.250331560859558,-1.5210260565593223,-0.9083896727413385,0.09343621622137635,1.0770523647661714,0.4135650963652773,0.18243023661373478,1.6017575628860965,-0.531874639863994,0.7386088731874443,-1.299442569668759,0.09061907544395652,1.3048100282856383,0.38363698324233875,2.1600291784329193,-0.17890225991828895,-0.3928507318555888,0.5077203804001711,-0.17890260246201345,0.5325204521149169,0.5552064558546723,0.9466377884787205,-0.5537834734751812,-0.9225931378437296,-0.8501838556832638,-0.31102566975449314,0.9836054884214205,-0.3681798942114995,-0.00361292480589936,0.8445803413494956,-1.1030888295997967,0.741470274969195,0.13470395027236978,1.2105372702387485,1.4510247336250213,-0.06799667679769193,1.0439059032051308,1.2758152618645142,-0.28913163689038773,0.6403403697547831,-0.8382254017862524,1.267166140113422,-0.19196802549214645,1.031205035151707,0.26130592536366737,0.290049450665771,0.3923595253989978,-0.07066390600572733,-0.13411773124013696,-0.5112963030506134,0.1523938664586009,-0.256666308707275,1.9500314401460428,0.4451779747728889,1.20667494512559,1.415453883503099,0.4802923215144708,-1.5154210487797841,-1.1689118109720538,-0.855788531435531,0.6967714727613341,0.13185186209408195,1.2545075600604296,0.46671735728806,1.251738898788601,-1.6904602024294255,-0.15933874899631892,-0.6107249632052028,1.0151109662635478,-0.4640549522669946,-1.3094379739157134,-0.1696620985632722,0.7264314214654054,-0.26821860589869123,0.21535758945565767,0.2479765322304549,0.1635268472902467,-0.40118535164143926,0.41818817348398535,-0.5432858902884837,1.2661463403142534,0.9221931103564391,0.077976495849599,0.22879419075920301,0.8708459862581537,1.369969887640816,0.33033096281090457,-0.08613149023670989,-0.10332444940811221,-1.503708056123339,0.46157906034337454,-0.035597229327674916],\"xaxis\":\"x15\",\"y\":[-1.643043088882501,-0.041942842179661495,-1.4168472589893575,0.846324115048115,-1.4454782178892902,1.1981126822062262,1.1880877809175365,-0.9437983238027401,0.2791052304301366,0.22472421792598693,-0.23818077146965422,-0.8134865720507752,-0.6539235206125001,-0.18812153427793674,0.10483840484201919,-1.1463715001592154,0.1525511335932151,-0.3333660303849316,0.2231423843314657,-0.642924646210681,1.3868811907592602,2.4775413247661118,-0.9824378868441533,-0.7478323374420225,0.1196298646787779,0.7584231001525484,0.3450095684343771,-0.1364555859070283,0.031593327237034556,0.06416794091502054,-1.0314204223621934,-0.5880114985436802,-0.9309105252363903,1.2080624637488204,-0.4826883216009362,-1.4083635352576558,1.9770423094719052,-1.1996284585164145,0.9825311817596672,-1.6455070177339404,0.295062994963841,-0.7998034733980933,-0.15005896232938026,-0.6656461269471731,0.9465387241306563,-0.3621644533838506,1.154497360028402,0.6355561375336649,1.0729479908496042,-0.946186348362365,0.8035070464021923,0.2299619066818497,0.2677428976486297,0.5441540505336642,2.520355422492496,-1.8362024335707192,0.0752844292503327,-0.8217503084813561,-0.24059727542653545,0.9384132798466748,0.5277873135643862,-1.515812553399073,-0.6654393564758576,2.399854029533553,-0.34779887432418227,0.5360350503453412,-0.18810820561818842,-0.037994786223414116,-0.6004312975798658,-1.5865829760206287,0.9135093073916315,-0.14112121519870538,-1.562180258411497,0.922870786879138,-0.5186716211333601,-1.0691183637534747,-1.4560288756640534,1.8245452402134126,-0.07371980105621495,-0.24864570933300026,0.5080437212536183,-1.323997543405784,1.9888833530466878,-0.9616846288567427,0.8399558727218465,-0.3521507877335014,0.18631604806527377,-0.7852573923852917,0.09450621074434322,-0.25880019016887773,1.1923201907397027,0.2651753312425627,-0.858845471114797,-0.6219850919551331,0.3507993237467051,-1.5098459118210705,1.913013961119211,0.09978487723239408,0.009576411491057068,-0.11720616987445373],\"yaxis\":\"y15\",\"type\":\"scatter\"},{\"histfunc\":\"count\",\"histnorm\":\"\",\"marker\":{\"color\":\"rgba(128, 0, 128, 1.0)\",\"line\":{\"color\":\"#4D5663\",\"width\":1.3}},\"name\":\"D\",\"nbinsx\":10,\"opacity\":0.8,\"orientation\":\"v\",\"x\":[-1.643043088882501,-0.041942842179661495,-1.4168472589893575,0.846324115048115,-1.4454782178892902,1.1981126822062262,1.1880877809175365,-0.9437983238027401,0.2791052304301366,0.22472421792598693,-0.23818077146965422,-0.8134865720507752,-0.6539235206125001,-0.18812153427793674,0.10483840484201919,-1.1463715001592154,0.1525511335932151,-0.3333660303849316,0.2231423843314657,-0.642924646210681,1.3868811907592602,2.4775413247661118,-0.9824378868441533,-0.7478323374420225,0.1196298646787779,0.7584231001525484,0.3450095684343771,-0.1364555859070283,0.031593327237034556,0.06416794091502054,-1.0314204223621934,-0.5880114985436802,-0.9309105252363903,1.2080624637488204,-0.4826883216009362,-1.4083635352576558,1.9770423094719052,-1.1996284585164145,0.9825311817596672,-1.6455070177339404,0.295062994963841,-0.7998034733980933,-0.15005896232938026,-0.6656461269471731,0.9465387241306563,-0.3621644533838506,1.154497360028402,0.6355561375336649,1.0729479908496042,-0.946186348362365,0.8035070464021923,0.2299619066818497,0.2677428976486297,0.5441540505336642,2.520355422492496,-1.8362024335707192,0.0752844292503327,-0.8217503084813561,-0.24059727542653545,0.9384132798466748,0.5277873135643862,-1.515812553399073,-0.6654393564758576,2.399854029533553,-0.34779887432418227,0.5360350503453412,-0.18810820561818842,-0.037994786223414116,-0.6004312975798658,-1.5865829760206287,0.9135093073916315,-0.14112121519870538,-1.562180258411497,0.922870786879138,-0.5186716211333601,-1.0691183637534747,-1.4560288756640534,1.8245452402134126,-0.07371980105621495,-0.24864570933300026,0.5080437212536183,-1.323997543405784,1.9888833530466878,-0.9616846288567427,0.8399558727218465,-0.3521507877335014,0.18631604806527377,-0.7852573923852917,0.09450621074434322,-0.25880019016887773,1.1923201907397027,0.2651753312425627,-0.858845471114797,-0.6219850919551331,0.3507993237467051,-1.5098459118210705,1.913013961119211,0.09978487723239408,0.009576411491057068,-0.11720616987445373],\"xaxis\":\"x16\",\"yaxis\":\"y16\",\"type\":\"histogram\"}],                        {\"bargap\":0.02,\"legend\":{\"bgcolor\":\"#F5F6F9\",\"font\":{\"color\":\"#4D5663\"}},\"paper_bgcolor\":\"#F5F6F9\",\"plot_bgcolor\":\"#F5F6F9\",\"showlegend\":false,\"template\":{\"data\":{\"barpolar\":[{\"marker\":{\"line\":{\"color\":\"#E5ECF6\",\"width\":0.5},\"pattern\":{\"fillmode\":\"overlay\",\"size\":10,\"solidity\":0.2}},\"type\":\"barpolar\"}],\"bar\":[{\"error_x\":{\"color\":\"#2a3f5f\"},\"error_y\":{\"color\":\"#2a3f5f\"},\"marker\":{\"line\":{\"color\":\"#E5ECF6\",\"width\":0.5},\"pattern\":{\"fillmode\":\"overlay\",\"size\":10,\"solidity\":0.2}},\"type\":\"bar\"}],\"carpet\":[{\"aaxis\":{\"endlinecolor\":\"#2a3f5f\",\"gridcolor\":\"white\",\"linecolor\":\"white\",\"minorgridcolor\":\"white\",\"startlinecolor\":\"#2a3f5f\"},\"baxis\":{\"endlinecolor\":\"#2a3f5f\",\"gridcolor\":\"white\",\"linecolor\":\"white\",\"minorgridcolor\":\"white\",\"startlinecolor\":\"#2a3f5f\"},\"type\":\"carpet\"}],\"choropleth\":[{\"colorbar\":{\"outlinewidth\":0,\"ticks\":\"\"},\"type\":\"choropleth\"}],\"contourcarpet\":[{\"colorbar\":{\"outlinewidth\":0,\"ticks\":\"\"},\"type\":\"contourcarpet\"}],\"contour\":[{\"colorbar\":{\"outlinewidth\":0,\"ticks\":\"\"},\"colorscale\":[[0.0,\"#0d0887\"],[0.1111111111111111,\"#46039f\"],[0.2222222222222222,\"#7201a8\"],[0.3333333333333333,\"#9c179e\"],[0.4444444444444444,\"#bd3786\"],[0.5555555555555556,\"#d8576b\"],[0.6666666666666666,\"#ed7953\"],[0.7777777777777778,\"#fb9f3a\"],[0.8888888888888888,\"#fdca26\"],[1.0,\"#f0f921\"]],\"type\":\"contour\"}],\"heatmapgl\":[{\"colorbar\":{\"outlinewidth\":0,\"ticks\":\"\"},\"colorscale\":[[0.0,\"#0d0887\"],[0.1111111111111111,\"#46039f\"],[0.2222222222222222,\"#7201a8\"],[0.3333333333333333,\"#9c179e\"],[0.4444444444444444,\"#bd3786\"],[0.5555555555555556,\"#d8576b\"],[0.6666666666666666,\"#ed7953\"],[0.7777777777777778,\"#fb9f3a\"],[0.8888888888888888,\"#fdca26\"],[1.0,\"#f0f921\"]],\"type\":\"heatmapgl\"}],\"heatmap\":[{\"colorbar\":{\"outlinewidth\":0,\"ticks\":\"\"},\"colorscale\":[[0.0,\"#0d0887\"],[0.1111111111111111,\"#46039f\"],[0.2222222222222222,\"#7201a8\"],[0.3333333333333333,\"#9c179e\"],[0.4444444444444444,\"#bd3786\"],[0.5555555555555556,\"#d8576b\"],[0.6666666666666666,\"#ed7953\"],[0.7777777777777778,\"#fb9f3a\"],[0.8888888888888888,\"#fdca26\"],[1.0,\"#f0f921\"]],\"type\":\"heatmap\"}],\"histogram2dcontour\":[{\"colorbar\":{\"outlinewidth\":0,\"ticks\":\"\"},\"colorscale\":[[0.0,\"#0d0887\"],[0.1111111111111111,\"#46039f\"],[0.2222222222222222,\"#7201a8\"],[0.3333333333333333,\"#9c179e\"],[0.4444444444444444,\"#bd3786\"],[0.5555555555555556,\"#d8576b\"],[0.6666666666666666,\"#ed7953\"],[0.7777777777777778,\"#fb9f3a\"],[0.8888888888888888,\"#fdca26\"],[1.0,\"#f0f921\"]],\"type\":\"histogram2dcontour\"}],\"histogram2d\":[{\"colorbar\":{\"outlinewidth\":0,\"ticks\":\"\"},\"colorscale\":[[0.0,\"#0d0887\"],[0.1111111111111111,\"#46039f\"],[0.2222222222222222,\"#7201a8\"],[0.3333333333333333,\"#9c179e\"],[0.4444444444444444,\"#bd3786\"],[0.5555555555555556,\"#d8576b\"],[0.6666666666666666,\"#ed7953\"],[0.7777777777777778,\"#fb9f3a\"],[0.8888888888888888,\"#fdca26\"],[1.0,\"#f0f921\"]],\"type\":\"histogram2d\"}],\"histogram\":[{\"marker\":{\"pattern\":{\"fillmode\":\"overlay\",\"size\":10,\"solidity\":0.2}},\"type\":\"histogram\"}],\"mesh3d\":[{\"colorbar\":{\"outlinewidth\":0,\"ticks\":\"\"},\"type\":\"mesh3d\"}],\"parcoords\":[{\"line\":{\"colorbar\":{\"outlinewidth\":0,\"ticks\":\"\"}},\"type\":\"parcoords\"}],\"pie\":[{\"automargin\":true,\"type\":\"pie\"}],\"scatter3d\":[{\"line\":{\"colorbar\":{\"outlinewidth\":0,\"ticks\":\"\"}},\"marker\":{\"colorbar\":{\"outlinewidth\":0,\"ticks\":\"\"}},\"type\":\"scatter3d\"}],\"scattercarpet\":[{\"marker\":{\"colorbar\":{\"outlinewidth\":0,\"ticks\":\"\"}},\"type\":\"scattercarpet\"}],\"scattergeo\":[{\"marker\":{\"colorbar\":{\"outlinewidth\":0,\"ticks\":\"\"}},\"type\":\"scattergeo\"}],\"scattergl\":[{\"marker\":{\"colorbar\":{\"outlinewidth\":0,\"ticks\":\"\"}},\"type\":\"scattergl\"}],\"scattermapbox\":[{\"marker\":{\"colorbar\":{\"outlinewidth\":0,\"ticks\":\"\"}},\"type\":\"scattermapbox\"}],\"scatterpolargl\":[{\"marker\":{\"colorbar\":{\"outlinewidth\":0,\"ticks\":\"\"}},\"type\":\"scatterpolargl\"}],\"scatterpolar\":[{\"marker\":{\"colorbar\":{\"outlinewidth\":0,\"ticks\":\"\"}},\"type\":\"scatterpolar\"}],\"scatter\":[{\"marker\":{\"colorbar\":{\"outlinewidth\":0,\"ticks\":\"\"}},\"type\":\"scatter\"}],\"scatterternary\":[{\"marker\":{\"colorbar\":{\"outlinewidth\":0,\"ticks\":\"\"}},\"type\":\"scatterternary\"}],\"surface\":[{\"colorbar\":{\"outlinewidth\":0,\"ticks\":\"\"},\"colorscale\":[[0.0,\"#0d0887\"],[0.1111111111111111,\"#46039f\"],[0.2222222222222222,\"#7201a8\"],[0.3333333333333333,\"#9c179e\"],[0.4444444444444444,\"#bd3786\"],[0.5555555555555556,\"#d8576b\"],[0.6666666666666666,\"#ed7953\"],[0.7777777777777778,\"#fb9f3a\"],[0.8888888888888888,\"#fdca26\"],[1.0,\"#f0f921\"]],\"type\":\"surface\"}],\"table\":[{\"cells\":{\"fill\":{\"color\":\"#EBF0F8\"},\"line\":{\"color\":\"white\"}},\"header\":{\"fill\":{\"color\":\"#C8D4E3\"},\"line\":{\"color\":\"white\"}},\"type\":\"table\"}]},\"layout\":{\"annotationdefaults\":{\"arrowcolor\":\"#2a3f5f\",\"arrowhead\":0,\"arrowwidth\":1},\"autotypenumbers\":\"strict\",\"coloraxis\":{\"colorbar\":{\"outlinewidth\":0,\"ticks\":\"\"}},\"colorscale\":{\"diverging\":[[0,\"#8e0152\"],[0.1,\"#c51b7d\"],[0.2,\"#de77ae\"],[0.3,\"#f1b6da\"],[0.4,\"#fde0ef\"],[0.5,\"#f7f7f7\"],[0.6,\"#e6f5d0\"],[0.7,\"#b8e186\"],[0.8,\"#7fbc41\"],[0.9,\"#4d9221\"],[1,\"#276419\"]],\"sequential\":[[0.0,\"#0d0887\"],[0.1111111111111111,\"#46039f\"],[0.2222222222222222,\"#7201a8\"],[0.3333333333333333,\"#9c179e\"],[0.4444444444444444,\"#bd3786\"],[0.5555555555555556,\"#d8576b\"],[0.6666666666666666,\"#ed7953\"],[0.7777777777777778,\"#fb9f3a\"],[0.8888888888888888,\"#fdca26\"],[1.0,\"#f0f921\"]],\"sequentialminus\":[[0.0,\"#0d0887\"],[0.1111111111111111,\"#46039f\"],[0.2222222222222222,\"#7201a8\"],[0.3333333333333333,\"#9c179e\"],[0.4444444444444444,\"#bd3786\"],[0.5555555555555556,\"#d8576b\"],[0.6666666666666666,\"#ed7953\"],[0.7777777777777778,\"#fb9f3a\"],[0.8888888888888888,\"#fdca26\"],[1.0,\"#f0f921\"]]},\"colorway\":[\"#636efa\",\"#EF553B\",\"#00cc96\",\"#ab63fa\",\"#FFA15A\",\"#19d3f3\",\"#FF6692\",\"#B6E880\",\"#FF97FF\",\"#FECB52\"],\"font\":{\"color\":\"#2a3f5f\"},\"geo\":{\"bgcolor\":\"white\",\"lakecolor\":\"white\",\"landcolor\":\"#E5ECF6\",\"showlakes\":true,\"showland\":true,\"subunitcolor\":\"white\"},\"hoverlabel\":{\"align\":\"left\"},\"hovermode\":\"closest\",\"mapbox\":{\"style\":\"light\"},\"paper_bgcolor\":\"white\",\"plot_bgcolor\":\"#E5ECF6\",\"polar\":{\"angularaxis\":{\"gridcolor\":\"white\",\"linecolor\":\"white\",\"ticks\":\"\"},\"bgcolor\":\"#E5ECF6\",\"radialaxis\":{\"gridcolor\":\"white\",\"linecolor\":\"white\",\"ticks\":\"\"}},\"scene\":{\"xaxis\":{\"backgroundcolor\":\"#E5ECF6\",\"gridcolor\":\"white\",\"gridwidth\":2,\"linecolor\":\"white\",\"showbackground\":true,\"ticks\":\"\",\"zerolinecolor\":\"white\"},\"yaxis\":{\"backgroundcolor\":\"#E5ECF6\",\"gridcolor\":\"white\",\"gridwidth\":2,\"linecolor\":\"white\",\"showbackground\":true,\"ticks\":\"\",\"zerolinecolor\":\"white\"},\"zaxis\":{\"backgroundcolor\":\"#E5ECF6\",\"gridcolor\":\"white\",\"gridwidth\":2,\"linecolor\":\"white\",\"showbackground\":true,\"ticks\":\"\",\"zerolinecolor\":\"white\"}},\"shapedefaults\":{\"line\":{\"color\":\"#2a3f5f\"}},\"ternary\":{\"aaxis\":{\"gridcolor\":\"white\",\"linecolor\":\"white\",\"ticks\":\"\"},\"baxis\":{\"gridcolor\":\"white\",\"linecolor\":\"white\",\"ticks\":\"\"},\"bgcolor\":\"#E5ECF6\",\"caxis\":{\"gridcolor\":\"white\",\"linecolor\":\"white\",\"ticks\":\"\"}},\"title\":{\"x\":0.05},\"xaxis\":{\"automargin\":true,\"gridcolor\":\"white\",\"linecolor\":\"white\",\"ticks\":\"\",\"title\":{\"standoff\":15},\"zerolinecolor\":\"white\",\"zerolinewidth\":2},\"yaxis\":{\"automargin\":true,\"gridcolor\":\"white\",\"linecolor\":\"white\",\"ticks\":\"\",\"title\":{\"standoff\":15},\"zerolinecolor\":\"white\",\"zerolinewidth\":2}}},\"title\":{\"font\":{\"color\":\"#4D5663\"}},\"xaxis\":{\"anchor\":\"y\",\"domain\":[0.0,0.2125],\"gridcolor\":\"#E1E5ED\",\"showgrid\":false,\"tickfont\":{\"color\":\"#4D5663\"},\"title\":{\"font\":{\"color\":\"#4D5663\"},\"text\":\"\"},\"zerolinecolor\":\"#E1E5ED\"},\"yaxis\":{\"anchor\":\"x\",\"domain\":[0.8025,1.0],\"gridcolor\":\"#E1E5ED\",\"showgrid\":false,\"tickfont\":{\"color\":\"#4D5663\"},\"title\":{\"font\":{\"color\":\"#4D5663\"},\"text\":\"\"},\"zerolinecolor\":\"#E1E5ED\"},\"xaxis2\":{\"anchor\":\"y2\",\"domain\":[0.2625,0.475],\"gridcolor\":\"#E1E5ED\",\"showgrid\":false,\"tickfont\":{\"color\":\"#4D5663\"},\"title\":{\"font\":{\"color\":\"#4D5663\"},\"text\":\"\"},\"zerolinecolor\":\"#E1E5ED\"},\"yaxis2\":{\"anchor\":\"x2\",\"domain\":[0.8025,1.0],\"gridcolor\":\"#E1E5ED\",\"showgrid\":false,\"tickfont\":{\"color\":\"#4D5663\"},\"title\":{\"font\":{\"color\":\"#4D5663\"},\"text\":\"\"},\"zerolinecolor\":\"#E1E5ED\"},\"xaxis3\":{\"anchor\":\"y3\",\"domain\":[0.525,0.7375],\"gridcolor\":\"#E1E5ED\",\"showgrid\":false,\"tickfont\":{\"color\":\"#4D5663\"},\"title\":{\"font\":{\"color\":\"#4D5663\"},\"text\":\"\"},\"zerolinecolor\":\"#E1E5ED\"},\"yaxis3\":{\"anchor\":\"x3\",\"domain\":[0.8025,1.0],\"gridcolor\":\"#E1E5ED\",\"showgrid\":false,\"tickfont\":{\"color\":\"#4D5663\"},\"title\":{\"font\":{\"color\":\"#4D5663\"},\"text\":\"\"},\"zerolinecolor\":\"#E1E5ED\"},\"xaxis4\":{\"anchor\":\"y4\",\"domain\":[0.7875,1.0],\"gridcolor\":\"#E1E5ED\",\"showgrid\":false,\"tickfont\":{\"color\":\"#4D5663\"},\"title\":{\"font\":{\"color\":\"#4D5663\"},\"text\":\"\"},\"zerolinecolor\":\"#E1E5ED\"},\"yaxis4\":{\"anchor\":\"x4\",\"domain\":[0.8025,1.0],\"gridcolor\":\"#E1E5ED\",\"showgrid\":false,\"tickfont\":{\"color\":\"#4D5663\"},\"title\":{\"font\":{\"color\":\"#4D5663\"},\"text\":\"\"},\"zerolinecolor\":\"#E1E5ED\"},\"xaxis5\":{\"anchor\":\"y5\",\"domain\":[0.0,0.2125],\"gridcolor\":\"#E1E5ED\",\"showgrid\":false,\"tickfont\":{\"color\":\"#4D5663\"},\"title\":{\"font\":{\"color\":\"#4D5663\"},\"text\":\"\"},\"zerolinecolor\":\"#E1E5ED\"},\"yaxis5\":{\"anchor\":\"x5\",\"domain\":[0.535,0.7325],\"gridcolor\":\"#E1E5ED\",\"showgrid\":false,\"tickfont\":{\"color\":\"#4D5663\"},\"title\":{\"font\":{\"color\":\"#4D5663\"},\"text\":\"\"},\"zerolinecolor\":\"#E1E5ED\"},\"xaxis6\":{\"anchor\":\"y6\",\"domain\":[0.2625,0.475],\"gridcolor\":\"#E1E5ED\",\"showgrid\":false,\"tickfont\":{\"color\":\"#4D5663\"},\"title\":{\"font\":{\"color\":\"#4D5663\"},\"text\":\"\"},\"zerolinecolor\":\"#E1E5ED\"},\"yaxis6\":{\"anchor\":\"x6\",\"domain\":[0.535,0.7325],\"gridcolor\":\"#E1E5ED\",\"showgrid\":false,\"tickfont\":{\"color\":\"#4D5663\"},\"title\":{\"font\":{\"color\":\"#4D5663\"},\"text\":\"\"},\"zerolinecolor\":\"#E1E5ED\"},\"xaxis7\":{\"anchor\":\"y7\",\"domain\":[0.525,0.7375],\"gridcolor\":\"#E1E5ED\",\"showgrid\":false,\"tickfont\":{\"color\":\"#4D5663\"},\"title\":{\"font\":{\"color\":\"#4D5663\"},\"text\":\"\"},\"zerolinecolor\":\"#E1E5ED\"},\"yaxis7\":{\"anchor\":\"x7\",\"domain\":[0.535,0.7325],\"gridcolor\":\"#E1E5ED\",\"showgrid\":false,\"tickfont\":{\"color\":\"#4D5663\"},\"title\":{\"font\":{\"color\":\"#4D5663\"},\"text\":\"\"},\"zerolinecolor\":\"#E1E5ED\"},\"xaxis8\":{\"anchor\":\"y8\",\"domain\":[0.7875,1.0],\"gridcolor\":\"#E1E5ED\",\"showgrid\":false,\"tickfont\":{\"color\":\"#4D5663\"},\"title\":{\"font\":{\"color\":\"#4D5663\"},\"text\":\"\"},\"zerolinecolor\":\"#E1E5ED\"},\"yaxis8\":{\"anchor\":\"x8\",\"domain\":[0.535,0.7325],\"gridcolor\":\"#E1E5ED\",\"showgrid\":false,\"tickfont\":{\"color\":\"#4D5663\"},\"title\":{\"font\":{\"color\":\"#4D5663\"},\"text\":\"\"},\"zerolinecolor\":\"#E1E5ED\"},\"xaxis9\":{\"anchor\":\"y9\",\"domain\":[0.0,0.2125],\"gridcolor\":\"#E1E5ED\",\"showgrid\":false,\"tickfont\":{\"color\":\"#4D5663\"},\"title\":{\"font\":{\"color\":\"#4D5663\"},\"text\":\"\"},\"zerolinecolor\":\"#E1E5ED\"},\"yaxis9\":{\"anchor\":\"x9\",\"domain\":[0.2675,0.465],\"gridcolor\":\"#E1E5ED\",\"showgrid\":false,\"tickfont\":{\"color\":\"#4D5663\"},\"title\":{\"font\":{\"color\":\"#4D5663\"},\"text\":\"\"},\"zerolinecolor\":\"#E1E5ED\"},\"xaxis10\":{\"anchor\":\"y10\",\"domain\":[0.2625,0.475],\"gridcolor\":\"#E1E5ED\",\"showgrid\":false,\"tickfont\":{\"color\":\"#4D5663\"},\"title\":{\"font\":{\"color\":\"#4D5663\"},\"text\":\"\"},\"zerolinecolor\":\"#E1E5ED\"},\"yaxis10\":{\"anchor\":\"x10\",\"domain\":[0.2675,0.465],\"gridcolor\":\"#E1E5ED\",\"showgrid\":false,\"tickfont\":{\"color\":\"#4D5663\"},\"title\":{\"font\":{\"color\":\"#4D5663\"},\"text\":\"\"},\"zerolinecolor\":\"#E1E5ED\"},\"xaxis11\":{\"anchor\":\"y11\",\"domain\":[0.525,0.7375],\"gridcolor\":\"#E1E5ED\",\"showgrid\":false,\"tickfont\":{\"color\":\"#4D5663\"},\"title\":{\"font\":{\"color\":\"#4D5663\"},\"text\":\"\"},\"zerolinecolor\":\"#E1E5ED\"},\"yaxis11\":{\"anchor\":\"x11\",\"domain\":[0.2675,0.465],\"gridcolor\":\"#E1E5ED\",\"showgrid\":false,\"tickfont\":{\"color\":\"#4D5663\"},\"title\":{\"font\":{\"color\":\"#4D5663\"},\"text\":\"\"},\"zerolinecolor\":\"#E1E5ED\"},\"xaxis12\":{\"anchor\":\"y12\",\"domain\":[0.7875,1.0],\"gridcolor\":\"#E1E5ED\",\"showgrid\":false,\"tickfont\":{\"color\":\"#4D5663\"},\"title\":{\"font\":{\"color\":\"#4D5663\"},\"text\":\"\"},\"zerolinecolor\":\"#E1E5ED\"},\"yaxis12\":{\"anchor\":\"x12\",\"domain\":[0.2675,0.465],\"gridcolor\":\"#E1E5ED\",\"showgrid\":false,\"tickfont\":{\"color\":\"#4D5663\"},\"title\":{\"font\":{\"color\":\"#4D5663\"},\"text\":\"\"},\"zerolinecolor\":\"#E1E5ED\"},\"xaxis13\":{\"anchor\":\"y13\",\"domain\":[0.0,0.2125],\"gridcolor\":\"#E1E5ED\",\"showgrid\":false,\"tickfont\":{\"color\":\"#4D5663\"},\"title\":{\"font\":{\"color\":\"#4D5663\"},\"text\":\"\"},\"zerolinecolor\":\"#E1E5ED\"},\"yaxis13\":{\"anchor\":\"x13\",\"domain\":[0.0,0.1975],\"gridcolor\":\"#E1E5ED\",\"showgrid\":false,\"tickfont\":{\"color\":\"#4D5663\"},\"title\":{\"font\":{\"color\":\"#4D5663\"},\"text\":\"\"},\"zerolinecolor\":\"#E1E5ED\"},\"xaxis14\":{\"anchor\":\"y14\",\"domain\":[0.2625,0.475],\"gridcolor\":\"#E1E5ED\",\"showgrid\":false,\"tickfont\":{\"color\":\"#4D5663\"},\"title\":{\"font\":{\"color\":\"#4D5663\"},\"text\":\"\"},\"zerolinecolor\":\"#E1E5ED\"},\"yaxis14\":{\"anchor\":\"x14\",\"domain\":[0.0,0.1975],\"gridcolor\":\"#E1E5ED\",\"showgrid\":false,\"tickfont\":{\"color\":\"#4D5663\"},\"title\":{\"font\":{\"color\":\"#4D5663\"},\"text\":\"\"},\"zerolinecolor\":\"#E1E5ED\"},\"xaxis15\":{\"anchor\":\"y15\",\"domain\":[0.525,0.7375],\"gridcolor\":\"#E1E5ED\",\"showgrid\":false,\"tickfont\":{\"color\":\"#4D5663\"},\"title\":{\"font\":{\"color\":\"#4D5663\"},\"text\":\"\"},\"zerolinecolor\":\"#E1E5ED\"},\"yaxis15\":{\"anchor\":\"x15\",\"domain\":[0.0,0.1975],\"gridcolor\":\"#E1E5ED\",\"showgrid\":false,\"tickfont\":{\"color\":\"#4D5663\"},\"title\":{\"font\":{\"color\":\"#4D5663\"},\"text\":\"\"},\"zerolinecolor\":\"#E1E5ED\"},\"xaxis16\":{\"anchor\":\"y16\",\"domain\":[0.7875,1.0],\"gridcolor\":\"#E1E5ED\",\"showgrid\":false,\"tickfont\":{\"color\":\"#4D5663\"},\"title\":{\"font\":{\"color\":\"#4D5663\"},\"text\":\"\"},\"zerolinecolor\":\"#E1E5ED\"},\"yaxis16\":{\"anchor\":\"x16\",\"domain\":[0.0,0.1975],\"gridcolor\":\"#E1E5ED\",\"showgrid\":false,\"tickfont\":{\"color\":\"#4D5663\"},\"title\":{\"font\":{\"color\":\"#4D5663\"},\"text\":\"\"},\"zerolinecolor\":\"#E1E5ED\"}},                        {\"showLink\": true, \"linkText\": \"Export to plot.ly\", \"plotlyServerURL\": \"https://plot.ly\", \"responsive\": true}                    ).then(function(){\n",
       "                            \n",
       "var gd = document.getElementById('88dd300a-6b67-40d4-8b2f-3229c236bec9');\n",
       "var x = new MutationObserver(function (mutations, observer) {{\n",
       "        var display = window.getComputedStyle(gd).display;\n",
       "        if (!display || display === 'none') {{\n",
       "            console.log([gd, 'removed!']);\n",
       "            Plotly.purge(gd);\n",
       "            observer.disconnect();\n",
       "        }}\n",
       "}});\n",
       "\n",
       "// Listen for the removal of the full notebook cells\n",
       "var notebookContainer = gd.closest('#notebook-container');\n",
       "if (notebookContainer) {{\n",
       "    x.observe(notebookContainer, {childList: true});\n",
       "}}\n",
       "\n",
       "// Listen for the clearing of the current output cell\n",
       "var outputEl = gd.closest('.output');\n",
       "if (outputEl) {{\n",
       "    x.observe(outputEl, {childList: true});\n",
       "}}\n",
       "\n",
       "                        })                };                });            </script>        </div>"
      ]
     },
     "metadata": {},
     "output_type": "display_data"
    }
   ],
   "source": [
    "# Scatter Plot\n",
    "df.scatter_matrix()"
   ]
  },
  {
   "cell_type": "code",
   "execution_count": null,
   "id": "1df5c2bb",
   "metadata": {},
   "outputs": [],
   "source": []
  }
 ],
 "metadata": {
  "kernelspec": {
   "display_name": "Python 3",
   "language": "python",
   "name": "python3"
  },
  "language_info": {
   "codemirror_mode": {
    "name": "ipython",
    "version": 3
   },
   "file_extension": ".py",
   "mimetype": "text/x-python",
   "name": "python",
   "nbconvert_exporter": "python",
   "pygments_lexer": "ipython3",
   "version": "3.8.8"
  }
 },
 "nbformat": 4,
 "nbformat_minor": 5
}
